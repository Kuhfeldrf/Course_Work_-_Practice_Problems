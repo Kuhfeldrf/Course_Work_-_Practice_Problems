{
 "cells": [
  {
   "cell_type": "markdown",
   "id": "5df21852",
   "metadata": {
    "papermill": {
     "duration": 0.026065,
     "end_time": "2023-05-22T13:14:27.752387",
     "exception": false,
     "start_time": "2023-05-22T13:14:27.726322",
     "status": "completed"
    },
    "tags": []
   },
   "source": [
    "# Introduction\n",
    "\n",
    "This notebook contains two parts. **Part 1, Logistic Regression**, provides you an opportunity to demonstrate your ability to apply course concepts by implementing a training function for logistic regression. **Part 2, Classifying Fashion Items**, provides you an opportunity to practice using widely-used ML libraries and an ML workflow to analyze a classification problem using a logistic regression model.\n",
    "\n",
    "**You do not need to complete Part 1 in order to complete Part 2**. If you get stuck on Part 1, and choose to work on Part 2, be sure that all of your code for Part 1 runs without error. You can comment out your code in Part 1 if necessary."
   ]
  },
  {
   "cell_type": "markdown",
   "id": "6a1a4fee",
   "metadata": {
    "papermill": {
     "duration": 0.025037,
     "end_time": "2023-05-22T13:14:27.803302",
     "exception": false,
     "start_time": "2023-05-22T13:14:27.778265",
     "status": "completed"
    },
    "tags": []
   },
   "source": [
    "# Part 1: Implementing Logistic Regression\n",
    "\n",
    "Given a nearly-complete LogisticRegressor, and a simple training set of tumor data, demonstrate your ability to implement a logistic regression model's `fit` function, such that it properly trains its model using gradient descent.\n",
    "\n",
    "## The LogisticRegressor\n",
    "\n",
    "Let's first review the LogisticRegressor, which you should find familiar. Notice that the `fit` method uses a fixed number of iterations, only for simplicity and experimentation, and is stubbed to do nothing. But, also notice that the comments in `fit` describe a training process using gradient descent.\n",
    "\n",
    "Run the code cell and observe the results."
   ]
  },
  {
   "cell_type": "code",
   "execution_count": 1,
   "id": "f8017fb5",
   "metadata": {
    "execution": {
     "iopub.execute_input": "2023-05-22T13:14:27.855646Z",
     "iopub.status.busy": "2023-05-22T13:14:27.855129Z",
     "iopub.status.idle": "2023-05-22T13:14:27.887101Z",
     "shell.execute_reply": "2023-05-22T13:14:27.885833Z"
    },
    "papermill": {
     "duration": 0.061674,
     "end_time": "2023-05-22T13:14:27.890009",
     "exception": false,
     "start_time": "2023-05-22T13:14:27.828335",
     "status": "completed"
    },
    "tags": []
   },
   "outputs": [
    {
     "name": "stdout",
     "output_type": "stream",
     "text": [
      "Prediction for [0.5, 1.5] is 1\n",
      "Prediction for [1, 1] is 1\n",
      "Prediction for [1.5, 0.5] is 1\n",
      "Prediction for [3, 0.5] is 1\n",
      "Prediction for [2, 2] is 1\n",
      "Prediction for [1, 2.5] is 1\n",
      "0.6505838242924015\n"
     ]
    }
   ],
   "source": [
    "import math\n",
    "\n",
    "#adds nnumber of itteration var\n",
    "num_iter = 10\n",
    "\n",
    "class LogisticRegressor:\n",
    "\n",
    "    def __init__(self, w = 0, b = 0, alpha = 0.1):\n",
    "        self.w = w\n",
    "        self.b = b\n",
    "        self.alpha = alpha\n",
    "\n",
    "    def fit(self, x_train, y_train):\n",
    "        for _ in range(0, num_iter):\n",
    "            # Updates weights and basis\n",
    "            delta_w = self._d_cost_function_w(x_train, y_train)\n",
    "            delta_b = self._d_cost_function_b(x_train, y_train)\n",
    "            \n",
    "            # update each weight in the vector by alpha then update basis by alpha\n",
    "            for i in range(len(self.w)):\n",
    "                self.w[i] -= self.alpha * delta_w[i]\n",
    "            self.b -= self.alpha * delta_b\n",
    "\n",
    "\n",
    "    def cost(self, x_examples, y_class_labels):\n",
    "        cost = 0\n",
    "        for i in range(len(x_examples)):\n",
    "            cost += self._loss(x_examples[i], y_class_labels[i])\n",
    "        return cost / len(x_examples)\n",
    "\n",
    "    def _loss(self, x, y):\n",
    "        z = self._dot_product(self.w, x) + self.b\n",
    "        return -y * math.log(self._sigmoid(z)) - (1 - y) * math.log(1- self._sigmoid(z))\n",
    "\n",
    "    def _d_cost_function_w(self, x_train, y_train):\n",
    "        delta_w = [0] * len(x_train[0])\n",
    "        for i in range(len(x_train)):\n",
    "            error = self._sigmoid(self._dot_product(self.w, x_train[i]) + self.b) - y_train[i]\n",
    "            for j in range(len(delta_w)):\n",
    "                delta_w[j] += error * x_train[i][j]\n",
    "        for i in range(len(delta_w)):\n",
    "            delta_w[i] = delta_w[i] / len(x_train)\n",
    "        return delta_w\n",
    "\n",
    "    def _d_cost_function_b(self, x_train, y_train):\n",
    "        delta_b = 0\n",
    "        for i in range(len(x_train)):\n",
    "            delta_b += self._sigmoid(self._dot_product(self.w, x_train[i]) + self.b) - y_train[i]\n",
    "        return delta_b / len(x_train)\n",
    "\n",
    "    def predict(self, x):\n",
    "        if self._sigmoid( self._dot_product(self.w, x) + self.b) >= 0.5:\n",
    "            return 1\n",
    "        else:\n",
    "            return 0\n",
    "\n",
    "    def _dot_product(self, a, b):\n",
    "        return sum(pair[0] * pair[1] for pair in zip(a, b))\n",
    "\n",
    "    def _sigmoid(self, exponent):\n",
    "        return 1 / (1 + math.exp(-exponent))\n",
    "\n",
    "\n",
    "\n",
    "x_train = [[0.5, 1.5], [1,1], [1.5, 0.5], [3, 0.5], [2, 2], [1, 2.5]]\n",
    "y_train = [0, 0, 0, 1, 1, 1]\n",
    "\n",
    "regressor = LogisticRegressor([0, 0], 0, 0.1)\n",
    "regressor.fit(x_train, y_train)\n",
    "\n",
    "for example in x_train:\n",
    "    print(f\"Prediction for {example} is {regressor.predict(example)}\")\n",
    "\n",
    "print(regressor.cost(x_train, y_train))\n"
   ]
  },
  {
   "cell_type": "markdown",
   "id": "a8eb6bd1",
   "metadata": {
    "papermill": {
     "duration": 0.025023,
     "end_time": "2023-05-22T13:14:27.941991",
     "exception": false,
     "start_time": "2023-05-22T13:14:27.916968",
     "status": "completed"
    },
    "tags": []
   },
   "source": [
    "Number of itterations: **10**"
   ]
  },
  {
   "cell_type": "code",
   "execution_count": 2,
   "id": "13aa6480",
   "metadata": {
    "execution": {
     "iopub.execute_input": "2023-05-22T13:14:27.997206Z",
     "iopub.status.busy": "2023-05-22T13:14:27.996762Z",
     "iopub.status.idle": "2023-05-22T13:14:28.003700Z",
     "shell.execute_reply": "2023-05-22T13:14:28.002297Z"
    },
    "papermill": {
     "duration": 0.038565,
     "end_time": "2023-05-22T13:14:28.007162",
     "exception": false,
     "start_time": "2023-05-22T13:14:27.968597",
     "status": "completed"
    },
    "tags": []
   },
   "outputs": [
    {
     "name": "stdout",
     "output_type": "stream",
     "text": [
      "Prediction for [0.5, 1.5] is 1\n",
      "Prediction for [1, 1] is 1\n",
      "Prediction for [1.5, 0.5] is 1\n",
      "Prediction for [3, 0.5] is 1\n",
      "Prediction for [2, 2] is 1\n",
      "Prediction for [1, 2.5] is 1\n",
      "Cost: 0.651\n"
     ]
    }
   ],
   "source": [
    "regressor = LogisticRegressor([0, 0], 0, 0.1)\n",
    "regressor.fit(x_train, y_train)\n",
    "\n",
    "for example in x_train:\n",
    "    print(f\"Prediction for {example} is {regressor.predict(example)}\")\n",
    "print(f\"Cost: {regressor.cost(x_train, y_train):.3f}\")"
   ]
  },
  {
   "cell_type": "markdown",
   "id": "63776e29",
   "metadata": {
    "papermill": {
     "duration": 0.025127,
     "end_time": "2023-05-22T13:14:28.058051",
     "exception": false,
     "start_time": "2023-05-22T13:14:28.032924",
     "status": "completed"
    },
    "tags": []
   },
   "source": [
    "Number of itterations: **100**"
   ]
  },
  {
   "cell_type": "code",
   "execution_count": 3,
   "id": "61797e61",
   "metadata": {
    "execution": {
     "iopub.execute_input": "2023-05-22T13:14:28.111630Z",
     "iopub.status.busy": "2023-05-22T13:14:28.111232Z",
     "iopub.status.idle": "2023-05-22T13:14:28.123731Z",
     "shell.execute_reply": "2023-05-22T13:14:28.122232Z"
    },
    "papermill": {
     "duration": 0.042,
     "end_time": "2023-05-22T13:14:28.126169",
     "exception": false,
     "start_time": "2023-05-22T13:14:28.084169",
     "status": "completed"
    },
    "tags": []
   },
   "outputs": [
    {
     "name": "stdout",
     "output_type": "stream",
     "text": [
      "Prediction for [0.5, 1.5] is 0\n",
      "Prediction for [1, 1] is 0\n",
      "Prediction for [1.5, 0.5] is 1\n",
      "Prediction for [3, 0.5] is 1\n",
      "Prediction for [2, 2] is 1\n",
      "Prediction for [1, 2.5] is 1\n",
      "Cost: 0.530\n"
     ]
    }
   ],
   "source": [
    "#increase number of iterations\n",
    "num_iter = 100\n",
    "\n",
    "#employees the logistica regressor function and fits model to training data\n",
    "regressor = LogisticRegressor([0, 0], 0, 0.1)\n",
    "regressor.fit(x_train, y_train)\n",
    "\n",
    "#prints results of prediction and the cost value\n",
    "for example in x_train:\n",
    "    print(f\"Prediction for {example} is {regressor.predict(example)}\")\n",
    "print(f\"Cost: {regressor.cost(x_train, y_train):.3f}\")"
   ]
  },
  {
   "cell_type": "markdown",
   "id": "4c967d16",
   "metadata": {
    "papermill": {
     "duration": 0.026938,
     "end_time": "2023-05-22T13:14:28.179174",
     "exception": false,
     "start_time": "2023-05-22T13:14:28.152236",
     "status": "completed"
    },
    "tags": []
   },
   "source": [
    "Number of itterations: **1000**"
   ]
  },
  {
   "cell_type": "code",
   "execution_count": 4,
   "id": "40bbc7f7",
   "metadata": {
    "execution": {
     "iopub.execute_input": "2023-05-22T13:14:28.232535Z",
     "iopub.status.busy": "2023-05-22T13:14:28.232122Z",
     "iopub.status.idle": "2023-05-22T13:14:28.283492Z",
     "shell.execute_reply": "2023-05-22T13:14:28.282342Z"
    },
    "papermill": {
     "duration": 0.081348,
     "end_time": "2023-05-22T13:14:28.286159",
     "exception": false,
     "start_time": "2023-05-22T13:14:28.204811",
     "status": "completed"
    },
    "tags": []
   },
   "outputs": [
    {
     "name": "stdout",
     "output_type": "stream",
     "text": [
      "Prediction for [0.5, 1.5] is 0\n",
      "Prediction for [1, 1] is 0\n",
      "Prediction for [1.5, 0.5] is 0\n",
      "Prediction for [3, 0.5] is 1\n",
      "Prediction for [2, 2] is 1\n",
      "Prediction for [1, 2.5] is 1\n",
      "Cost: 0.159\n"
     ]
    }
   ],
   "source": [
    "#increase number of iterations\n",
    "num_iter = 1000\n",
    "\n",
    "#employees the logistica regressor function and fits model to training data\n",
    "regressor = LogisticRegressor([0, 0], 0, 0.1)\n",
    "regressor.fit(x_train, y_train)\n",
    "\n",
    "#prints results of prediction and the cost value\n",
    "for example in x_train:\n",
    "    print(f\"Prediction for {example} is {regressor.predict(example)}\")\n",
    "print(f\"Cost: {regressor.cost(x_train, y_train):.3f}\")"
   ]
  },
  {
   "cell_type": "markdown",
   "id": "c387eba1",
   "metadata": {
    "papermill": {
     "duration": 0.025455,
     "end_time": "2023-05-22T13:14:28.340075",
     "exception": false,
     "start_time": "2023-05-22T13:14:28.314620",
     "status": "completed"
    },
    "tags": []
   },
   "source": [
    "Number of itterations: **10,000**"
   ]
  },
  {
   "cell_type": "code",
   "execution_count": 5,
   "id": "6516be84",
   "metadata": {
    "execution": {
     "iopub.execute_input": "2023-05-22T13:14:28.393828Z",
     "iopub.status.busy": "2023-05-22T13:14:28.393418Z",
     "iopub.status.idle": "2023-05-22T13:14:28.804057Z",
     "shell.execute_reply": "2023-05-22T13:14:28.802867Z"
    },
    "papermill": {
     "duration": 0.440703,
     "end_time": "2023-05-22T13:14:28.806767",
     "exception": false,
     "start_time": "2023-05-22T13:14:28.366064",
     "status": "completed"
    },
    "tags": []
   },
   "outputs": [
    {
     "name": "stdout",
     "output_type": "stream",
     "text": [
      "Prediction for [0.5, 1.5] is 0\n",
      "Prediction for [1, 1] is 0\n",
      "Prediction for [1.5, 0.5] is 0\n",
      "Prediction for [3, 0.5] is 1\n",
      "Prediction for [2, 2] is 1\n",
      "Prediction for [1, 2.5] is 1\n",
      "Cost: 0.017117768890292925\n"
     ]
    }
   ],
   "source": [
    "#increase number of iterations\n",
    "num_iter = 10000\n",
    "\n",
    "#employees the logistica regressor function and fits model to training data\n",
    "regressor = LogisticRegressor([0, 0], 0, 0.1)\n",
    "regressor.fit(x_train, y_train)\n",
    "\n",
    "#prints results of prediction and the cost value\n",
    "for example in x_train:\n",
    "    print(f\"Prediction for {example} is {regressor.predict(example)}\")\n",
    "print(f\"Cost: {regressor.cost(x_train, y_train)}\")"
   ]
  },
  {
   "cell_type": "markdown",
   "id": "9323617e",
   "metadata": {
    "papermill": {
     "duration": 0.025428,
     "end_time": "2023-05-22T13:14:28.857829",
     "exception": false,
     "start_time": "2023-05-22T13:14:28.832401",
     "status": "completed"
    },
    "tags": []
   },
   "source": [
    "Number of itterations: **100,000**"
   ]
  },
  {
   "cell_type": "code",
   "execution_count": 6,
   "id": "77554bb2",
   "metadata": {
    "execution": {
     "iopub.execute_input": "2023-05-22T13:14:28.910848Z",
     "iopub.status.busy": "2023-05-22T13:14:28.910471Z",
     "iopub.status.idle": "2023-05-22T13:14:32.988791Z",
     "shell.execute_reply": "2023-05-22T13:14:32.987435Z"
    },
    "papermill": {
     "duration": 4.107788,
     "end_time": "2023-05-22T13:14:32.991324",
     "exception": false,
     "start_time": "2023-05-22T13:14:28.883536",
     "status": "completed"
    },
    "tags": []
   },
   "outputs": [
    {
     "name": "stdout",
     "output_type": "stream",
     "text": [
      "Prediction for [0.5, 1.5] is 0\n",
      "Prediction for [1, 1] is 0\n",
      "Prediction for [1.5, 0.5] is 0\n",
      "Prediction for [3, 0.5] is 1\n",
      "Prediction for [2, 2] is 1\n",
      "Prediction for [1, 2.5] is 1\n",
      "Cost: 0.0016974661879524142\n"
     ]
    }
   ],
   "source": [
    "#increase number of iterations\n",
    "num_iter = 100000\n",
    "\n",
    "#employees the logistica regressor function and fits model to training data\n",
    "regressor = LogisticRegressor([0, 0], 0, 0.1)\n",
    "regressor.fit(x_train, y_train)\n",
    "\n",
    "#prints results of prediction and the cost value\n",
    "for example in x_train:\n",
    "    print(f\"Prediction for {example} is {regressor.predict(example)}\")\n",
    "print(f\"Cost: {regressor.cost(x_train, y_train)}\")"
   ]
  },
  {
   "cell_type": "code",
   "execution_count": 7,
   "id": "6434c0a1",
   "metadata": {
    "execution": {
     "iopub.execute_input": "2023-05-22T13:14:33.046140Z",
     "iopub.status.busy": "2023-05-22T13:14:33.045454Z",
     "iopub.status.idle": "2023-05-22T13:14:33.051888Z",
     "shell.execute_reply": "2023-05-22T13:14:33.050349Z"
    },
    "papermill": {
     "duration": 0.036555,
     "end_time": "2023-05-22T13:14:33.054422",
     "exception": false,
     "start_time": "2023-05-22T13:14:33.017867",
     "status": "completed"
    },
    "tags": []
   },
   "outputs": [
    {
     "name": "stdout",
     "output_type": "stream",
     "text": [
      "weight: [8.35313086717501, 8.152267270537603] bias: -22.690605796630248\n"
     ]
    }
   ],
   "source": [
    "print(f\"weight: {regressor.w} bias: {regressor.b}\")"
   ]
  },
  {
   "cell_type": "markdown",
   "id": "c2a29a02",
   "metadata": {
    "papermill": {
     "duration": 0.025257,
     "end_time": "2023-05-22T13:14:33.105460",
     "exception": false,
     "start_time": "2023-05-22T13:14:33.080203",
     "status": "completed"
    },
    "tags": []
   },
   "source": [
    "As we can see from the output, our classifier is currently predicting only a 1, and its cost is about 0.69.\n",
    "\n",
    "## What to Do\n",
    "\n",
    "Your goal is to implement, in the code cell above, the `fit` function. When complete, you should see results identical to the output shown at the end of the *Exploration: Applying Logistic Regression*.\n",
    "\n",
    "1. Implement the `fit` function in the code cell above.\n",
    "2. Run the code cell frequently, and observe the output.\n",
    "3. When you believe your implementation is complete, increase the number of iterations. Compare your output to what we have seen in the corresponding Exploration.\n",
    "4. Rely on the functions that are already implemented for you, such as `_d_cost_function_b` and `_d_cost_function_w`.\n",
    "\n",
    "The best tip for thinking about this challenge is to become intimately familiar with the process of gradient descent, and recognizing what `_d_cost_function_b` and `_d_cost_function_w` return. **Use the comments in the `fit` function as a general guide, not a literal line-by-line translation into code.**\n",
    "\n",
    "You'll know your implementation is sound when the output of the code cell matches what we have seen in the *Exploration: Applying Logistic Regression*."
   ]
  },
  {
   "cell_type": "markdown",
   "id": "3bcdd9ab",
   "metadata": {
    "papermill": {
     "duration": 0.025509,
     "end_time": "2023-05-22T13:14:33.156728",
     "exception": false,
     "start_time": "2023-05-22T13:14:33.131219",
     "status": "completed"
    },
    "tags": []
   },
   "source": [
    "## 💡 Conclusion\n",
    "\n",
    "**The comments provided established a framework that guided my problem solving. First, I implemented an update to the change in weight, which the past gradient descent notebook highlighted the importance of. After creating the “delta_w” variable as an implementation of the cost function of the weights, I applied the same technique to establish the “delta_b” variable. After this I knew the next step was to update each value of the weight vector accounting for the learning rate, finally I updated the bias incorporating the learning rate and prior “delta_b” variable.**"
   ]
  },
  {
   "cell_type": "markdown",
   "id": "fa22c815",
   "metadata": {
    "papermill": {
     "duration": 0.025687,
     "end_time": "2023-05-22T13:14:33.208098",
     "exception": false,
     "start_time": "2023-05-22T13:14:33.182411",
     "status": "completed"
    },
    "tags": []
   },
   "source": [
    "# Part 2: Classifying Fashion Items\n",
    "\n",
    "In this, the second, part of this notebook, you will observe a non-annotated implementation of a machine learning process, and enhance it with descriptive markdown cells and additional code. Your goal is to narrate and improve an experiment that measures the performance of the [scikit-learn LogisticRegression](https://scikit-learn.org/stable/modules/generated/sklearn.linear_model.LogisticRegression.html) model for classifying images of fashion items. We'll use the popular [Fashion MNIST data set](https://github.com/zalandoresearch/fashion-mnist) by Xiao, Rasul, and Vollgraf. Take a moment now to [familiarize yourself with the version of this data set](), and also take a look at [a version of this data on Kaggle](https://www.kaggle.com/datasets/zalando-research/fashionmnist).\n",
    "\n",
    "Unlike prior notebooks, in which you are given either a guided framework of steps, or provided explicit code to try, in this notebook the code shall be your framework. Your goal is to break apart this one big code cell into a cohesive, multi-section, narrated Notebook, that guides the reader through the machine learning process. You have seen and practiced this in prior Notebooks, and you are encouraged to replicate the spirit of our past work here.\n",
    "\n",
    "In other words, below you have a bunch of code. Your goal is to:\n",
    "\n",
    "1. Narrate a machine learning process\n",
    "2. Explain what the code is doing, and add to it as necessary\n",
    "3. Experiment, tune the model, and discuss your results\n",
    "\n",
    "Your Notebook should consist of many sections, with each section representing a step in the machine learning process. The first section, **Problem Statement**, has been completed for you. Each section should start with a markdown cell containing a descriptive second-level header, and at least a few sentences that prepare the reader for what the purpose of the step is.\n",
    "\n",
    "Each section should consist of both prose, in markdown cells, and code cells. Almost every section should consist of multiple markdown and code cells. You should often add to the provided code. For example, if you have a section on exploring data, you should probably do more than just look at the `head` and `shape`.\n",
    "\n",
    "Your first step is to run the code block, and spend time with each line of code to discern how it reflects some unit of work in our machine learning process.\n",
    "\n",
    "In the end, demonstrate how you modify the experiment and/or tune the model to increase the accuracy of the model. (Spend time with the [official documentation of the data set](https://github.com/zalandoresearch/fashion-mnist). What is the human accuracy score? Can your model surpass it when validated with the complete training set?)\n"
   ]
  },
  {
   "cell_type": "markdown",
   "id": "43aa5169",
   "metadata": {
    "papermill": {
     "duration": 0.025691,
     "end_time": "2023-05-22T13:14:33.261165",
     "exception": false,
     "start_time": "2023-05-22T13:14:33.235474",
     "status": "completed"
    },
    "tags": []
   },
   "source": [
    "## Problem Statement\n",
    "\n",
    "Our goal is to automate the identification of images of ten different kinds of fashion items, from t-shirts to ankle boots. To do so, we will attempt to train a logistic regression model using a well-prepared data set of images of fashion items. Our goal is to tune our end-to-end machine learning process, and to tune our classification model, to see how accurately it may predict the correct class label of different fashion items."
   ]
  },
  {
   "cell_type": "markdown",
   "id": "c748a5b1",
   "metadata": {
    "papermill": {
     "duration": 0.026702,
     "end_time": "2023-05-22T13:14:33.313460",
     "exception": false,
     "start_time": "2023-05-22T13:14:33.286758",
     "status": "completed"
    },
    "tags": []
   },
   "source": [
    "## Step 1: Import packages and data (gathering appropriate data)\n",
    "\n",
    "First step is to collect the data address the problem statement. Its also typical to import the packages and functions initially along with the datasets. Part of this step as well is exploring the data with basic functions such as head shape describe dtype to get a better understanding of the data."
   ]
  },
  {
   "cell_type": "markdown",
   "id": "5744f047",
   "metadata": {
    "papermill": {
     "duration": 0.025496,
     "end_time": "2023-05-22T13:14:33.365262",
     "exception": false,
     "start_time": "2023-05-22T13:14:33.339766",
     "status": "completed"
    },
    "tags": []
   },
   "source": [
    "Here we import pandas matplot packages."
   ]
  },
  {
   "cell_type": "code",
   "execution_count": 8,
   "id": "2aee111f",
   "metadata": {
    "execution": {
     "iopub.execute_input": "2023-05-22T13:14:33.419729Z",
     "iopub.status.busy": "2023-05-22T13:14:33.418710Z",
     "iopub.status.idle": "2023-05-22T13:14:33.423886Z",
     "shell.execute_reply": "2023-05-22T13:14:33.423082Z"
    },
    "papermill": {
     "duration": 0.035617,
     "end_time": "2023-05-22T13:14:33.426396",
     "exception": false,
     "start_time": "2023-05-22T13:14:33.390779",
     "status": "completed"
    },
    "tags": []
   },
   "outputs": [],
   "source": [
    "import pandas as pd\n",
    "import matplotlib.pyplot as plt"
   ]
  },
  {
   "cell_type": "markdown",
   "id": "6d4444f6",
   "metadata": {
    "papermill": {
     "duration": 0.026335,
     "end_time": "2023-05-22T13:14:33.479731",
     "exception": false,
     "start_time": "2023-05-22T13:14:33.453396",
     "status": "completed"
    },
    "tags": []
   },
   "source": [
    "Now we can go ahead and import our data and a test set into the notebook."
   ]
  },
  {
   "cell_type": "code",
   "execution_count": 9,
   "id": "15d9e5af",
   "metadata": {
    "execution": {
     "iopub.execute_input": "2023-05-22T13:14:33.533338Z",
     "iopub.status.busy": "2023-05-22T13:14:33.532899Z",
     "iopub.status.idle": "2023-05-22T13:14:41.997593Z",
     "shell.execute_reply": "2023-05-22T13:14:41.995975Z"
    },
    "papermill": {
     "duration": 8.494969,
     "end_time": "2023-05-22T13:14:42.000523",
     "exception": false,
     "start_time": "2023-05-22T13:14:33.505554",
     "status": "completed"
    },
    "tags": []
   },
   "outputs": [],
   "source": [
    "fashion_data = pd.read_csv('/kaggle/input/fashionmnist/fashion-mnist_train.csv')\n",
    "fashion_test_set = pd.read_csv('/kaggle/input/fashionmnist/fashion-mnist_test.csv')\n"
   ]
  },
  {
   "cell_type": "markdown",
   "id": "17c3e310",
   "metadata": {
    "papermill": {
     "duration": 0.025602,
     "end_time": "2023-05-22T13:14:42.052382",
     "exception": false,
     "start_time": "2023-05-22T13:14:42.026780",
     "status": "completed"
    },
    "tags": []
   },
   "source": [
    "**Lets explore the data** using the head function to look at the first five lines of the fashion data."
   ]
  },
  {
   "cell_type": "code",
   "execution_count": 10,
   "id": "dd5c99b7",
   "metadata": {
    "execution": {
     "iopub.execute_input": "2023-05-22T13:14:42.105895Z",
     "iopub.status.busy": "2023-05-22T13:14:42.105454Z",
     "iopub.status.idle": "2023-05-22T13:14:42.148192Z",
     "shell.execute_reply": "2023-05-22T13:14:42.146937Z"
    },
    "papermill": {
     "duration": 0.072404,
     "end_time": "2023-05-22T13:14:42.150681",
     "exception": false,
     "start_time": "2023-05-22T13:14:42.078277",
     "status": "completed"
    },
    "tags": []
   },
   "outputs": [
    {
     "data": {
      "text/html": [
       "<div>\n",
       "<style scoped>\n",
       "    .dataframe tbody tr th:only-of-type {\n",
       "        vertical-align: middle;\n",
       "    }\n",
       "\n",
       "    .dataframe tbody tr th {\n",
       "        vertical-align: top;\n",
       "    }\n",
       "\n",
       "    .dataframe thead th {\n",
       "        text-align: right;\n",
       "    }\n",
       "</style>\n",
       "<table border=\"1\" class=\"dataframe\">\n",
       "  <thead>\n",
       "    <tr style=\"text-align: right;\">\n",
       "      <th></th>\n",
       "      <th>label</th>\n",
       "      <th>pixel1</th>\n",
       "      <th>pixel2</th>\n",
       "      <th>pixel3</th>\n",
       "      <th>pixel4</th>\n",
       "      <th>pixel5</th>\n",
       "      <th>pixel6</th>\n",
       "      <th>pixel7</th>\n",
       "      <th>pixel8</th>\n",
       "      <th>pixel9</th>\n",
       "      <th>...</th>\n",
       "      <th>pixel775</th>\n",
       "      <th>pixel776</th>\n",
       "      <th>pixel777</th>\n",
       "      <th>pixel778</th>\n",
       "      <th>pixel779</th>\n",
       "      <th>pixel780</th>\n",
       "      <th>pixel781</th>\n",
       "      <th>pixel782</th>\n",
       "      <th>pixel783</th>\n",
       "      <th>pixel784</th>\n",
       "    </tr>\n",
       "  </thead>\n",
       "  <tbody>\n",
       "    <tr>\n",
       "      <th>0</th>\n",
       "      <td>2</td>\n",
       "      <td>0</td>\n",
       "      <td>0</td>\n",
       "      <td>0</td>\n",
       "      <td>0</td>\n",
       "      <td>0</td>\n",
       "      <td>0</td>\n",
       "      <td>0</td>\n",
       "      <td>0</td>\n",
       "      <td>0</td>\n",
       "      <td>...</td>\n",
       "      <td>0</td>\n",
       "      <td>0</td>\n",
       "      <td>0</td>\n",
       "      <td>0</td>\n",
       "      <td>0</td>\n",
       "      <td>0</td>\n",
       "      <td>0</td>\n",
       "      <td>0</td>\n",
       "      <td>0</td>\n",
       "      <td>0</td>\n",
       "    </tr>\n",
       "    <tr>\n",
       "      <th>1</th>\n",
       "      <td>9</td>\n",
       "      <td>0</td>\n",
       "      <td>0</td>\n",
       "      <td>0</td>\n",
       "      <td>0</td>\n",
       "      <td>0</td>\n",
       "      <td>0</td>\n",
       "      <td>0</td>\n",
       "      <td>0</td>\n",
       "      <td>0</td>\n",
       "      <td>...</td>\n",
       "      <td>0</td>\n",
       "      <td>0</td>\n",
       "      <td>0</td>\n",
       "      <td>0</td>\n",
       "      <td>0</td>\n",
       "      <td>0</td>\n",
       "      <td>0</td>\n",
       "      <td>0</td>\n",
       "      <td>0</td>\n",
       "      <td>0</td>\n",
       "    </tr>\n",
       "    <tr>\n",
       "      <th>2</th>\n",
       "      <td>6</td>\n",
       "      <td>0</td>\n",
       "      <td>0</td>\n",
       "      <td>0</td>\n",
       "      <td>0</td>\n",
       "      <td>0</td>\n",
       "      <td>0</td>\n",
       "      <td>0</td>\n",
       "      <td>5</td>\n",
       "      <td>0</td>\n",
       "      <td>...</td>\n",
       "      <td>0</td>\n",
       "      <td>0</td>\n",
       "      <td>0</td>\n",
       "      <td>30</td>\n",
       "      <td>43</td>\n",
       "      <td>0</td>\n",
       "      <td>0</td>\n",
       "      <td>0</td>\n",
       "      <td>0</td>\n",
       "      <td>0</td>\n",
       "    </tr>\n",
       "    <tr>\n",
       "      <th>3</th>\n",
       "      <td>0</td>\n",
       "      <td>0</td>\n",
       "      <td>0</td>\n",
       "      <td>0</td>\n",
       "      <td>1</td>\n",
       "      <td>2</td>\n",
       "      <td>0</td>\n",
       "      <td>0</td>\n",
       "      <td>0</td>\n",
       "      <td>0</td>\n",
       "      <td>...</td>\n",
       "      <td>3</td>\n",
       "      <td>0</td>\n",
       "      <td>0</td>\n",
       "      <td>0</td>\n",
       "      <td>0</td>\n",
       "      <td>1</td>\n",
       "      <td>0</td>\n",
       "      <td>0</td>\n",
       "      <td>0</td>\n",
       "      <td>0</td>\n",
       "    </tr>\n",
       "    <tr>\n",
       "      <th>4</th>\n",
       "      <td>3</td>\n",
       "      <td>0</td>\n",
       "      <td>0</td>\n",
       "      <td>0</td>\n",
       "      <td>0</td>\n",
       "      <td>0</td>\n",
       "      <td>0</td>\n",
       "      <td>0</td>\n",
       "      <td>0</td>\n",
       "      <td>0</td>\n",
       "      <td>...</td>\n",
       "      <td>0</td>\n",
       "      <td>0</td>\n",
       "      <td>0</td>\n",
       "      <td>0</td>\n",
       "      <td>0</td>\n",
       "      <td>0</td>\n",
       "      <td>0</td>\n",
       "      <td>0</td>\n",
       "      <td>0</td>\n",
       "      <td>0</td>\n",
       "    </tr>\n",
       "  </tbody>\n",
       "</table>\n",
       "<p>5 rows × 785 columns</p>\n",
       "</div>"
      ],
      "text/plain": [
       "   label  pixel1  pixel2  pixel3  pixel4  pixel5  pixel6  pixel7  pixel8  \\\n",
       "0      2       0       0       0       0       0       0       0       0   \n",
       "1      9       0       0       0       0       0       0       0       0   \n",
       "2      6       0       0       0       0       0       0       0       5   \n",
       "3      0       0       0       0       1       2       0       0       0   \n",
       "4      3       0       0       0       0       0       0       0       0   \n",
       "\n",
       "   pixel9  ...  pixel775  pixel776  pixel777  pixel778  pixel779  pixel780  \\\n",
       "0       0  ...         0         0         0         0         0         0   \n",
       "1       0  ...         0         0         0         0         0         0   \n",
       "2       0  ...         0         0         0        30        43         0   \n",
       "3       0  ...         3         0         0         0         0         1   \n",
       "4       0  ...         0         0         0         0         0         0   \n",
       "\n",
       "   pixel781  pixel782  pixel783  pixel784  \n",
       "0         0         0         0         0  \n",
       "1         0         0         0         0  \n",
       "2         0         0         0         0  \n",
       "3         0         0         0         0  \n",
       "4         0         0         0         0  \n",
       "\n",
       "[5 rows x 785 columns]"
      ]
     },
     "execution_count": 10,
     "metadata": {},
     "output_type": "execute_result"
    }
   ],
   "source": [
    "fashion_data.head()"
   ]
  },
  {
   "cell_type": "markdown",
   "id": "69305605",
   "metadata": {
    "papermill": {
     "duration": 0.025974,
     "end_time": "2023-05-22T13:14:42.202850",
     "exception": false,
     "start_time": "2023-05-22T13:14:42.176876",
     "status": "completed"
    },
    "tags": []
   },
   "source": [
    "This is a det set of images represented as an array of pixels. each row appears to be an image. The first column is a label of the image and the remaining columns are the numerical representation of the image for each pixel.  We can see the columns are pixels and, but there are to many columns to see with this function."
   ]
  },
  {
   "cell_type": "markdown",
   "id": "6c00b0cc",
   "metadata": {
    "papermill": {
     "duration": 0.025756,
     "end_time": "2023-05-22T13:14:42.255067",
     "exception": false,
     "start_time": "2023-05-22T13:14:42.229311",
     "status": "completed"
    },
    "tags": []
   },
   "source": [
    "Lets look at the test set with the head function."
   ]
  },
  {
   "cell_type": "code",
   "execution_count": 11,
   "id": "0adfaac0",
   "metadata": {
    "execution": {
     "iopub.execute_input": "2023-05-22T13:14:42.309924Z",
     "iopub.status.busy": "2023-05-22T13:14:42.308843Z",
     "iopub.status.idle": "2023-05-22T13:14:42.328082Z",
     "shell.execute_reply": "2023-05-22T13:14:42.327031Z"
    },
    "papermill": {
     "duration": 0.049518,
     "end_time": "2023-05-22T13:14:42.330605",
     "exception": false,
     "start_time": "2023-05-22T13:14:42.281087",
     "status": "completed"
    },
    "tags": []
   },
   "outputs": [
    {
     "data": {
      "text/html": [
       "<div>\n",
       "<style scoped>\n",
       "    .dataframe tbody tr th:only-of-type {\n",
       "        vertical-align: middle;\n",
       "    }\n",
       "\n",
       "    .dataframe tbody tr th {\n",
       "        vertical-align: top;\n",
       "    }\n",
       "\n",
       "    .dataframe thead th {\n",
       "        text-align: right;\n",
       "    }\n",
       "</style>\n",
       "<table border=\"1\" class=\"dataframe\">\n",
       "  <thead>\n",
       "    <tr style=\"text-align: right;\">\n",
       "      <th></th>\n",
       "      <th>label</th>\n",
       "      <th>pixel1</th>\n",
       "      <th>pixel2</th>\n",
       "      <th>pixel3</th>\n",
       "      <th>pixel4</th>\n",
       "      <th>pixel5</th>\n",
       "      <th>pixel6</th>\n",
       "      <th>pixel7</th>\n",
       "      <th>pixel8</th>\n",
       "      <th>pixel9</th>\n",
       "      <th>...</th>\n",
       "      <th>pixel775</th>\n",
       "      <th>pixel776</th>\n",
       "      <th>pixel777</th>\n",
       "      <th>pixel778</th>\n",
       "      <th>pixel779</th>\n",
       "      <th>pixel780</th>\n",
       "      <th>pixel781</th>\n",
       "      <th>pixel782</th>\n",
       "      <th>pixel783</th>\n",
       "      <th>pixel784</th>\n",
       "    </tr>\n",
       "  </thead>\n",
       "  <tbody>\n",
       "    <tr>\n",
       "      <th>0</th>\n",
       "      <td>0</td>\n",
       "      <td>0</td>\n",
       "      <td>0</td>\n",
       "      <td>0</td>\n",
       "      <td>0</td>\n",
       "      <td>0</td>\n",
       "      <td>0</td>\n",
       "      <td>0</td>\n",
       "      <td>9</td>\n",
       "      <td>8</td>\n",
       "      <td>...</td>\n",
       "      <td>103</td>\n",
       "      <td>87</td>\n",
       "      <td>56</td>\n",
       "      <td>0</td>\n",
       "      <td>0</td>\n",
       "      <td>0</td>\n",
       "      <td>0</td>\n",
       "      <td>0</td>\n",
       "      <td>0</td>\n",
       "      <td>0</td>\n",
       "    </tr>\n",
       "    <tr>\n",
       "      <th>1</th>\n",
       "      <td>1</td>\n",
       "      <td>0</td>\n",
       "      <td>0</td>\n",
       "      <td>0</td>\n",
       "      <td>0</td>\n",
       "      <td>0</td>\n",
       "      <td>0</td>\n",
       "      <td>0</td>\n",
       "      <td>0</td>\n",
       "      <td>0</td>\n",
       "      <td>...</td>\n",
       "      <td>34</td>\n",
       "      <td>0</td>\n",
       "      <td>0</td>\n",
       "      <td>0</td>\n",
       "      <td>0</td>\n",
       "      <td>0</td>\n",
       "      <td>0</td>\n",
       "      <td>0</td>\n",
       "      <td>0</td>\n",
       "      <td>0</td>\n",
       "    </tr>\n",
       "    <tr>\n",
       "      <th>2</th>\n",
       "      <td>2</td>\n",
       "      <td>0</td>\n",
       "      <td>0</td>\n",
       "      <td>0</td>\n",
       "      <td>0</td>\n",
       "      <td>0</td>\n",
       "      <td>0</td>\n",
       "      <td>14</td>\n",
       "      <td>53</td>\n",
       "      <td>99</td>\n",
       "      <td>...</td>\n",
       "      <td>0</td>\n",
       "      <td>0</td>\n",
       "      <td>0</td>\n",
       "      <td>0</td>\n",
       "      <td>63</td>\n",
       "      <td>53</td>\n",
       "      <td>31</td>\n",
       "      <td>0</td>\n",
       "      <td>0</td>\n",
       "      <td>0</td>\n",
       "    </tr>\n",
       "    <tr>\n",
       "      <th>3</th>\n",
       "      <td>2</td>\n",
       "      <td>0</td>\n",
       "      <td>0</td>\n",
       "      <td>0</td>\n",
       "      <td>0</td>\n",
       "      <td>0</td>\n",
       "      <td>0</td>\n",
       "      <td>0</td>\n",
       "      <td>0</td>\n",
       "      <td>0</td>\n",
       "      <td>...</td>\n",
       "      <td>137</td>\n",
       "      <td>126</td>\n",
       "      <td>140</td>\n",
       "      <td>0</td>\n",
       "      <td>133</td>\n",
       "      <td>224</td>\n",
       "      <td>222</td>\n",
       "      <td>56</td>\n",
       "      <td>0</td>\n",
       "      <td>0</td>\n",
       "    </tr>\n",
       "    <tr>\n",
       "      <th>4</th>\n",
       "      <td>3</td>\n",
       "      <td>0</td>\n",
       "      <td>0</td>\n",
       "      <td>0</td>\n",
       "      <td>0</td>\n",
       "      <td>0</td>\n",
       "      <td>0</td>\n",
       "      <td>0</td>\n",
       "      <td>0</td>\n",
       "      <td>0</td>\n",
       "      <td>...</td>\n",
       "      <td>0</td>\n",
       "      <td>0</td>\n",
       "      <td>0</td>\n",
       "      <td>0</td>\n",
       "      <td>0</td>\n",
       "      <td>0</td>\n",
       "      <td>0</td>\n",
       "      <td>0</td>\n",
       "      <td>0</td>\n",
       "      <td>0</td>\n",
       "    </tr>\n",
       "  </tbody>\n",
       "</table>\n",
       "<p>5 rows × 785 columns</p>\n",
       "</div>"
      ],
      "text/plain": [
       "   label  pixel1  pixel2  pixel3  pixel4  pixel5  pixel6  pixel7  pixel8  \\\n",
       "0      0       0       0       0       0       0       0       0       9   \n",
       "1      1       0       0       0       0       0       0       0       0   \n",
       "2      2       0       0       0       0       0       0      14      53   \n",
       "3      2       0       0       0       0       0       0       0       0   \n",
       "4      3       0       0       0       0       0       0       0       0   \n",
       "\n",
       "   pixel9  ...  pixel775  pixel776  pixel777  pixel778  pixel779  pixel780  \\\n",
       "0       8  ...       103        87        56         0         0         0   \n",
       "1       0  ...        34         0         0         0         0         0   \n",
       "2      99  ...         0         0         0         0        63        53   \n",
       "3       0  ...       137       126       140         0       133       224   \n",
       "4       0  ...         0         0         0         0         0         0   \n",
       "\n",
       "   pixel781  pixel782  pixel783  pixel784  \n",
       "0         0         0         0         0  \n",
       "1         0         0         0         0  \n",
       "2        31         0         0         0  \n",
       "3       222        56         0         0  \n",
       "4         0         0         0         0  \n",
       "\n",
       "[5 rows x 785 columns]"
      ]
     },
     "execution_count": 11,
     "metadata": {},
     "output_type": "execute_result"
    }
   ],
   "source": [
    "fashion_test_set.head()"
   ]
  },
  {
   "cell_type": "markdown",
   "id": "2aca1d84",
   "metadata": {
    "papermill": {
     "duration": 0.026806,
     "end_time": "2023-05-22T13:14:42.384082",
     "exception": false,
     "start_time": "2023-05-22T13:14:42.357276",
     "status": "completed"
    },
    "tags": []
   },
   "source": [
    "We can see the same format as the fashion data."
   ]
  },
  {
   "cell_type": "markdown",
   "id": "3e1b681a",
   "metadata": {
    "papermill": {
     "duration": 0.028657,
     "end_time": "2023-05-22T13:14:42.439614",
     "exception": false,
     "start_time": "2023-05-22T13:14:42.410957",
     "status": "completed"
    },
    "tags": []
   },
   "source": [
    "So lets use the shape function to examine the dimensionamlity of both datasets."
   ]
  },
  {
   "cell_type": "code",
   "execution_count": 12,
   "id": "3cd6662a",
   "metadata": {
    "execution": {
     "iopub.execute_input": "2023-05-22T13:14:42.496826Z",
     "iopub.status.busy": "2023-05-22T13:14:42.495758Z",
     "iopub.status.idle": "2023-05-22T13:14:42.502152Z",
     "shell.execute_reply": "2023-05-22T13:14:42.500587Z"
    },
    "papermill": {
     "duration": 0.037299,
     "end_time": "2023-05-22T13:14:42.504627",
     "exception": false,
     "start_time": "2023-05-22T13:14:42.467328",
     "status": "completed"
    },
    "tags": []
   },
   "outputs": [
    {
     "name": "stdout",
     "output_type": "stream",
     "text": [
      "Fashion Data Shape: (60000, 785)\n",
      "Fashion Test Shape: (10000, 785)\n"
     ]
    }
   ],
   "source": [
    "print(f\"Fashion Data Shape: {fashion_data.shape}\")\n",
    "print(f\"Fashion Test Shape: {fashion_test_set.shape}\")"
   ]
  },
  {
   "cell_type": "markdown",
   "id": "73eac6f2",
   "metadata": {
    "papermill": {
     "duration": 0.027184,
     "end_time": "2023-05-22T13:14:42.559887",
     "exception": false,
     "start_time": "2023-05-22T13:14:42.532703",
     "status": "completed"
    },
    "tags": []
   },
   "source": [
    "This shows us the fashion data set has 60,000 images and the test set 10,000 each represented by rows. Each row consists of 785 pixels or columns numericaly named."
   ]
  },
  {
   "cell_type": "markdown",
   "id": "6edf1ec9",
   "metadata": {
    "papermill": {
     "duration": 0.026736,
     "end_time": "2023-05-22T13:14:42.613939",
     "exception": false,
     "start_time": "2023-05-22T13:14:42.587203",
     "status": "completed"
    },
    "tags": []
   },
   "source": [
    "Lets examine the type of data in each data feature."
   ]
  },
  {
   "cell_type": "code",
   "execution_count": 13,
   "id": "1f0b0601",
   "metadata": {
    "execution": {
     "iopub.execute_input": "2023-05-22T13:14:42.670148Z",
     "iopub.status.busy": "2023-05-22T13:14:42.669330Z",
     "iopub.status.idle": "2023-05-22T13:14:42.678546Z",
     "shell.execute_reply": "2023-05-22T13:14:42.676841Z"
    },
    "papermill": {
     "duration": 0.040144,
     "end_time": "2023-05-22T13:14:42.680809",
     "exception": false,
     "start_time": "2023-05-22T13:14:42.640665",
     "status": "completed"
    },
    "tags": []
   },
   "outputs": [
    {
     "name": "stdout",
     "output_type": "stream",
     "text": [
      "Fashion Data Shape: label       int64\n",
      "pixel1      int64\n",
      "pixel2      int64\n",
      "pixel3      int64\n",
      "pixel4      int64\n",
      "            ...  \n",
      "pixel780    int64\n",
      "pixel781    int64\n",
      "pixel782    int64\n",
      "pixel783    int64\n",
      "pixel784    int64\n",
      "Length: 785, dtype: object\n",
      "Fashion Test Shape: label       int64\n",
      "pixel1      int64\n",
      "pixel2      int64\n",
      "pixel3      int64\n",
      "pixel4      int64\n",
      "            ...  \n",
      "pixel780    int64\n",
      "pixel781    int64\n",
      "pixel782    int64\n",
      "pixel783    int64\n",
      "pixel784    int64\n",
      "Length: 785, dtype: object\n"
     ]
    }
   ],
   "source": [
    "print(f\"Fashion Data Shape: {fashion_data.dtypes}\")\n",
    "print(f\"Fashion Test Shape: {fashion_test_set.dtypes}\")"
   ]
  },
  {
   "cell_type": "markdown",
   "id": "cfe1dac0",
   "metadata": {
    "papermill": {
     "duration": 0.026312,
     "end_time": "2023-05-22T13:14:42.733962",
     "exception": false,
     "start_time": "2023-05-22T13:14:42.707650",
     "status": "completed"
    },
    "tags": []
   },
   "source": [
    "We can see all data are interagers."
   ]
  },
  {
   "cell_type": "markdown",
   "id": "5b6c85c8",
   "metadata": {
    "papermill": {
     "duration": 0.026257,
     "end_time": "2023-05-22T13:14:42.787510",
     "exception": false,
     "start_time": "2023-05-22T13:14:42.761253",
     "status": "completed"
    },
    "tags": []
   },
   "source": [
    "Lets see what range of data we are working with for each datasets."
   ]
  },
  {
   "cell_type": "code",
   "execution_count": 14,
   "id": "1d622c00",
   "metadata": {
    "execution": {
     "iopub.execute_input": "2023-05-22T13:14:42.842714Z",
     "iopub.status.busy": "2023-05-22T13:14:42.842315Z",
     "iopub.status.idle": "2023-05-22T13:14:42.939924Z",
     "shell.execute_reply": "2023-05-22T13:14:42.939088Z"
    },
    "papermill": {
     "duration": 0.128312,
     "end_time": "2023-05-22T13:14:42.942509",
     "exception": false,
     "start_time": "2023-05-22T13:14:42.814197",
     "status": "completed"
    },
    "tags": []
   },
   "outputs": [
    {
     "name": "stdout",
     "output_type": "stream",
     "text": [
      "Minimum value in the fashion_data: 0\n",
      "Maximum value in the fashion_data: 255\n",
      "Minimum value in the fashion_test_set: 0\n",
      "Maximum value in the fashion_test_set: 255\n"
     ]
    }
   ],
   "source": [
    "print(f\"Minimum value in the fashion_data: {fashion_data.min().min()}\")\n",
    "print(f\"Maximum value in the fashion_data: {fashion_data.max().max()}\")\n",
    "print(f\"Minimum value in the fashion_test_set: {fashion_test_set.min().min()}\")\n",
    "print(f\"Maximum value in the fashion_test_set: {fashion_test_set.max().max()}\")"
   ]
  },
  {
   "cell_type": "markdown",
   "id": "e6a72929",
   "metadata": {
    "papermill": {
     "duration": 0.02637,
     "end_time": "2023-05-22T13:14:42.995804",
     "exception": false,
     "start_time": "2023-05-22T13:14:42.969434",
     "status": "completed"
    },
    "tags": []
   },
   "source": [
    "Okay so we can see the pixels are in a black = 0 and white 255 scale. We will want to normalize these values in the next step."
   ]
  },
  {
   "cell_type": "markdown",
   "id": "61106b24",
   "metadata": {
    "papermill": {
     "duration": 0.028932,
     "end_time": "2023-05-22T13:14:43.052574",
     "exception": false,
     "start_time": "2023-05-22T13:14:43.023642",
     "status": "completed"
    },
    "tags": []
   },
   "source": [
    "Lets also just double check there is no missing data."
   ]
  },
  {
   "cell_type": "code",
   "execution_count": 15,
   "id": "0ef12d10",
   "metadata": {
    "execution": {
     "iopub.execute_input": "2023-05-22T13:14:43.110096Z",
     "iopub.status.busy": "2023-05-22T13:14:43.109638Z",
     "iopub.status.idle": "2023-05-22T13:14:43.164280Z",
     "shell.execute_reply": "2023-05-22T13:14:43.162898Z"
    },
    "papermill": {
     "duration": 0.086284,
     "end_time": "2023-05-22T13:14:43.167194",
     "exception": false,
     "start_time": "2023-05-22T13:14:43.080910",
     "status": "completed"
    },
    "tags": []
   },
   "outputs": [
    {
     "name": "stdout",
     "output_type": "stream",
     "text": [
      "Fashion Data Shape: label       0\n",
      "pixel1      0\n",
      "pixel2      0\n",
      "pixel3      0\n",
      "pixel4      0\n",
      "           ..\n",
      "pixel780    0\n",
      "pixel781    0\n",
      "pixel782    0\n",
      "pixel783    0\n",
      "pixel784    0\n",
      "Length: 785, dtype: int64\n",
      "Fashion Test Shape: label       0\n",
      "pixel1      0\n",
      "pixel2      0\n",
      "pixel3      0\n",
      "pixel4      0\n",
      "           ..\n",
      "pixel780    0\n",
      "pixel781    0\n",
      "pixel782    0\n",
      "pixel783    0\n",
      "pixel784    0\n",
      "Length: 785, dtype: int64\n"
     ]
    }
   ],
   "source": [
    "print(f\"Fashion Data Shape: {fashion_data.isna().sum()}\")\n",
    "print(f\"Fashion Test Shape: {fashion_test_set.isna().sum()}\")"
   ]
  },
  {
   "cell_type": "markdown",
   "id": "6a228e8d",
   "metadata": {
    "papermill": {
     "duration": 0.026746,
     "end_time": "2023-05-22T13:14:43.221632",
     "exception": false,
     "start_time": "2023-05-22T13:14:43.194886",
     "status": "completed"
    },
    "tags": []
   },
   "source": [
    "Good there are no missing data to worry about, lets move on to the next step"
   ]
  },
  {
   "cell_type": "markdown",
   "id": "63f1c603",
   "metadata": {
    "papermill": {
     "duration": 0.027614,
     "end_time": "2023-05-22T13:14:43.276364",
     "exception": false,
     "start_time": "2023-05-22T13:14:43.248750",
     "status": "completed"
    },
    "tags": []
   },
   "source": [
    "## Step 2: Pre-Process the data\n",
    "\n",
    "Here we will prepare the data prior to splitting and training. We will clean up, label, normalize, or whatever is appropriate given the data and selected model. In this case we will want to apply string clothing labels to the numeric label column. Define a function that allows us to view the images and labels examine these images and labels and ensure they make sense. Split the data between labels and pixel data. And then finally normalize the pixel data. "
   ]
  },
  {
   "cell_type": "markdown",
   "id": "ab675628",
   "metadata": {
    "papermill": {
     "duration": 0.028782,
     "end_time": "2023-05-22T13:14:43.332385",
     "exception": false,
     "start_time": "2023-05-22T13:14:43.303603",
     "status": "completed"
    },
    "tags": []
   },
   "source": [
    "We can create and array that will be refernced to translate the numerical representation of the labels column in each dataset to be the article of clothing."
   ]
  },
  {
   "cell_type": "code",
   "execution_count": 16,
   "id": "35892595",
   "metadata": {
    "execution": {
     "iopub.execute_input": "2023-05-22T13:14:43.388882Z",
     "iopub.status.busy": "2023-05-22T13:14:43.388124Z",
     "iopub.status.idle": "2023-05-22T13:14:43.394607Z",
     "shell.execute_reply": "2023-05-22T13:14:43.393525Z"
    },
    "papermill": {
     "duration": 0.037541,
     "end_time": "2023-05-22T13:14:43.397352",
     "exception": false,
     "start_time": "2023-05-22T13:14:43.359811",
     "status": "completed"
    },
    "tags": []
   },
   "outputs": [],
   "source": [
    "labels = {\n",
    "    0: 'T-shirt / Top',\n",
    "    1: 'Trouser',\n",
    "    2: 'Pullover',\n",
    "    3: 'Dress',\n",
    "    4: 'Coat',\n",
    "    5: 'Sandal',\n",
    "    6: 'Shirt',\n",
    "    7: 'Sneaker',\n",
    "    8: 'Bag',\n",
    "    9: 'Ankle Boot'\n",
    "}"
   ]
  },
  {
   "cell_type": "markdown",
   "id": "f2e40789",
   "metadata": {
    "papermill": {
     "duration": 0.027908,
     "end_time": "2023-05-22T13:14:43.452538",
     "exception": false,
     "start_time": "2023-05-22T13:14:43.424630",
     "status": "completed"
    },
    "tags": []
   },
   "source": [
    "Next lets make a function that allows us to visualizes an image based on the features(column of pixels) and prints the labels, based on the label column and corresponding value in the array."
   ]
  },
  {
   "cell_type": "code",
   "execution_count": 17,
   "id": "c40ca769",
   "metadata": {
    "execution": {
     "iopub.execute_input": "2023-05-22T13:14:43.509806Z",
     "iopub.status.busy": "2023-05-22T13:14:43.509393Z",
     "iopub.status.idle": "2023-05-22T13:14:43.515552Z",
     "shell.execute_reply": "2023-05-22T13:14:43.514368Z"
    },
    "papermill": {
     "duration": 0.037892,
     "end_time": "2023-05-22T13:14:43.518180",
     "exception": false,
     "start_time": "2023-05-22T13:14:43.480288",
     "status": "completed"
    },
    "tags": []
   },
   "outputs": [],
   "source": [
    "def display_image(features, numeric_label):\n",
    "    print(f\"Class: {labels[numeric_label]}\")\n",
    "    plt.imshow(features.reshape(28, 28))"
   ]
  },
  {
   "cell_type": "markdown",
   "id": "7f0f30a7",
   "metadata": {
    "papermill": {
     "duration": 0.026614,
     "end_time": "2023-05-22T13:14:43.571678",
     "exception": false,
     "start_time": "2023-05-22T13:14:43.545064",
     "status": "completed"
    },
    "tags": []
   },
   "source": [
    "Lets extract the features from the fashion data which are all the columns excet for the label (first column). Then we can ensure this works using the head function."
   ]
  },
  {
   "cell_type": "code",
   "execution_count": 18,
   "id": "91a117ee",
   "metadata": {
    "execution": {
     "iopub.execute_input": "2023-05-22T13:14:43.630925Z",
     "iopub.status.busy": "2023-05-22T13:14:43.630518Z",
     "iopub.status.idle": "2023-05-22T13:14:43.815331Z",
     "shell.execute_reply": "2023-05-22T13:14:43.814118Z"
    },
    "papermill": {
     "duration": 0.217497,
     "end_time": "2023-05-22T13:14:43.817749",
     "exception": false,
     "start_time": "2023-05-22T13:14:43.600252",
     "status": "completed"
    },
    "tags": []
   },
   "outputs": [
    {
     "data": {
      "text/plain": [
       "<bound method NDFrame.head of        pixel1  pixel2  pixel3  pixel4  pixel5  pixel6  pixel7  pixel8  pixel9  \\\n",
       "0           0       0       0       0       0       0       0       0       0   \n",
       "1           0       0       0       0       0       0       0       0       0   \n",
       "2           0       0       0       0       0       0       0       5       0   \n",
       "3           0       0       0       1       2       0       0       0       0   \n",
       "4           0       0       0       0       0       0       0       0       0   \n",
       "...       ...     ...     ...     ...     ...     ...     ...     ...     ...   \n",
       "59995       0       0       0       0       0       0       0       0       0   \n",
       "59996       0       0       0       0       0       0       0       0       0   \n",
       "59997       0       0       0       0       0       0       0       0       0   \n",
       "59998       0       0       0       0       0       0       0       0       0   \n",
       "59999       0       0       0       0       0       0       0       0       0   \n",
       "\n",
       "       pixel10  ...  pixel775  pixel776  pixel777  pixel778  pixel779  \\\n",
       "0            0  ...         0         0         0         0         0   \n",
       "1            0  ...         0         0         0         0         0   \n",
       "2            0  ...         0         0         0        30        43   \n",
       "3            0  ...         3         0         0         0         0   \n",
       "4            0  ...         0         0         0         0         0   \n",
       "...        ...  ...       ...       ...       ...       ...       ...   \n",
       "59995        0  ...         0         0         0         0         0   \n",
       "59996        0  ...        73         0         0         0         0   \n",
       "59997        0  ...       160       162       163       135        94   \n",
       "59998        0  ...         0         0         0         0         0   \n",
       "59999        0  ...         0         0         0         0         0   \n",
       "\n",
       "       pixel780  pixel781  pixel782  pixel783  pixel784  \n",
       "0             0         0         0         0         0  \n",
       "1             0         0         0         0         0  \n",
       "2             0         0         0         0         0  \n",
       "3             1         0         0         0         0  \n",
       "4             0         0         0         0         0  \n",
       "...         ...       ...       ...       ...       ...  \n",
       "59995         0         0         0         0         0  \n",
       "59996         0         0         0         0         0  \n",
       "59997         0         0         0         0         0  \n",
       "59998         0         0         0         0         0  \n",
       "59999         0         0         0         0         0  \n",
       "\n",
       "[60000 rows x 784 columns]>"
      ]
     },
     "execution_count": 18,
     "metadata": {},
     "output_type": "execute_result"
    }
   ],
   "source": [
    "X = fashion_data[fashion_data.columns[1:]]\n",
    "X.head"
   ]
  },
  {
   "cell_type": "markdown",
   "id": "7a809614",
   "metadata": {
    "papermill": {
     "duration": 0.027299,
     "end_time": "2023-05-22T13:14:43.872379",
     "exception": false,
     "start_time": "2023-05-22T13:14:43.845080",
     "status": "completed"
    },
    "tags": []
   },
   "source": [
    "Great it worked we can see there is one fewer columns than the starting data set and the same number of rows."
   ]
  },
  {
   "cell_type": "markdown",
   "id": "f8bc4cc9",
   "metadata": {
    "papermill": {
     "duration": 0.027992,
     "end_time": "2023-05-22T13:14:43.927665",
     "exception": false,
     "start_time": "2023-05-22T13:14:43.899673",
     "status": "completed"
    },
    "tags": []
   },
   "source": [
    "Now lets do the same but extract the label column an save into a new dataset named Y."
   ]
  },
  {
   "cell_type": "code",
   "execution_count": 19,
   "id": "5a7b898a",
   "metadata": {
    "execution": {
     "iopub.execute_input": "2023-05-22T13:14:43.984461Z",
     "iopub.status.busy": "2023-05-22T13:14:43.984057Z",
     "iopub.status.idle": "2023-05-22T13:14:43.992597Z",
     "shell.execute_reply": "2023-05-22T13:14:43.991195Z"
    },
    "papermill": {
     "duration": 0.039652,
     "end_time": "2023-05-22T13:14:43.995133",
     "exception": false,
     "start_time": "2023-05-22T13:14:43.955481",
     "status": "completed"
    },
    "tags": []
   },
   "outputs": [
    {
     "data": {
      "text/plain": [
       "0    2\n",
       "1    9\n",
       "2    6\n",
       "3    0\n",
       "4    3\n",
       "Name: label, dtype: int64"
      ]
     },
     "execution_count": 19,
     "metadata": {},
     "output_type": "execute_result"
    }
   ],
   "source": [
    "Y = fashion_data['label']\n",
    "Y.head()"
   ]
  },
  {
   "cell_type": "markdown",
   "id": "f77bfa07",
   "metadata": {
    "papermill": {
     "duration": 0.029177,
     "end_time": "2023-05-22T13:14:44.053291",
     "exception": false,
     "start_time": "2023-05-22T13:14:44.024114",
     "status": "completed"
    },
    "tags": []
   },
   "source": [
    "Looks like this separation was successful as well."
   ]
  },
  {
   "cell_type": "markdown",
   "id": "f7dde6d7",
   "metadata": {
    "papermill": {
     "duration": 0.027159,
     "end_time": "2023-05-22T13:14:44.108682",
     "exception": false,
     "start_time": "2023-05-22T13:14:44.081523",
     "status": "completed"
    },
    "tags": []
   },
   "source": [
    "Now lets take a look at a few of the images from different points in our dataframes."
   ]
  },
  {
   "cell_type": "code",
   "execution_count": 20,
   "id": "5d3f9a87",
   "metadata": {
    "execution": {
     "iopub.execute_input": "2023-05-22T13:14:44.165995Z",
     "iopub.status.busy": "2023-05-22T13:14:44.165607Z",
     "iopub.status.idle": "2023-05-22T13:14:44.441433Z",
     "shell.execute_reply": "2023-05-22T13:14:44.440126Z"
    },
    "papermill": {
     "duration": 0.307555,
     "end_time": "2023-05-22T13:14:44.444271",
     "exception": false,
     "start_time": "2023-05-22T13:14:44.136716",
     "status": "completed"
    },
    "tags": []
   },
   "outputs": [
    {
     "name": "stdout",
     "output_type": "stream",
     "text": [
      "Class: Pullover\n"
     ]
    },
    {
     "data": {
      "image/png": "[encoded data removed]",
      "text/plain": [
       "<Figure size 640x480 with 1 Axes>"
      ]
     },
     "metadata": {},
     "output_type": "display_data"
    }
   ],
   "source": [
    "display_image(X.loc[0].values, Y.loc[0])"
   ]
  },
  {
   "cell_type": "code",
   "execution_count": 21,
   "id": "7c71c048",
   "metadata": {
    "execution": {
     "iopub.execute_input": "2023-05-22T13:14:44.502265Z",
     "iopub.status.busy": "2023-05-22T13:14:44.501264Z",
     "iopub.status.idle": "2023-05-22T13:14:44.744644Z",
     "shell.execute_reply": "2023-05-22T13:14:44.743479Z"
    },
    "papermill": {
     "duration": 0.275199,
     "end_time": "2023-05-22T13:14:44.747095",
     "exception": false,
     "start_time": "2023-05-22T13:14:44.471896",
     "status": "completed"
    },
    "tags": []
   },
   "outputs": [
    {
     "name": "stdout",
     "output_type": "stream",
     "text": [
      "Class: T-shirt / Top\n"
     ]
    },
    {
     "data": {
      "image/png": "[encoded data removed]",
      "text/plain": [
       "<Figure size 640x480 with 1 Axes>"
      ]
     },
     "metadata": {},
     "output_type": "display_data"
    }
   ],
   "source": [
    "display_image(X.loc[10].values, Y.loc[10])"
   ]
  },
  {
   "cell_type": "code",
   "execution_count": 22,
   "id": "8b6763b6",
   "metadata": {
    "execution": {
     "iopub.execute_input": "2023-05-22T13:14:44.805911Z",
     "iopub.status.busy": "2023-05-22T13:14:44.805247Z",
     "iopub.status.idle": "2023-05-22T13:14:45.050157Z",
     "shell.execute_reply": "2023-05-22T13:14:45.048929Z"
    },
    "papermill": {
     "duration": 0.277528,
     "end_time": "2023-05-22T13:14:45.052667",
     "exception": false,
     "start_time": "2023-05-22T13:14:44.775139",
     "status": "completed"
    },
    "tags": []
   },
   "outputs": [
    {
     "name": "stdout",
     "output_type": "stream",
     "text": [
      "Class: Sneaker\n"
     ]
    },
    {
     "data": {
      "image/png": "[encoded data removed]",
      "text/plain": [
       "<Figure size 640x480 with 1 Axes>"
      ]
     },
     "metadata": {},
     "output_type": "display_data"
    }
   ],
   "source": [
    "display_image(X.loc[59999].values, Y.loc[59999])"
   ]
  },
  {
   "cell_type": "markdown",
   "id": "dd593eb5",
   "metadata": {
    "papermill": {
     "duration": 0.028258,
     "end_time": "2023-05-22T13:14:45.110014",
     "exception": false,
     "start_time": "2023-05-22T13:14:45.081756",
     "status": "completed"
    },
    "tags": []
   },
   "source": [
    "Look at this collection of NFTs :). But it worked and we have unique clothing articles with matching correct labels. Also this showed our splits worked well."
   ]
  },
  {
   "cell_type": "markdown",
   "id": "0b9b73b1",
   "metadata": {
    "papermill": {
     "duration": 0.028429,
     "end_time": "2023-05-22T13:14:45.166922",
     "exception": false,
     "start_time": "2023-05-22T13:14:45.138493",
     "status": "completed"
    },
    "tags": []
   },
   "source": [
    "To wrap up pre-processing lets normalize the pixel data (X) so values are between 0 and 1. The we can take a look using the head function to ensure this worked"
   ]
  },
  {
   "cell_type": "code",
   "execution_count": 23,
   "id": "ea4c8d59",
   "metadata": {
    "execution": {
     "iopub.execute_input": "2023-05-22T13:14:45.227218Z",
     "iopub.status.busy": "2023-05-22T13:14:45.226785Z",
     "iopub.status.idle": "2023-05-22T13:14:45.371938Z",
     "shell.execute_reply": "2023-05-22T13:14:45.370801Z"
    },
    "papermill": {
     "duration": 0.178187,
     "end_time": "2023-05-22T13:14:45.374286",
     "exception": false,
     "start_time": "2023-05-22T13:14:45.196099",
     "status": "completed"
    },
    "tags": []
   },
   "outputs": [
    {
     "data": {
      "text/html": [
       "<div>\n",
       "<style scoped>\n",
       "    .dataframe tbody tr th:only-of-type {\n",
       "        vertical-align: middle;\n",
       "    }\n",
       "\n",
       "    .dataframe tbody tr th {\n",
       "        vertical-align: top;\n",
       "    }\n",
       "\n",
       "    .dataframe thead th {\n",
       "        text-align: right;\n",
       "    }\n",
       "</style>\n",
       "<table border=\"1\" class=\"dataframe\">\n",
       "  <thead>\n",
       "    <tr style=\"text-align: right;\">\n",
       "      <th></th>\n",
       "      <th>pixel1</th>\n",
       "      <th>pixel2</th>\n",
       "      <th>pixel3</th>\n",
       "      <th>pixel4</th>\n",
       "      <th>pixel5</th>\n",
       "      <th>pixel6</th>\n",
       "      <th>pixel7</th>\n",
       "      <th>pixel8</th>\n",
       "      <th>pixel9</th>\n",
       "      <th>pixel10</th>\n",
       "      <th>...</th>\n",
       "      <th>pixel775</th>\n",
       "      <th>pixel776</th>\n",
       "      <th>pixel777</th>\n",
       "      <th>pixel778</th>\n",
       "      <th>pixel779</th>\n",
       "      <th>pixel780</th>\n",
       "      <th>pixel781</th>\n",
       "      <th>pixel782</th>\n",
       "      <th>pixel783</th>\n",
       "      <th>pixel784</th>\n",
       "    </tr>\n",
       "  </thead>\n",
       "  <tbody>\n",
       "    <tr>\n",
       "      <th>0</th>\n",
       "      <td>0.0</td>\n",
       "      <td>0.0</td>\n",
       "      <td>0.0</td>\n",
       "      <td>0.000000</td>\n",
       "      <td>0.000000</td>\n",
       "      <td>0.0</td>\n",
       "      <td>0.0</td>\n",
       "      <td>0.000000</td>\n",
       "      <td>0.0</td>\n",
       "      <td>0.0</td>\n",
       "      <td>...</td>\n",
       "      <td>0.000000</td>\n",
       "      <td>0.0</td>\n",
       "      <td>0.0</td>\n",
       "      <td>0.000000</td>\n",
       "      <td>0.000000</td>\n",
       "      <td>0.000000</td>\n",
       "      <td>0.0</td>\n",
       "      <td>0.0</td>\n",
       "      <td>0.0</td>\n",
       "      <td>0.0</td>\n",
       "    </tr>\n",
       "    <tr>\n",
       "      <th>1</th>\n",
       "      <td>0.0</td>\n",
       "      <td>0.0</td>\n",
       "      <td>0.0</td>\n",
       "      <td>0.000000</td>\n",
       "      <td>0.000000</td>\n",
       "      <td>0.0</td>\n",
       "      <td>0.0</td>\n",
       "      <td>0.000000</td>\n",
       "      <td>0.0</td>\n",
       "      <td>0.0</td>\n",
       "      <td>...</td>\n",
       "      <td>0.000000</td>\n",
       "      <td>0.0</td>\n",
       "      <td>0.0</td>\n",
       "      <td>0.000000</td>\n",
       "      <td>0.000000</td>\n",
       "      <td>0.000000</td>\n",
       "      <td>0.0</td>\n",
       "      <td>0.0</td>\n",
       "      <td>0.0</td>\n",
       "      <td>0.0</td>\n",
       "    </tr>\n",
       "    <tr>\n",
       "      <th>2</th>\n",
       "      <td>0.0</td>\n",
       "      <td>0.0</td>\n",
       "      <td>0.0</td>\n",
       "      <td>0.000000</td>\n",
       "      <td>0.000000</td>\n",
       "      <td>0.0</td>\n",
       "      <td>0.0</td>\n",
       "      <td>0.019608</td>\n",
       "      <td>0.0</td>\n",
       "      <td>0.0</td>\n",
       "      <td>...</td>\n",
       "      <td>0.000000</td>\n",
       "      <td>0.0</td>\n",
       "      <td>0.0</td>\n",
       "      <td>0.117647</td>\n",
       "      <td>0.168627</td>\n",
       "      <td>0.000000</td>\n",
       "      <td>0.0</td>\n",
       "      <td>0.0</td>\n",
       "      <td>0.0</td>\n",
       "      <td>0.0</td>\n",
       "    </tr>\n",
       "    <tr>\n",
       "      <th>3</th>\n",
       "      <td>0.0</td>\n",
       "      <td>0.0</td>\n",
       "      <td>0.0</td>\n",
       "      <td>0.003922</td>\n",
       "      <td>0.007843</td>\n",
       "      <td>0.0</td>\n",
       "      <td>0.0</td>\n",
       "      <td>0.000000</td>\n",
       "      <td>0.0</td>\n",
       "      <td>0.0</td>\n",
       "      <td>...</td>\n",
       "      <td>0.011765</td>\n",
       "      <td>0.0</td>\n",
       "      <td>0.0</td>\n",
       "      <td>0.000000</td>\n",
       "      <td>0.000000</td>\n",
       "      <td>0.003922</td>\n",
       "      <td>0.0</td>\n",
       "      <td>0.0</td>\n",
       "      <td>0.0</td>\n",
       "      <td>0.0</td>\n",
       "    </tr>\n",
       "    <tr>\n",
       "      <th>4</th>\n",
       "      <td>0.0</td>\n",
       "      <td>0.0</td>\n",
       "      <td>0.0</td>\n",
       "      <td>0.000000</td>\n",
       "      <td>0.000000</td>\n",
       "      <td>0.0</td>\n",
       "      <td>0.0</td>\n",
       "      <td>0.000000</td>\n",
       "      <td>0.0</td>\n",
       "      <td>0.0</td>\n",
       "      <td>...</td>\n",
       "      <td>0.000000</td>\n",
       "      <td>0.0</td>\n",
       "      <td>0.0</td>\n",
       "      <td>0.000000</td>\n",
       "      <td>0.000000</td>\n",
       "      <td>0.000000</td>\n",
       "      <td>0.0</td>\n",
       "      <td>0.0</td>\n",
       "      <td>0.0</td>\n",
       "      <td>0.0</td>\n",
       "    </tr>\n",
       "  </tbody>\n",
       "</table>\n",
       "<p>5 rows × 784 columns</p>\n",
       "</div>"
      ],
      "text/plain": [
       "   pixel1  pixel2  pixel3    pixel4    pixel5  pixel6  pixel7    pixel8  \\\n",
       "0     0.0     0.0     0.0  0.000000  0.000000     0.0     0.0  0.000000   \n",
       "1     0.0     0.0     0.0  0.000000  0.000000     0.0     0.0  0.000000   \n",
       "2     0.0     0.0     0.0  0.000000  0.000000     0.0     0.0  0.019608   \n",
       "3     0.0     0.0     0.0  0.003922  0.007843     0.0     0.0  0.000000   \n",
       "4     0.0     0.0     0.0  0.000000  0.000000     0.0     0.0  0.000000   \n",
       "\n",
       "   pixel9  pixel10  ...  pixel775  pixel776  pixel777  pixel778  pixel779  \\\n",
       "0     0.0      0.0  ...  0.000000       0.0       0.0  0.000000  0.000000   \n",
       "1     0.0      0.0  ...  0.000000       0.0       0.0  0.000000  0.000000   \n",
       "2     0.0      0.0  ...  0.000000       0.0       0.0  0.117647  0.168627   \n",
       "3     0.0      0.0  ...  0.011765       0.0       0.0  0.000000  0.000000   \n",
       "4     0.0      0.0  ...  0.000000       0.0       0.0  0.000000  0.000000   \n",
       "\n",
       "   pixel780  pixel781  pixel782  pixel783  pixel784  \n",
       "0  0.000000       0.0       0.0       0.0       0.0  \n",
       "1  0.000000       0.0       0.0       0.0       0.0  \n",
       "2  0.000000       0.0       0.0       0.0       0.0  \n",
       "3  0.003922       0.0       0.0       0.0       0.0  \n",
       "4  0.000000       0.0       0.0       0.0       0.0  \n",
       "\n",
       "[5 rows x 784 columns]"
      ]
     },
     "execution_count": 23,
     "metadata": {},
     "output_type": "execute_result"
    }
   ],
   "source": [
    "X = X / 255\n",
    "X.head()"
   ]
  },
  {
   "cell_type": "markdown",
   "id": "15d11aa8",
   "metadata": {
    "papermill": {
     "duration": 0.028924,
     "end_time": "2023-05-22T13:14:45.432139",
     "exception": false,
     "start_time": "2023-05-22T13:14:45.403215",
     "status": "completed"
    },
    "tags": []
   },
   "source": [
    "lets double check that the normalization was successful and the min=0 and max=1."
   ]
  },
  {
   "cell_type": "code",
   "execution_count": 24,
   "id": "a611d01a",
   "metadata": {
    "execution": {
     "iopub.execute_input": "2023-05-22T13:14:45.492826Z",
     "iopub.status.busy": "2023-05-22T13:14:45.492189Z",
     "iopub.status.idle": "2023-05-22T13:14:45.721582Z",
     "shell.execute_reply": "2023-05-22T13:14:45.720142Z"
    },
    "papermill": {
     "duration": 0.262628,
     "end_time": "2023-05-22T13:14:45.724341",
     "exception": false,
     "start_time": "2023-05-22T13:14:45.461713",
     "status": "completed"
    },
    "tags": []
   },
   "outputs": [
    {
     "name": "stdout",
     "output_type": "stream",
     "text": [
      "0.0\n",
      "1.0\n"
     ]
    }
   ],
   "source": [
    "print(X.min().min())\n",
    "print(X.max().max())"
   ]
  },
  {
   "cell_type": "markdown",
   "id": "95d3cd02",
   "metadata": {
    "papermill": {
     "duration": 0.029662,
     "end_time": "2023-05-22T13:14:45.785459",
     "exception": false,
     "start_time": "2023-05-22T13:14:45.755797",
     "status": "completed"
    },
    "tags": []
   },
   "source": [
    "It worked lets move on to the next step."
   ]
  },
  {
   "cell_type": "markdown",
   "id": "8dade3e6",
   "metadata": {
    "papermill": {
     "duration": 0.028652,
     "end_time": "2023-05-22T13:14:45.843972",
     "exception": false,
     "start_time": "2023-05-22T13:14:45.815320",
     "status": "completed"
    },
    "tags": []
   },
   "source": [
    "## Step 3: Select the model\n",
    "\n",
    "Here we will be using logistical regression because of its classification abilities. We will import key features from SKlearn to implement this model in this step. In addition we will do an initial training of the linear regression model with the X&Y training set using the fit function from SKlearn."
   ]
  },
  {
   "cell_type": "markdown",
   "id": "76509e95",
   "metadata": {
    "papermill": {
     "duration": 0.028797,
     "end_time": "2023-05-22T13:14:45.901901",
     "exception": false,
     "start_time": "2023-05-22T13:14:45.873104",
     "status": "completed"
    },
    "tags": []
   },
   "source": [
    "Next we will import key functions we know we will want to call based on the selected model."
   ]
  },
  {
   "cell_type": "code",
   "execution_count": 25,
   "id": "db3955ec",
   "metadata": {
    "execution": {
     "iopub.execute_input": "2023-05-22T13:14:45.962586Z",
     "iopub.status.busy": "2023-05-22T13:14:45.961369Z",
     "iopub.status.idle": "2023-05-22T13:14:47.691898Z",
     "shell.execute_reply": "2023-05-22T13:14:47.690709Z"
    },
    "papermill": {
     "duration": 1.764583,
     "end_time": "2023-05-22T13:14:47.695553",
     "exception": false,
     "start_time": "2023-05-22T13:14:45.930970",
     "status": "completed"
    },
    "tags": []
   },
   "outputs": [
    {
     "name": "stderr",
     "output_type": "stream",
     "text": [
      "/opt/conda/lib/python3.10/site-packages/scipy/__init__.py:146: UserWarning: A NumPy version >=1.16.5 and <1.23.0 is required for this version of SciPy (detected version 1.23.5\n",
      "  warnings.warn(f\"A NumPy version >={np_minversion} and <{np_maxversion}\"\n"
     ]
    }
   ],
   "source": [
    "from sklearn.model_selection import train_test_split\n",
    "from sklearn.metrics import accuracy_score\n",
    "from sklearn.metrics import precision_score\n",
    "from sklearn.metrics import recall_score\n",
    "from sklearn.linear_model import LogisticRegression"
   ]
  },
  {
   "cell_type": "markdown",
   "id": "b4e56880",
   "metadata": {
    "papermill": {
     "duration": 0.030366,
     "end_time": "2023-05-22T13:14:47.761089",
     "exception": false,
     "start_time": "2023-05-22T13:14:47.730723",
     "status": "completed"
    },
    "tags": []
   },
   "source": [
    "## Step 4: Train the model\n",
    "\n",
    "Here we will be spliting the X (features) and Y (labels) datasets by a 80/20 ratio. The we will train our logistical regression model using the SKlearn functions."
   ]
  },
  {
   "cell_type": "markdown",
   "id": "347e49eb",
   "metadata": {
    "papermill": {
     "duration": 0.029741,
     "end_time": "2023-05-22T13:14:47.821283",
     "exception": false,
     "start_time": "2023-05-22T13:14:47.791542",
     "status": "completed"
    },
    "tags": []
   },
   "source": [
    "Lets split the data using train_test_split function. The examine the shape of each new varriable to ensure it worked correctly."
   ]
  },
  {
   "cell_type": "code",
   "execution_count": 26,
   "id": "0e8d964e",
   "metadata": {
    "execution": {
     "iopub.execute_input": "2023-05-22T13:14:47.882436Z",
     "iopub.status.busy": "2023-05-22T13:14:47.881989Z",
     "iopub.status.idle": "2023-05-22T13:14:48.261241Z",
     "shell.execute_reply": "2023-05-22T13:14:48.259604Z"
    },
    "papermill": {
     "duration": 0.413015,
     "end_time": "2023-05-22T13:14:48.263812",
     "exception": false,
     "start_time": "2023-05-22T13:14:47.850797",
     "status": "completed"
    },
    "tags": []
   },
   "outputs": [
    {
     "name": "stdout",
     "output_type": "stream",
     "text": [
      "x_train.shape: (48000, 784)\n",
      "y_train.shape: (48000,)\n",
      "x_test.shape:(12000, 784)\n",
      "y_test.shape: (12000,)\n"
     ]
    }
   ],
   "source": [
    "x_train, x_test, y_train, y_test = train_test_split(X, Y, test_size=0.2)\n",
    "print(f\"x_train.shape: {x_train.shape}\\ny_train.shape: {y_train.shape}\\nx_test.shape:{x_test.shape}\\ny_test.shape: {y_test.shape}\")"
   ]
  },
  {
   "cell_type": "markdown",
   "id": "a6c061f1",
   "metadata": {
    "papermill": {
     "duration": 0.02912,
     "end_time": "2023-05-22T13:14:48.322611",
     "exception": false,
     "start_time": "2023-05-22T13:14:48.293491",
     "status": "completed"
    },
    "tags": []
   },
   "source": [
    "The split worked and the dimensions of the X and Y split make sense."
   ]
  },
  {
   "cell_type": "markdown",
   "id": "bf9756d2",
   "metadata": {
    "papermill": {
     "duration": 0.029524,
     "end_time": "2023-05-22T13:14:48.381444",
     "exception": false,
     "start_time": "2023-05-22T13:14:48.351920",
     "status": "completed"
    },
    "tags": []
   },
   "source": [
    "Let do an inital training of the model using the LogisticRegression and .fit functions, and see how it does. We can use **10** interations initally. "
   ]
  },
  {
   "cell_type": "code",
   "execution_count": 27,
   "id": "cd8d08c0",
   "metadata": {
    "execution": {
     "iopub.execute_input": "2023-05-22T13:14:48.444410Z",
     "iopub.status.busy": "2023-05-22T13:14:48.442565Z",
     "iopub.status.idle": "2023-05-22T13:14:51.967874Z",
     "shell.execute_reply": "2023-05-22T13:14:51.966417Z"
    },
    "papermill": {
     "duration": 3.562187,
     "end_time": "2023-05-22T13:14:51.973872",
     "exception": false,
     "start_time": "2023-05-22T13:14:48.411685",
     "status": "completed"
    },
    "tags": []
   },
   "outputs": [
    {
     "name": "stderr",
     "output_type": "stream",
     "text": [
      "/opt/conda/lib/python3.10/site-packages/sklearn/linear_model/_logistic.py:458: ConvergenceWarning: lbfgs failed to converge (status=1):\n",
      "STOP: TOTAL NO. of ITERATIONS REACHED LIMIT.\n",
      "\n",
      "Increase the number of iterations (max_iter) or scale the data as shown in:\n",
      "    https://scikit-learn.org/stable/modules/preprocessing.html\n",
      "Please also refer to the documentation for alternative solver options:\n",
      "    https://scikit-learn.org/stable/modules/linear_model.html#logistic-regression\n",
      "  n_iter_i = _check_optimize_result(\n"
     ]
    },
    {
     "data": {
      "text/html": [
       "<style>#sk-container-id-1 {color: black;background-color: white;}#sk-container-id-1 pre{padding: 0;}#sk-container-id-1 div.sk-toggleable {background-color: white;}#sk-container-id-1 label.sk-toggleable__label {cursor: pointer;display: block;width: 100%;margin-bottom: 0;padding: 0.3em;box-sizing: border-box;text-align: center;}#sk-container-id-1 label.sk-toggleable__label-arrow:before {content: \"▸\";float: left;margin-right: 0.25em;color: #696969;}#sk-container-id-1 label.sk-toggleable__label-arrow:hover:before {color: black;}#sk-container-id-1 div.sk-estimator:hover label.sk-toggleable__label-arrow:before {color: black;}#sk-container-id-1 div.sk-toggleable__content {max-height: 0;max-width: 0;overflow: hidden;text-align: left;background-color: #f0f8ff;}#sk-container-id-1 div.sk-toggleable__content pre {margin: 0.2em;color: black;border-radius: 0.25em;background-color: #f0f8ff;}#sk-container-id-1 input.sk-toggleable__control:checked~div.sk-toggleable__content {max-height: 200px;max-width: 100%;overflow: auto;}#sk-container-id-1 input.sk-toggleable__control:checked~label.sk-toggleable__label-arrow:before {content: \"▾\";}#sk-container-id-1 div.sk-estimator input.sk-toggleable__control:checked~label.sk-toggleable__label {background-color: #d4ebff;}#sk-container-id-1 div.sk-label input.sk-toggleable__control:checked~label.sk-toggleable__label {background-color: #d4ebff;}#sk-container-id-1 input.sk-hidden--visually {border: 0;clip: rect(1px 1px 1px 1px);clip: rect(1px, 1px, 1px, 1px);height: 1px;margin: -1px;overflow: hidden;padding: 0;position: absolute;width: 1px;}#sk-container-id-1 div.sk-estimator {font-family: monospace;background-color: #f0f8ff;border: 1px dotted black;border-radius: 0.25em;box-sizing: border-box;margin-bottom: 0.5em;}#sk-container-id-1 div.sk-estimator:hover {background-color: #d4ebff;}#sk-container-id-1 div.sk-parallel-item::after {content: \"\";width: 100%;border-bottom: 1px solid gray;flex-grow: 1;}#sk-container-id-1 div.sk-label:hover label.sk-toggleable__label {background-color: #d4ebff;}#sk-container-id-1 div.sk-serial::before {content: \"\";position: absolute;border-left: 1px solid gray;box-sizing: border-box;top: 0;bottom: 0;left: 50%;z-index: 0;}#sk-container-id-1 div.sk-serial {display: flex;flex-direction: column;align-items: center;background-color: white;padding-right: 0.2em;padding-left: 0.2em;position: relative;}#sk-container-id-1 div.sk-item {position: relative;z-index: 1;}#sk-container-id-1 div.sk-parallel {display: flex;align-items: stretch;justify-content: center;background-color: white;position: relative;}#sk-container-id-1 div.sk-item::before, #sk-container-id-1 div.sk-parallel-item::before {content: \"\";position: absolute;border-left: 1px solid gray;box-sizing: border-box;top: 0;bottom: 0;left: 50%;z-index: -1;}#sk-container-id-1 div.sk-parallel-item {display: flex;flex-direction: column;z-index: 1;position: relative;background-color: white;}#sk-container-id-1 div.sk-parallel-item:first-child::after {align-self: flex-end;width: 50%;}#sk-container-id-1 div.sk-parallel-item:last-child::after {align-self: flex-start;width: 50%;}#sk-container-id-1 div.sk-parallel-item:only-child::after {width: 0;}#sk-container-id-1 div.sk-dashed-wrapped {border: 1px dashed gray;margin: 0 0.4em 0.5em 0.4em;box-sizing: border-box;padding-bottom: 0.4em;background-color: white;}#sk-container-id-1 div.sk-label label {font-family: monospace;font-weight: bold;display: inline-block;line-height: 1.2em;}#sk-container-id-1 div.sk-label-container {text-align: center;}#sk-container-id-1 div.sk-container {/* jupyter's `normalize.less` sets `[hidden] { display: none; }` but bootstrap.min.css set `[hidden] { display: none !important; }` so we also need the `!important` here to be able to override the default hidden behavior on the sphinx rendered scikit-learn.org. See: https://github.com/scikit-learn/scikit-learn/issues/21755 */display: inline-block !important;position: relative;}#sk-container-id-1 div.sk-text-repr-fallback {display: none;}</style><div id=\"sk-container-id-1\" class=\"sk-top-container\"><div class=\"sk-text-repr-fallback\"><pre>LogisticRegression(max_iter=10)</pre><b>In a Jupyter environment, please rerun this cell to show the HTML representation or trust the notebook. <br />On GitHub, the HTML representation is unable to render, please try loading this page with nbviewer.org.</b></div><div class=\"sk-container\" hidden><div class=\"sk-item\"><div class=\"sk-estimator sk-toggleable\"><input class=\"sk-toggleable__control sk-hidden--visually\" id=\"sk-estimator-id-1\" type=\"checkbox\" checked><label for=\"sk-estimator-id-1\" class=\"sk-toggleable__label sk-toggleable__label-arrow\">LogisticRegression</label><div class=\"sk-toggleable__content\"><pre>LogisticRegression(max_iter=10)</pre></div></div></div></div></div>"
      ],
      "text/plain": [
       "LogisticRegression(max_iter=10)"
      ]
     },
     "execution_count": 27,
     "metadata": {},
     "output_type": "execute_result"
    }
   ],
   "source": [
    "iterations = 10\n",
    "\n",
    "logistic_model = LogisticRegression(max_iter = iterations)\n",
    "logistic_model.fit(x_train, y_train)"
   ]
  },
  {
   "cell_type": "markdown",
   "id": "260df704",
   "metadata": {
    "papermill": {
     "duration": 0.041972,
     "end_time": "2023-05-22T13:14:52.080821",
     "exception": false,
     "start_time": "2023-05-22T13:14:52.038849",
     "status": "completed"
    },
    "tags": []
   },
   "source": [
    "## Step 5: Evaluate the model\n",
    "\n",
    "Lets see how our trained model does at making predictions, evaluating the following parameters: number of records, accuracy count, accuracy, precision, and recall. In this case we will start with a default of 10 as the max_iterations. This step provides initial validiaty of the model and confirms its producing ration results prior to tuning the model for accuracy. "
   ]
  },
  {
   "cell_type": "code",
   "execution_count": 28,
   "id": "63e28255",
   "metadata": {
    "execution": {
     "iopub.execute_input": "2023-05-22T13:14:52.144611Z",
     "iopub.status.busy": "2023-05-22T13:14:52.144157Z",
     "iopub.status.idle": "2023-05-22T13:14:52.248048Z",
     "shell.execute_reply": "2023-05-22T13:14:52.246422Z"
    },
    "papermill": {
     "duration": 0.14015,
     "end_time": "2023-05-22T13:14:52.252221",
     "exception": false,
     "start_time": "2023-05-22T13:14:52.112071",
     "status": "completed"
    },
    "tags": []
   },
   "outputs": [
    {
     "name": "stdout",
     "output_type": "stream",
     "text": [
      "Number of test records:\t 12000\n",
      "Accuracy count:\t\t 8886\n",
      "Acccuracy:\t\t 0.7405\n",
      "Precision:\t\t 0.7454372655507449\n",
      "Recall:\t\t\t 0.7405\n"
     ]
    }
   ],
   "source": [
    "y_pred = logistic_model.predict(x_test)\n",
    "\n",
    "accuracy = accuracy_score(y_test, y_pred, normalize = True)\n",
    "accuracy_count = accuracy_score(y_test, y_pred, normalize = False)\n",
    "precision = precision_score(y_test, y_pred, average = 'weighted')\n",
    "recall = recall_score(y_test, y_pred, average = 'weighted')\n",
    "\n",
    "print(\"Number of test records:\\t\", len(y_test))\n",
    "print(\"Accuracy count:\\t\\t\", accuracy_count)\n",
    "print(\"Acccuracy:\\t\\t\", accuracy)\n",
    "print(\"Precision:\\t\\t\", precision)\n",
    "print(\"Recall:\\t\\t\\t\", recall)"
   ]
  },
  {
   "cell_type": "markdown",
   "id": "fa28d16e",
   "metadata": {
    "papermill": {
     "duration": 0.035368,
     "end_time": "2023-05-22T13:14:52.349251",
     "exception": false,
     "start_time": "2023-05-22T13:14:52.313883",
     "status": "completed"
    },
    "tags": []
   },
   "source": [
    "It worked! The models performance isn’t great, and can use some tunning but this is a proof of concept of the functionality of the model. now we can move to the next step of optimizing the model."
   ]
  },
  {
   "cell_type": "markdown",
   "id": "458e773c",
   "metadata": {
    "papermill": {
     "duration": 0.029419,
     "end_time": "2023-05-22T13:14:52.408513",
     "exception": false,
     "start_time": "2023-05-22T13:14:52.379094",
     "status": "completed"
    },
    "tags": []
   },
   "source": [
    "## Step 6: Model optimization (fine tuning)\n",
    "\n",
    "The model optimization or hyperparameter tuning is where the fun begins! Let’s see if we can improve accuracy by adjusting the models hyperparameters starting with the number of iterations. We will evaluate based on accuracy and precision to see if modifying any of the hyperparameters increases the classification performance of the model."
   ]
  },
  {
   "cell_type": "markdown",
   "id": "2bf268dc",
   "metadata": {
    "papermill": {
     "duration": 0.030739,
     "end_time": "2023-05-22T13:14:52.469154",
     "exception": false,
     "start_time": "2023-05-22T13:14:52.438415",
     "status": "completed"
    },
    "tags": []
   },
   "source": [
    "First lets see if we can improve model performance by increasing the number of iterations."
   ]
  },
  {
   "cell_type": "code",
   "execution_count": 29,
   "id": "fca58a8a",
   "metadata": {
    "_cell_guid": "b1076dfc-b9ad-4769-8c92-a6c4dae69d19",
    "_uuid": "8f2839f25d086af736a60e9eeb907d3b93b6e0e5",
    "execution": {
     "iopub.execute_input": "2023-05-22T13:14:52.531016Z",
     "iopub.status.busy": "2023-05-22T13:14:52.530433Z",
     "iopub.status.idle": "2023-05-22T13:25:12.534280Z",
     "shell.execute_reply": "2023-05-22T13:25:12.532439Z"
    },
    "papermill": {
     "duration": 620.104673,
     "end_time": "2023-05-22T13:25:12.604101",
     "exception": false,
     "start_time": "2023-05-22T13:14:52.499428",
     "status": "completed"
    },
    "tags": []
   },
   "outputs": [
    {
     "name": "stderr",
     "output_type": "stream",
     "text": [
      "/opt/conda/lib/python3.10/site-packages/sklearn/linear_model/_logistic.py:458: ConvergenceWarning: lbfgs failed to converge (status=1):\n",
      "STOP: TOTAL NO. of ITERATIONS REACHED LIMIT.\n",
      "\n",
      "Increase the number of iterations (max_iter) or scale the data as shown in:\n",
      "    https://scikit-learn.org/stable/modules/preprocessing.html\n",
      "Please also refer to the documentation for alternative solver options:\n",
      "    https://scikit-learn.org/stable/modules/linear_model.html#logistic-regression\n",
      "  n_iter_i = _check_optimize_result(\n",
      "/opt/conda/lib/python3.10/site-packages/sklearn/metrics/_classification.py:1344: UndefinedMetricWarning: Precision is ill-defined and being set to 0.0 in labels with no predicted samples. Use `zero_division` parameter to control this behavior.\n",
      "  _warn_prf(average, modifier, msg_start, len(result))\n"
     ]
    },
    {
     "name": "stdout",
     "output_type": "stream",
     "text": [
      "Number of iterations:\t\t 1\n",
      "Number of test records:\t 12000\n",
      "Accuracy count:\t\t 3354\n",
      "Acccuracy:\t\t 0.2795\n",
      "Precision:\t\t 0.49413481350587307\n",
      "Recall:\t\t\t 0.2795 \n",
      "\n"
     ]
    },
    {
     "name": "stderr",
     "output_type": "stream",
     "text": [
      "/opt/conda/lib/python3.10/site-packages/sklearn/linear_model/_logistic.py:458: ConvergenceWarning: lbfgs failed to converge (status=1):\n",
      "STOP: TOTAL NO. of ITERATIONS REACHED LIMIT.\n",
      "\n",
      "Increase the number of iterations (max_iter) or scale the data as shown in:\n",
      "    https://scikit-learn.org/stable/modules/preprocessing.html\n",
      "Please also refer to the documentation for alternative solver options:\n",
      "    https://scikit-learn.org/stable/modules/linear_model.html#logistic-regression\n",
      "  n_iter_i = _check_optimize_result(\n"
     ]
    },
    {
     "name": "stdout",
     "output_type": "stream",
     "text": [
      "Number of iterations:\t\t 10\n",
      "Number of test records:\t 12000\n",
      "Accuracy count:\t\t 8886\n",
      "Acccuracy:\t\t 0.7405\n",
      "Precision:\t\t 0.7454372655507449\n",
      "Recall:\t\t\t 0.7405 \n",
      "\n"
     ]
    },
    {
     "name": "stderr",
     "output_type": "stream",
     "text": [
      "/opt/conda/lib/python3.10/site-packages/sklearn/linear_model/_logistic.py:458: ConvergenceWarning: lbfgs failed to converge (status=1):\n",
      "STOP: TOTAL NO. of ITERATIONS REACHED LIMIT.\n",
      "\n",
      "Increase the number of iterations (max_iter) or scale the data as shown in:\n",
      "    https://scikit-learn.org/stable/modules/preprocessing.html\n",
      "Please also refer to the documentation for alternative solver options:\n",
      "    https://scikit-learn.org/stable/modules/linear_model.html#logistic-regression\n",
      "  n_iter_i = _check_optimize_result(\n"
     ]
    },
    {
     "name": "stdout",
     "output_type": "stream",
     "text": [
      "Number of iterations:\t\t 50\n",
      "Number of test records:\t 12000\n",
      "Accuracy count:\t\t 10127\n",
      "Acccuracy:\t\t 0.8439166666666666\n",
      "Precision:\t\t 0.8439948557147583\n",
      "Recall:\t\t\t 0.8439166666666666 \n",
      "\n"
     ]
    },
    {
     "name": "stderr",
     "output_type": "stream",
     "text": [
      "/opt/conda/lib/python3.10/site-packages/sklearn/linear_model/_logistic.py:458: ConvergenceWarning: lbfgs failed to converge (status=1):\n",
      "STOP: TOTAL NO. of ITERATIONS REACHED LIMIT.\n",
      "\n",
      "Increase the number of iterations (max_iter) or scale the data as shown in:\n",
      "    https://scikit-learn.org/stable/modules/preprocessing.html\n",
      "Please also refer to the documentation for alternative solver options:\n",
      "    https://scikit-learn.org/stable/modules/linear_model.html#logistic-regression\n",
      "  n_iter_i = _check_optimize_result(\n"
     ]
    },
    {
     "name": "stdout",
     "output_type": "stream",
     "text": [
      "Number of iterations:\t\t 100\n",
      "Number of test records:\t 12000\n",
      "Accuracy count:\t\t 10256\n",
      "Acccuracy:\t\t 0.8546666666666667\n",
      "Precision:\t\t 0.8537462480483133\n",
      "Recall:\t\t\t 0.8546666666666667 \n",
      "\n"
     ]
    },
    {
     "name": "stderr",
     "output_type": "stream",
     "text": [
      "/opt/conda/lib/python3.10/site-packages/sklearn/linear_model/_logistic.py:458: ConvergenceWarning: lbfgs failed to converge (status=1):\n",
      "STOP: TOTAL NO. of ITERATIONS REACHED LIMIT.\n",
      "\n",
      "Increase the number of iterations (max_iter) or scale the data as shown in:\n",
      "    https://scikit-learn.org/stable/modules/preprocessing.html\n",
      "Please also refer to the documentation for alternative solver options:\n",
      "    https://scikit-learn.org/stable/modules/linear_model.html#logistic-regression\n",
      "  n_iter_i = _check_optimize_result(\n"
     ]
    },
    {
     "name": "stdout",
     "output_type": "stream",
     "text": [
      "Number of iterations:\t\t 1000\n",
      "Number of test records:\t 12000\n",
      "Accuracy count:\t\t 10221\n",
      "Acccuracy:\t\t 0.85175\n",
      "Precision:\t\t 0.8513654034830134\n",
      "Recall:\t\t\t 0.85175 \n",
      "\n",
      "Number of iterations:\t\t 10000\n",
      "Number of test records:\t 12000\n",
      "Accuracy count:\t\t 10221\n",
      "Acccuracy:\t\t 0.85175\n",
      "Precision:\t\t 0.8513554547660585\n",
      "Recall:\t\t\t 0.85175 \n",
      "\n"
     ]
    }
   ],
   "source": [
    "for iterations in [1, 10, 50, 100, 1000, 10000]:\n",
    "    logistic_model = LogisticRegression(max_iter = iterations)\n",
    "    logistic_model.fit(x_train, y_train)\n",
    "    y_pred = logistic_model.predict(x_test)\n",
    "\n",
    "    accuracy = accuracy_score(y_test, y_pred, normalize = True)\n",
    "    accuracy_count = accuracy_score(y_test, y_pred, normalize = False)\n",
    "    precision = precision_score(y_test, y_pred, average = 'weighted')\n",
    "    recall = recall_score(y_test, y_pred, average = 'weighted')\n",
    "\n",
    "    print(\"Number of iterations:\\t\\t\", logistic_model.max_iter)\n",
    "    print(\"Number of test records:\\t\", len(y_test))\n",
    "    print(\"Accuracy count:\\t\\t\", accuracy_count)\n",
    "    print(\"Acccuracy:\\t\\t\", accuracy)\n",
    "    print(\"Precision:\\t\\t\", precision)\n",
    "    print(\"Recall:\\t\\t\\t\", recall,\"\\n\")"
   ]
  },
  {
   "cell_type": "markdown",
   "id": "f7aa2c78",
   "metadata": {
    "papermill": {
     "duration": 0.031766,
     "end_time": "2023-05-22T13:25:12.671817",
     "exception": false,
     "start_time": "2023-05-22T13:25:12.640051",
     "status": "completed"
    },
    "tags": []
   },
   "source": [
    "We can see that the 100 iteration did the best improve accuracy to 85%."
   ]
  },
  {
   "cell_type": "markdown",
   "id": "08d6fc76",
   "metadata": {
    "papermill": {
     "duration": 0.030611,
     "end_time": "2023-05-22T13:25:12.734767",
     "exception": false,
     "start_time": "2023-05-22T13:25:12.704156",
     "status": "completed"
    },
    "tags": []
   },
   "source": [
    "Let's explore if manipulating A regularization value improves accuracy by preventing over training we can use a built in SKlearn function grid search to do this."
   ]
  },
  {
   "cell_type": "code",
   "execution_count": 30,
   "id": "fa5e7d3e",
   "metadata": {
    "execution": {
     "iopub.execute_input": "2023-05-22T13:25:12.800846Z",
     "iopub.status.busy": "2023-05-22T13:25:12.800415Z",
     "iopub.status.idle": "2023-05-22T13:25:12.808708Z",
     "shell.execute_reply": "2023-05-22T13:25:12.807562Z"
    },
    "papermill": {
     "duration": 0.04418,
     "end_time": "2023-05-22T13:25:12.811190",
     "exception": false,
     "start_time": "2023-05-22T13:25:12.767010",
     "status": "completed"
    },
    "tags": []
   },
   "outputs": [
    {
     "data": {
      "text/plain": [
       "'from sklearn.model_selection import GridSearchCV\\n\\nparameters = {\\'C\\': [0.001, 0.01, 0.1, 1, 10, 100]}\\nlr = LogisticRegression()\\n\\nlogistic_model_GS = GridSearchCV(lr, parameters)\\nlogistic_model_GS.fit(x_train, y_train)\\n\\nprint(\"Best parameters:\", logistic_model_GS.best_params_)\\nprint(\"Best score:\", logistic_model_GS.best_score_)'"
      ]
     },
     "execution_count": 30,
     "metadata": {},
     "output_type": "execute_result"
    }
   ],
   "source": [
    "\"\"\"from sklearn.model_selection import GridSearchCV\n",
    "\n",
    "parameters = {'C': [0.001, 0.01, 0.1, 1, 10, 100]}\n",
    "lr = LogisticRegression()\n",
    "\n",
    "logistic_model_GS = GridSearchCV(lr, parameters)\n",
    "logistic_model_GS.fit(x_train, y_train)\n",
    "\n",
    "print(\"Best parameters:\", logistic_model_GS.best_params_)\n",
    "print(\"Best score:\", logistic_model_GS.best_score_)\"\"\""
   ]
  },
  {
   "cell_type": "markdown",
   "id": "e7d901fe",
   "metadata": {
    "papermill": {
     "duration": 0.031572,
     "end_time": "2023-05-22T13:25:12.874132",
     "exception": false,
     "start_time": "2023-05-22T13:25:12.842560",
     "status": "completed"
    },
    "tags": []
   },
   "source": [
    "The code is commented out because it took quite a long time to run but it was determined that C = .1 was the most accurate value"
   ]
  },
  {
   "cell_type": "markdown",
   "id": "296bea4b",
   "metadata": {
    "papermill": {
     "duration": 0.030926,
     "end_time": "2023-05-22T13:25:12.937249",
     "exception": false,
     "start_time": "2023-05-22T13:25:12.906323",
     "status": "completed"
    },
    "tags": []
   },
   "source": [
    " Let's see if the accuracy is improved if we implement the model with both maximum iteration of 100 and regulate it regularization C value of 0.1."
   ]
  },
  {
   "cell_type": "code",
   "execution_count": 31,
   "id": "aee95a0f",
   "metadata": {
    "execution": {
     "iopub.execute_input": "2023-05-22T13:25:13.002181Z",
     "iopub.status.busy": "2023-05-22T13:25:13.001751Z",
     "iopub.status.idle": "2023-05-22T13:25:35.942793Z",
     "shell.execute_reply": "2023-05-22T13:25:35.941093Z"
    },
    "papermill": {
     "duration": 22.981862,
     "end_time": "2023-05-22T13:25:35.949955",
     "exception": false,
     "start_time": "2023-05-22T13:25:12.968093",
     "status": "completed"
    },
    "tags": []
   },
   "outputs": [
    {
     "name": "stdout",
     "output_type": "stream",
     "text": [
      "Number of test records:\t 12000\n",
      "Accuracy count:\t\t 10221\n",
      "Acccuracy:\t\t 0.85175\n",
      "Precision:\t\t 0.8513554547660585\n",
      "Recall:\t\t\t 0.85175\n"
     ]
    },
    {
     "name": "stderr",
     "output_type": "stream",
     "text": [
      "/opt/conda/lib/python3.10/site-packages/sklearn/linear_model/_logistic.py:458: ConvergenceWarning: lbfgs failed to converge (status=1):\n",
      "STOP: TOTAL NO. of ITERATIONS REACHED LIMIT.\n",
      "\n",
      "Increase the number of iterations (max_iter) or scale the data as shown in:\n",
      "    https://scikit-learn.org/stable/modules/preprocessing.html\n",
      "Please also refer to the documentation for alternative solver options:\n",
      "    https://scikit-learn.org/stable/modules/linear_model.html#logistic-regression\n",
      "  n_iter_i = _check_optimize_result(\n"
     ]
    }
   ],
   "source": [
    "iterations = 100\n",
    "\n",
    "logistic_model = LogisticRegression(max_iter = iterations, C=0.1)\n",
    "logistic_model.fit(x_train, y_train)\n",
    "\n",
    "accuracy = accuracy_score(y_test, y_pred, normalize = True)\n",
    "accuracy_count = accuracy_score(y_test, y_pred, normalize = False)\n",
    "precision = precision_score(y_test, y_pred, average = 'weighted')\n",
    "recall = recall_score(y_test, y_pred, average = 'weighted')\n",
    "\n",
    "print(\"Number of test records:\\t\", len(y_test))\n",
    "print(\"Accuracy count:\\t\\t\", accuracy_count)\n",
    "print(\"Acccuracy:\\t\\t\", accuracy)\n",
    "print(\"Precision:\\t\\t\", precision)\n",
    "print(\"Recall:\\t\\t\\t\", recall)"
   ]
  },
  {
   "cell_type": "markdown",
   "id": "330472a5",
   "metadata": {
    "papermill": {
     "duration": 0.032779,
     "end_time": "2023-05-22T13:25:36.050490",
     "exception": false,
     "start_time": "2023-05-22T13:25:36.017711",
     "status": "completed"
    },
    "tags": []
   },
   "source": [
    "This didn't improve the models preformance so let's not bother with regularization and just use the Max iteration of 100."
   ]
  },
  {
   "cell_type": "markdown",
   "id": "50d7393f",
   "metadata": {
    "papermill": {
     "duration": 0.031115,
     "end_time": "2023-05-22T13:25:36.113764",
     "exception": false,
     "start_time": "2023-05-22T13:25:36.082649",
     "status": "completed"
    },
    "tags": []
   },
   "source": [
    "## Step 7: Employ model on fashion_test_set\n",
    "\n",
    "Lets see how our model does on a test set of real data. In this case we will the fashion_test_set of 10,000 records already imported. Want to see if the model can predict the images labels at the same accuracy rate as the test set."
   ]
  },
  {
   "cell_type": "markdown",
   "id": "99bb0d49",
   "metadata": {
    "papermill": {
     "duration": 0.0326,
     "end_time": "2023-05-22T13:25:36.180006",
     "exception": false,
     "start_time": "2023-05-22T13:25:36.147406",
     "status": "completed"
    },
    "tags": []
   },
   "source": [
    "Lets split the labels and pixel columns like prior. \"_fts\" differentiates  the fashion test set for the training/test set."
   ]
  },
  {
   "cell_type": "code",
   "execution_count": 32,
   "id": "609a110a",
   "metadata": {
    "execution": {
     "iopub.execute_input": "2023-05-22T13:25:36.245666Z",
     "iopub.status.busy": "2023-05-22T13:25:36.245230Z",
     "iopub.status.idle": "2023-05-22T13:25:36.267216Z",
     "shell.execute_reply": "2023-05-22T13:25:36.265826Z"
    },
    "papermill": {
     "duration": 0.058262,
     "end_time": "2023-05-22T13:25:36.270073",
     "exception": false,
     "start_time": "2023-05-22T13:25:36.211811",
     "status": "completed"
    },
    "tags": []
   },
   "outputs": [],
   "source": [
    "X_fts = fashion_test_set[fashion_test_set.columns[1:]]\n",
    "y_fts = fashion_test_set['label']"
   ]
  },
  {
   "cell_type": "markdown",
   "id": "76d2837a",
   "metadata": {
    "papermill": {
     "duration": 0.038695,
     "end_time": "2023-05-22T13:25:36.340564",
     "exception": false,
     "start_time": "2023-05-22T13:25:36.301869",
     "status": "completed"
    },
    "tags": []
   },
   "source": [
    "Ensure the values in X_fts looks correct with the head function"
   ]
  },
  {
   "cell_type": "code",
   "execution_count": 33,
   "id": "a01a1561",
   "metadata": {
    "execution": {
     "iopub.execute_input": "2023-05-22T13:25:36.423986Z",
     "iopub.status.busy": "2023-05-22T13:25:36.423349Z",
     "iopub.status.idle": "2023-05-22T13:25:36.446187Z",
     "shell.execute_reply": "2023-05-22T13:25:36.444823Z"
    },
    "papermill": {
     "duration": 0.065392,
     "end_time": "2023-05-22T13:25:36.448888",
     "exception": false,
     "start_time": "2023-05-22T13:25:36.383496",
     "status": "completed"
    },
    "tags": []
   },
   "outputs": [
    {
     "data": {
      "text/html": [
       "<div>\n",
       "<style scoped>\n",
       "    .dataframe tbody tr th:only-of-type {\n",
       "        vertical-align: middle;\n",
       "    }\n",
       "\n",
       "    .dataframe tbody tr th {\n",
       "        vertical-align: top;\n",
       "    }\n",
       "\n",
       "    .dataframe thead th {\n",
       "        text-align: right;\n",
       "    }\n",
       "</style>\n",
       "<table border=\"1\" class=\"dataframe\">\n",
       "  <thead>\n",
       "    <tr style=\"text-align: right;\">\n",
       "      <th></th>\n",
       "      <th>pixel1</th>\n",
       "      <th>pixel2</th>\n",
       "      <th>pixel3</th>\n",
       "      <th>pixel4</th>\n",
       "      <th>pixel5</th>\n",
       "      <th>pixel6</th>\n",
       "      <th>pixel7</th>\n",
       "      <th>pixel8</th>\n",
       "      <th>pixel9</th>\n",
       "      <th>pixel10</th>\n",
       "      <th>...</th>\n",
       "      <th>pixel775</th>\n",
       "      <th>pixel776</th>\n",
       "      <th>pixel777</th>\n",
       "      <th>pixel778</th>\n",
       "      <th>pixel779</th>\n",
       "      <th>pixel780</th>\n",
       "      <th>pixel781</th>\n",
       "      <th>pixel782</th>\n",
       "      <th>pixel783</th>\n",
       "      <th>pixel784</th>\n",
       "    </tr>\n",
       "  </thead>\n",
       "  <tbody>\n",
       "    <tr>\n",
       "      <th>0</th>\n",
       "      <td>0</td>\n",
       "      <td>0</td>\n",
       "      <td>0</td>\n",
       "      <td>0</td>\n",
       "      <td>0</td>\n",
       "      <td>0</td>\n",
       "      <td>0</td>\n",
       "      <td>9</td>\n",
       "      <td>8</td>\n",
       "      <td>0</td>\n",
       "      <td>...</td>\n",
       "      <td>103</td>\n",
       "      <td>87</td>\n",
       "      <td>56</td>\n",
       "      <td>0</td>\n",
       "      <td>0</td>\n",
       "      <td>0</td>\n",
       "      <td>0</td>\n",
       "      <td>0</td>\n",
       "      <td>0</td>\n",
       "      <td>0</td>\n",
       "    </tr>\n",
       "    <tr>\n",
       "      <th>1</th>\n",
       "      <td>0</td>\n",
       "      <td>0</td>\n",
       "      <td>0</td>\n",
       "      <td>0</td>\n",
       "      <td>0</td>\n",
       "      <td>0</td>\n",
       "      <td>0</td>\n",
       "      <td>0</td>\n",
       "      <td>0</td>\n",
       "      <td>0</td>\n",
       "      <td>...</td>\n",
       "      <td>34</td>\n",
       "      <td>0</td>\n",
       "      <td>0</td>\n",
       "      <td>0</td>\n",
       "      <td>0</td>\n",
       "      <td>0</td>\n",
       "      <td>0</td>\n",
       "      <td>0</td>\n",
       "      <td>0</td>\n",
       "      <td>0</td>\n",
       "    </tr>\n",
       "    <tr>\n",
       "      <th>2</th>\n",
       "      <td>0</td>\n",
       "      <td>0</td>\n",
       "      <td>0</td>\n",
       "      <td>0</td>\n",
       "      <td>0</td>\n",
       "      <td>0</td>\n",
       "      <td>14</td>\n",
       "      <td>53</td>\n",
       "      <td>99</td>\n",
       "      <td>17</td>\n",
       "      <td>...</td>\n",
       "      <td>0</td>\n",
       "      <td>0</td>\n",
       "      <td>0</td>\n",
       "      <td>0</td>\n",
       "      <td>63</td>\n",
       "      <td>53</td>\n",
       "      <td>31</td>\n",
       "      <td>0</td>\n",
       "      <td>0</td>\n",
       "      <td>0</td>\n",
       "    </tr>\n",
       "    <tr>\n",
       "      <th>3</th>\n",
       "      <td>0</td>\n",
       "      <td>0</td>\n",
       "      <td>0</td>\n",
       "      <td>0</td>\n",
       "      <td>0</td>\n",
       "      <td>0</td>\n",
       "      <td>0</td>\n",
       "      <td>0</td>\n",
       "      <td>0</td>\n",
       "      <td>161</td>\n",
       "      <td>...</td>\n",
       "      <td>137</td>\n",
       "      <td>126</td>\n",
       "      <td>140</td>\n",
       "      <td>0</td>\n",
       "      <td>133</td>\n",
       "      <td>224</td>\n",
       "      <td>222</td>\n",
       "      <td>56</td>\n",
       "      <td>0</td>\n",
       "      <td>0</td>\n",
       "    </tr>\n",
       "    <tr>\n",
       "      <th>4</th>\n",
       "      <td>0</td>\n",
       "      <td>0</td>\n",
       "      <td>0</td>\n",
       "      <td>0</td>\n",
       "      <td>0</td>\n",
       "      <td>0</td>\n",
       "      <td>0</td>\n",
       "      <td>0</td>\n",
       "      <td>0</td>\n",
       "      <td>0</td>\n",
       "      <td>...</td>\n",
       "      <td>0</td>\n",
       "      <td>0</td>\n",
       "      <td>0</td>\n",
       "      <td>0</td>\n",
       "      <td>0</td>\n",
       "      <td>0</td>\n",
       "      <td>0</td>\n",
       "      <td>0</td>\n",
       "      <td>0</td>\n",
       "      <td>0</td>\n",
       "    </tr>\n",
       "  </tbody>\n",
       "</table>\n",
       "<p>5 rows × 784 columns</p>\n",
       "</div>"
      ],
      "text/plain": [
       "   pixel1  pixel2  pixel3  pixel4  pixel5  pixel6  pixel7  pixel8  pixel9  \\\n",
       "0       0       0       0       0       0       0       0       9       8   \n",
       "1       0       0       0       0       0       0       0       0       0   \n",
       "2       0       0       0       0       0       0      14      53      99   \n",
       "3       0       0       0       0       0       0       0       0       0   \n",
       "4       0       0       0       0       0       0       0       0       0   \n",
       "\n",
       "   pixel10  ...  pixel775  pixel776  pixel777  pixel778  pixel779  pixel780  \\\n",
       "0        0  ...       103        87        56         0         0         0   \n",
       "1        0  ...        34         0         0         0         0         0   \n",
       "2       17  ...         0         0         0         0        63        53   \n",
       "3      161  ...       137       126       140         0       133       224   \n",
       "4        0  ...         0         0         0         0         0         0   \n",
       "\n",
       "   pixel781  pixel782  pixel783  pixel784  \n",
       "0         0         0         0         0  \n",
       "1         0         0         0         0  \n",
       "2        31         0         0         0  \n",
       "3       222        56         0         0  \n",
       "4         0         0         0         0  \n",
       "\n",
       "[5 rows x 784 columns]"
      ]
     },
     "execution_count": 33,
     "metadata": {},
     "output_type": "execute_result"
    }
   ],
   "source": [
    "X_fts.head()"
   ]
  },
  {
   "cell_type": "markdown",
   "id": "92dccc5e",
   "metadata": {
    "papermill": {
     "duration": 0.031352,
     "end_time": "2023-05-22T13:25:36.512270",
     "exception": false,
     "start_time": "2023-05-22T13:25:36.480918",
     "status": "completed"
    },
    "tags": []
   },
   "source": [
    "Ensure the values in X_fts looks correct with the head function"
   ]
  },
  {
   "cell_type": "code",
   "execution_count": 34,
   "id": "3fa9eea6",
   "metadata": {
    "execution": {
     "iopub.execute_input": "2023-05-22T13:25:36.578361Z",
     "iopub.status.busy": "2023-05-22T13:25:36.577787Z",
     "iopub.status.idle": "2023-05-22T13:25:36.586273Z",
     "shell.execute_reply": "2023-05-22T13:25:36.585117Z"
    },
    "papermill": {
     "duration": 0.044207,
     "end_time": "2023-05-22T13:25:36.588731",
     "exception": false,
     "start_time": "2023-05-22T13:25:36.544524",
     "status": "completed"
    },
    "tags": []
   },
   "outputs": [
    {
     "data": {
      "text/plain": [
       "0    0\n",
       "1    1\n",
       "2    2\n",
       "3    2\n",
       "4    3\n",
       "Name: label, dtype: int64"
      ]
     },
     "execution_count": 34,
     "metadata": {},
     "output_type": "execute_result"
    }
   ],
   "source": [
    "y_fts.head()"
   ]
  },
  {
   "cell_type": "markdown",
   "id": "0e416160",
   "metadata": {
    "papermill": {
     "duration": 0.03161,
     "end_time": "2023-05-22T13:25:36.653385",
     "exception": false,
     "start_time": "2023-05-22T13:25:36.621775",
     "status": "completed"
    },
    "tags": []
   },
   "source": [
    "Lets double check the shape of this data set as well."
   ]
  },
  {
   "cell_type": "code",
   "execution_count": 35,
   "id": "6c2d0835",
   "metadata": {
    "execution": {
     "iopub.execute_input": "2023-05-22T13:25:36.718990Z",
     "iopub.status.busy": "2023-05-22T13:25:36.718543Z",
     "iopub.status.idle": "2023-05-22T13:25:36.725813Z",
     "shell.execute_reply": "2023-05-22T13:25:36.724722Z"
    },
    "papermill": {
     "duration": 0.043086,
     "end_time": "2023-05-22T13:25:36.728409",
     "exception": false,
     "start_time": "2023-05-22T13:25:36.685323",
     "status": "completed"
    },
    "tags": []
   },
   "outputs": [
    {
     "data": {
      "text/plain": [
       "(10000,)"
      ]
     },
     "execution_count": 35,
     "metadata": {},
     "output_type": "execute_result"
    }
   ],
   "source": [
    "y_fts.shape"
   ]
  },
  {
   "cell_type": "markdown",
   "id": "ef3b0529",
   "metadata": {
    "papermill": {
     "duration": 0.031682,
     "end_time": "2023-05-22T13:25:36.793376",
     "exception": false,
     "start_time": "2023-05-22T13:25:36.761694",
     "status": "completed"
    },
    "tags": []
   },
   "source": [
    "Now lets look at a couple random images and make sure the labels check out as well."
   ]
  },
  {
   "cell_type": "code",
   "execution_count": 36,
   "id": "15d49f2f",
   "metadata": {
    "execution": {
     "iopub.execute_input": "2023-05-22T13:25:36.859993Z",
     "iopub.status.busy": "2023-05-22T13:25:36.859534Z",
     "iopub.status.idle": "2023-05-22T13:25:37.121247Z",
     "shell.execute_reply": "2023-05-22T13:25:37.120113Z"
    },
    "papermill": {
     "duration": 0.298645,
     "end_time": "2023-05-22T13:25:37.124105",
     "exception": false,
     "start_time": "2023-05-22T13:25:36.825460",
     "status": "completed"
    },
    "tags": []
   },
   "outputs": [
    {
     "name": "stdout",
     "output_type": "stream",
     "text": [
      "Class: T-shirt / Top\n"
     ]
    },
    {
     "data": {
      "image/png": "[encoded data removed]",
      "text/plain": [
       "<Figure size 640x480 with 1 Axes>"
      ]
     },
     "metadata": {},
     "output_type": "display_data"
    }
   ],
   "source": [
    "display_image(X_fts.loc[0].values, y_fts.loc[0])"
   ]
  },
  {
   "cell_type": "code",
   "execution_count": 37,
   "id": "5d763500",
   "metadata": {
    "execution": {
     "iopub.execute_input": "2023-05-22T13:25:37.192669Z",
     "iopub.status.busy": "2023-05-22T13:25:37.192246Z",
     "iopub.status.idle": "2023-05-22T13:25:37.442763Z",
     "shell.execute_reply": "2023-05-22T13:25:37.441435Z"
    },
    "papermill": {
     "duration": 0.287728,
     "end_time": "2023-05-22T13:25:37.445578",
     "exception": false,
     "start_time": "2023-05-22T13:25:37.157850",
     "status": "completed"
    },
    "tags": []
   },
   "outputs": [
    {
     "name": "stdout",
     "output_type": "stream",
     "text": [
      "Class: Shirt\n"
     ]
    },
    {
     "data": {
      "image/png": "[encoded data removed]",
      "text/plain": [
       "<Figure size 640x480 with 1 Axes>"
      ]
     },
     "metadata": {},
     "output_type": "display_data"
    }
   ],
   "source": [
    "display_image(X_fts.loc[375].values, y_fts.loc[375])"
   ]
  },
  {
   "cell_type": "code",
   "execution_count": 38,
   "id": "1ab0e33d",
   "metadata": {
    "execution": {
     "iopub.execute_input": "2023-05-22T13:25:37.518197Z",
     "iopub.status.busy": "2023-05-22T13:25:37.517767Z",
     "iopub.status.idle": "2023-05-22T13:25:37.771275Z",
     "shell.execute_reply": "2023-05-22T13:25:37.770006Z"
    },
    "papermill": {
     "duration": 0.292714,
     "end_time": "2023-05-22T13:25:37.773847",
     "exception": false,
     "start_time": "2023-05-22T13:25:37.481133",
     "status": "completed"
    },
    "tags": []
   },
   "outputs": [
    {
     "name": "stdout",
     "output_type": "stream",
     "text": [
      "Class: Sneaker\n"
     ]
    },
    {
     "data": {
      "image/png": "[encoded data removed]",
      "text/plain": [
       "<Figure size 640x480 with 1 Axes>"
      ]
     },
     "metadata": {},
     "output_type": "display_data"
    }
   ],
   "source": [
    "display_image(X_fts.loc[750].values, y_fts.loc[750])"
   ]
  },
  {
   "cell_type": "markdown",
   "id": "dedab68a",
   "metadata": {
    "papermill": {
     "duration": 0.033138,
     "end_time": "2023-05-22T13:25:37.840416",
     "exception": false,
     "start_time": "2023-05-22T13:25:37.807278",
     "status": "completed"
    },
    "tags": []
   },
   "source": [
    "The images check out. Now lets normalize the X_fts to get into the same format as the model."
   ]
  },
  {
   "cell_type": "code",
   "execution_count": 39,
   "id": "828ef22d",
   "metadata": {
    "execution": {
     "iopub.execute_input": "2023-05-22T13:25:37.912169Z",
     "iopub.status.busy": "2023-05-22T13:25:37.911713Z",
     "iopub.status.idle": "2023-05-22T13:25:37.962823Z",
     "shell.execute_reply": "2023-05-22T13:25:37.961477Z"
    },
    "papermill": {
     "duration": 0.090841,
     "end_time": "2023-05-22T13:25:37.965466",
     "exception": false,
     "start_time": "2023-05-22T13:25:37.874625",
     "status": "completed"
    },
    "tags": []
   },
   "outputs": [
    {
     "data": {
      "text/html": [
       "<div>\n",
       "<style scoped>\n",
       "    .dataframe tbody tr th:only-of-type {\n",
       "        vertical-align: middle;\n",
       "    }\n",
       "\n",
       "    .dataframe tbody tr th {\n",
       "        vertical-align: top;\n",
       "    }\n",
       "\n",
       "    .dataframe thead th {\n",
       "        text-align: right;\n",
       "    }\n",
       "</style>\n",
       "<table border=\"1\" class=\"dataframe\">\n",
       "  <thead>\n",
       "    <tr style=\"text-align: right;\">\n",
       "      <th></th>\n",
       "      <th>pixel1</th>\n",
       "      <th>pixel2</th>\n",
       "      <th>pixel3</th>\n",
       "      <th>pixel4</th>\n",
       "      <th>pixel5</th>\n",
       "      <th>pixel6</th>\n",
       "      <th>pixel7</th>\n",
       "      <th>pixel8</th>\n",
       "      <th>pixel9</th>\n",
       "      <th>pixel10</th>\n",
       "      <th>...</th>\n",
       "      <th>pixel775</th>\n",
       "      <th>pixel776</th>\n",
       "      <th>pixel777</th>\n",
       "      <th>pixel778</th>\n",
       "      <th>pixel779</th>\n",
       "      <th>pixel780</th>\n",
       "      <th>pixel781</th>\n",
       "      <th>pixel782</th>\n",
       "      <th>pixel783</th>\n",
       "      <th>pixel784</th>\n",
       "    </tr>\n",
       "  </thead>\n",
       "  <tbody>\n",
       "    <tr>\n",
       "      <th>0</th>\n",
       "      <td>0.0</td>\n",
       "      <td>0.0</td>\n",
       "      <td>0.0</td>\n",
       "      <td>0.0</td>\n",
       "      <td>0.0</td>\n",
       "      <td>0.0</td>\n",
       "      <td>0.000000</td>\n",
       "      <td>0.035294</td>\n",
       "      <td>0.031373</td>\n",
       "      <td>0.000000</td>\n",
       "      <td>...</td>\n",
       "      <td>0.403922</td>\n",
       "      <td>0.341176</td>\n",
       "      <td>0.219608</td>\n",
       "      <td>0.0</td>\n",
       "      <td>0.000000</td>\n",
       "      <td>0.000000</td>\n",
       "      <td>0.000000</td>\n",
       "      <td>0.000000</td>\n",
       "      <td>0.0</td>\n",
       "      <td>0.0</td>\n",
       "    </tr>\n",
       "    <tr>\n",
       "      <th>1</th>\n",
       "      <td>0.0</td>\n",
       "      <td>0.0</td>\n",
       "      <td>0.0</td>\n",
       "      <td>0.0</td>\n",
       "      <td>0.0</td>\n",
       "      <td>0.0</td>\n",
       "      <td>0.000000</td>\n",
       "      <td>0.000000</td>\n",
       "      <td>0.000000</td>\n",
       "      <td>0.000000</td>\n",
       "      <td>...</td>\n",
       "      <td>0.133333</td>\n",
       "      <td>0.000000</td>\n",
       "      <td>0.000000</td>\n",
       "      <td>0.0</td>\n",
       "      <td>0.000000</td>\n",
       "      <td>0.000000</td>\n",
       "      <td>0.000000</td>\n",
       "      <td>0.000000</td>\n",
       "      <td>0.0</td>\n",
       "      <td>0.0</td>\n",
       "    </tr>\n",
       "    <tr>\n",
       "      <th>2</th>\n",
       "      <td>0.0</td>\n",
       "      <td>0.0</td>\n",
       "      <td>0.0</td>\n",
       "      <td>0.0</td>\n",
       "      <td>0.0</td>\n",
       "      <td>0.0</td>\n",
       "      <td>0.054902</td>\n",
       "      <td>0.207843</td>\n",
       "      <td>0.388235</td>\n",
       "      <td>0.066667</td>\n",
       "      <td>...</td>\n",
       "      <td>0.000000</td>\n",
       "      <td>0.000000</td>\n",
       "      <td>0.000000</td>\n",
       "      <td>0.0</td>\n",
       "      <td>0.247059</td>\n",
       "      <td>0.207843</td>\n",
       "      <td>0.121569</td>\n",
       "      <td>0.000000</td>\n",
       "      <td>0.0</td>\n",
       "      <td>0.0</td>\n",
       "    </tr>\n",
       "    <tr>\n",
       "      <th>3</th>\n",
       "      <td>0.0</td>\n",
       "      <td>0.0</td>\n",
       "      <td>0.0</td>\n",
       "      <td>0.0</td>\n",
       "      <td>0.0</td>\n",
       "      <td>0.0</td>\n",
       "      <td>0.000000</td>\n",
       "      <td>0.000000</td>\n",
       "      <td>0.000000</td>\n",
       "      <td>0.631373</td>\n",
       "      <td>...</td>\n",
       "      <td>0.537255</td>\n",
       "      <td>0.494118</td>\n",
       "      <td>0.549020</td>\n",
       "      <td>0.0</td>\n",
       "      <td>0.521569</td>\n",
       "      <td>0.878431</td>\n",
       "      <td>0.870588</td>\n",
       "      <td>0.219608</td>\n",
       "      <td>0.0</td>\n",
       "      <td>0.0</td>\n",
       "    </tr>\n",
       "    <tr>\n",
       "      <th>4</th>\n",
       "      <td>0.0</td>\n",
       "      <td>0.0</td>\n",
       "      <td>0.0</td>\n",
       "      <td>0.0</td>\n",
       "      <td>0.0</td>\n",
       "      <td>0.0</td>\n",
       "      <td>0.000000</td>\n",
       "      <td>0.000000</td>\n",
       "      <td>0.000000</td>\n",
       "      <td>0.000000</td>\n",
       "      <td>...</td>\n",
       "      <td>0.000000</td>\n",
       "      <td>0.000000</td>\n",
       "      <td>0.000000</td>\n",
       "      <td>0.0</td>\n",
       "      <td>0.000000</td>\n",
       "      <td>0.000000</td>\n",
       "      <td>0.000000</td>\n",
       "      <td>0.000000</td>\n",
       "      <td>0.0</td>\n",
       "      <td>0.0</td>\n",
       "    </tr>\n",
       "  </tbody>\n",
       "</table>\n",
       "<p>5 rows × 784 columns</p>\n",
       "</div>"
      ],
      "text/plain": [
       "   pixel1  pixel2  pixel3  pixel4  pixel5  pixel6    pixel7    pixel8  \\\n",
       "0     0.0     0.0     0.0     0.0     0.0     0.0  0.000000  0.035294   \n",
       "1     0.0     0.0     0.0     0.0     0.0     0.0  0.000000  0.000000   \n",
       "2     0.0     0.0     0.0     0.0     0.0     0.0  0.054902  0.207843   \n",
       "3     0.0     0.0     0.0     0.0     0.0     0.0  0.000000  0.000000   \n",
       "4     0.0     0.0     0.0     0.0     0.0     0.0  0.000000  0.000000   \n",
       "\n",
       "     pixel9   pixel10  ...  pixel775  pixel776  pixel777  pixel778  pixel779  \\\n",
       "0  0.031373  0.000000  ...  0.403922  0.341176  0.219608       0.0  0.000000   \n",
       "1  0.000000  0.000000  ...  0.133333  0.000000  0.000000       0.0  0.000000   \n",
       "2  0.388235  0.066667  ...  0.000000  0.000000  0.000000       0.0  0.247059   \n",
       "3  0.000000  0.631373  ...  0.537255  0.494118  0.549020       0.0  0.521569   \n",
       "4  0.000000  0.000000  ...  0.000000  0.000000  0.000000       0.0  0.000000   \n",
       "\n",
       "   pixel780  pixel781  pixel782  pixel783  pixel784  \n",
       "0  0.000000  0.000000  0.000000       0.0       0.0  \n",
       "1  0.000000  0.000000  0.000000       0.0       0.0  \n",
       "2  0.207843  0.121569  0.000000       0.0       0.0  \n",
       "3  0.878431  0.870588  0.219608       0.0       0.0  \n",
       "4  0.000000  0.000000  0.000000       0.0       0.0  \n",
       "\n",
       "[5 rows x 784 columns]"
      ]
     },
     "execution_count": 39,
     "metadata": {},
     "output_type": "execute_result"
    }
   ],
   "source": [
    "X_fts = X_fts / 255\n",
    "X_fts.head()"
   ]
  },
  {
   "cell_type": "markdown",
   "id": "d4bc2f10",
   "metadata": {
    "papermill": {
     "duration": 0.035499,
     "end_time": "2023-05-22T13:25:38.037753",
     "exception": false,
     "start_time": "2023-05-22T13:25:38.002254",
     "status": "completed"
    },
    "tags": []
   },
   "source": [
    "Let's retrain the model with the optimized parameters to ensure the right instance is run on our real world test set."
   ]
  },
  {
   "cell_type": "code",
   "execution_count": 40,
   "id": "791b4f56",
   "metadata": {
    "execution": {
     "iopub.execute_input": "2023-05-22T13:25:38.108984Z",
     "iopub.status.busy": "2023-05-22T13:25:38.108596Z",
     "iopub.status.idle": "2023-05-22T13:25:59.571231Z",
     "shell.execute_reply": "2023-05-22T13:25:59.569460Z"
    },
    "papermill": {
     "duration": 21.5048,
     "end_time": "2023-05-22T13:25:59.576750",
     "exception": false,
     "start_time": "2023-05-22T13:25:38.071950",
     "status": "completed"
    },
    "tags": []
   },
   "outputs": [
    {
     "name": "stderr",
     "output_type": "stream",
     "text": [
      "/opt/conda/lib/python3.10/site-packages/sklearn/linear_model/_logistic.py:458: ConvergenceWarning: lbfgs failed to converge (status=1):\n",
      "STOP: TOTAL NO. of ITERATIONS REACHED LIMIT.\n",
      "\n",
      "Increase the number of iterations (max_iter) or scale the data as shown in:\n",
      "    https://scikit-learn.org/stable/modules/preprocessing.html\n",
      "Please also refer to the documentation for alternative solver options:\n",
      "    https://scikit-learn.org/stable/modules/linear_model.html#logistic-regression\n",
      "  n_iter_i = _check_optimize_result(\n"
     ]
    },
    {
     "data": {
      "text/html": [
       "<style>#sk-container-id-2 {color: black;background-color: white;}#sk-container-id-2 pre{padding: 0;}#sk-container-id-2 div.sk-toggleable {background-color: white;}#sk-container-id-2 label.sk-toggleable__label {cursor: pointer;display: block;width: 100%;margin-bottom: 0;padding: 0.3em;box-sizing: border-box;text-align: center;}#sk-container-id-2 label.sk-toggleable__label-arrow:before {content: \"▸\";float: left;margin-right: 0.25em;color: #696969;}#sk-container-id-2 label.sk-toggleable__label-arrow:hover:before {color: black;}#sk-container-id-2 div.sk-estimator:hover label.sk-toggleable__label-arrow:before {color: black;}#sk-container-id-2 div.sk-toggleable__content {max-height: 0;max-width: 0;overflow: hidden;text-align: left;background-color: #f0f8ff;}#sk-container-id-2 div.sk-toggleable__content pre {margin: 0.2em;color: black;border-radius: 0.25em;background-color: #f0f8ff;}#sk-container-id-2 input.sk-toggleable__control:checked~div.sk-toggleable__content {max-height: 200px;max-width: 100%;overflow: auto;}#sk-container-id-2 input.sk-toggleable__control:checked~label.sk-toggleable__label-arrow:before {content: \"▾\";}#sk-container-id-2 div.sk-estimator input.sk-toggleable__control:checked~label.sk-toggleable__label {background-color: #d4ebff;}#sk-container-id-2 div.sk-label input.sk-toggleable__control:checked~label.sk-toggleable__label {background-color: #d4ebff;}#sk-container-id-2 input.sk-hidden--visually {border: 0;clip: rect(1px 1px 1px 1px);clip: rect(1px, 1px, 1px, 1px);height: 1px;margin: -1px;overflow: hidden;padding: 0;position: absolute;width: 1px;}#sk-container-id-2 div.sk-estimator {font-family: monospace;background-color: #f0f8ff;border: 1px dotted black;border-radius: 0.25em;box-sizing: border-box;margin-bottom: 0.5em;}#sk-container-id-2 div.sk-estimator:hover {background-color: #d4ebff;}#sk-container-id-2 div.sk-parallel-item::after {content: \"\";width: 100%;border-bottom: 1px solid gray;flex-grow: 1;}#sk-container-id-2 div.sk-label:hover label.sk-toggleable__label {background-color: #d4ebff;}#sk-container-id-2 div.sk-serial::before {content: \"\";position: absolute;border-left: 1px solid gray;box-sizing: border-box;top: 0;bottom: 0;left: 50%;z-index: 0;}#sk-container-id-2 div.sk-serial {display: flex;flex-direction: column;align-items: center;background-color: white;padding-right: 0.2em;padding-left: 0.2em;position: relative;}#sk-container-id-2 div.sk-item {position: relative;z-index: 1;}#sk-container-id-2 div.sk-parallel {display: flex;align-items: stretch;justify-content: center;background-color: white;position: relative;}#sk-container-id-2 div.sk-item::before, #sk-container-id-2 div.sk-parallel-item::before {content: \"\";position: absolute;border-left: 1px solid gray;box-sizing: border-box;top: 0;bottom: 0;left: 50%;z-index: -1;}#sk-container-id-2 div.sk-parallel-item {display: flex;flex-direction: column;z-index: 1;position: relative;background-color: white;}#sk-container-id-2 div.sk-parallel-item:first-child::after {align-self: flex-end;width: 50%;}#sk-container-id-2 div.sk-parallel-item:last-child::after {align-self: flex-start;width: 50%;}#sk-container-id-2 div.sk-parallel-item:only-child::after {width: 0;}#sk-container-id-2 div.sk-dashed-wrapped {border: 1px dashed gray;margin: 0 0.4em 0.5em 0.4em;box-sizing: border-box;padding-bottom: 0.4em;background-color: white;}#sk-container-id-2 div.sk-label label {font-family: monospace;font-weight: bold;display: inline-block;line-height: 1.2em;}#sk-container-id-2 div.sk-label-container {text-align: center;}#sk-container-id-2 div.sk-container {/* jupyter's `normalize.less` sets `[hidden] { display: none; }` but bootstrap.min.css set `[hidden] { display: none !important; }` so we also need the `!important` here to be able to override the default hidden behavior on the sphinx rendered scikit-learn.org. See: https://github.com/scikit-learn/scikit-learn/issues/21755 */display: inline-block !important;position: relative;}#sk-container-id-2 div.sk-text-repr-fallback {display: none;}</style><div id=\"sk-container-id-2\" class=\"sk-top-container\"><div class=\"sk-text-repr-fallback\"><pre>LogisticRegression()</pre><b>In a Jupyter environment, please rerun this cell to show the HTML representation or trust the notebook. <br />On GitHub, the HTML representation is unable to render, please try loading this page with nbviewer.org.</b></div><div class=\"sk-container\" hidden><div class=\"sk-item\"><div class=\"sk-estimator sk-toggleable\"><input class=\"sk-toggleable__control sk-hidden--visually\" id=\"sk-estimator-id-2\" type=\"checkbox\" checked><label for=\"sk-estimator-id-2\" class=\"sk-toggleable__label sk-toggleable__label-arrow\">LogisticRegression</label><div class=\"sk-toggleable__content\"><pre>LogisticRegression()</pre></div></div></div></div></div>"
      ],
      "text/plain": [
       "LogisticRegression()"
      ]
     },
     "execution_count": 40,
     "metadata": {},
     "output_type": "execute_result"
    }
   ],
   "source": [
    "iterations = 100\n",
    "\n",
    "logistic_model = LogisticRegression(max_iter = iterations)\n",
    "logistic_model.fit(x_train, y_train)"
   ]
  },
  {
   "cell_type": "markdown",
   "id": "fc5c6855",
   "metadata": {
    "papermill": {
     "duration": 0.046807,
     "end_time": "2023-05-22T13:25:59.699763",
     "exception": false,
     "start_time": "2023-05-22T13:25:59.652956",
     "status": "completed"
    },
    "tags": []
   },
   "source": [
    "Here we apply the prior trained model to our new fashion test set and use the X variable or features to predict the labels or y_fts values. We then compare the accuracy and precision of the newly predicted labels of the real world data set the model hasn't seen before."
   ]
  },
  {
   "cell_type": "code",
   "execution_count": 41,
   "id": "6517caef",
   "metadata": {
    "execution": {
     "iopub.execute_input": "2023-05-22T13:25:59.769534Z",
     "iopub.status.busy": "2023-05-22T13:25:59.769133Z",
     "iopub.status.idle": "2023-05-22T13:25:59.856351Z",
     "shell.execute_reply": "2023-05-22T13:25:59.855180Z"
    },
    "papermill": {
     "duration": 0.126805,
     "end_time": "2023-05-22T13:25:59.860757",
     "exception": false,
     "start_time": "2023-05-22T13:25:59.733952",
     "status": "completed"
    },
    "tags": []
   },
   "outputs": [
    {
     "name": "stdout",
     "output_type": "stream",
     "text": [
      "Number of test records:\t 10000\n",
      "Accuracy count:\t\t 8564\n",
      "Acccuracy:\t\t 0.8564\n",
      "Precision:\t\t 0.8545591899457937\n"
     ]
    }
   ],
   "source": [
    "y_fts_pred = logistic_model.predict(X_fts)\n",
    "\n",
    "accuracy = accuracy_score(y_fts, y_fts_pred, normalize = True)\n",
    "accuracy_count = accuracy_score(y_fts, y_fts_pred, normalize = False)\n",
    "precision = precision_score(y_fts, y_fts_pred, average = 'weighted')\n",
    "recall = recall_score(y_fts, y_fts_pred, average = 'weighted')\n",
    "\n",
    "print(\"Number of test records:\\t\", len(y_fts))\n",
    "print(\"Accuracy count:\\t\\t\", accuracy_count)\n",
    "print(\"Acccuracy:\\t\\t\", accuracy)\n",
    "print(\"Precision:\\t\\t\", precision)\n"
   ]
  },
  {
   "cell_type": "markdown",
   "id": "6d7743ba",
   "metadata": {
    "papermill": {
     "duration": 0.039918,
     "end_time": "2023-05-22T13:25:59.975420",
     "exception": false,
     "start_time": "2023-05-22T13:25:59.935502",
     "status": "completed"
    },
    "tags": []
   },
   "source": [
    "We can see that the linear regression model successfully classified the real world data set of clothing at a similar accuracy and precision as the test set used to validate the model. It worked!"
   ]
  },
  {
   "cell_type": "markdown",
   "id": "973e4d21",
   "metadata": {
    "papermill": {
     "duration": 0.033916,
     "end_time": "2023-05-22T13:26:00.044838",
     "exception": false,
     "start_time": "2023-05-22T13:26:00.010922",
     "status": "completed"
    },
    "tags": []
   },
   "source": [
    "## Conclusion\n",
    "\n",
    "In this notebook we demonstrated the machine learning process by implementing a linear regression model to classify clothing articles based on it image data. Every step of the process was implemented and documented and we saw that with the training and test data we could achieve an initial accuracy of 75%. With hyper parameterization of maximum number of iterations we were able to improve this accuracy to 85%. The max iteration of 100 was found to be the best tuning of the hyperparameters. \n",
    "\n",
    "The now tune linear regression model was applied to a real world fashion test training set of different images and their associated labels. However optimize model was able to successfully classify the images in this real-world training set had an accuracy of 85%. This accuracy is equivalent to the training set and demonstrates the success of the model. \n",
    "\n",
    "When examining the performance of our model compared to results in GitHub we can see it is comparable to what other people are achieving for example most GitHub users post an accuracy range of the mid 0.80s to a max of 0.997 (impressive! And suspicious). A human labeling accuracy was 0.835. Given that many of these GitHub users are probably much more experienced I am pleased with the result of the accuracy of the linear regression model and impressed with this ability to perform on par if not better than humans at image classification.\n"
   ]
  }
 ],
 "metadata": {
  "kernelspec": {
   "display_name": "Python 3",
   "language": "python",
   "name": "python3"
  },
  "language_info": {
   "codemirror_mode": {
    "name": "ipython",
    "version": 3
   },
   "file_extension": ".py",
   "mimetype": "text/x-python",
   "name": "python",
   "nbconvert_exporter": "python",
   "pygments_lexer": "ipython3",
   "version": "3.10.10"
  },
  "papermill": {
   "default_parameters": {},
   "duration": 706.594736,
   "end_time": "2023-05-22T13:26:01.207108",
   "environment_variables": {},
   "exception": null,
   "input_path": "__notebook__.ipynb",
   "output_path": "__notebook__.ipynb",
   "parameters": {},
   "start_time": "2023-05-22T13:14:14.612372",
   "version": "2.4.0"
  }
 },
 "nbformat": 4,
 "nbformat_minor": 5
}
