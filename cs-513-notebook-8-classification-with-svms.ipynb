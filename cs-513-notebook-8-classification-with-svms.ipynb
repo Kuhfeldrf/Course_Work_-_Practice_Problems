{
 "cells": [
  {
   "cell_type": "markdown",
   "id": "657a3582",
   "metadata": {
    "papermill": {
     "duration": 0.017569,
     "end_time": "2023-05-25T20:38:59.080656",
     "exception": false,
     "start_time": "2023-05-25T20:38:59.063087",
     "status": "completed"
    },
    "tags": []
   },
   "source": [
    "# Introduction\n",
    "\n",
    "This notebook provides you an opportunity to demonstrate proficiency in meeting course learning goals by applying a support vector machine to solve a classification problem using widely-used ML libraries and an ML workflow.\n"
   ]
  },
  {
   "cell_type": "markdown",
   "id": "46cb568c",
   "metadata": {
    "papermill": {
     "duration": 0.016203,
     "end_time": "2023-05-25T20:38:59.114025",
     "exception": false,
     "start_time": "2023-05-25T20:38:59.097822",
     "status": "completed"
    },
    "tags": []
   },
   "source": [
    "# Mine Detection (Revisited)\n",
    "\n",
    "In this notebook, you will revisit [a previously seen classification problem](https://www.kaggle.com/code/bakosy/cs-513-notebook-4-classification-with-perceptrons), and see if you can build a better classification model that can predict whether or not a sonar signature is from a mine or a rock.\n",
    "\n",
    "<div class=\"alert alert-block alert-warning\">\n",
    "<b>Tip:</b> We suggest reviewing your Notebook 4: Classification with Perceptrons.\n",
    "</div>\n",
    "\n",
    "We'll use a version of the [sonar data set](https://www.openml.org/search?type=data&sort=runs&id=40&status=active) by Gorman and Sejnowski. Take a moment now to [reacquaint yourself with the subject matter of this data set](https://datahub.io/machine-learning/sonar%23resource-sonar), and look at the details of the version of this data set, [Mines vs Rocks, hosted on Kaggle](https://www.kaggle.com/datasets/mattcarter865/mines-vs-rocks).\n",
    "\n",
    "Similar to [a previous notebook](https://www.kaggle.com/code/bakosy/cs-513-notebook-4-classification-with-perceptrons), this notebook expects each student to implement the ML workflow steps. We will get you started by providing the first step, loading the data, and providing some landmarks and tips below. Your process should demonstrate:\n",
    "\n",
    "1. Loading the data\n",
    "2. Exploring the data\n",
    "3. Preprocessing the data\n",
    "4. Preparing the training and test sets\n",
    "5. Creating and configuring a sklearn.svm.SVC\n",
    "6. Training the SVM\n",
    "7. Validating and Testing the SVM\n",
    "8. Demonstrating making predictions\n",
    "9. Evaluate (and Improve) the results\n",
    "\n",
    "Can you train a classifier that can predict whether a sonar signature is from a mine or a rock? \"Three trained human subjects were each tested on 100 signals, chosen at random from the set of 208 returns used to create this data set. Their responses ranged between 88% and 97% correct.\" Can your classifier outperform the human subjects?\n",
    "\n",
    "Most importantly, how does the performance of the SVM classifier compare to the perceptron results observed in [Notebook 4](https://www.kaggle.com/code/bakosy/cs-513-notebook-4-classification-with-perceptrons)?\n",
    "\n"
   ]
  },
  {
   "cell_type": "markdown",
   "id": "1e85b90f",
   "metadata": {
    "papermill": {
     "duration": 0.015848,
     "end_time": "2023-05-25T20:38:59.146502",
     "exception": false,
     "start_time": "2023-05-25T20:38:59.130654",
     "status": "completed"
    },
    "tags": []
   },
   "source": [
    "## Step 1: Load the Data\n",
    "\n",
    "The notebook comes pre-bundled with the [Mines vs Rocks data set](https://www.kaggle.com/datasets/mattcarter865/mines-vs-rocks). Our first step is to create a pandas DataFrame from the CSV file. Note that the CSV file has no header row. Loading the CSV file into a DataFrame will make it easy for us to explore the data, preprocess it, and split it into training and test sets.\n"
   ]
  },
  {
   "cell_type": "code",
   "execution_count": 1,
   "id": "1a2316a6",
   "metadata": {
    "execution": {
     "iopub.execute_input": "2023-05-25T20:38:59.182690Z",
     "iopub.status.busy": "2023-05-25T20:38:59.181985Z",
     "iopub.status.idle": "2023-05-25T20:38:59.214380Z",
     "shell.execute_reply": "2023-05-25T20:38:59.213053Z"
    },
    "papermill": {
     "duration": 0.053201,
     "end_time": "2023-05-25T20:38:59.217482",
     "exception": false,
     "start_time": "2023-05-25T20:38:59.164281",
     "status": "completed"
    },
    "tags": []
   },
   "outputs": [],
   "source": [
    "import pandas as pd\n",
    "\n",
    "sonar_csv_path = \"../input/mines-vs-rocks/sonar.all-data.csv\"\n",
    "sonar_data = pd.read_csv(sonar_csv_path, header=None)\n",
    "\n"
   ]
  },
  {
   "cell_type": "markdown",
   "id": "2b532291",
   "metadata": {
    "papermill": {
     "duration": 0.016264,
     "end_time": "2023-05-25T20:38:59.250361",
     "exception": false,
     "start_time": "2023-05-25T20:38:59.234097",
     "status": "completed"
    },
    "tags": []
   },
   "source": [
    "We now have a pandas DataFrame encapsulating the sonar data, and can proceed with our data exploration."
   ]
  },
  {
   "cell_type": "markdown",
   "id": "ff6dbf6e",
   "metadata": {
    "papermill": {
     "duration": 0.016367,
     "end_time": "2023-05-25T20:38:59.283397",
     "exception": false,
     "start_time": "2023-05-25T20:38:59.267030",
     "status": "completed"
    },
    "tags": []
   },
   "source": [
    "## Step 2: Explore the Data\n",
    "\n",
    "Replace this text with a prose description of what you will do in this section, and why you have chosen to do this. We *strongly* recommend using **multiple markdown and code cells** to illustrate each exploration step you take.\n",
    "\n",
    "You are welcome to use your work from Notebook 4 here, if it meets the expectations and requirements.\n",
    "\n",
    "First, we begin by **looking at the first few lines of data**"
   ]
  },
  {
   "cell_type": "code",
   "execution_count": 2,
   "id": "7779a838",
   "metadata": {
    "execution": {
     "iopub.execute_input": "2023-05-25T20:38:59.318057Z",
     "iopub.status.busy": "2023-05-25T20:38:59.317605Z",
     "iopub.status.idle": "2023-05-25T20:38:59.371381Z",
     "shell.execute_reply": "2023-05-25T20:38:59.370566Z"
    },
    "papermill": {
     "duration": 0.074401,
     "end_time": "2023-05-25T20:38:59.374359",
     "exception": false,
     "start_time": "2023-05-25T20:38:59.299958",
     "status": "completed"
    },
    "tags": []
   },
   "outputs": [
    {
     "data": {
      "text/html": [
       "<div>\n",
       "<style scoped>\n",
       "    .dataframe tbody tr th:only-of-type {\n",
       "        vertical-align: middle;\n",
       "    }\n",
       "\n",
       "    .dataframe tbody tr th {\n",
       "        vertical-align: top;\n",
       "    }\n",
       "\n",
       "    .dataframe thead th {\n",
       "        text-align: right;\n",
       "    }\n",
       "</style>\n",
       "<table border=\"1\" class=\"dataframe\">\n",
       "  <thead>\n",
       "    <tr style=\"text-align: right;\">\n",
       "      <th></th>\n",
       "      <th>0</th>\n",
       "      <th>1</th>\n",
       "      <th>2</th>\n",
       "      <th>3</th>\n",
       "      <th>4</th>\n",
       "      <th>5</th>\n",
       "      <th>6</th>\n",
       "      <th>7</th>\n",
       "      <th>8</th>\n",
       "      <th>9</th>\n",
       "      <th>...</th>\n",
       "      <th>51</th>\n",
       "      <th>52</th>\n",
       "      <th>53</th>\n",
       "      <th>54</th>\n",
       "      <th>55</th>\n",
       "      <th>56</th>\n",
       "      <th>57</th>\n",
       "      <th>58</th>\n",
       "      <th>59</th>\n",
       "      <th>60</th>\n",
       "    </tr>\n",
       "  </thead>\n",
       "  <tbody>\n",
       "    <tr>\n",
       "      <th>0</th>\n",
       "      <td>0.0200</td>\n",
       "      <td>0.0371</td>\n",
       "      <td>0.0428</td>\n",
       "      <td>0.0207</td>\n",
       "      <td>0.0954</td>\n",
       "      <td>0.0986</td>\n",
       "      <td>0.1539</td>\n",
       "      <td>0.1601</td>\n",
       "      <td>0.3109</td>\n",
       "      <td>0.2111</td>\n",
       "      <td>...</td>\n",
       "      <td>0.0027</td>\n",
       "      <td>0.0065</td>\n",
       "      <td>0.0159</td>\n",
       "      <td>0.0072</td>\n",
       "      <td>0.0167</td>\n",
       "      <td>0.0180</td>\n",
       "      <td>0.0084</td>\n",
       "      <td>0.0090</td>\n",
       "      <td>0.0032</td>\n",
       "      <td>R</td>\n",
       "    </tr>\n",
       "    <tr>\n",
       "      <th>1</th>\n",
       "      <td>0.0453</td>\n",
       "      <td>0.0523</td>\n",
       "      <td>0.0843</td>\n",
       "      <td>0.0689</td>\n",
       "      <td>0.1183</td>\n",
       "      <td>0.2583</td>\n",
       "      <td>0.2156</td>\n",
       "      <td>0.3481</td>\n",
       "      <td>0.3337</td>\n",
       "      <td>0.2872</td>\n",
       "      <td>...</td>\n",
       "      <td>0.0084</td>\n",
       "      <td>0.0089</td>\n",
       "      <td>0.0048</td>\n",
       "      <td>0.0094</td>\n",
       "      <td>0.0191</td>\n",
       "      <td>0.0140</td>\n",
       "      <td>0.0049</td>\n",
       "      <td>0.0052</td>\n",
       "      <td>0.0044</td>\n",
       "      <td>R</td>\n",
       "    </tr>\n",
       "    <tr>\n",
       "      <th>2</th>\n",
       "      <td>0.0262</td>\n",
       "      <td>0.0582</td>\n",
       "      <td>0.1099</td>\n",
       "      <td>0.1083</td>\n",
       "      <td>0.0974</td>\n",
       "      <td>0.2280</td>\n",
       "      <td>0.2431</td>\n",
       "      <td>0.3771</td>\n",
       "      <td>0.5598</td>\n",
       "      <td>0.6194</td>\n",
       "      <td>...</td>\n",
       "      <td>0.0232</td>\n",
       "      <td>0.0166</td>\n",
       "      <td>0.0095</td>\n",
       "      <td>0.0180</td>\n",
       "      <td>0.0244</td>\n",
       "      <td>0.0316</td>\n",
       "      <td>0.0164</td>\n",
       "      <td>0.0095</td>\n",
       "      <td>0.0078</td>\n",
       "      <td>R</td>\n",
       "    </tr>\n",
       "    <tr>\n",
       "      <th>3</th>\n",
       "      <td>0.0100</td>\n",
       "      <td>0.0171</td>\n",
       "      <td>0.0623</td>\n",
       "      <td>0.0205</td>\n",
       "      <td>0.0205</td>\n",
       "      <td>0.0368</td>\n",
       "      <td>0.1098</td>\n",
       "      <td>0.1276</td>\n",
       "      <td>0.0598</td>\n",
       "      <td>0.1264</td>\n",
       "      <td>...</td>\n",
       "      <td>0.0121</td>\n",
       "      <td>0.0036</td>\n",
       "      <td>0.0150</td>\n",
       "      <td>0.0085</td>\n",
       "      <td>0.0073</td>\n",
       "      <td>0.0050</td>\n",
       "      <td>0.0044</td>\n",
       "      <td>0.0040</td>\n",
       "      <td>0.0117</td>\n",
       "      <td>R</td>\n",
       "    </tr>\n",
       "    <tr>\n",
       "      <th>4</th>\n",
       "      <td>0.0762</td>\n",
       "      <td>0.0666</td>\n",
       "      <td>0.0481</td>\n",
       "      <td>0.0394</td>\n",
       "      <td>0.0590</td>\n",
       "      <td>0.0649</td>\n",
       "      <td>0.1209</td>\n",
       "      <td>0.2467</td>\n",
       "      <td>0.3564</td>\n",
       "      <td>0.4459</td>\n",
       "      <td>...</td>\n",
       "      <td>0.0031</td>\n",
       "      <td>0.0054</td>\n",
       "      <td>0.0105</td>\n",
       "      <td>0.0110</td>\n",
       "      <td>0.0015</td>\n",
       "      <td>0.0072</td>\n",
       "      <td>0.0048</td>\n",
       "      <td>0.0107</td>\n",
       "      <td>0.0094</td>\n",
       "      <td>R</td>\n",
       "    </tr>\n",
       "    <tr>\n",
       "      <th>5</th>\n",
       "      <td>0.0286</td>\n",
       "      <td>0.0453</td>\n",
       "      <td>0.0277</td>\n",
       "      <td>0.0174</td>\n",
       "      <td>0.0384</td>\n",
       "      <td>0.0990</td>\n",
       "      <td>0.1201</td>\n",
       "      <td>0.1833</td>\n",
       "      <td>0.2105</td>\n",
       "      <td>0.3039</td>\n",
       "      <td>...</td>\n",
       "      <td>0.0045</td>\n",
       "      <td>0.0014</td>\n",
       "      <td>0.0038</td>\n",
       "      <td>0.0013</td>\n",
       "      <td>0.0089</td>\n",
       "      <td>0.0057</td>\n",
       "      <td>0.0027</td>\n",
       "      <td>0.0051</td>\n",
       "      <td>0.0062</td>\n",
       "      <td>R</td>\n",
       "    </tr>\n",
       "    <tr>\n",
       "      <th>6</th>\n",
       "      <td>0.0317</td>\n",
       "      <td>0.0956</td>\n",
       "      <td>0.1321</td>\n",
       "      <td>0.1408</td>\n",
       "      <td>0.1674</td>\n",
       "      <td>0.1710</td>\n",
       "      <td>0.0731</td>\n",
       "      <td>0.1401</td>\n",
       "      <td>0.2083</td>\n",
       "      <td>0.3513</td>\n",
       "      <td>...</td>\n",
       "      <td>0.0201</td>\n",
       "      <td>0.0248</td>\n",
       "      <td>0.0131</td>\n",
       "      <td>0.0070</td>\n",
       "      <td>0.0138</td>\n",
       "      <td>0.0092</td>\n",
       "      <td>0.0143</td>\n",
       "      <td>0.0036</td>\n",
       "      <td>0.0103</td>\n",
       "      <td>R</td>\n",
       "    </tr>\n",
       "    <tr>\n",
       "      <th>7</th>\n",
       "      <td>0.0519</td>\n",
       "      <td>0.0548</td>\n",
       "      <td>0.0842</td>\n",
       "      <td>0.0319</td>\n",
       "      <td>0.1158</td>\n",
       "      <td>0.0922</td>\n",
       "      <td>0.1027</td>\n",
       "      <td>0.0613</td>\n",
       "      <td>0.1465</td>\n",
       "      <td>0.2838</td>\n",
       "      <td>...</td>\n",
       "      <td>0.0081</td>\n",
       "      <td>0.0120</td>\n",
       "      <td>0.0045</td>\n",
       "      <td>0.0121</td>\n",
       "      <td>0.0097</td>\n",
       "      <td>0.0085</td>\n",
       "      <td>0.0047</td>\n",
       "      <td>0.0048</td>\n",
       "      <td>0.0053</td>\n",
       "      <td>R</td>\n",
       "    </tr>\n",
       "    <tr>\n",
       "      <th>8</th>\n",
       "      <td>0.0223</td>\n",
       "      <td>0.0375</td>\n",
       "      <td>0.0484</td>\n",
       "      <td>0.0475</td>\n",
       "      <td>0.0647</td>\n",
       "      <td>0.0591</td>\n",
       "      <td>0.0753</td>\n",
       "      <td>0.0098</td>\n",
       "      <td>0.0684</td>\n",
       "      <td>0.1487</td>\n",
       "      <td>...</td>\n",
       "      <td>0.0145</td>\n",
       "      <td>0.0128</td>\n",
       "      <td>0.0145</td>\n",
       "      <td>0.0058</td>\n",
       "      <td>0.0049</td>\n",
       "      <td>0.0065</td>\n",
       "      <td>0.0093</td>\n",
       "      <td>0.0059</td>\n",
       "      <td>0.0022</td>\n",
       "      <td>R</td>\n",
       "    </tr>\n",
       "    <tr>\n",
       "      <th>9</th>\n",
       "      <td>0.0164</td>\n",
       "      <td>0.0173</td>\n",
       "      <td>0.0347</td>\n",
       "      <td>0.0070</td>\n",
       "      <td>0.0187</td>\n",
       "      <td>0.0671</td>\n",
       "      <td>0.1056</td>\n",
       "      <td>0.0697</td>\n",
       "      <td>0.0962</td>\n",
       "      <td>0.0251</td>\n",
       "      <td>...</td>\n",
       "      <td>0.0090</td>\n",
       "      <td>0.0223</td>\n",
       "      <td>0.0179</td>\n",
       "      <td>0.0084</td>\n",
       "      <td>0.0068</td>\n",
       "      <td>0.0032</td>\n",
       "      <td>0.0035</td>\n",
       "      <td>0.0056</td>\n",
       "      <td>0.0040</td>\n",
       "      <td>R</td>\n",
       "    </tr>\n",
       "  </tbody>\n",
       "</table>\n",
       "<p>10 rows × 61 columns</p>\n",
       "</div>"
      ],
      "text/plain": [
       "       0       1       2       3       4       5       6       7       8   \\\n",
       "0  0.0200  0.0371  0.0428  0.0207  0.0954  0.0986  0.1539  0.1601  0.3109   \n",
       "1  0.0453  0.0523  0.0843  0.0689  0.1183  0.2583  0.2156  0.3481  0.3337   \n",
       "2  0.0262  0.0582  0.1099  0.1083  0.0974  0.2280  0.2431  0.3771  0.5598   \n",
       "3  0.0100  0.0171  0.0623  0.0205  0.0205  0.0368  0.1098  0.1276  0.0598   \n",
       "4  0.0762  0.0666  0.0481  0.0394  0.0590  0.0649  0.1209  0.2467  0.3564   \n",
       "5  0.0286  0.0453  0.0277  0.0174  0.0384  0.0990  0.1201  0.1833  0.2105   \n",
       "6  0.0317  0.0956  0.1321  0.1408  0.1674  0.1710  0.0731  0.1401  0.2083   \n",
       "7  0.0519  0.0548  0.0842  0.0319  0.1158  0.0922  0.1027  0.0613  0.1465   \n",
       "8  0.0223  0.0375  0.0484  0.0475  0.0647  0.0591  0.0753  0.0098  0.0684   \n",
       "9  0.0164  0.0173  0.0347  0.0070  0.0187  0.0671  0.1056  0.0697  0.0962   \n",
       "\n",
       "       9   ...      51      52      53      54      55      56      57  \\\n",
       "0  0.2111  ...  0.0027  0.0065  0.0159  0.0072  0.0167  0.0180  0.0084   \n",
       "1  0.2872  ...  0.0084  0.0089  0.0048  0.0094  0.0191  0.0140  0.0049   \n",
       "2  0.6194  ...  0.0232  0.0166  0.0095  0.0180  0.0244  0.0316  0.0164   \n",
       "3  0.1264  ...  0.0121  0.0036  0.0150  0.0085  0.0073  0.0050  0.0044   \n",
       "4  0.4459  ...  0.0031  0.0054  0.0105  0.0110  0.0015  0.0072  0.0048   \n",
       "5  0.3039  ...  0.0045  0.0014  0.0038  0.0013  0.0089  0.0057  0.0027   \n",
       "6  0.3513  ...  0.0201  0.0248  0.0131  0.0070  0.0138  0.0092  0.0143   \n",
       "7  0.2838  ...  0.0081  0.0120  0.0045  0.0121  0.0097  0.0085  0.0047   \n",
       "8  0.1487  ...  0.0145  0.0128  0.0145  0.0058  0.0049  0.0065  0.0093   \n",
       "9  0.0251  ...  0.0090  0.0223  0.0179  0.0084  0.0068  0.0032  0.0035   \n",
       "\n",
       "       58      59  60  \n",
       "0  0.0090  0.0032   R  \n",
       "1  0.0052  0.0044   R  \n",
       "2  0.0095  0.0078   R  \n",
       "3  0.0040  0.0117   R  \n",
       "4  0.0107  0.0094   R  \n",
       "5  0.0051  0.0062   R  \n",
       "6  0.0036  0.0103   R  \n",
       "7  0.0048  0.0053   R  \n",
       "8  0.0059  0.0022   R  \n",
       "9  0.0056  0.0040   R  \n",
       "\n",
       "[10 rows x 61 columns]"
      ]
     },
     "execution_count": 2,
     "metadata": {},
     "output_type": "execute_result"
    }
   ],
   "source": [
    "sonar_data.head(n=10)"
   ]
  },
  {
   "cell_type": "markdown",
   "id": "c1884f31",
   "metadata": {
    "papermill": {
     "duration": 0.016832,
     "end_time": "2023-05-25T20:38:59.408563",
     "exception": false,
     "start_time": "2023-05-25T20:38:59.391731",
     "status": "completed"
    },
    "tags": []
   },
   "source": [
    "We can explore the data in a similar maner with the describe function and get more summary statistics\n"
   ]
  },
  {
   "cell_type": "code",
   "execution_count": 3,
   "id": "ae0d2a3f",
   "metadata": {
    "execution": {
     "iopub.execute_input": "2023-05-25T20:38:59.444474Z",
     "iopub.status.busy": "2023-05-25T20:38:59.443770Z",
     "iopub.status.idle": "2023-05-25T20:38:59.609280Z",
     "shell.execute_reply": "2023-05-25T20:38:59.607863Z"
    },
    "papermill": {
     "duration": 0.186595,
     "end_time": "2023-05-25T20:38:59.612056",
     "exception": false,
     "start_time": "2023-05-25T20:38:59.425461",
     "status": "completed"
    },
    "tags": []
   },
   "outputs": [
    {
     "data": {
      "text/html": [
       "<div>\n",
       "<style scoped>\n",
       "    .dataframe tbody tr th:only-of-type {\n",
       "        vertical-align: middle;\n",
       "    }\n",
       "\n",
       "    .dataframe tbody tr th {\n",
       "        vertical-align: top;\n",
       "    }\n",
       "\n",
       "    .dataframe thead th {\n",
       "        text-align: right;\n",
       "    }\n",
       "</style>\n",
       "<table border=\"1\" class=\"dataframe\">\n",
       "  <thead>\n",
       "    <tr style=\"text-align: right;\">\n",
       "      <th></th>\n",
       "      <th>0</th>\n",
       "      <th>1</th>\n",
       "      <th>2</th>\n",
       "      <th>3</th>\n",
       "      <th>4</th>\n",
       "      <th>5</th>\n",
       "      <th>6</th>\n",
       "      <th>7</th>\n",
       "      <th>8</th>\n",
       "      <th>9</th>\n",
       "      <th>...</th>\n",
       "      <th>50</th>\n",
       "      <th>51</th>\n",
       "      <th>52</th>\n",
       "      <th>53</th>\n",
       "      <th>54</th>\n",
       "      <th>55</th>\n",
       "      <th>56</th>\n",
       "      <th>57</th>\n",
       "      <th>58</th>\n",
       "      <th>59</th>\n",
       "    </tr>\n",
       "  </thead>\n",
       "  <tbody>\n",
       "    <tr>\n",
       "      <th>count</th>\n",
       "      <td>208.000000</td>\n",
       "      <td>208.000000</td>\n",
       "      <td>208.000000</td>\n",
       "      <td>208.000000</td>\n",
       "      <td>208.000000</td>\n",
       "      <td>208.000000</td>\n",
       "      <td>208.000000</td>\n",
       "      <td>208.000000</td>\n",
       "      <td>208.000000</td>\n",
       "      <td>208.000000</td>\n",
       "      <td>...</td>\n",
       "      <td>208.000000</td>\n",
       "      <td>208.000000</td>\n",
       "      <td>208.000000</td>\n",
       "      <td>208.000000</td>\n",
       "      <td>208.000000</td>\n",
       "      <td>208.000000</td>\n",
       "      <td>208.000000</td>\n",
       "      <td>208.000000</td>\n",
       "      <td>208.000000</td>\n",
       "      <td>208.000000</td>\n",
       "    </tr>\n",
       "    <tr>\n",
       "      <th>mean</th>\n",
       "      <td>0.029164</td>\n",
       "      <td>0.038437</td>\n",
       "      <td>0.043832</td>\n",
       "      <td>0.053892</td>\n",
       "      <td>0.075202</td>\n",
       "      <td>0.104570</td>\n",
       "      <td>0.121747</td>\n",
       "      <td>0.134799</td>\n",
       "      <td>0.178003</td>\n",
       "      <td>0.208259</td>\n",
       "      <td>...</td>\n",
       "      <td>0.016069</td>\n",
       "      <td>0.013420</td>\n",
       "      <td>0.010709</td>\n",
       "      <td>0.010941</td>\n",
       "      <td>0.009290</td>\n",
       "      <td>0.008222</td>\n",
       "      <td>0.007820</td>\n",
       "      <td>0.007949</td>\n",
       "      <td>0.007941</td>\n",
       "      <td>0.006507</td>\n",
       "    </tr>\n",
       "    <tr>\n",
       "      <th>std</th>\n",
       "      <td>0.022991</td>\n",
       "      <td>0.032960</td>\n",
       "      <td>0.038428</td>\n",
       "      <td>0.046528</td>\n",
       "      <td>0.055552</td>\n",
       "      <td>0.059105</td>\n",
       "      <td>0.061788</td>\n",
       "      <td>0.085152</td>\n",
       "      <td>0.118387</td>\n",
       "      <td>0.134416</td>\n",
       "      <td>...</td>\n",
       "      <td>0.012008</td>\n",
       "      <td>0.009634</td>\n",
       "      <td>0.007060</td>\n",
       "      <td>0.007301</td>\n",
       "      <td>0.007088</td>\n",
       "      <td>0.005736</td>\n",
       "      <td>0.005785</td>\n",
       "      <td>0.006470</td>\n",
       "      <td>0.006181</td>\n",
       "      <td>0.005031</td>\n",
       "    </tr>\n",
       "    <tr>\n",
       "      <th>min</th>\n",
       "      <td>0.001500</td>\n",
       "      <td>0.000600</td>\n",
       "      <td>0.001500</td>\n",
       "      <td>0.005800</td>\n",
       "      <td>0.006700</td>\n",
       "      <td>0.010200</td>\n",
       "      <td>0.003300</td>\n",
       "      <td>0.005500</td>\n",
       "      <td>0.007500</td>\n",
       "      <td>0.011300</td>\n",
       "      <td>...</td>\n",
       "      <td>0.000000</td>\n",
       "      <td>0.000800</td>\n",
       "      <td>0.000500</td>\n",
       "      <td>0.001000</td>\n",
       "      <td>0.000600</td>\n",
       "      <td>0.000400</td>\n",
       "      <td>0.000300</td>\n",
       "      <td>0.000300</td>\n",
       "      <td>0.000100</td>\n",
       "      <td>0.000600</td>\n",
       "    </tr>\n",
       "    <tr>\n",
       "      <th>25%</th>\n",
       "      <td>0.013350</td>\n",
       "      <td>0.016450</td>\n",
       "      <td>0.018950</td>\n",
       "      <td>0.024375</td>\n",
       "      <td>0.038050</td>\n",
       "      <td>0.067025</td>\n",
       "      <td>0.080900</td>\n",
       "      <td>0.080425</td>\n",
       "      <td>0.097025</td>\n",
       "      <td>0.111275</td>\n",
       "      <td>...</td>\n",
       "      <td>0.008425</td>\n",
       "      <td>0.007275</td>\n",
       "      <td>0.005075</td>\n",
       "      <td>0.005375</td>\n",
       "      <td>0.004150</td>\n",
       "      <td>0.004400</td>\n",
       "      <td>0.003700</td>\n",
       "      <td>0.003600</td>\n",
       "      <td>0.003675</td>\n",
       "      <td>0.003100</td>\n",
       "    </tr>\n",
       "    <tr>\n",
       "      <th>50%</th>\n",
       "      <td>0.022800</td>\n",
       "      <td>0.030800</td>\n",
       "      <td>0.034300</td>\n",
       "      <td>0.044050</td>\n",
       "      <td>0.062500</td>\n",
       "      <td>0.092150</td>\n",
       "      <td>0.106950</td>\n",
       "      <td>0.112100</td>\n",
       "      <td>0.152250</td>\n",
       "      <td>0.182400</td>\n",
       "      <td>...</td>\n",
       "      <td>0.013900</td>\n",
       "      <td>0.011400</td>\n",
       "      <td>0.009550</td>\n",
       "      <td>0.009300</td>\n",
       "      <td>0.007500</td>\n",
       "      <td>0.006850</td>\n",
       "      <td>0.005950</td>\n",
       "      <td>0.005800</td>\n",
       "      <td>0.006400</td>\n",
       "      <td>0.005300</td>\n",
       "    </tr>\n",
       "    <tr>\n",
       "      <th>75%</th>\n",
       "      <td>0.035550</td>\n",
       "      <td>0.047950</td>\n",
       "      <td>0.057950</td>\n",
       "      <td>0.064500</td>\n",
       "      <td>0.100275</td>\n",
       "      <td>0.134125</td>\n",
       "      <td>0.154000</td>\n",
       "      <td>0.169600</td>\n",
       "      <td>0.233425</td>\n",
       "      <td>0.268700</td>\n",
       "      <td>...</td>\n",
       "      <td>0.020825</td>\n",
       "      <td>0.016725</td>\n",
       "      <td>0.014900</td>\n",
       "      <td>0.014500</td>\n",
       "      <td>0.012100</td>\n",
       "      <td>0.010575</td>\n",
       "      <td>0.010425</td>\n",
       "      <td>0.010350</td>\n",
       "      <td>0.010325</td>\n",
       "      <td>0.008525</td>\n",
       "    </tr>\n",
       "    <tr>\n",
       "      <th>max</th>\n",
       "      <td>0.137100</td>\n",
       "      <td>0.233900</td>\n",
       "      <td>0.305900</td>\n",
       "      <td>0.426400</td>\n",
       "      <td>0.401000</td>\n",
       "      <td>0.382300</td>\n",
       "      <td>0.372900</td>\n",
       "      <td>0.459000</td>\n",
       "      <td>0.682800</td>\n",
       "      <td>0.710600</td>\n",
       "      <td>...</td>\n",
       "      <td>0.100400</td>\n",
       "      <td>0.070900</td>\n",
       "      <td>0.039000</td>\n",
       "      <td>0.035200</td>\n",
       "      <td>0.044700</td>\n",
       "      <td>0.039400</td>\n",
       "      <td>0.035500</td>\n",
       "      <td>0.044000</td>\n",
       "      <td>0.036400</td>\n",
       "      <td>0.043900</td>\n",
       "    </tr>\n",
       "  </tbody>\n",
       "</table>\n",
       "<p>8 rows × 60 columns</p>\n",
       "</div>"
      ],
      "text/plain": [
       "               0           1           2           3           4           5   \\\n",
       "count  208.000000  208.000000  208.000000  208.000000  208.000000  208.000000   \n",
       "mean     0.029164    0.038437    0.043832    0.053892    0.075202    0.104570   \n",
       "std      0.022991    0.032960    0.038428    0.046528    0.055552    0.059105   \n",
       "min      0.001500    0.000600    0.001500    0.005800    0.006700    0.010200   \n",
       "25%      0.013350    0.016450    0.018950    0.024375    0.038050    0.067025   \n",
       "50%      0.022800    0.030800    0.034300    0.044050    0.062500    0.092150   \n",
       "75%      0.035550    0.047950    0.057950    0.064500    0.100275    0.134125   \n",
       "max      0.137100    0.233900    0.305900    0.426400    0.401000    0.382300   \n",
       "\n",
       "               6           7           8           9   ...          50  \\\n",
       "count  208.000000  208.000000  208.000000  208.000000  ...  208.000000   \n",
       "mean     0.121747    0.134799    0.178003    0.208259  ...    0.016069   \n",
       "std      0.061788    0.085152    0.118387    0.134416  ...    0.012008   \n",
       "min      0.003300    0.005500    0.007500    0.011300  ...    0.000000   \n",
       "25%      0.080900    0.080425    0.097025    0.111275  ...    0.008425   \n",
       "50%      0.106950    0.112100    0.152250    0.182400  ...    0.013900   \n",
       "75%      0.154000    0.169600    0.233425    0.268700  ...    0.020825   \n",
       "max      0.372900    0.459000    0.682800    0.710600  ...    0.100400   \n",
       "\n",
       "               51          52          53          54          55          56  \\\n",
       "count  208.000000  208.000000  208.000000  208.000000  208.000000  208.000000   \n",
       "mean     0.013420    0.010709    0.010941    0.009290    0.008222    0.007820   \n",
       "std      0.009634    0.007060    0.007301    0.007088    0.005736    0.005785   \n",
       "min      0.000800    0.000500    0.001000    0.000600    0.000400    0.000300   \n",
       "25%      0.007275    0.005075    0.005375    0.004150    0.004400    0.003700   \n",
       "50%      0.011400    0.009550    0.009300    0.007500    0.006850    0.005950   \n",
       "75%      0.016725    0.014900    0.014500    0.012100    0.010575    0.010425   \n",
       "max      0.070900    0.039000    0.035200    0.044700    0.039400    0.035500   \n",
       "\n",
       "               57          58          59  \n",
       "count  208.000000  208.000000  208.000000  \n",
       "mean     0.007949    0.007941    0.006507  \n",
       "std      0.006470    0.006181    0.005031  \n",
       "min      0.000300    0.000100    0.000600  \n",
       "25%      0.003600    0.003675    0.003100  \n",
       "50%      0.005800    0.006400    0.005300  \n",
       "75%      0.010350    0.010325    0.008525  \n",
       "max      0.044000    0.036400    0.043900  \n",
       "\n",
       "[8 rows x 60 columns]"
      ]
     },
     "execution_count": 3,
     "metadata": {},
     "output_type": "execute_result"
    }
   ],
   "source": [
    "sonar_data.describe()"
   ]
  },
  {
   "cell_type": "markdown",
   "id": "b4d77aaa",
   "metadata": {
    "papermill": {
     "duration": 0.017505,
     "end_time": "2023-05-25T20:38:59.647438",
     "exception": false,
     "start_time": "2023-05-25T20:38:59.629933",
     "status": "completed"
    },
    "tags": []
   },
   "source": [
    "Lets see the number of rows and colums"
   ]
  },
  {
   "cell_type": "code",
   "execution_count": 4,
   "id": "e75b48bb",
   "metadata": {
    "execution": {
     "iopub.execute_input": "2023-05-25T20:38:59.684317Z",
     "iopub.status.busy": "2023-05-25T20:38:59.683925Z",
     "iopub.status.idle": "2023-05-25T20:38:59.690677Z",
     "shell.execute_reply": "2023-05-25T20:38:59.689470Z"
    },
    "papermill": {
     "duration": 0.028313,
     "end_time": "2023-05-25T20:38:59.693329",
     "exception": false,
     "start_time": "2023-05-25T20:38:59.665016",
     "status": "completed"
    },
    "tags": []
   },
   "outputs": [
    {
     "data": {
      "text/plain": [
       "(208, 61)"
      ]
     },
     "execution_count": 4,
     "metadata": {},
     "output_type": "execute_result"
    }
   ],
   "source": [
    "sonar_data.shape\n"
   ]
  },
  {
   "cell_type": "markdown",
   "id": "e05c9129",
   "metadata": {
    "papermill": {
     "duration": 0.017342,
     "end_time": "2023-05-25T20:38:59.728670",
     "exception": false,
     "start_time": "2023-05-25T20:38:59.711328",
     "status": "completed"
    },
    "tags": []
   },
   "source": [
    "Lets check for missing data."
   ]
  },
  {
   "cell_type": "code",
   "execution_count": 5,
   "id": "20177ded",
   "metadata": {
    "execution": {
     "iopub.execute_input": "2023-05-25T20:38:59.765352Z",
     "iopub.status.busy": "2023-05-25T20:38:59.764966Z",
     "iopub.status.idle": "2023-05-25T20:38:59.775509Z",
     "shell.execute_reply": "2023-05-25T20:38:59.774375Z"
    },
    "papermill": {
     "duration": 0.032234,
     "end_time": "2023-05-25T20:38:59.778186",
     "exception": false,
     "start_time": "2023-05-25T20:38:59.745952",
     "status": "completed"
    },
    "tags": []
   },
   "outputs": [
    {
     "data": {
      "text/plain": [
       "0"
      ]
     },
     "execution_count": 5,
     "metadata": {},
     "output_type": "execute_result"
    }
   ],
   "source": [
    "sonar_data.isna().sum().sum()"
   ]
  },
  {
   "cell_type": "markdown",
   "id": "acc9d5de",
   "metadata": {
    "papermill": {
     "duration": 0.017263,
     "end_time": "2023-05-25T20:38:59.813061",
     "exception": false,
     "start_time": "2023-05-25T20:38:59.795798",
     "status": "completed"
    },
    "tags": []
   },
   "source": [
    "great no missing data. Lets see what the range of data is"
   ]
  },
  {
   "cell_type": "code",
   "execution_count": 6,
   "id": "ca22acd3",
   "metadata": {
    "execution": {
     "iopub.execute_input": "2023-05-25T20:38:59.850676Z",
     "iopub.status.busy": "2023-05-25T20:38:59.850025Z",
     "iopub.status.idle": "2023-05-25T20:39:00.117353Z",
     "shell.execute_reply": "2023-05-25T20:39:00.115951Z"
    },
    "papermill": {
     "duration": 0.289402,
     "end_time": "2023-05-25T20:39:00.120144",
     "exception": false,
     "start_time": "2023-05-25T20:38:59.830742",
     "status": "completed"
    },
    "tags": []
   },
   "outputs": [
    {
     "name": "stdout",
     "output_type": "stream",
     "text": [
      "The min value in sonar_data is 0.0\n",
      "The max value in sonar_data is:1.0\n"
     ]
    }
   ],
   "source": [
    "print(f\"The min value in sonar_data is {min(sonar_data.describe().loc['min'])}\\nThe max value in sonar_data is:{max(sonar_data.describe().loc['max'])}\")"
   ]
  },
  {
   "cell_type": "markdown",
   "id": "1dfd1d5c",
   "metadata": {
    "papermill": {
     "duration": 0.018516,
     "end_time": "2023-05-25T20:39:00.157323",
     "exception": false,
     "start_time": "2023-05-25T20:39:00.138807",
     "status": "completed"
    },
    "tags": []
   },
   "source": [
    "We can see this dataset has 61 columns, 59 are numerical dependent variables and 1 independent variable “R” or “M” rock or mine. There are 208 lines of data. Looks like the features of the dataset are already normalized between 0 and 1 and there is no missing data."
   ]
  },
  {
   "cell_type": "markdown",
   "id": "168166cc",
   "metadata": {
    "papermill": {
     "duration": 0.017541,
     "end_time": "2023-05-25T20:39:00.192626",
     "exception": false,
     "start_time": "2023-05-25T20:39:00.175085",
     "status": "completed"
    },
    "tags": []
   },
   "source": [
    "## Step 3: Preprocess the Data\n",
    "The data is already normalized with no missing values, so a degree of pre-processing has occurred. Important additional steps include splitting the features for X variables and the labels or Y variables additionally we need to do scaling of the data or see score normalization using the skikit-learn library.  We should convert the string \"R\" and \"M\" to numeric values to aid in prediction. We can use 1 for rock (R) and -1 for mine (M)."
   ]
  },
  {
   "cell_type": "markdown",
   "id": "48acc8ee",
   "metadata": {
    "papermill": {
     "duration": 0.017531,
     "end_time": "2023-05-25T20:39:00.227968",
     "exception": false,
     "start_time": "2023-05-25T20:39:00.210437",
     "status": "completed"
    },
    "tags": []
   },
   "source": [
    "Lets split the data"
   ]
  },
  {
   "cell_type": "code",
   "execution_count": 7,
   "id": "39e8e70e",
   "metadata": {
    "execution": {
     "iopub.execute_input": "2023-05-25T20:39:00.266560Z",
     "iopub.status.busy": "2023-05-25T20:39:00.266142Z",
     "iopub.status.idle": "2023-05-25T20:39:00.274448Z",
     "shell.execute_reply": "2023-05-25T20:39:00.273036Z"
    },
    "papermill": {
     "duration": 0.031377,
     "end_time": "2023-05-25T20:39:00.277541",
     "exception": false,
     "start_time": "2023-05-25T20:39:00.246164",
     "status": "completed"
    },
    "tags": []
   },
   "outputs": [
    {
     "name": "stdout",
     "output_type": "stream",
     "text": [
      "Sanity check:\n",
      "X.shape: (208, 60)\n",
      "y.shape: (208,)\n"
     ]
    }
   ],
   "source": [
    "# Separate features and target columns\n",
    "X = sonar_data.iloc[:, :-1]\n",
    "y = sonar_data.iloc[:, -1]\n",
    "print(\"Sanity check:\")\n",
    "print(\"X.shape:\",X.shape)\n",
    "print(\"y.shape:\",y.shape)\n"
   ]
  },
  {
   "cell_type": "markdown",
   "id": "c1b8e198",
   "metadata": {
    "papermill": {
     "duration": 0.018095,
     "end_time": "2023-05-25T20:39:00.314249",
     "exception": false,
     "start_time": "2023-05-25T20:39:00.296154",
     "status": "completed"
    },
    "tags": []
   },
   "source": [
    "Now that we have split the data lets apply scale the data with z-score normalization"
   ]
  },
  {
   "cell_type": "code",
   "execution_count": 8,
   "id": "5d12050b",
   "metadata": {
    "execution": {
     "iopub.execute_input": "2023-05-25T20:39:00.353320Z",
     "iopub.status.busy": "2023-05-25T20:39:00.352914Z",
     "iopub.status.idle": "2023-05-25T20:39:01.301436Z",
     "shell.execute_reply": "2023-05-25T20:39:01.300132Z"
    },
    "papermill": {
     "duration": 0.971886,
     "end_time": "2023-05-25T20:39:01.304885",
     "exception": false,
     "start_time": "2023-05-25T20:39:00.332999",
     "status": "completed"
    },
    "tags": []
   },
   "outputs": [],
   "source": [
    "from sklearn.preprocessing import StandardScaler\n",
    "\n",
    "#creates a new scaled X var using standardscar and fit_transform\n",
    "X_scale = StandardScaler().fit_transform(X)"
   ]
  },
  {
   "cell_type": "markdown",
   "id": "b564a550",
   "metadata": {
    "papermill": {
     "duration": 0.027058,
     "end_time": "2023-05-25T20:39:01.354935",
     "exception": false,
     "start_time": "2023-05-25T20:39:01.327877",
     "status": "completed"
    },
    "tags": []
   },
   "source": [
    "Lets look at orginal data again"
   ]
  },
  {
   "cell_type": "code",
   "execution_count": 9,
   "id": "e9c0984e",
   "metadata": {
    "execution": {
     "iopub.execute_input": "2023-05-25T20:39:01.397626Z",
     "iopub.status.busy": "2023-05-25T20:39:01.397171Z",
     "iopub.status.idle": "2023-05-25T20:39:01.429060Z",
     "shell.execute_reply": "2023-05-25T20:39:01.427898Z"
    },
    "papermill": {
     "duration": 0.054484,
     "end_time": "2023-05-25T20:39:01.431813",
     "exception": false,
     "start_time": "2023-05-25T20:39:01.377329",
     "status": "completed"
    },
    "tags": []
   },
   "outputs": [
    {
     "data": {
      "text/html": [
       "<div>\n",
       "<style scoped>\n",
       "    .dataframe tbody tr th:only-of-type {\n",
       "        vertical-align: middle;\n",
       "    }\n",
       "\n",
       "    .dataframe tbody tr th {\n",
       "        vertical-align: top;\n",
       "    }\n",
       "\n",
       "    .dataframe thead th {\n",
       "        text-align: right;\n",
       "    }\n",
       "</style>\n",
       "<table border=\"1\" class=\"dataframe\">\n",
       "  <thead>\n",
       "    <tr style=\"text-align: right;\">\n",
       "      <th></th>\n",
       "      <th>0</th>\n",
       "      <th>1</th>\n",
       "      <th>2</th>\n",
       "      <th>3</th>\n",
       "      <th>4</th>\n",
       "      <th>5</th>\n",
       "      <th>6</th>\n",
       "      <th>7</th>\n",
       "      <th>8</th>\n",
       "      <th>9</th>\n",
       "      <th>...</th>\n",
       "      <th>50</th>\n",
       "      <th>51</th>\n",
       "      <th>52</th>\n",
       "      <th>53</th>\n",
       "      <th>54</th>\n",
       "      <th>55</th>\n",
       "      <th>56</th>\n",
       "      <th>57</th>\n",
       "      <th>58</th>\n",
       "      <th>59</th>\n",
       "    </tr>\n",
       "  </thead>\n",
       "  <tbody>\n",
       "    <tr>\n",
       "      <th>0</th>\n",
       "      <td>0.0200</td>\n",
       "      <td>0.0371</td>\n",
       "      <td>0.0428</td>\n",
       "      <td>0.0207</td>\n",
       "      <td>0.0954</td>\n",
       "      <td>0.0986</td>\n",
       "      <td>0.1539</td>\n",
       "      <td>0.1601</td>\n",
       "      <td>0.3109</td>\n",
       "      <td>0.2111</td>\n",
       "      <td>...</td>\n",
       "      <td>0.0232</td>\n",
       "      <td>0.0027</td>\n",
       "      <td>0.0065</td>\n",
       "      <td>0.0159</td>\n",
       "      <td>0.0072</td>\n",
       "      <td>0.0167</td>\n",
       "      <td>0.0180</td>\n",
       "      <td>0.0084</td>\n",
       "      <td>0.0090</td>\n",
       "      <td>0.0032</td>\n",
       "    </tr>\n",
       "    <tr>\n",
       "      <th>1</th>\n",
       "      <td>0.0453</td>\n",
       "      <td>0.0523</td>\n",
       "      <td>0.0843</td>\n",
       "      <td>0.0689</td>\n",
       "      <td>0.1183</td>\n",
       "      <td>0.2583</td>\n",
       "      <td>0.2156</td>\n",
       "      <td>0.3481</td>\n",
       "      <td>0.3337</td>\n",
       "      <td>0.2872</td>\n",
       "      <td>...</td>\n",
       "      <td>0.0125</td>\n",
       "      <td>0.0084</td>\n",
       "      <td>0.0089</td>\n",
       "      <td>0.0048</td>\n",
       "      <td>0.0094</td>\n",
       "      <td>0.0191</td>\n",
       "      <td>0.0140</td>\n",
       "      <td>0.0049</td>\n",
       "      <td>0.0052</td>\n",
       "      <td>0.0044</td>\n",
       "    </tr>\n",
       "    <tr>\n",
       "      <th>2</th>\n",
       "      <td>0.0262</td>\n",
       "      <td>0.0582</td>\n",
       "      <td>0.1099</td>\n",
       "      <td>0.1083</td>\n",
       "      <td>0.0974</td>\n",
       "      <td>0.2280</td>\n",
       "      <td>0.2431</td>\n",
       "      <td>0.3771</td>\n",
       "      <td>0.5598</td>\n",
       "      <td>0.6194</td>\n",
       "      <td>...</td>\n",
       "      <td>0.0033</td>\n",
       "      <td>0.0232</td>\n",
       "      <td>0.0166</td>\n",
       "      <td>0.0095</td>\n",
       "      <td>0.0180</td>\n",
       "      <td>0.0244</td>\n",
       "      <td>0.0316</td>\n",
       "      <td>0.0164</td>\n",
       "      <td>0.0095</td>\n",
       "      <td>0.0078</td>\n",
       "    </tr>\n",
       "    <tr>\n",
       "      <th>3</th>\n",
       "      <td>0.0100</td>\n",
       "      <td>0.0171</td>\n",
       "      <td>0.0623</td>\n",
       "      <td>0.0205</td>\n",
       "      <td>0.0205</td>\n",
       "      <td>0.0368</td>\n",
       "      <td>0.1098</td>\n",
       "      <td>0.1276</td>\n",
       "      <td>0.0598</td>\n",
       "      <td>0.1264</td>\n",
       "      <td>...</td>\n",
       "      <td>0.0241</td>\n",
       "      <td>0.0121</td>\n",
       "      <td>0.0036</td>\n",
       "      <td>0.0150</td>\n",
       "      <td>0.0085</td>\n",
       "      <td>0.0073</td>\n",
       "      <td>0.0050</td>\n",
       "      <td>0.0044</td>\n",
       "      <td>0.0040</td>\n",
       "      <td>0.0117</td>\n",
       "    </tr>\n",
       "    <tr>\n",
       "      <th>4</th>\n",
       "      <td>0.0762</td>\n",
       "      <td>0.0666</td>\n",
       "      <td>0.0481</td>\n",
       "      <td>0.0394</td>\n",
       "      <td>0.0590</td>\n",
       "      <td>0.0649</td>\n",
       "      <td>0.1209</td>\n",
       "      <td>0.2467</td>\n",
       "      <td>0.3564</td>\n",
       "      <td>0.4459</td>\n",
       "      <td>...</td>\n",
       "      <td>0.0156</td>\n",
       "      <td>0.0031</td>\n",
       "      <td>0.0054</td>\n",
       "      <td>0.0105</td>\n",
       "      <td>0.0110</td>\n",
       "      <td>0.0015</td>\n",
       "      <td>0.0072</td>\n",
       "      <td>0.0048</td>\n",
       "      <td>0.0107</td>\n",
       "      <td>0.0094</td>\n",
       "    </tr>\n",
       "  </tbody>\n",
       "</table>\n",
       "<p>5 rows × 60 columns</p>\n",
       "</div>"
      ],
      "text/plain": [
       "       0       1       2       3       4       5       6       7       8   \\\n",
       "0  0.0200  0.0371  0.0428  0.0207  0.0954  0.0986  0.1539  0.1601  0.3109   \n",
       "1  0.0453  0.0523  0.0843  0.0689  0.1183  0.2583  0.2156  0.3481  0.3337   \n",
       "2  0.0262  0.0582  0.1099  0.1083  0.0974  0.2280  0.2431  0.3771  0.5598   \n",
       "3  0.0100  0.0171  0.0623  0.0205  0.0205  0.0368  0.1098  0.1276  0.0598   \n",
       "4  0.0762  0.0666  0.0481  0.0394  0.0590  0.0649  0.1209  0.2467  0.3564   \n",
       "\n",
       "       9   ...      50      51      52      53      54      55      56  \\\n",
       "0  0.2111  ...  0.0232  0.0027  0.0065  0.0159  0.0072  0.0167  0.0180   \n",
       "1  0.2872  ...  0.0125  0.0084  0.0089  0.0048  0.0094  0.0191  0.0140   \n",
       "2  0.6194  ...  0.0033  0.0232  0.0166  0.0095  0.0180  0.0244  0.0316   \n",
       "3  0.1264  ...  0.0241  0.0121  0.0036  0.0150  0.0085  0.0073  0.0050   \n",
       "4  0.4459  ...  0.0156  0.0031  0.0054  0.0105  0.0110  0.0015  0.0072   \n",
       "\n",
       "       57      58      59  \n",
       "0  0.0084  0.0090  0.0032  \n",
       "1  0.0049  0.0052  0.0044  \n",
       "2  0.0164  0.0095  0.0078  \n",
       "3  0.0044  0.0040  0.0117  \n",
       "4  0.0048  0.0107  0.0094  \n",
       "\n",
       "[5 rows x 60 columns]"
      ]
     },
     "execution_count": 9,
     "metadata": {},
     "output_type": "execute_result"
    }
   ],
   "source": [
    "X.head()"
   ]
  },
  {
   "cell_type": "markdown",
   "id": "d3be5c7b",
   "metadata": {
    "papermill": {
     "duration": 0.018184,
     "end_time": "2023-05-25T20:39:01.468721",
     "exception": false,
     "start_time": "2023-05-25T20:39:01.450537",
     "status": "completed"
    },
    "tags": []
   },
   "source": [
    "lets look at scaled data"
   ]
  },
  {
   "cell_type": "code",
   "execution_count": 10,
   "id": "7aee1f0c",
   "metadata": {
    "execution": {
     "iopub.execute_input": "2023-05-25T20:39:01.507591Z",
     "iopub.status.busy": "2023-05-25T20:39:01.507159Z",
     "iopub.status.idle": "2023-05-25T20:39:01.517808Z",
     "shell.execute_reply": "2023-05-25T20:39:01.516470Z"
    },
    "papermill": {
     "duration": 0.033526,
     "end_time": "2023-05-25T20:39:01.520533",
     "exception": false,
     "start_time": "2023-05-25T20:39:01.487007",
     "status": "completed"
    },
    "tags": []
   },
   "outputs": [
    {
     "data": {
      "text/plain": [
       "array([[-0.39955135, -0.04064823, -0.02692565, -0.71510513,  0.36445605,\n",
       "        -0.10125288,  0.52163841,  0.29784323,  1.12527153,  0.02118591,\n",
       "        -0.56738192, -0.65854108, -0.35204302, -1.41437288, -1.24041609,\n",
       "        -0.65141323, -0.40291277, -0.5842021 ,  0.01161165, -0.31809184,\n",
       "        -0.11959712, -0.45902868, -0.85816473, -0.49322534, -0.01769506,\n",
       "        -0.24662866,  0.03364482,  0.48168725,  0.15448626, -0.8865206 ,\n",
       "        -1.75089006, -0.83977659,  0.46054842,  1.52357887,  1.78380502,\n",
       "         1.76803946,  1.27600761,  1.27102447,  0.84846088, -0.20651076,\n",
       "        -1.39574065,  0.03033902,  0.25932835,  1.59077057,  0.44206152,\n",
       "        -0.16488536, -0.20004835,  0.68858804, -0.37997825,  0.87851031,\n",
       "         0.59528304, -1.11543184, -0.59760446,  0.68089736, -0.29564577,\n",
       "         1.4816347 ,  1.76378447,  0.06987027,  0.17167808, -0.65894689],\n",
       "       [ 0.70353822,  0.42163039,  1.05561832,  0.32333027,  0.77767571,\n",
       "         2.60721675,  1.52262508,  2.51098151,  1.31832456,  0.58870579,\n",
       "         1.9321418 ,  2.89819455,  2.97671927,  2.94451465,  2.07970319,\n",
       "         2.43833559,  2.22023769,  1.66761939,  1.1562786 ,  0.83487067,\n",
       "        -0.34160538, -0.85821813, -1.00681846, -1.17906213, -1.43418152,\n",
       "        -1.60513609, -1.53042537, -1.76370234, -0.83353255, -1.71706085,\n",
       "        -0.58870622, -0.67853457, -1.06214973, -0.73317795, -1.01339455,\n",
       "         0.12658165,  0.08228328, -1.10117861, -0.71401188, -0.64077733,\n",
       "        -0.7138397 , -1.30697719, -0.76765255, -0.38561286, -0.89335617,\n",
       "        -1.05026126, -0.80067004, -0.2766181 , -0.3074891 , -1.05075617,\n",
       "        -0.29790238, -0.52234906, -0.25685729, -0.84315094,  0.01550304,\n",
       "         1.90104613,  1.07073229, -0.47240644, -0.44455424, -0.41985233],\n",
       "       [-0.12922901,  0.60106749,  1.72340448,  1.1721758 ,  0.40054511,\n",
       "         2.09333679,  1.96876987,  2.85236986,  3.23276711,  3.06610531,\n",
       "         3.00099222,  3.26174016,  1.99892646,  1.43487198,  1.59905688,\n",
       "         1.35556627,  0.98811731,  1.16052836,  1.50791594,  1.14057175,\n",
       "         0.73227696,  0.19362059, -0.87218867, -1.29057349, -0.58248885,\n",
       "        -1.93768519, -0.7963366 ,  0.67313493, -0.16052818,  1.22820109,\n",
       "         1.62417426,  0.30772131, -1.12136847, -0.57365308,  0.11848291,\n",
       "        -0.30570053,  1.03534075,  1.58119944,  1.06598851,  0.90159838,\n",
       "         1.02781967, -0.11640336, -0.24262299,  0.06110394,  0.09167965,\n",
       "        -1.07046849,  0.1423406 , -0.2734061 , -1.08535341, -0.72065354,\n",
       "        -1.0658749 ,  1.01758518,  0.83637321, -0.19783319,  1.23181204,\n",
       "         2.82724635,  4.12016186,  1.30935987,  0.25276128,  0.25758223],\n",
       "       [-0.83555514, -0.64890959,  0.48173959, -0.71941399, -0.98707896,\n",
       "        -1.14936448, -0.19381559, -0.08474717, -1.00085198, -0.61046894,\n",
       "        -1.11729224, -0.36512828, -1.8126877 , -0.42947883, -0.71878066,\n",
       "        -0.71259638, -1.31797409, -0.85940344, -0.38393178, -0.63257086,\n",
       "        -1.30234515, -1.00003027, -0.36612491, -0.78835315, -1.47920131,\n",
       "        -0.7034083 , -0.72043859, -1.86808992, -1.80694804, -1.02184099,\n",
       "         0.56926172,  1.38658557,  0.9454625 , -0.23206176,  0.01055612,\n",
       "        -0.3174659 ,  0.73952107,  2.54984903,  3.32283767,  3.39722849,\n",
       "         1.89132654,  1.32072143,  0.53698822,  0.79811146,  1.53551739,\n",
       "         1.5325217 ,  1.64908254,  1.0627861 ,  0.45085891,  0.65844189,\n",
       "         0.67041079, -0.1373655 , -1.00934062,  0.55732588, -0.11178511,\n",
       "        -0.16106004, -0.4886351 , -0.54987454, -0.63915392,  1.03463953]])"
      ]
     },
     "execution_count": 10,
     "metadata": {},
     "output_type": "execute_result"
    }
   ],
   "source": [
    "X_scale[0:4]"
   ]
  },
  {
   "cell_type": "markdown",
   "id": "bfc77a5e",
   "metadata": {
    "papermill": {
     "duration": 0.018252,
     "end_time": "2023-05-25T20:39:01.557442",
     "exception": false,
     "start_time": "2023-05-25T20:39:01.539190",
     "status": "completed"
    },
    "tags": []
   },
   "source": [
    "We can see that we successfully split the initial data set with the Y labeled Now as a separate variable and the features saved as the X variable. We then transformed with Z score normalization the features which was proved successful by looking at the first four lines of the X & X_scale variables. We need to be aware of this transformation and the model will be built on transformed data and so raw data cannot be input it without transformation prior"
   ]
  },
  {
   "cell_type": "markdown",
   "id": "592ea145",
   "metadata": {
    "papermill": {
     "duration": 0.018194,
     "end_time": "2023-05-25T20:39:01.594442",
     "exception": false,
     "start_time": "2023-05-25T20:39:01.576248",
     "status": "completed"
    },
    "tags": []
   },
   "source": [
    "## Step 4: Prepare the Training and Test Data Sets\n",
    "\n",
    "We need to prepare the data for training and test by using the train_test_split function. We already separated the features and labels of the data set and  seperate variables so we will split these variable’s accordingly. "
   ]
  },
  {
   "cell_type": "code",
   "execution_count": 11,
   "id": "775c334a",
   "metadata": {
    "execution": {
     "iopub.execute_input": "2023-05-25T20:39:01.633238Z",
     "iopub.status.busy": "2023-05-25T20:39:01.632835Z",
     "iopub.status.idle": "2023-05-25T20:39:01.701239Z",
     "shell.execute_reply": "2023-05-25T20:39:01.700019Z"
    },
    "papermill": {
     "duration": 0.091219,
     "end_time": "2023-05-25T20:39:01.704226",
     "exception": false,
     "start_time": "2023-05-25T20:39:01.613007",
     "status": "completed"
    },
    "tags": []
   },
   "outputs": [],
   "source": [
    "from sklearn.model_selection import train_test_split\n",
    "\n",
    "# Split the data into training and testing sets\n",
    "X_train, X_test, y_train, y_test = train_test_split(X_scale, y, test_size=0.2, random_state=42)"
   ]
  },
  {
   "cell_type": "markdown",
   "id": "a67469b4",
   "metadata": {
    "papermill": {
     "duration": 0.018222,
     "end_time": "2023-05-25T20:39:01.741267",
     "exception": false,
     "start_time": "2023-05-25T20:39:01.723045",
     "status": "completed"
    },
    "tags": []
   },
   "source": [
    "lets do a sanity check and use head and shape to examine our split for size and randomness before proceeding\n"
   ]
  },
  {
   "cell_type": "code",
   "execution_count": 12,
   "id": "043dd0a9",
   "metadata": {
    "execution": {
     "iopub.execute_input": "2023-05-25T20:39:01.779516Z",
     "iopub.status.busy": "2023-05-25T20:39:01.779096Z",
     "iopub.status.idle": "2023-05-25T20:39:01.789584Z",
     "shell.execute_reply": "2023-05-25T20:39:01.788739Z"
    },
    "papermill": {
     "duration": 0.032453,
     "end_time": "2023-05-25T20:39:01.791854",
     "exception": false,
     "start_time": "2023-05-25T20:39:01.759401",
     "status": "completed"
    },
    "tags": []
   },
   "outputs": [
    {
     "data": {
      "text/plain": [
       "array([[-0.45187181, -0.04368954,  1.34255769,  0.61417836, -0.90768305,\n",
       "        -0.94584766,  0.33506877,  0.73458488,  0.07872089, -0.2062695 ,\n",
       "        -0.16703512, -0.7007639 , -0.53906812,  1.14476704,  1.99870086,\n",
       "         1.73300595,  1.42416855,  0.61280871, -0.32953484, -1.07757393,\n",
       "        -0.36648896,  0.51955348,  0.85195413,  1.37228427,  0.69689187,\n",
       "        -0.08521347, -0.02062633, -0.4637177 , -0.6879166 , -0.27621655,\n",
       "        -0.37650578, -1.31551107, -1.21553597, -1.49308858,  0.0159718 ,\n",
       "         1.25188163,  1.53798351,  0.05291702, -1.34393564, -0.23680843,\n",
       "         0.76595565,  0.64820169, -0.01833151, -0.10585083,  0.22125484,\n",
       "         0.20932255,  0.84786934,  1.26353613,  2.36066913,  1.42134574,\n",
       "        -0.14764689, -0.42870441, -1.05193401,  0.04930977, -0.88965714,\n",
       "        -0.44066765,  0.20441707, -0.34845747, -0.185088  , -0.81834326],\n",
       "       [-0.45623184, -0.1166809 , -0.70514597, -0.77973804, -0.64784187,\n",
       "         0.99095403,  1.31496496,  0.40732294,  0.46398023,  0.44850377,\n",
       "         0.5649197 ,  0.30828987, -0.3257315 , -1.2016699 , -0.68364712,\n",
       "        -0.68286654, -0.54281412, -0.63671266, -1.17113315, -1.48479372,\n",
       "        -0.76229353,  0.24924856,  0.6612286 ,  0.72375767,  0.885975  ,\n",
       "         0.97243633,  1.21006391,  1.2931211 ,  0.70231933,  0.17697053,\n",
       "         0.46667475,  0.54370817, -0.00592047, -1.10988208, -1.19017788,\n",
       "        -1.22985077, -1.11520146, -0.93455958, -0.79659181, -1.07279963,\n",
       "        -0.99093519, -1.03785047, -0.35224455, -0.60295488, -0.70758767,\n",
       "        -0.39015852,  0.34177928,  0.72070805,  0.94434272,  0.62909943,\n",
       "         0.35320475, -0.1893903 , -0.1290771 ,  1.23010396, -0.84722776,\n",
       "         0.32825329, -0.22874054,  0.55017249,  1.841992  ,  1.83162138],\n",
       "       [ 0.33293501,  0.05667358, -0.31647355, -0.52982412,  0.1226594 ,\n",
       "         0.50251368, -0.09160788, -0.80637151, -1.37595063, -1.17575155,\n",
       "        -1.09840796,  0.03062118, -0.90245148, -1.03223887, -0.96569135,\n",
       "        -0.91165703, -1.04007221, -1.24115905, -1.23990642, -1.71530989,\n",
       "        -1.56362282, -2.35978156, -1.63068328, -1.75212992, -2.66608682,\n",
       "        -2.14473609, -0.92568965,  0.02652358,  0.16867234,  0.28776978,\n",
       "         0.94541393,  0.46191193,  1.17893965,  2.02686252,  2.16328958,\n",
       "         2.184761  ,  1.7021885 ,  1.58873024,  1.59772272,  2.02429529,\n",
       "         1.84094554,  1.40924214,  0.96393533,  0.10321866, -0.29770699,\n",
       "        -0.60270861, -0.48479606, -0.2605581 ,  0.13023383, -0.21449617,\n",
       "        -0.85718671, -0.44951433,  0.75118641,  0.69462752, -0.16835762,\n",
       "        -0.21348646,  0.98410077, -0.19352127, -0.0229216 ,  0.05833677],\n",
       "       [ 0.51169656,  0.1114171 ,  0.35131261, -0.88099626, -1.02677692,\n",
       "        -0.04528575, -0.26519876, -0.32725062,  0.44196541,  0.13155771,\n",
       "         0.00972177,  0.58738985,  0.77792991,  1.14232919,  1.76154949,\n",
       "         1.62442741,  2.03851799,  2.0325103 ,  1.48538007,  1.00661285,\n",
       "         0.57170005,  0.77340506,  0.19924007, -0.11844656,  0.07930213,\n",
       "         0.42903335, -0.39521972, -0.36186585,  1.02484405,  1.24772719,\n",
       "         0.24276348, -0.70203923, -0.259299  ,  0.3267088 , -0.39368584,\n",
       "        -1.11940817, -0.66645805, -0.79523972, -1.43557923, -1.02454779,\n",
       "        -0.76832148, -0.35166645, -0.55129422, -0.87970872,  0.16175603,\n",
       "         0.84248232,  0.74872642,  0.23730198,  0.4062502 ,  1.47269504,\n",
       "        -0.39807271, -1.10502688, -1.00934062, -0.06053154,  0.38322437,\n",
       "         0.08359663, -0.29804575, -0.28648299, -0.80132031,  0.25758223]])"
      ]
     },
     "execution_count": 12,
     "metadata": {},
     "output_type": "execute_result"
    }
   ],
   "source": [
    "X_train[0:4]"
   ]
  },
  {
   "cell_type": "code",
   "execution_count": 13,
   "id": "7de067ae",
   "metadata": {
    "execution": {
     "iopub.execute_input": "2023-05-25T20:39:01.832907Z",
     "iopub.status.busy": "2023-05-25T20:39:01.832244Z",
     "iopub.status.idle": "2023-05-25T20:39:01.838943Z",
     "shell.execute_reply": "2023-05-25T20:39:01.838053Z"
    },
    "papermill": {
     "duration": 0.029746,
     "end_time": "2023-05-25T20:39:01.841232",
     "exception": false,
     "start_time": "2023-05-25T20:39:01.811486",
     "status": "completed"
    },
    "tags": []
   },
   "outputs": [
    {
     "data": {
      "text/plain": [
       "(166, 60)"
      ]
     },
     "execution_count": 13,
     "metadata": {},
     "output_type": "execute_result"
    }
   ],
   "source": [
    "X_train.shape"
   ]
  },
  {
   "cell_type": "code",
   "execution_count": 14,
   "id": "6cb111ea",
   "metadata": {
    "execution": {
     "iopub.execute_input": "2023-05-25T20:39:01.882228Z",
     "iopub.status.busy": "2023-05-25T20:39:01.880977Z",
     "iopub.status.idle": "2023-05-25T20:39:01.891280Z",
     "shell.execute_reply": "2023-05-25T20:39:01.890417Z"
    },
    "papermill": {
     "duration": 0.033165,
     "end_time": "2023-05-25T20:39:01.893562",
     "exception": false,
     "start_time": "2023-05-25T20:39:01.860397",
     "status": "completed"
    },
    "tags": []
   },
   "outputs": [
    {
     "data": {
      "text/plain": [
       "array([[ 0.05825262, -0.06497869, -0.58515314, -0.67201652, -0.53416135,\n",
       "        -0.64566036, -0.4517684 , -0.44261634,  0.63925206,  0.77887342,\n",
       "        -0.12700044,  0.08500989, -0.22332993, -0.47945489, -0.99692116,\n",
       "        -1.09779167, -1.24460191, -1.06101333, -1.27837283, -1.56112358,\n",
       "        -2.16899385, -1.73847198, -0.97396238, -0.43160064, -0.07253736,\n",
       "         0.20085481,  0.62083423,  0.90642216,  0.93764137,  1.3998491 ,\n",
       "         1.88321806,  1.94223593,  1.47163553,  0.9396658 ,  0.90027525,\n",
       "         1.13840281,  1.54550435,  1.35762871,  1.24222617,  1.68709347,\n",
       "         1.58435394,  1.29636339,  1.84739854,  2.73087609,  2.60120715,\n",
       "         2.39245146,  3.05783437,  2.99480438,  2.53073983,  1.61207171,\n",
       "         0.92083661,  0.68462643, -0.52661546, -0.54108732, -0.09764198,\n",
       "         0.11854758, -0.0728038 , -0.58086178, -0.39590432, -0.8781169 ],\n",
       "       [ 0.02773236,  0.70143061,  0.55217016,  0.82315809,  1.55719924,\n",
       "         2.11708042,  1.55507197,  0.80639415, -0.27182277, -0.91772017,\n",
       "         0.08752502,  0.81782624,  0.03125176, -0.08513159,  0.01707176,\n",
       "         0.23703497,  0.5619504 ,  0.01219522, -0.27202951,  0.3062864 ,\n",
       "        -0.83927713, -1.66639067, -1.17390364,  1.02223921,  1.07096543,\n",
       "        -1.00511104, -1.73445227, -0.13829892,  0.67060926, -0.73076592,\n",
       "         0.0689746 ,  1.20889028,  0.78625147,  2.10532449,  1.52307864,\n",
       "         1.24656824,  1.66165953,  0.47275931, -0.12537809,  0.0285767 ,\n",
       "        -0.0489277 ,  0.06836134, -1.3986977 , -0.20587327, -0.27721296,\n",
       "         0.01997335,  0.03166943, -0.2669821 , -0.1876032 , -1.02874933,\n",
       "        -0.05582409, -1.07381199,  0.65180182, -0.52735715,  1.68439213,\n",
       "        -0.10863361,  1.27864794, -0.47240644,  1.95550848,  0.1579595 ],\n",
       "       [-0.66551366, -0.49380294, -0.9112206 , -0.92839373, -0.96903444,\n",
       "        -1.54283032, -0.90602491, -0.46380596, -0.8416679 , -0.79616204,\n",
       "        -0.83025114, -1.19813437, -1.59295099, -1.29065166, -0.8236933 ,\n",
       "        -1.02928378, -1.1761719 , -0.99662081, -0.79929124, -0.90964824,\n",
       "        -0.89176595, -0.22907363,  0.40599296,  0.85119922,  0.93877095,\n",
       "         0.21648927, -0.06673641,  0.04342845, -0.23229306, -0.9246646 ,\n",
       "        -1.32976823, -0.82849435, -0.72819489, -0.48782176, -0.7518945 ,\n",
       "        -0.59224403, -0.18888475, -0.24737377, -0.16968927, -0.17172455,\n",
       "        -0.12332754, -0.39860025, -0.68687877, -0.26453306, -0.08086689,\n",
       "         0.08284027, -0.37643053, -0.41473412, -0.20711951, -0.69131108,\n",
       "        -1.14100264, -0.7512582 , -0.49821987,  0.04930977, -1.14423344,\n",
       "        -1.05230931, -0.92179271, -0.31747023, -0.65537055, -0.34015415],\n",
       "       [-0.48239207, -0.72494226, -1.0755586 , -0.85729753, -0.5973172 ,\n",
       "        -0.97128727, -1.38948362, -0.71454982, -0.32347292, -0.77378938,\n",
       "        -1.0999187 , -1.31049   , -1.23454548, -1.16388312, -1.39363735,\n",
       "        -1.10037687, -0.96327853, -0.33391454, -0.69399431, -1.00582386,\n",
       "        -1.54807058, -1.62133985, -1.75689871, -1.86322206, -2.45858649,\n",
       "        -2.12529866, -1.19786153, -0.23465669,  0.64640948,  0.77138125,\n",
       "         0.22121553, -1.023113  ,  0.24260406,  0.1936269 , -0.63004166,\n",
       "        -0.23283119,  0.35178003,  1.02815606,  1.64253744,  1.25787651,\n",
       "        -0.24283596, -0.30592085, -0.4885503 , -0.93460826, -0.94954948,\n",
       "        -0.92228216, -0.27037066,  0.06706595, -0.56398916, -0.45657144,\n",
       "        -0.70693122,  0.92394053,  2.09997729,  0.48867505,  1.98139782,\n",
       "        -0.72027527, -1.04307684, -0.48790006,  0.15546144,  0.39705406]])"
      ]
     },
     "execution_count": 14,
     "metadata": {},
     "output_type": "execute_result"
    }
   ],
   "source": [
    "X_test[0:4]"
   ]
  },
  {
   "cell_type": "code",
   "execution_count": 15,
   "id": "941900b7",
   "metadata": {
    "execution": {
     "iopub.execute_input": "2023-05-25T20:39:01.935095Z",
     "iopub.status.busy": "2023-05-25T20:39:01.934691Z",
     "iopub.status.idle": "2023-05-25T20:39:01.941532Z",
     "shell.execute_reply": "2023-05-25T20:39:01.940606Z"
    },
    "papermill": {
     "duration": 0.030794,
     "end_time": "2023-05-25T20:39:01.943917",
     "exception": false,
     "start_time": "2023-05-25T20:39:01.913123",
     "status": "completed"
    },
    "tags": []
   },
   "outputs": [
    {
     "data": {
      "text/plain": [
       "(42, 60)"
      ]
     },
     "execution_count": 15,
     "metadata": {},
     "output_type": "execute_result"
    }
   ],
   "source": [
    "X_test.shape"
   ]
  },
  {
   "cell_type": "code",
   "execution_count": 16,
   "id": "679a80e6",
   "metadata": {
    "execution": {
     "iopub.execute_input": "2023-05-25T20:39:01.985190Z",
     "iopub.status.busy": "2023-05-25T20:39:01.984730Z",
     "iopub.status.idle": "2023-05-25T20:39:01.994019Z",
     "shell.execute_reply": "2023-05-25T20:39:01.992917Z"
    },
    "papermill": {
     "duration": 0.03244,
     "end_time": "2023-05-25T20:39:01.996382",
     "exception": false,
     "start_time": "2023-05-25T20:39:01.963942",
     "status": "completed"
    },
    "tags": []
   },
   "outputs": [
    {
     "data": {
      "text/plain": [
       "161    M\n",
       "15     R\n",
       "73     R\n",
       "96     R\n",
       "166    M\n",
       "9      R\n",
       "100    M\n",
       "135    M\n",
       "18     R\n",
       "Name: 60, dtype: object"
      ]
     },
     "execution_count": 16,
     "metadata": {},
     "output_type": "execute_result"
    }
   ],
   "source": [
    "y_test[0:9]"
   ]
  },
  {
   "cell_type": "code",
   "execution_count": 17,
   "id": "19e4784d",
   "metadata": {
    "execution": {
     "iopub.execute_input": "2023-05-25T20:39:02.038635Z",
     "iopub.status.busy": "2023-05-25T20:39:02.038158Z",
     "iopub.status.idle": "2023-05-25T20:39:02.045820Z",
     "shell.execute_reply": "2023-05-25T20:39:02.044663Z"
    },
    "papermill": {
     "duration": 0.031824,
     "end_time": "2023-05-25T20:39:02.048393",
     "exception": false,
     "start_time": "2023-05-25T20:39:02.016569",
     "status": "completed"
    },
    "tags": []
   },
   "outputs": [
    {
     "data": {
      "text/plain": [
       "(42,)"
      ]
     },
     "execution_count": 17,
     "metadata": {},
     "output_type": "execute_result"
    }
   ],
   "source": [
    "y_test.shape"
   ]
  },
  {
   "cell_type": "code",
   "execution_count": 18,
   "id": "b2451cde",
   "metadata": {
    "execution": {
     "iopub.execute_input": "2023-05-25T20:39:02.091244Z",
     "iopub.status.busy": "2023-05-25T20:39:02.090796Z",
     "iopub.status.idle": "2023-05-25T20:39:02.100276Z",
     "shell.execute_reply": "2023-05-25T20:39:02.098935Z"
    },
    "papermill": {
     "duration": 0.034587,
     "end_time": "2023-05-25T20:39:02.103030",
     "exception": false,
     "start_time": "2023-05-25T20:39:02.068443",
     "status": "completed"
    },
    "tags": []
   },
   "outputs": [
    {
     "data": {
      "text/plain": [
       "86     R\n",
       "203    M\n",
       "67     R\n",
       "82     R\n",
       "205    M\n",
       "194    M\n",
       "38     R\n",
       "24     R\n",
       "60     R\n",
       "Name: 60, dtype: object"
      ]
     },
     "execution_count": 18,
     "metadata": {},
     "output_type": "execute_result"
    }
   ],
   "source": [
    "y_train[0:9]"
   ]
  },
  {
   "cell_type": "markdown",
   "id": "a7f13fcc",
   "metadata": {
    "papermill": {
     "duration": 0.020332,
     "end_time": "2023-05-25T20:39:02.143688",
     "exception": false,
     "start_time": "2023-05-25T20:39:02.123356",
     "status": "completed"
    },
    "tags": []
   },
   "source": [
    "We successfully split the training and test data based on 80:20 rule and divided the feature verse outcome.  We verified it this split and saw that X_train has 166 values and X_test has 42 rows the same distribution occurred with the Y test and train. The X data features the 59 records and the y data is only 1 and - 1 outcomes as we expect. We should be aware that 80:20 split might not be optimium. "
   ]
  },
  {
   "cell_type": "markdown",
   "id": "628ed383",
   "metadata": {
    "papermill": {
     "duration": 0.019308,
     "end_time": "2023-05-25T20:39:02.182943",
     "exception": false,
     "start_time": "2023-05-25T20:39:02.163635",
     "status": "completed"
    },
    "tags": []
   },
   "source": [
    "## Step 5: Instantiate and Configure an SVM\n",
    "\n",
    "In this step we will train or SVM on this sonar data the SVM model works well because this data set has 60 features and the model is an effective classifier for high dimensional data. We will use Sklearn functions for this step"
   ]
  },
  {
   "cell_type": "code",
   "execution_count": 19,
   "id": "1cd77eab",
   "metadata": {
    "execution": {
     "iopub.execute_input": "2023-05-25T20:39:02.224282Z",
     "iopub.status.busy": "2023-05-25T20:39:02.223887Z",
     "iopub.status.idle": "2023-05-25T20:39:02.314970Z",
     "shell.execute_reply": "2023-05-25T20:39:02.313809Z"
    },
    "papermill": {
     "duration": 0.115193,
     "end_time": "2023-05-25T20:39:02.317988",
     "exception": false,
     "start_time": "2023-05-25T20:39:02.202795",
     "status": "completed"
    },
    "tags": []
   },
   "outputs": [],
   "source": [
    "from sklearn.svm import SVC\n",
    "\n",
    "# generates the model\n",
    "sonar_SVC = SVC(kernel='rbf', C=1.0, gamma=0.01)"
   ]
  },
  {
   "cell_type": "markdown",
   "id": "e5905b14",
   "metadata": {
    "papermill": {
     "duration": 0.019845,
     "end_time": "2023-05-25T20:39:02.358421",
     "exception": false,
     "start_time": "2023-05-25T20:39:02.338576",
     "status": "completed"
    },
    "tags": []
   },
   "source": [
    "Here we simply created the support vector machine model and set a couple key parameters such as the C parameter so one the kernel to RBF and gamma to 0.01. During tuning of the model we will likely want to tweak these hyperparameters to improve accuracy."
   ]
  },
  {
   "cell_type": "markdown",
   "id": "d4517f48",
   "metadata": {
    "papermill": {
     "duration": 0.021659,
     "end_time": "2023-05-25T20:39:02.400403",
     "exception": false,
     "start_time": "2023-05-25T20:39:02.378744",
     "status": "completed"
    },
    "tags": []
   },
   "source": [
    "## Step 6: Train the SVM\n",
    "To train the SVM model we will use the XY train and split data from earlier and reference the fit function.**"
   ]
  },
  {
   "cell_type": "code",
   "execution_count": 20,
   "id": "8ec2ad44",
   "metadata": {
    "execution": {
     "iopub.execute_input": "2023-05-25T20:39:02.442780Z",
     "iopub.status.busy": "2023-05-25T20:39:02.441718Z",
     "iopub.status.idle": "2023-05-25T20:39:02.459767Z",
     "shell.execute_reply": "2023-05-25T20:39:02.458417Z"
    },
    "papermill": {
     "duration": 0.041528,
     "end_time": "2023-05-25T20:39:02.462285",
     "exception": false,
     "start_time": "2023-05-25T20:39:02.420757",
     "status": "completed"
    },
    "tags": []
   },
   "outputs": [
    {
     "data": {
      "text/plain": [
       "SVC(gamma=0.01)"
      ]
     },
     "execution_count": 20,
     "metadata": {},
     "output_type": "execute_result"
    }
   ],
   "source": [
    "# Training the model\n",
    "sonar_SVC.fit(X_train, y_train)"
   ]
  },
  {
   "cell_type": "markdown",
   "id": "3ed1dfb7",
   "metadata": {
    "papermill": {
     "duration": 0.019611,
     "end_time": "2023-05-25T20:39:02.502127",
     "exception": false,
     "start_time": "2023-05-25T20:39:02.482516",
     "status": "completed"
    },
    "tags": []
   },
   "source": [
    "This was a simple one line of code step. In future steps we will want to be conscious that if we soon the hyperparameters of the model we will need to refit it as well."
   ]
  },
  {
   "cell_type": "markdown",
   "id": "9c071dd5",
   "metadata": {
    "papermill": {
     "duration": 0.019456,
     "end_time": "2023-05-25T20:39:02.541393",
     "exception": false,
     "start_time": "2023-05-25T20:39:02.521937",
     "status": "completed"
    },
    "tags": []
   },
   "source": [
    "## Step 7: Validate and Test the SVM\n",
    "\n",
    "Here we will validate and test our model to make sure its produces logical oupouts and see how accurate they are given the defualt C, kernel, and gamma hyperparmaters. "
   ]
  },
  {
   "cell_type": "markdown",
   "id": "5122c7b2",
   "metadata": {
    "papermill": {
     "duration": 0.02005,
     "end_time": "2023-05-25T20:39:02.581660",
     "exception": false,
     "start_time": "2023-05-25T20:39:02.561610",
     "status": "completed"
    },
    "tags": []
   },
   "source": [
    "Lets examine the accuracy of the svm and its training set."
   ]
  },
  {
   "cell_type": "code",
   "execution_count": 21,
   "id": "87f4c554",
   "metadata": {
    "execution": {
     "iopub.execute_input": "2023-05-25T20:39:02.624536Z",
     "iopub.status.busy": "2023-05-25T20:39:02.623369Z",
     "iopub.status.idle": "2023-05-25T20:39:02.634125Z",
     "shell.execute_reply": "2023-05-25T20:39:02.633189Z"
    },
    "papermill": {
     "duration": 0.034939,
     "end_time": "2023-05-25T20:39:02.636450",
     "exception": false,
     "start_time": "2023-05-25T20:39:02.601511",
     "status": "completed"
    },
    "tags": []
   },
   "outputs": [
    {
     "name": "stdout",
     "output_type": "stream",
     "text": [
      "Training set accuracy: 95.78%\n"
     ]
    }
   ],
   "source": [
    "#accuracy check\n",
    "accuracy_train = sonar_SVC.score(X_train, y_train)\n",
    "\n",
    "print(f\"Training set accuracy: {accuracy_train*100:0.2f}%\")"
   ]
  },
  {
   "cell_type": "markdown",
   "id": "23e3a7c9",
   "metadata": {
    "papermill": {
     "duration": 0.019927,
     "end_time": "2023-05-25T20:39:02.676938",
     "exception": false,
     "start_time": "2023-05-25T20:39:02.657011",
     "status": "completed"
    },
    "tags": []
   },
   "source": [
    "Lets examine the accuracy of the svm and its test set.\n"
   ]
  },
  {
   "cell_type": "code",
   "execution_count": 22,
   "id": "64e3e464",
   "metadata": {
    "execution": {
     "iopub.execute_input": "2023-05-25T20:39:02.719406Z",
     "iopub.status.busy": "2023-05-25T20:39:02.719003Z",
     "iopub.status.idle": "2023-05-25T20:39:02.726611Z",
     "shell.execute_reply": "2023-05-25T20:39:02.725254Z"
    },
    "papermill": {
     "duration": 0.031926,
     "end_time": "2023-05-25T20:39:02.729229",
     "exception": false,
     "start_time": "2023-05-25T20:39:02.697303",
     "status": "completed"
    },
    "tags": []
   },
   "outputs": [
    {
     "name": "stdout",
     "output_type": "stream",
     "text": [
      "Training set accuracy: 85.71%\n"
     ]
    }
   ],
   "source": [
    "#accuracy check\n",
    "accuracy_test = sonar_SVC.score(X_test, y_test)\n",
    "\n",
    "print(f\"Training set accuracy: {accuracy_test*100:0.2f}%\")"
   ]
  },
  {
   "cell_type": "markdown",
   "id": "13d7ed34",
   "metadata": {
    "papermill": {
     "duration": 0.020067,
     "end_time": "2023-05-25T20:39:02.769394",
     "exception": false,
     "start_time": "2023-05-25T20:39:02.749327",
     "status": "completed"
    },
    "tags": []
   },
   "source": [
    "You can see the model is functioning well and accurately classifying the training and test sets given the default parameters with an accuracy of greater than 95% for the training set and roughly 86% for the test set. We'll want to keep in mind that the accuracy of the training set is not as informative as the test set accuracy at how well the model is performing\n",
    "\n"
   ]
  },
  {
   "cell_type": "markdown",
   "id": "f784c5de",
   "metadata": {
    "papermill": {
     "duration": 0.019885,
     "end_time": "2023-05-25T20:39:02.809616",
     "exception": false,
     "start_time": "2023-05-25T20:39:02.789731",
     "status": "completed"
    },
    "tags": []
   },
   "source": [
    "## Step 8: Demonstrate Making Predictions\n",
    "\n",
    "Replace this text with a prose description of what you will do in this section, and why you have chosen to do this. Demonstrate how you can use the SVM to make new predictions. Feel free to use arbitrary examples from the training set to demonstrate this. Show the predicted class label(s)."
   ]
  },
  {
   "cell_type": "markdown",
   "id": "bc091ecd",
   "metadata": {
    "papermill": {
     "duration": 0.02008,
     "end_time": "2023-05-25T20:39:02.850411",
     "exception": false,
     "start_time": "2023-05-25T20:39:02.830331",
     "status": "completed"
    },
    "tags": []
   },
   "source": [
    "Lets make some predictions on a subset of data where R = Rock and M = Mine"
   ]
  },
  {
   "cell_type": "code",
   "execution_count": 23,
   "id": "893a19fb",
   "metadata": {
    "execution": {
     "iopub.execute_input": "2023-05-25T20:39:02.892893Z",
     "iopub.status.busy": "2023-05-25T20:39:02.892471Z",
     "iopub.status.idle": "2023-05-25T20:39:02.900574Z",
     "shell.execute_reply": "2023-05-25T20:39:02.899433Z"
    },
    "papermill": {
     "duration": 0.032325,
     "end_time": "2023-05-25T20:39:02.903135",
     "exception": false,
     "start_time": "2023-05-25T20:39:02.870810",
     "status": "completed"
    },
    "tags": []
   },
   "outputs": [
    {
     "data": {
      "text/plain": [
       "array(['M', 'R', 'R', 'R', 'M', 'R', 'M', 'M', 'R'], dtype=object)"
      ]
     },
     "execution_count": 23,
     "metadata": {},
     "output_type": "execute_result"
    }
   ],
   "source": [
    "#generate prediction of subset of tests\n",
    "results = sonar_SVC.predict(X_test[0:9])\n",
    "results"
   ]
  },
  {
   "cell_type": "markdown",
   "id": "2010b49c",
   "metadata": {
    "papermill": {
     "duration": 0.020006,
     "end_time": "2023-05-25T20:39:02.943119",
     "exception": false,
     "start_time": "2023-05-25T20:39:02.923113",
     "status": "completed"
    },
    "tags": []
   },
   "source": [
    "Lets see what the actual values where"
   ]
  },
  {
   "cell_type": "code",
   "execution_count": 24,
   "id": "b926d71a",
   "metadata": {
    "execution": {
     "iopub.execute_input": "2023-05-25T20:39:02.986930Z",
     "iopub.status.busy": "2023-05-25T20:39:02.986238Z",
     "iopub.status.idle": "2023-05-25T20:39:02.993218Z",
     "shell.execute_reply": "2023-05-25T20:39:02.992089Z"
    },
    "papermill": {
     "duration": 0.031884,
     "end_time": "2023-05-25T20:39:02.996286",
     "exception": false,
     "start_time": "2023-05-25T20:39:02.964402",
     "status": "completed"
    },
    "tags": []
   },
   "outputs": [
    {
     "name": "stdout",
     "output_type": "stream",
     "text": [
      "161    M\n",
      "15     R\n",
      "73     R\n",
      "96     R\n",
      "166    M\n",
      "9      R\n",
      "100    M\n",
      "135    M\n",
      "18     R\n",
      "Name: 60, dtype: object\n"
     ]
    }
   ],
   "source": [
    "print(y_test[0:9])"
   ]
  },
  {
   "cell_type": "markdown",
   "id": "73fb1fce",
   "metadata": {
    "papermill": {
     "duration": 0.020135,
     "end_time": "2023-05-25T20:39:03.036648",
     "exception": false,
     "start_time": "2023-05-25T20:39:03.016513",
     "status": "completed"
    },
    "tags": []
   },
   "source": [
    "Here we showed the sonar_SVC model making a prediction on a small subset of test data and we can see that just visually comparing the predicted result to the actual values that the model performed correctly on all 10 predictions. That being said this is a very small subset and it cannot be inferred the model has 100% accuracy."
   ]
  },
  {
   "cell_type": "markdown",
   "id": "ff4ffef1",
   "metadata": {
    "papermill": {
     "duration": 0.020006,
     "end_time": "2023-05-25T20:39:03.077021",
     "exception": false,
     "start_time": "2023-05-25T20:39:03.057015",
     "status": "completed"
    },
    "tags": []
   },
   "source": [
    "## Step 9: Evaluate (and Improve?)\n",
    "\n",
    "The classifier performed well given the inital accuracy of the test set (85.7%). The model was configured with RBF kernel to allow for nonlinear decision boundaries the gamma value was set to 0.01 increasing the reach of each training record reducing overfitting. The  C=1 parameter “adjusts the margin steps” of the model or how much the model “cares” about misclassification. \n",
    "\n",
    "The initial configuration of the SVM model performed similar, but not quite as good to the 88% accuracy of the perceptron model on the same data set from notebook 4. Optimizing the model by setting C = 10 while keeping gamma at 0.01 and the 'RBF' kernel increased the accuracy of the training data set to 100% and the test data set to greater than 95%. This is a notable increase in performance over the perceptron and intial training of the SVC. The different gamma, C and kernel possible values we're tested using a grid search CV function to find the optimized parameters to use in the model. An accuracy of 95% seems quite good for a classifier on high dimensional data.\n"
   ]
  },
  {
   "cell_type": "markdown",
   "id": "5c4fe6b3",
   "metadata": {
    "papermill": {
     "duration": 0.019992,
     "end_time": "2023-05-25T20:39:03.116842",
     "exception": false,
     "start_time": "2023-05-25T20:39:03.096850",
     "status": "completed"
    },
    "tags": []
   },
   "source": [
    "> "
   ]
  },
  {
   "cell_type": "markdown",
   "id": "b92346b4",
   "metadata": {
    "papermill": {
     "duration": 0.019899,
     "end_time": "2023-05-25T20:39:03.156755",
     "exception": false,
     "start_time": "2023-05-25T20:39:03.136856",
     "status": "completed"
    },
    "tags": []
   },
   "source": [
    "Lets see if we can optimize C, gamma, or the kernel type to improve the model accuracy using the convenient gridsearchCV function."
   ]
  },
  {
   "cell_type": "code",
   "execution_count": 25,
   "id": "1a2a0f78",
   "metadata": {
    "execution": {
     "iopub.execute_input": "2023-05-25T20:39:03.199166Z",
     "iopub.status.busy": "2023-05-25T20:39:03.198778Z",
     "iopub.status.idle": "2023-05-25T20:39:04.303797Z",
     "shell.execute_reply": "2023-05-25T20:39:04.302378Z"
    },
    "papermill": {
     "duration": 1.130678,
     "end_time": "2023-05-25T20:39:04.307859",
     "exception": false,
     "start_time": "2023-05-25T20:39:03.177181",
     "status": "completed"
    },
    "tags": []
   },
   "outputs": [
    {
     "data": {
      "text/plain": [
       "SVC(C=10, gamma=0.01)"
      ]
     },
     "execution_count": 25,
     "metadata": {},
     "output_type": "execute_result"
    }
   ],
   "source": [
    "from sklearn.model_selection import GridSearchCV\n",
    "\n",
    "#setting diferent parameters for the model to use\n",
    "parameters = {'C': [0.1, 1, 10, 100], 'gamma': [1, 0.1, 0.01, 0.001], 'kernel': ['rbf', 'linear','poly']}\n",
    "\n",
    "#creates models with different paramaters\n",
    "grid_search_model = GridSearchCV(SVC(), parameters)\n",
    "\n",
    "#fits the model to training data\n",
    "grid_search_model.fit(X_train, y_train)\n",
    "\n",
    "#finds and prints the optimized paramaters\n",
    "grid_search_model.best_estimator_"
   ]
  },
  {
   "cell_type": "markdown",
   "id": "e3d2a65c",
   "metadata": {
    "papermill": {
     "duration": 0.024003,
     "end_time": "2023-05-25T20:39:04.361335",
     "exception": false,
     "start_time": "2023-05-25T20:39:04.337332",
     "status": "completed"
    },
    "tags": []
   },
   "source": [
    "It looks like increasing C from 1 to 10 is suggested to improve the models preformance. Lets see:"
   ]
  },
  {
   "cell_type": "code",
   "execution_count": 26,
   "id": "2b6bccd3",
   "metadata": {
    "execution": {
     "iopub.execute_input": "2023-05-25T20:39:04.404380Z",
     "iopub.status.busy": "2023-05-25T20:39:04.403986Z",
     "iopub.status.idle": "2023-05-25T20:39:04.418568Z",
     "shell.execute_reply": "2023-05-25T20:39:04.417624Z"
    },
    "papermill": {
     "duration": 0.039623,
     "end_time": "2023-05-25T20:39:04.421735",
     "exception": false,
     "start_time": "2023-05-25T20:39:04.382112",
     "status": "completed"
    },
    "tags": []
   },
   "outputs": [
    {
     "name": "stdout",
     "output_type": "stream",
     "text": [
      "Optimized model train set accuracy: 100.00%\n",
      "Optimized model test set accuracy: 95.24%\n"
     ]
    }
   ],
   "source": [
    "# generates the optimized model\n",
    "sonar_SVC_OP= SVC(C=100, gamma=0.01)\n",
    "\n",
    "# Training the optimized model\n",
    "sonar_SVC_OP.fit(X_train, y_train)\n",
    "\n",
    "#accuracy check test and train\n",
    "accuracy_test_OP = sonar_SVC_OP.score(X_test, y_test)\n",
    "accuracy_train_OP = sonar_SVC_OP.score(X_train, y_train)\n",
    "print(f\"Optimized model train set accuracy: {accuracy_train_OP*100:0.2f}%\")\n",
    "print(f\"Optimized model test set accuracy: {accuracy_test_OP*100:0.2f}%\")"
   ]
  },
  {
   "cell_type": "markdown",
   "id": "97e988bb",
   "metadata": {
    "papermill": {
     "duration": 0.020684,
     "end_time": "2023-05-25T20:39:04.466769",
     "exception": false,
     "start_time": "2023-05-25T20:39:04.446085",
     "status": "completed"
    },
    "tags": []
   },
   "source": [
    "This indeed improved the model's performance by increasing the training accuracy to 100% and the test accuracy to 95%. It worked!"
   ]
  },
  {
   "cell_type": "markdown",
   "id": "3ba4e963",
   "metadata": {
    "papermill": {
     "duration": 0.020804,
     "end_time": "2023-05-25T20:39:04.508921",
     "exception": false,
     "start_time": "2023-05-25T20:39:04.488117",
     "status": "completed"
    },
    "tags": []
   },
   "source": [
    "## Conclusion\n",
    "In this notebook we went through the machine learning process on the rock and mine data set using a support vector machine model. Important preprocessing step was applying a Z score normalization. The data set was split 80:20 and the SVC function from SKlearn was used to generate an initial model performance of 85.7% on the test set. Then the C parameter was optimized to 10 resulting in a improved model with a test set accuracy of 95%.\n",
    "\n",
    "The first notable thing of this example was using the Z_score normalization which I found to be interesting because I've heard this value and seen it referenced in lab reports or statistics but never actually seen it applied in a data set that I've manipulated. I'm impressed at how well support vector machine modeling can work on a 60 dimensional data set and that this model performed better than the perceptron which is the base of the neural Nets which are all of the rave these days. Finally I'm continuously impressed at the power of these SK learn functions and how so much can be accomplished with so few lines of code, sure beats having to write all this stuff out by hand.\n",
    "\n",
    "The model was optimized using a grid search CV function to find the best parameters based off of gamma ,C, and kernel selection. This was done in the perceptron problem to hyper tuned that model and it performed well in this example by identifying in increase of C to a value of 10 improving the models performance to 95% accuracy.\n",
    "\n",
    "An additional step that we could take to improve the performance of the classifier would be to reduce the dimensionality of the data set this. This worked on the perceptron example and with 60 features of the dataset used in the SVC example I could see it improving accuracy further. SKlearn documentation also lists many other parameters beyond kernel, gamma, and C that could be optimized, but its not clear if these will influence beyond the three primary parameters of gamma, C and kernel selection.\n",
    " \n",
    "\n"
   ]
  }
 ],
 "metadata": {
  "kernelspec": {
   "display_name": "Python 3",
   "language": "python",
   "name": "python3"
  },
  "language_info": {
   "codemirror_mode": {
    "name": "ipython",
    "version": 3
   },
   "file_extension": ".py",
   "mimetype": "text/x-python",
   "name": "python",
   "nbconvert_exporter": "python",
   "pygments_lexer": "ipython3",
   "version": "3.7.12"
  },
  "papermill": {
   "default_parameters": {},
   "duration": 18.515054,
   "end_time": "2023-05-25T20:39:05.253751",
   "environment_variables": {},
   "exception": null,
   "input_path": "__notebook__.ipynb",
   "output_path": "__notebook__.ipynb",
   "parameters": {},
   "start_time": "2023-05-25T20:38:46.738697",
   "version": "2.4.0"
  }
 },
 "nbformat": 4,
 "nbformat_minor": 5
}
