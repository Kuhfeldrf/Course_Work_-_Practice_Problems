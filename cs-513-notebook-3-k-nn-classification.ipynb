{
 "cells": [
  {
   "cell_type": "markdown",
   "id": "d87ea783",
   "metadata": {
    "papermill": {
     "duration": 0.011044,
     "end_time": "2023-04-24T22:33:04.148204",
     "exception": false,
     "start_time": "2023-04-24T22:33:04.137160",
     "status": "completed"
    },
    "tags": []
   },
   "source": [
    "# Introduction\n",
    "\n",
    "This notebook contains two parts. **Part 1, Evaluating k-NN Classifiers**, provides you an opportunity to demonstrate your ability to apply course concepts to determine the ideal **_k_** for a k-NN Classifier on a contrived Iris data set. **Part 2, Classifying Handwritten Digits**, provides you an opportunity to practice using widely-used ML libraries and an ML workflow to solve a classification problem.\n",
    "\n",
    "You do not need to complete Part 1 in order to complete Part 2. If you get stuck on Part 1, and choose to work on Part 2, be sure that all of your code for Part 1 runs without error. You can comment out your code in Part 1 if necessary."
   ]
  },
  {
   "cell_type": "markdown",
   "id": "430c647b",
   "metadata": {
    "papermill": {
     "duration": 0.009922,
     "end_time": "2023-04-24T22:33:04.168418",
     "exception": false,
     "start_time": "2023-04-24T22:33:04.158496",
     "status": "completed"
    },
    "tags": []
   },
   "source": [
    "# Part 1: Evaluating k-NN Classifiers\n",
    "\n",
    "Given a simple KnnClassifier, and a complete data set of [Iris attributes](https://www.kaggle.com/datasets/uciml/iris), demonstrate your ability to:\n",
    "\n",
    "1. Split a data set into appropriate training and test sets\n",
    "2. \"Train\" a k-NN classifier\n",
    "3. Repeatedly test a k-NN classifier, and collect generalization errors\n",
    "4. Analyze the generalization error for different values of `k`\n",
    "5. Identify the ideal `k` value for this classifier\n",
    "\n",
    "## The Classifier Implementation\n",
    "\n",
    "Let's first introduce the classifier, which you should find familiar, and you do not need to modify."
   ]
  },
  {
   "cell_type": "code",
   "execution_count": 1,
   "id": "8627b775",
   "metadata": {
    "_kg_hide-input": true,
    "_kg_hide-output": true,
    "execution": {
     "iopub.execute_input": "2023-04-24T22:33:04.191006Z",
     "iopub.status.busy": "2023-04-24T22:33:04.190400Z",
     "iopub.status.idle": "2023-04-24T22:33:04.204289Z",
     "shell.execute_reply": "2023-04-24T22:33:04.203262Z"
    },
    "papermill": {
     "duration": 0.027695,
     "end_time": "2023-04-24T22:33:04.206762",
     "exception": false,
     "start_time": "2023-04-24T22:33:04.179067",
     "status": "completed"
    },
    "tags": []
   },
   "outputs": [],
   "source": [
    "# A simple KnnClassifier. Uses Euclidean distance.\n",
    "\n",
    "from math import sqrt\n",
    "\n",
    "class KnnClassifier:\n",
    "\n",
    "    def __init__(self, k = 1):\n",
    "        self.k = k\n",
    "\n",
    "    def train(self, training_set):\n",
    "        self.training_set = training_set\n",
    "\n",
    "    def test(self, test_set):\n",
    "        number_of_correct_predictions = 0\n",
    "        for example in test_set:\n",
    "            prediction = self.predict(example[:-1])\n",
    "            if prediction == example[-1]:\n",
    "                number_of_correct_predictions += 1\n",
    "        return number_of_correct_predictions / len(test_set)\n",
    "\n",
    "    def predict(self, x):\n",
    "        distances = {}\n",
    "        for training_instance in self.training_set:\n",
    "            distance = self._distance(training_instance[:-1], x)\n",
    "            distances[distance] = training_instance[-1]\n",
    "        k_nearest_keys = sorted(list(distances.keys()))[:self.k]\n",
    "        k_nearest_labels = [distances[key] for key in k_nearest_keys]\n",
    "        label_frequencies = {label:k_nearest_labels.count(label) for label in k_nearest_labels}\n",
    "        frequencies = list(label_frequencies.values())\n",
    "        labels = list(label_frequencies.keys())\n",
    "        return labels[frequencies.index(max(frequencies))]\n",
    "\n",
    "    def _distance(self, training_instance, x):\n",
    "        sum_of_squares = 0\n",
    "        for i in range(len(x)):\n",
    "            sum_of_squares += (x[i] - training_instance[i])**2\n",
    "        return \"%.5f\" % sqrt(sum_of_squares)"
   ]
  },
  {
   "cell_type": "markdown",
   "id": "7dd63591",
   "metadata": {
    "papermill": {
     "duration": 0.010945,
     "end_time": "2023-04-24T22:33:04.227935",
     "exception": false,
     "start_time": "2023-04-24T22:33:04.216990",
     "status": "completed"
    },
    "tags": []
   },
   "source": [
    "## The Data Set\n",
    "\n",
    "There is no need for you to manually load the data set. We have provided the classic Iris data set here as a two-dimensional Python list, where each sub-list represents the attributes for one flower."
   ]
  },
  {
   "cell_type": "code",
   "execution_count": 2,
   "id": "4e232236",
   "metadata": {
    "_kg_hide-input": true,
    "execution": {
     "iopub.execute_input": "2023-04-24T22:33:04.249614Z",
     "iopub.status.busy": "2023-04-24T22:33:04.249050Z",
     "iopub.status.idle": "2023-04-24T22:33:04.280685Z",
     "shell.execute_reply": "2023-04-24T22:33:04.279709Z"
    },
    "papermill": {
     "duration": 0.045298,
     "end_time": "2023-04-24T22:33:04.283134",
     "exception": false,
     "start_time": "2023-04-24T22:33:04.237836",
     "status": "completed"
    },
    "tags": []
   },
   "outputs": [],
   "source": [
    "iris_data_set = [\n",
    "    [5.1,3.5,1.4,0.2,'Iris-setosa'],\n",
    "    [4.9,3.0,1.4,0.2,'Iris-setosa'],\n",
    "    [4.7,3.2,1.3,0.2,'Iris-setosa'],\n",
    "    [4.6,3.1,1.5,0.2,'Iris-setosa'],\n",
    "    [5.0,3.6,1.4,0.2,'Iris-setosa'],\n",
    "    [5.4,3.9,1.7,0.4,'Iris-setosa'],\n",
    "    [4.6,3.4,1.4,0.3,'Iris-setosa'],\n",
    "    [5.0,3.4,1.5,0.2,'Iris-setosa'],\n",
    "    [4.4,2.9,1.4,0.2,'Iris-setosa'],\n",
    "    [4.9,3.1,1.5,0.1,'Iris-setosa'],\n",
    "    [5.4,3.7,1.5,0.2,'Iris-setosa'],\n",
    "    [4.8,3.4,1.6,0.2,'Iris-setosa'],\n",
    "    [4.8,3.0,1.4,0.1,'Iris-setosa'],\n",
    "    [4.3,3.0,1.1,0.1,'Iris-setosa'],\n",
    "    [5.8,4.0,1.2,0.2,'Iris-setosa'],\n",
    "    [5.7,4.4,1.5,0.4,'Iris-setosa'],\n",
    "    [5.4,3.9,1.3,0.4,'Iris-setosa'],\n",
    "    [5.1,3.5,1.4,0.3,'Iris-setosa'],\n",
    "    [5.7,3.8,1.7,0.3,'Iris-setosa'],\n",
    "    [5.1,3.8,1.5,0.3,'Iris-setosa'],\n",
    "    [5.4,3.4,1.7,0.2,'Iris-setosa'],\n",
    "    [5.1,3.7,1.5,0.4,'Iris-setosa'],\n",
    "    [4.6,3.6,1.0,0.2,'Iris-setosa'],\n",
    "    [5.1,3.3,1.7,0.5,'Iris-setosa'],\n",
    "    [4.8,3.4,1.9,0.2,'Iris-setosa'],\n",
    "    [5.0,3.0,1.6,0.2,'Iris-setosa'],\n",
    "    [5.0,3.4,1.6,0.4,'Iris-setosa'],\n",
    "    [5.2,3.5,1.5,0.2,'Iris-setosa'],\n",
    "    [5.2,3.4,1.4,0.2,'Iris-setosa'],\n",
    "    [4.7,3.2,1.6,0.2,'Iris-setosa'],\n",
    "    [4.8,3.1,1.6,0.2,'Iris-setosa'],\n",
    "    [5.4,3.4,1.5,0.4,'Iris-setosa'],\n",
    "    [5.2,4.1,1.5,0.1,'Iris-setosa'],\n",
    "    [5.5,4.2,1.4,0.2,'Iris-setosa'],\n",
    "    [4.9,3.1,1.5,0.1,'Iris-setosa'],\n",
    "    [5.0,3.2,1.2,0.2,'Iris-setosa'],\n",
    "    [5.5,3.5,1.3,0.2,'Iris-setosa'],\n",
    "    [4.9,3.1,1.5,0.1,'Iris-setosa'],\n",
    "    [4.4,3.0,1.3,0.2,'Iris-setosa'],\n",
    "    [5.1,3.4,1.5,0.2,'Iris-setosa'],\n",
    "    [5.0,3.5,1.3,0.3,'Iris-setosa'],\n",
    "    [4.5,2.3,1.3,0.3,'Iris-setosa'],\n",
    "    [4.4,3.2,1.3,0.2,'Iris-setosa'],\n",
    "    [5.0,3.5,1.6,0.6,'Iris-setosa'],\n",
    "    [5.1,3.8,1.9,0.4,'Iris-setosa'],\n",
    "    [4.8,3.0,1.4,0.3,'Iris-setosa'],\n",
    "    [5.1,3.8,1.6,0.2,'Iris-setosa'],\n",
    "    [4.6,3.2,1.4,0.2,'Iris-setosa'],\n",
    "    [5.3,3.7,1.5,0.2,'Iris-setosa'],\n",
    "    [5.0,3.3,1.4,0.2,'Iris-setosa'],\n",
    "    [7.0,3.2,4.7,1.4,'Iris-versicolor'],\n",
    "    [6.4,3.2,4.5,1.5,'Iris-versicolor'],\n",
    "    [6.9,3.1,4.9,1.5,'Iris-versicolor'],\n",
    "    [5.5,2.3,4.0,1.3,'Iris-versicolor'],\n",
    "    [6.5,2.8,4.6,1.5,'Iris-versicolor'],\n",
    "    [5.7,2.8,4.5,1.3,'Iris-versicolor'],\n",
    "    [6.3,3.3,4.7,1.6,'Iris-versicolor'],\n",
    "    [4.9,2.4,3.3,1.0,'Iris-versicolor'],\n",
    "    [6.6,2.9,4.6,1.3,'Iris-versicolor'],\n",
    "    [5.2,2.7,3.9,1.4,'Iris-versicolor'],\n",
    "    [5.0,2.0,3.5,1.0,'Iris-versicolor'],\n",
    "    [5.9,3.0,4.2,1.5,'Iris-versicolor'],\n",
    "    [6.0,2.2,4.0,1.0,'Iris-versicolor'],\n",
    "    [6.1,2.9,4.7,1.4,'Iris-versicolor'],\n",
    "    [5.6,2.9,3.6,1.3,'Iris-versicolor'],\n",
    "    [6.7,3.1,4.4,1.4,'Iris-versicolor'],\n",
    "    [5.6,3.0,4.5,1.5,'Iris-versicolor'],\n",
    "    [5.8,2.7,4.1,1.0,'Iris-versicolor'],\n",
    "    [6.2,2.2,4.5,1.5,'Iris-versicolor'],\n",
    "    [5.6,2.5,3.9,1.1,'Iris-versicolor'],\n",
    "    [5.9,3.2,4.8,1.8,'Iris-versicolor'],\n",
    "    [6.1,2.8,4.0,1.3,'Iris-versicolor'],\n",
    "    [6.3,2.5,4.9,1.5,'Iris-versicolor'],\n",
    "    [6.1,2.8,4.7,1.2,'Iris-versicolor'],\n",
    "    [6.4,2.9,4.3,1.3,'Iris-versicolor'],\n",
    "    [6.6,3.0,4.4,1.4,'Iris-versicolor'],\n",
    "    [6.8,2.8,4.8,1.4,'Iris-versicolor'],\n",
    "    [6.7,3.0,5.0,1.7,'Iris-versicolor'],\n",
    "    [6.0,2.9,4.5,1.5,'Iris-versicolor'],\n",
    "    [5.7,2.6,3.5,1.0,'Iris-versicolor'],\n",
    "    [5.5,2.4,3.8,1.1,'Iris-versicolor'],\n",
    "    [5.5,2.4,3.7,1.0,'Iris-versicolor'],\n",
    "    [5.8,2.7,3.9,1.2,'Iris-versicolor'],\n",
    "    [6.0,2.7,5.1,1.6,'Iris-versicolor'],\n",
    "    [5.4,3.0,4.5,1.5,'Iris-versicolor'],\n",
    "    [6.0,3.4,4.5,1.6,'Iris-versicolor'],\n",
    "    [6.7,3.1,4.7,1.5,'Iris-versicolor'],\n",
    "    [6.3,2.3,4.4,1.3,'Iris-versicolor'],\n",
    "    [5.6,3.0,4.1,1.3,'Iris-versicolor'],\n",
    "    [5.5,2.5,4.0,1.3,'Iris-versicolor'],\n",
    "    [5.5,2.6,4.4,1.2,'Iris-versicolor'],\n",
    "    [6.1,3.0,4.6,1.4,'Iris-versicolor'],\n",
    "    [5.8,2.6,4.0,1.2,'Iris-versicolor'],\n",
    "    [5.0,2.3,3.3,1.0,'Iris-versicolor'],\n",
    "    [5.6,2.7,4.2,1.3,'Iris-versicolor'],\n",
    "    [5.7,3.0,4.2,1.2,'Iris-versicolor'],\n",
    "    [5.7,2.9,4.2,1.3,'Iris-versicolor'],\n",
    "    [6.2,2.9,4.3,1.3,'Iris-versicolor'],\n",
    "    [5.1,2.5,3.0,1.1,'Iris-versicolor'],\n",
    "    [5.7,2.8,4.1,1.3,'Iris-versicolor'],\n",
    "    [6.3,3.3,6.0,2.5,'Iris-virginica'],\n",
    "    [5.8,2.7,5.1,1.9,'Iris-virginica'],\n",
    "    [7.1,3.0,5.9,2.1,'Iris-virginica'],\n",
    "    [6.3,2.9,5.6,1.8,'Iris-virginica'],\n",
    "    [6.5,3.0,5.8,2.2,'Iris-virginica'],\n",
    "    [7.6,3.0,6.6,2.1,'Iris-virginica'],\n",
    "    [4.9,2.5,4.5,1.7,'Iris-virginica'],\n",
    "    [7.3,2.9,6.3,1.8,'Iris-virginica'],\n",
    "    [6.7,2.5,5.8,1.8,'Iris-virginica'],\n",
    "    [7.2,3.6,6.1,2.5,'Iris-virginica'],\n",
    "    [6.5,3.2,5.1,2.0,'Iris-virginica'],\n",
    "    [6.4,2.7,5.3,1.9,'Iris-virginica'],\n",
    "    [6.8,3.0,5.5,2.1,'Iris-virginica'],\n",
    "    [5.7,2.5,5.0,2.0,'Iris-virginica'],\n",
    "    [5.8,2.8,5.1,2.4,'Iris-virginica'],\n",
    "    [6.4,3.2,5.3,2.3,'Iris-virginica'],\n",
    "    [6.5,3.0,5.5,1.8,'Iris-virginica'],\n",
    "    [7.7,3.8,6.7,2.2,'Iris-virginica'],\n",
    "    [7.7,2.6,6.9,2.3,'Iris-virginica'],\n",
    "    [6.0,2.2,5.0,1.5,'Iris-virginica'],\n",
    "    [6.9,3.2,5.7,2.3,'Iris-virginica'],\n",
    "    [5.6,2.8,4.9,2.0,'Iris-virginica'],\n",
    "    [7.7,2.8,6.7,2.0,'Iris-virginica'],\n",
    "    [6.3,2.7,4.9,1.8,'Iris-virginica'],\n",
    "    [6.7,3.3,5.7,2.1,'Iris-virginica'],\n",
    "    [7.2,3.2,6.0,1.8,'Iris-virginica'],\n",
    "    [6.2,2.8,4.8,1.8,'Iris-virginica'],\n",
    "    [6.1,3.0,4.9,1.8,'Iris-virginica'],\n",
    "    [6.4,2.8,5.6,2.1,'Iris-virginica'],\n",
    "    [7.2,3.0,5.8,1.6,'Iris-virginica'],\n",
    "    [7.4,2.8,6.1,1.9,'Iris-virginica'],\n",
    "    [7.9,3.8,6.4,2.0,'Iris-virginica'],\n",
    "    [6.4,2.8,5.6,2.2,'Iris-virginica'],\n",
    "    [6.3,2.8,5.1,1.5,'Iris-virginica'],\n",
    "    [6.1,2.6,5.6,1.4,'Iris-virginica'],\n",
    "    [7.7,3.0,6.1,2.3,'Iris-virginica'],\n",
    "    [6.3,3.4,5.6,2.4,'Iris-virginica'],\n",
    "    [6.4,3.1,5.5,1.8,'Iris-virginica'],\n",
    "    [6.0,3.0,4.8,1.8,'Iris-virginica'],\n",
    "    [6.9,3.1,5.4,2.1,'Iris-virginica'],\n",
    "    [6.7,3.1,5.6,2.4,'Iris-virginica'],\n",
    "    [6.9,3.1,5.1,2.3,'Iris-virginica'],\n",
    "    [5.8,2.7,5.1,1.9,'Iris-virginica'],\n",
    "    [6.8,3.2,5.9,2.3,'Iris-virginica'],\n",
    "    [6.7,3.3,5.7,2.5,'Iris-virginica'],\n",
    "    [6.7,3.0,5.2,2.3,'Iris-virginica'],\n",
    "    [6.3,2.5,5.0,1.9,'Iris-virginica'],\n",
    "    [6.5,3.0,5.2,2.0,'Iris-virginica'],\n",
    "    [6.2,3.4,5.4,2.3,'Iris-virginica'],\n",
    "    [5.9,3.0,5.1,1.8,'Iris-virginica']\n",
    "]"
   ]
  },
  {
   "cell_type": "markdown",
   "id": "fa803ce9",
   "metadata": {
    "papermill": {
     "duration": 0.009577,
     "end_time": "2023-04-24T22:33:04.302813",
     "exception": false,
     "start_time": "2023-04-24T22:33:04.293236",
     "status": "completed"
    },
    "tags": []
   },
   "source": [
    "## What to Do\n",
    "\n",
    "Demonstrate your understanding and ability to have synthesized course concepts by providing a walkthrough, with both code and prose, that demonstrates a simple ML workflow. Your goal is to pick an ideal **_k_** for the classifier and demonstrate a methodical justification for your selection. In the end, your work should reflect the principles seen thus far in the course.\n",
    "\n",
    "Please be sure to demonstrate:\n",
    "\n",
    "1. Splitting a data set into appropriate training and test sets\n",
    "2. \"Training\" a k-NN classifier\n",
    "3. Repeatedly testing a k-NN classifier with different values of `k`, and reporting the generalization errors for each `k`\n",
    "4. Analyzing the generalization errors for different values of `k`\n",
    "5. Identifying the ideal `k` value for this classifier, and justifying your selection by demonstrating a sound process (not just assertion)\n",
    "\n",
    "### Tips\n",
    "\n",
    "1. Be sure that you have spent time with the Exploration materials in this course.\n",
    "2. Ask questions on the course forum if you get stuck (describe what you are trying to do, and errors that you encounter)\n",
    "3. **Keep it simple.** This is more straightforward than it may initially seem.\n"
   ]
  },
  {
   "cell_type": "markdown",
   "id": "83b563e8",
   "metadata": {
    "papermill": {
     "duration": 0.009611,
     "end_time": "2023-04-24T22:33:04.322295",
     "exception": false,
     "start_time": "2023-04-24T22:33:04.312684",
     "status": "completed"
    },
    "tags": []
   },
   "source": [
    "## Begin Your Walkthrough Here\n",
    "\n",
    "Discuss what you intend to do, why, and then execute it as code...\n"
   ]
  },
  {
   "cell_type": "markdown",
   "id": "4a0e3ba5",
   "metadata": {
    "papermill": {
     "duration": 0.009602,
     "end_time": "2023-04-24T22:33:04.341793",
     "exception": false,
     "start_time": "2023-04-24T22:33:04.332191",
     "status": "completed"
    },
    "tags": []
   },
   "source": [
    "The first steps:\n",
    "\n",
    "1)randomize list\n",
    "\n",
    "2)split the using holdout method lists to create a training(80%) and test(20%) list \n"
   ]
  },
  {
   "cell_type": "code",
   "execution_count": 3,
   "id": "a554dde6",
   "metadata": {
    "execution": {
     "iopub.execute_input": "2023-04-24T22:33:04.363764Z",
     "iopub.status.busy": "2023-04-24T22:33:04.363149Z",
     "iopub.status.idle": "2023-04-24T22:33:04.368372Z",
     "shell.execute_reply": "2023-04-24T22:33:04.367666Z"
    },
    "papermill": {
     "duration": 0.01847,
     "end_time": "2023-04-24T22:33:04.370169",
     "exception": false,
     "start_time": "2023-04-24T22:33:04.351699",
     "status": "completed"
    },
    "tags": []
   },
   "outputs": [],
   "source": [
    "#import random package and set seed\n",
    "\n",
    "import random\n",
    "random.seed(42)\n",
    "\n",
    "#randomize the iris list\n",
    "random.shuffle(iris_data_set)\n",
    "\n",
    "#split list into training(80%) list\n",
    "test_training_split = int(0.8 * len(iris_data_set))\n",
    "training_set = iris_data_set[:test_training_split]\n",
    "\n",
    "#split list into test(20%) list\n",
    "test_set = iris_data_set[test_training_split:]\n"
   ]
  },
  {
   "cell_type": "markdown",
   "id": "c6a14f6e",
   "metadata": {
    "papermill": {
     "duration": 0.009595,
     "end_time": "2023-04-24T22:33:04.389655",
     "exception": false,
     "start_time": "2023-04-24T22:33:04.380060",
     "status": "completed"
    },
    "tags": []
   },
   "source": [
    "The second step:\n",
    "1) Initial training of the classifier"
   ]
  },
  {
   "cell_type": "code",
   "execution_count": 4,
   "id": "5add80b9",
   "metadata": {
    "execution": {
     "iopub.execute_input": "2023-04-24T22:33:04.411916Z",
     "iopub.status.busy": "2023-04-24T22:33:04.411415Z",
     "iopub.status.idle": "2023-04-24T22:33:04.424386Z",
     "shell.execute_reply": "2023-04-24T22:33:04.423439Z"
    },
    "papermill": {
     "duration": 0.026285,
     "end_time": "2023-04-24T22:33:04.426363",
     "exception": false,
     "start_time": "2023-04-24T22:33:04.400078",
     "status": "completed"
    },
    "tags": []
   },
   "outputs": [
    {
     "name": "stdout",
     "output_type": "stream",
     "text": [
      "The error when k=10 is 96.7%\n"
     ]
    }
   ],
   "source": [
    "#set an inital k value\n",
    "inital_K=10\n",
    "knn_classifier = KnnClassifier(k=inital_K)\n",
    "\n",
    "#trains the classifier given the specified k value\n",
    "knn_classifier.train(training_set)\n",
    "\n",
    "#tests trained classifier agains test set \n",
    "class_error = knn_classifier.test(test_set)\n",
    "print(f\"The error when k={inital_K} is {class_error*100:.1f}%\")"
   ]
  },
  {
   "cell_type": "markdown",
   "id": "c10a480e",
   "metadata": {
    "papermill": {
     "duration": 0.009565,
     "end_time": "2023-04-24T22:33:04.446069",
     "exception": false,
     "start_time": "2023-04-24T22:33:04.436504",
     "status": "completed"
    },
    "tags": []
   },
   "source": [
    "The third step:\n",
    "\n",
    "1)test different k-values for ideal error"
   ]
  },
  {
   "cell_type": "code",
   "execution_count": 5,
   "id": "4c03ebdc",
   "metadata": {
    "execution": {
     "iopub.execute_input": "2023-04-24T22:33:04.466991Z",
     "iopub.status.busy": "2023-04-24T22:33:04.466643Z",
     "iopub.status.idle": "2023-04-24T22:33:05.263974Z",
     "shell.execute_reply": "2023-04-24T22:33:05.262584Z"
    },
    "papermill": {
     "duration": 0.810398,
     "end_time": "2023-04-24T22:33:05.266164",
     "exception": false,
     "start_time": "2023-04-24T22:33:04.455766",
     "status": "completed"
    },
    "tags": []
   },
   "outputs": [
    {
     "name": "stdout",
     "output_type": "stream",
     "text": [
      "The ideal value for k=31 resulting in a generalization error of 100.0%\n"
     ]
    }
   ],
   "source": [
    "#creates a list to store generalization errors\n",
    "gen_error_list =[0]\n",
    "\n",
    "#loops over and tests multiple k-values\n",
    "for K in range(1,100):\n",
    "    \n",
    "    #set an inital k value\n",
    "    knn_classifier = KnnClassifier(k=K)\n",
    "\n",
    "    #trains the classifier given the specified k value\n",
    "    knn_classifier.train(training_set)\n",
    "\n",
    "    #tests trained classifier agains test set \n",
    "    class_error = knn_classifier.test(test_set)\n",
    "    \n",
    "    #saves the error to list indexed based on k-value\n",
    "    gen_error_list.append(class_error)\n",
    "    #print(f\"The error when k={K} is {class_error*100:.1f}%\")\n",
    "    \n",
    "#prints the first instance of a maximium value in the list of generalized errors\n",
    "print(f\"The ideal value for k={gen_error_list.index(max(gen_error_list))} resulting in a generalization error of {max(gen_error_list)*100:.1f}%\")\n"
   ]
  },
  {
   "cell_type": "markdown",
   "id": "0f633cf0",
   "metadata": {
    "papermill": {
     "duration": 0.011673,
     "end_time": "2023-04-24T22:33:05.288304",
     "exception": false,
     "start_time": "2023-04-24T22:33:05.276631",
     "status": "completed"
    },
    "tags": []
   },
   "source": [
    "## Conclusion\n",
    "\n",
    "Write a review of what you did, some key decisions you made along the way and why you made those decisions, the end result, and what you might do next or experiment with next to achieve a higher performing classifier.\n",
    "\n",
    "### 💡 Knowledge Check Part 1\n",
    "**In this excersise we trained a K-NN classifier on the classic Iris training set. The first step was to randomize and split the dataset 80:20 ito training and test sets according to the holdout method. Then the classifier was optimized to find the ideal k value associaciated with the highest generlization error whic was K=31 and 100%**"
   ]
  },
  {
   "cell_type": "markdown",
   "id": "d4cb98e7",
   "metadata": {
    "papermill": {
     "duration": 0.009509,
     "end_time": "2023-04-24T22:33:05.307754",
     "exception": false,
     "start_time": "2023-04-24T22:33:05.298245",
     "status": "completed"
    },
    "tags": []
   },
   "source": [
    "<!-- This cell is intentionally blank -->\n",
    "<!-- This cell is intentionally blank -->\n",
    "<!-- This cell is intentionally blank -->\n",
    "<!-- This cell is intentionally blank -->\n",
    "<!-- This cell is intentionally blank -->\n",
    "<!-- This cell is intentionally blank -->\n",
    "<!-- This cell is intentionally blank -->\n"
   ]
  },
  {
   "cell_type": "markdown",
   "id": "3f20f2e8",
   "metadata": {
    "papermill": {
     "duration": 0.009597,
     "end_time": "2023-04-24T22:33:05.327132",
     "exception": false,
     "start_time": "2023-04-24T22:33:05.317535",
     "status": "completed"
    },
    "tags": []
   },
   "source": [
    "# Part 2: Classifying Handwritten Digits\n",
    "\n",
    "In this, the second, part of this notebook, we will build a classifier that can assign a label, 0 - 9, to images of hand-written digits. We'll use a preprocessed subset of the well-known [MNIST database of handwritten digits](https://en.wikipedia.org/wiki/MNIST_database). Take a moment now to familiarize yourself with the subject matter of this data set, and take a look at the properties of [the UCI ML hand-written digits dataset](https://archive.ics.uci.edu/ml/datasets/Optical+Recognition+of+Handwritten+Digits).\n",
    "\n",
    "## What to Do\n",
    "\n",
    "We'll guide you one step at a time in this walkthrough of a k-NN workflow. Try out the code, answer the Knowledge Check questions along the way, and engage in a few challenges to exercise your understanding and have some fun.\n",
    "\n",
    "## Problem Statement\n",
    "\n",
    "We would like to \"transform\" sequences of handwritten digits into real numeric values that a computer can understand. For example, we would like a machine to be able to \"read\" a handwritten **8675309** and interpret each digit, resulting in the numeric string `8675309`. As such, we would like to construct a classifier that, as accurately as possible, can identify a visual representation of integers (pictures of handwritten numbers), and classify each image with one of ten labels: 0, 1, 2, 3, 4, 5, 6, 7, 8 or 9.\n",
    "\n",
    "## Obtaining the data\n",
    "\n",
    "For this experiment, we will get up and running quickly with [a subset of the MNIST data, bundled in the scikit-learn](https://scikit-learn.org/stable/modules/generated/sklearn.datasets.load_digits.html#sklearn.datasets.load_digits) library. First, let's import a typical toolkit of libraries, including pandas, matplotlib, and [scikit-learn](https://scikit-learn.org/stable/index.html).\n",
    "\n",
    "```python[split_index:]\n",
    "import pandas as pd\n",
    "import matplotlib.pyplot as plt\n",
    "from sklearn.datasets import load_digits\n",
    "```\n",
    "\n",
    "Here we are importing two essential libraries, and giving them aliases `pd`, `plt`, and importing the `load_digits` function, which will give use our data set.\n",
    "\n",
    "Let's load the data into memory as well, assigning it to a variable.\n",
    "\n",
    "```python\n",
    "digits = load_digits(as_frame=True)\n",
    "```\n",
    "\n",
    "Note that `load_digits` returns a [Bunch](https://scikit-learn.org/stable/modules/generated/sklearn.utils.Bunch.html#sklearn.utils.Bunch) object - not a pandas DataFrame. Review the [load_digits documentation](https://scikit-learn.org/stable/modules/generated/sklearn.datasets.load_digits.html#sklearn.datasets.load_digits) to see what the attributes of our particular Bunch are. We pass `load_digits` the named argument `as_frame=True` up front now, so that we can access the data as a DataFrame later.\n"
   ]
  },
  {
   "cell_type": "code",
   "execution_count": 6,
   "id": "0c7914c0",
   "metadata": {
    "execution": {
     "iopub.execute_input": "2023-04-24T22:33:05.349450Z",
     "iopub.status.busy": "2023-04-24T22:33:05.348505Z",
     "iopub.status.idle": "2023-04-24T22:33:06.397671Z",
     "shell.execute_reply": "2023-04-24T22:33:06.396424Z"
    },
    "papermill": {
     "duration": 1.063252,
     "end_time": "2023-04-24T22:33:06.400180",
     "exception": false,
     "start_time": "2023-04-24T22:33:05.336928",
     "status": "completed"
    },
    "tags": []
   },
   "outputs": [],
   "source": [
    "import pandas as pd\n",
    "import matplotlib.pyplot as plt\n",
    "from sklearn.datasets import load_digits\n",
    "\n",
    "digits = load_digits(as_frame=True)\n"
   ]
  },
  {
   "cell_type": "markdown",
   "id": "7a01b783",
   "metadata": {
    "papermill": {
     "duration": 0.009747,
     "end_time": "2023-04-24T22:33:06.420211",
     "exception": false,
     "start_time": "2023-04-24T22:33:06.410464",
     "status": "completed"
    },
    "tags": []
   },
   "source": [
    "## Exploring the Data\n",
    "\n",
    "Let's investigate the description, shape, feature names, and target label names of the `data` set stored in the Bunch. We know about these attributes from the documentation of [`load_digits`](https://scikit-learn.org/stable/modules/generated/sklearn.datasets.load_digits.html#sklearn.datasets.load_digits). Try inspecting each of these properties one at a time.\n",
    "\n",
    "```python\n",
    "print(digits.DESCR)\n",
    "digits.data.shape\n",
    "digits.feature_names\n",
    "digits.target_names\n",
    "\n",
    "```\n"
   ]
  },
  {
   "cell_type": "code",
   "execution_count": 7,
   "id": "94fa63b9",
   "metadata": {
    "execution": {
     "iopub.execute_input": "2023-04-24T22:33:06.441757Z",
     "iopub.status.busy": "2023-04-24T22:33:06.441381Z",
     "iopub.status.idle": "2023-04-24T22:33:06.446778Z",
     "shell.execute_reply": "2023-04-24T22:33:06.445671Z"
    },
    "papermill": {
     "duration": 0.01863,
     "end_time": "2023-04-24T22:33:06.448741",
     "exception": false,
     "start_time": "2023-04-24T22:33:06.430111",
     "status": "completed"
    },
    "tags": []
   },
   "outputs": [
    {
     "name": "stdout",
     "output_type": "stream",
     "text": [
      ".. _digits_dataset:\n",
      "\n",
      "Optical recognition of handwritten digits dataset\n",
      "--------------------------------------------------\n",
      "\n",
      "**Data Set Characteristics:**\n",
      "\n",
      "    :Number of Instances: 1797\n",
      "    :Number of Attributes: 64\n",
      "    :Attribute Information: 8x8 image of integer pixels in the range 0..16.\n",
      "    :Missing Attribute Values: None\n",
      "    :Creator: E. Alpaydin (alpaydin '@' boun.edu.tr)\n",
      "    :Date: July; 1998\n",
      "\n",
      "This is a copy of the test set of the UCI ML hand-written digits datasets\n",
      "https://archive.ics.uci.edu/ml/datasets/Optical+Recognition+of+Handwritten+Digits\n",
      "\n",
      "The data set contains images of hand-written digits: 10 classes where\n",
      "each class refers to a digit.\n",
      "\n",
      "Preprocessing programs made available by NIST were used to extract\n",
      "normalized bitmaps of handwritten digits from a preprinted form. From a\n",
      "total of 43 people, 30 contributed to the training set and different 13\n",
      "to the test set. 32x32 bitmaps are divided into nonoverlapping blocks of\n",
      "4x4 and the number of on pixels are counted in each block. This generates\n",
      "an input matrix of 8x8 where each element is an integer in the range\n",
      "0..16. This reduces dimensionality and gives invariance to small\n",
      "distortions.\n",
      "\n",
      "For info on NIST preprocessing routines, see M. D. Garris, J. L. Blue, G.\n",
      "T. Candela, D. L. Dimmick, J. Geist, P. J. Grother, S. A. Janet, and C.\n",
      "L. Wilson, NIST Form-Based Handprint Recognition System, NISTIR 5469,\n",
      "1994.\n",
      "\n",
      ".. topic:: References\n",
      "\n",
      "  - C. Kaynak (1995) Methods of Combining Multiple Classifiers and Their\n",
      "    Applications to Handwritten Digit Recognition, MSc Thesis, Institute of\n",
      "    Graduate Studies in Science and Engineering, Bogazici University.\n",
      "  - E. Alpaydin, C. Kaynak (1998) Cascading Classifiers, Kybernetika.\n",
      "  - Ken Tang and Ponnuthurai N. Suganthan and Xi Yao and A. Kai Qin.\n",
      "    Linear dimensionalityreduction using relevance weighted LDA. School of\n",
      "    Electrical and Electronic Engineering Nanyang Technological University.\n",
      "    2005.\n",
      "  - Claudio Gentile. A New Approximate Maximal Margin Classification\n",
      "    Algorithm. NIPS. 2000.\n",
      "\n"
     ]
    }
   ],
   "source": [
    "print(digits.DESCR)"
   ]
  },
  {
   "cell_type": "code",
   "execution_count": 8,
   "id": "7ef4d92c",
   "metadata": {
    "execution": {
     "iopub.execute_input": "2023-04-24T22:33:06.471212Z",
     "iopub.status.busy": "2023-04-24T22:33:06.470233Z",
     "iopub.status.idle": "2023-04-24T22:33:06.478275Z",
     "shell.execute_reply": "2023-04-24T22:33:06.477253Z"
    },
    "papermill": {
     "duration": 0.021603,
     "end_time": "2023-04-24T22:33:06.480636",
     "exception": false,
     "start_time": "2023-04-24T22:33:06.459033",
     "status": "completed"
    },
    "tags": []
   },
   "outputs": [
    {
     "data": {
      "text/plain": [
       "(1797, 64)"
      ]
     },
     "execution_count": 8,
     "metadata": {},
     "output_type": "execute_result"
    }
   ],
   "source": [
    "digits.data.shape"
   ]
  },
  {
   "cell_type": "code",
   "execution_count": 9,
   "id": "796353ec",
   "metadata": {
    "execution": {
     "iopub.execute_input": "2023-04-24T22:33:06.503614Z",
     "iopub.status.busy": "2023-04-24T22:33:06.503098Z",
     "iopub.status.idle": "2023-04-24T22:33:06.510020Z",
     "shell.execute_reply": "2023-04-24T22:33:06.509227Z"
    },
    "papermill": {
     "duration": 0.020688,
     "end_time": "2023-04-24T22:33:06.512070",
     "exception": false,
     "start_time": "2023-04-24T22:33:06.491382",
     "status": "completed"
    },
    "tags": []
   },
   "outputs": [
    {
     "data": {
      "text/plain": [
       "['pixel_0_0',\n",
       " 'pixel_0_1',\n",
       " 'pixel_0_2',\n",
       " 'pixel_0_3',\n",
       " 'pixel_0_4',\n",
       " 'pixel_0_5',\n",
       " 'pixel_0_6',\n",
       " 'pixel_0_7',\n",
       " 'pixel_1_0',\n",
       " 'pixel_1_1',\n",
       " 'pixel_1_2',\n",
       " 'pixel_1_3',\n",
       " 'pixel_1_4',\n",
       " 'pixel_1_5',\n",
       " 'pixel_1_6',\n",
       " 'pixel_1_7',\n",
       " 'pixel_2_0',\n",
       " 'pixel_2_1',\n",
       " 'pixel_2_2',\n",
       " 'pixel_2_3',\n",
       " 'pixel_2_4',\n",
       " 'pixel_2_5',\n",
       " 'pixel_2_6',\n",
       " 'pixel_2_7',\n",
       " 'pixel_3_0',\n",
       " 'pixel_3_1',\n",
       " 'pixel_3_2',\n",
       " 'pixel_3_3',\n",
       " 'pixel_3_4',\n",
       " 'pixel_3_5',\n",
       " 'pixel_3_6',\n",
       " 'pixel_3_7',\n",
       " 'pixel_4_0',\n",
       " 'pixel_4_1',\n",
       " 'pixel_4_2',\n",
       " 'pixel_4_3',\n",
       " 'pixel_4_4',\n",
       " 'pixel_4_5',\n",
       " 'pixel_4_6',\n",
       " 'pixel_4_7',\n",
       " 'pixel_5_0',\n",
       " 'pixel_5_1',\n",
       " 'pixel_5_2',\n",
       " 'pixel_5_3',\n",
       " 'pixel_5_4',\n",
       " 'pixel_5_5',\n",
       " 'pixel_5_6',\n",
       " 'pixel_5_7',\n",
       " 'pixel_6_0',\n",
       " 'pixel_6_1',\n",
       " 'pixel_6_2',\n",
       " 'pixel_6_3',\n",
       " 'pixel_6_4',\n",
       " 'pixel_6_5',\n",
       " 'pixel_6_6',\n",
       " 'pixel_6_7',\n",
       " 'pixel_7_0',\n",
       " 'pixel_7_1',\n",
       " 'pixel_7_2',\n",
       " 'pixel_7_3',\n",
       " 'pixel_7_4',\n",
       " 'pixel_7_5',\n",
       " 'pixel_7_6',\n",
       " 'pixel_7_7']"
      ]
     },
     "execution_count": 9,
     "metadata": {},
     "output_type": "execute_result"
    }
   ],
   "source": [
    "digits.feature_names"
   ]
  },
  {
   "cell_type": "code",
   "execution_count": 10,
   "id": "dd31a38b",
   "metadata": {
    "execution": {
     "iopub.execute_input": "2023-04-24T22:33:06.535171Z",
     "iopub.status.busy": "2023-04-24T22:33:06.534515Z",
     "iopub.status.idle": "2023-04-24T22:33:06.540285Z",
     "shell.execute_reply": "2023-04-24T22:33:06.539164Z"
    },
    "papermill": {
     "duration": 0.019504,
     "end_time": "2023-04-24T22:33:06.542107",
     "exception": false,
     "start_time": "2023-04-24T22:33:06.522603",
     "status": "completed"
    },
    "tags": []
   },
   "outputs": [
    {
     "data": {
      "text/plain": [
       "array([0, 1, 2, 3, 4, 5, 6, 7, 8, 9])"
      ]
     },
     "execution_count": 10,
     "metadata": {},
     "output_type": "execute_result"
    }
   ],
   "source": [
    "digits.target_names"
   ]
  },
  {
   "cell_type": "markdown",
   "id": "c87ee020",
   "metadata": {
    "papermill": {
     "duration": 0.010368,
     "end_time": "2023-04-24T22:33:06.563480",
     "exception": false,
     "start_time": "2023-04-24T22:33:06.553112",
     "status": "completed"
    },
    "tags": []
   },
   "source": [
    "### 💡 Knowledge Check 1\n",
    "\n",
    "1. How many individual handwritten characters are represented in the data set?\n",
    "\n",
    "**Number of Instances: 1797**\n",
    "\n",
    "2. How many dimensions are there, not counting the class label?\n",
    "\n",
    "**:Number of Attributes: 64**\n",
    "\n",
    "3. What do the dimensions of each record represent? (What does one row of data have to do with a handwritten digit?)\n",
    "\n",
    "**the 64 attributes represent a 32x32 bitmap which converts part of the image into a normalized value of 0-16 in the map**\n",
    "\n",
    "**:Attribute Information: 8x8 image of integer pixels in the range 0..16.**\n"
   ]
  },
  {
   "cell_type": "markdown",
   "id": "a45f0df5",
   "metadata": {
    "papermill": {
     "duration": 0.010354,
     "end_time": "2023-04-24T22:33:06.584479",
     "exception": false,
     "start_time": "2023-04-24T22:33:06.574125",
     "status": "completed"
    },
    "tags": []
   },
   "source": [
    "\n",
    "#### Exploring the DataFrame\n",
    "\n",
    "Now, let's access the data as a pandas DataFrame, for convenience and some quick summary stats.\n",
    "\n",
    "```python\n",
    "frame = digits.frame\n",
    "frame\n",
    "```\n",
    "\n",
    "Here we are obtaining the DataFrame, and inspecting it within the notebook.\n"
   ]
  },
  {
   "cell_type": "code",
   "execution_count": 11,
   "id": "3b3c584d",
   "metadata": {
    "execution": {
     "iopub.execute_input": "2023-04-24T22:33:06.607899Z",
     "iopub.status.busy": "2023-04-24T22:33:06.607529Z",
     "iopub.status.idle": "2023-04-24T22:33:06.651826Z",
     "shell.execute_reply": "2023-04-24T22:33:06.650481Z"
    },
    "papermill": {
     "duration": 0.058749,
     "end_time": "2023-04-24T22:33:06.654147",
     "exception": false,
     "start_time": "2023-04-24T22:33:06.595398",
     "status": "completed"
    },
    "tags": []
   },
   "outputs": [
    {
     "data": {
      "text/html": [
       "<div>\n",
       "<style scoped>\n",
       "    .dataframe tbody tr th:only-of-type {\n",
       "        vertical-align: middle;\n",
       "    }\n",
       "\n",
       "    .dataframe tbody tr th {\n",
       "        vertical-align: top;\n",
       "    }\n",
       "\n",
       "    .dataframe thead th {\n",
       "        text-align: right;\n",
       "    }\n",
       "</style>\n",
       "<table border=\"1\" class=\"dataframe\">\n",
       "  <thead>\n",
       "    <tr style=\"text-align: right;\">\n",
       "      <th></th>\n",
       "      <th>pixel_0_0</th>\n",
       "      <th>pixel_0_1</th>\n",
       "      <th>pixel_0_2</th>\n",
       "      <th>pixel_0_3</th>\n",
       "      <th>pixel_0_4</th>\n",
       "      <th>pixel_0_5</th>\n",
       "      <th>pixel_0_6</th>\n",
       "      <th>pixel_0_7</th>\n",
       "      <th>pixel_1_0</th>\n",
       "      <th>pixel_1_1</th>\n",
       "      <th>...</th>\n",
       "      <th>pixel_6_7</th>\n",
       "      <th>pixel_7_0</th>\n",
       "      <th>pixel_7_1</th>\n",
       "      <th>pixel_7_2</th>\n",
       "      <th>pixel_7_3</th>\n",
       "      <th>pixel_7_4</th>\n",
       "      <th>pixel_7_5</th>\n",
       "      <th>pixel_7_6</th>\n",
       "      <th>pixel_7_7</th>\n",
       "      <th>target</th>\n",
       "    </tr>\n",
       "  </thead>\n",
       "  <tbody>\n",
       "    <tr>\n",
       "      <th>0</th>\n",
       "      <td>0.0</td>\n",
       "      <td>0.0</td>\n",
       "      <td>5.0</td>\n",
       "      <td>13.0</td>\n",
       "      <td>9.0</td>\n",
       "      <td>1.0</td>\n",
       "      <td>0.0</td>\n",
       "      <td>0.0</td>\n",
       "      <td>0.0</td>\n",
       "      <td>0.0</td>\n",
       "      <td>...</td>\n",
       "      <td>0.0</td>\n",
       "      <td>0.0</td>\n",
       "      <td>0.0</td>\n",
       "      <td>6.0</td>\n",
       "      <td>13.0</td>\n",
       "      <td>10.0</td>\n",
       "      <td>0.0</td>\n",
       "      <td>0.0</td>\n",
       "      <td>0.0</td>\n",
       "      <td>0</td>\n",
       "    </tr>\n",
       "    <tr>\n",
       "      <th>1</th>\n",
       "      <td>0.0</td>\n",
       "      <td>0.0</td>\n",
       "      <td>0.0</td>\n",
       "      <td>12.0</td>\n",
       "      <td>13.0</td>\n",
       "      <td>5.0</td>\n",
       "      <td>0.0</td>\n",
       "      <td>0.0</td>\n",
       "      <td>0.0</td>\n",
       "      <td>0.0</td>\n",
       "      <td>...</td>\n",
       "      <td>0.0</td>\n",
       "      <td>0.0</td>\n",
       "      <td>0.0</td>\n",
       "      <td>0.0</td>\n",
       "      <td>11.0</td>\n",
       "      <td>16.0</td>\n",
       "      <td>10.0</td>\n",
       "      <td>0.0</td>\n",
       "      <td>0.0</td>\n",
       "      <td>1</td>\n",
       "    </tr>\n",
       "    <tr>\n",
       "      <th>2</th>\n",
       "      <td>0.0</td>\n",
       "      <td>0.0</td>\n",
       "      <td>0.0</td>\n",
       "      <td>4.0</td>\n",
       "      <td>15.0</td>\n",
       "      <td>12.0</td>\n",
       "      <td>0.0</td>\n",
       "      <td>0.0</td>\n",
       "      <td>0.0</td>\n",
       "      <td>0.0</td>\n",
       "      <td>...</td>\n",
       "      <td>0.0</td>\n",
       "      <td>0.0</td>\n",
       "      <td>0.0</td>\n",
       "      <td>0.0</td>\n",
       "      <td>3.0</td>\n",
       "      <td>11.0</td>\n",
       "      <td>16.0</td>\n",
       "      <td>9.0</td>\n",
       "      <td>0.0</td>\n",
       "      <td>2</td>\n",
       "    </tr>\n",
       "    <tr>\n",
       "      <th>3</th>\n",
       "      <td>0.0</td>\n",
       "      <td>0.0</td>\n",
       "      <td>7.0</td>\n",
       "      <td>15.0</td>\n",
       "      <td>13.0</td>\n",
       "      <td>1.0</td>\n",
       "      <td>0.0</td>\n",
       "      <td>0.0</td>\n",
       "      <td>0.0</td>\n",
       "      <td>8.0</td>\n",
       "      <td>...</td>\n",
       "      <td>0.0</td>\n",
       "      <td>0.0</td>\n",
       "      <td>0.0</td>\n",
       "      <td>7.0</td>\n",
       "      <td>13.0</td>\n",
       "      <td>13.0</td>\n",
       "      <td>9.0</td>\n",
       "      <td>0.0</td>\n",
       "      <td>0.0</td>\n",
       "      <td>3</td>\n",
       "    </tr>\n",
       "    <tr>\n",
       "      <th>4</th>\n",
       "      <td>0.0</td>\n",
       "      <td>0.0</td>\n",
       "      <td>0.0</td>\n",
       "      <td>1.0</td>\n",
       "      <td>11.0</td>\n",
       "      <td>0.0</td>\n",
       "      <td>0.0</td>\n",
       "      <td>0.0</td>\n",
       "      <td>0.0</td>\n",
       "      <td>0.0</td>\n",
       "      <td>...</td>\n",
       "      <td>0.0</td>\n",
       "      <td>0.0</td>\n",
       "      <td>0.0</td>\n",
       "      <td>0.0</td>\n",
       "      <td>2.0</td>\n",
       "      <td>16.0</td>\n",
       "      <td>4.0</td>\n",
       "      <td>0.0</td>\n",
       "      <td>0.0</td>\n",
       "      <td>4</td>\n",
       "    </tr>\n",
       "    <tr>\n",
       "      <th>...</th>\n",
       "      <td>...</td>\n",
       "      <td>...</td>\n",
       "      <td>...</td>\n",
       "      <td>...</td>\n",
       "      <td>...</td>\n",
       "      <td>...</td>\n",
       "      <td>...</td>\n",
       "      <td>...</td>\n",
       "      <td>...</td>\n",
       "      <td>...</td>\n",
       "      <td>...</td>\n",
       "      <td>...</td>\n",
       "      <td>...</td>\n",
       "      <td>...</td>\n",
       "      <td>...</td>\n",
       "      <td>...</td>\n",
       "      <td>...</td>\n",
       "      <td>...</td>\n",
       "      <td>...</td>\n",
       "      <td>...</td>\n",
       "      <td>...</td>\n",
       "    </tr>\n",
       "    <tr>\n",
       "      <th>1792</th>\n",
       "      <td>0.0</td>\n",
       "      <td>0.0</td>\n",
       "      <td>4.0</td>\n",
       "      <td>10.0</td>\n",
       "      <td>13.0</td>\n",
       "      <td>6.0</td>\n",
       "      <td>0.0</td>\n",
       "      <td>0.0</td>\n",
       "      <td>0.0</td>\n",
       "      <td>1.0</td>\n",
       "      <td>...</td>\n",
       "      <td>0.0</td>\n",
       "      <td>0.0</td>\n",
       "      <td>0.0</td>\n",
       "      <td>2.0</td>\n",
       "      <td>14.0</td>\n",
       "      <td>15.0</td>\n",
       "      <td>9.0</td>\n",
       "      <td>0.0</td>\n",
       "      <td>0.0</td>\n",
       "      <td>9</td>\n",
       "    </tr>\n",
       "    <tr>\n",
       "      <th>1793</th>\n",
       "      <td>0.0</td>\n",
       "      <td>0.0</td>\n",
       "      <td>6.0</td>\n",
       "      <td>16.0</td>\n",
       "      <td>13.0</td>\n",
       "      <td>11.0</td>\n",
       "      <td>1.0</td>\n",
       "      <td>0.0</td>\n",
       "      <td>0.0</td>\n",
       "      <td>0.0</td>\n",
       "      <td>...</td>\n",
       "      <td>0.0</td>\n",
       "      <td>0.0</td>\n",
       "      <td>0.0</td>\n",
       "      <td>6.0</td>\n",
       "      <td>16.0</td>\n",
       "      <td>14.0</td>\n",
       "      <td>6.0</td>\n",
       "      <td>0.0</td>\n",
       "      <td>0.0</td>\n",
       "      <td>0</td>\n",
       "    </tr>\n",
       "    <tr>\n",
       "      <th>1794</th>\n",
       "      <td>0.0</td>\n",
       "      <td>0.0</td>\n",
       "      <td>1.0</td>\n",
       "      <td>11.0</td>\n",
       "      <td>15.0</td>\n",
       "      <td>1.0</td>\n",
       "      <td>0.0</td>\n",
       "      <td>0.0</td>\n",
       "      <td>0.0</td>\n",
       "      <td>0.0</td>\n",
       "      <td>...</td>\n",
       "      <td>0.0</td>\n",
       "      <td>0.0</td>\n",
       "      <td>0.0</td>\n",
       "      <td>2.0</td>\n",
       "      <td>9.0</td>\n",
       "      <td>13.0</td>\n",
       "      <td>6.0</td>\n",
       "      <td>0.0</td>\n",
       "      <td>0.0</td>\n",
       "      <td>8</td>\n",
       "    </tr>\n",
       "    <tr>\n",
       "      <th>1795</th>\n",
       "      <td>0.0</td>\n",
       "      <td>0.0</td>\n",
       "      <td>2.0</td>\n",
       "      <td>10.0</td>\n",
       "      <td>7.0</td>\n",
       "      <td>0.0</td>\n",
       "      <td>0.0</td>\n",
       "      <td>0.0</td>\n",
       "      <td>0.0</td>\n",
       "      <td>0.0</td>\n",
       "      <td>...</td>\n",
       "      <td>0.0</td>\n",
       "      <td>0.0</td>\n",
       "      <td>0.0</td>\n",
       "      <td>5.0</td>\n",
       "      <td>12.0</td>\n",
       "      <td>16.0</td>\n",
       "      <td>12.0</td>\n",
       "      <td>0.0</td>\n",
       "      <td>0.0</td>\n",
       "      <td>9</td>\n",
       "    </tr>\n",
       "    <tr>\n",
       "      <th>1796</th>\n",
       "      <td>0.0</td>\n",
       "      <td>0.0</td>\n",
       "      <td>10.0</td>\n",
       "      <td>14.0</td>\n",
       "      <td>8.0</td>\n",
       "      <td>1.0</td>\n",
       "      <td>0.0</td>\n",
       "      <td>0.0</td>\n",
       "      <td>0.0</td>\n",
       "      <td>2.0</td>\n",
       "      <td>...</td>\n",
       "      <td>0.0</td>\n",
       "      <td>0.0</td>\n",
       "      <td>1.0</td>\n",
       "      <td>8.0</td>\n",
       "      <td>12.0</td>\n",
       "      <td>14.0</td>\n",
       "      <td>12.0</td>\n",
       "      <td>1.0</td>\n",
       "      <td>0.0</td>\n",
       "      <td>8</td>\n",
       "    </tr>\n",
       "  </tbody>\n",
       "</table>\n",
       "<p>1797 rows × 65 columns</p>\n",
       "</div>"
      ],
      "text/plain": [
       "      pixel_0_0  pixel_0_1  pixel_0_2  pixel_0_3  pixel_0_4  pixel_0_5  \\\n",
       "0           0.0        0.0        5.0       13.0        9.0        1.0   \n",
       "1           0.0        0.0        0.0       12.0       13.0        5.0   \n",
       "2           0.0        0.0        0.0        4.0       15.0       12.0   \n",
       "3           0.0        0.0        7.0       15.0       13.0        1.0   \n",
       "4           0.0        0.0        0.0        1.0       11.0        0.0   \n",
       "...         ...        ...        ...        ...        ...        ...   \n",
       "1792        0.0        0.0        4.0       10.0       13.0        6.0   \n",
       "1793        0.0        0.0        6.0       16.0       13.0       11.0   \n",
       "1794        0.0        0.0        1.0       11.0       15.0        1.0   \n",
       "1795        0.0        0.0        2.0       10.0        7.0        0.0   \n",
       "1796        0.0        0.0       10.0       14.0        8.0        1.0   \n",
       "\n",
       "      pixel_0_6  pixel_0_7  pixel_1_0  pixel_1_1  ...  pixel_6_7  pixel_7_0  \\\n",
       "0           0.0        0.0        0.0        0.0  ...        0.0        0.0   \n",
       "1           0.0        0.0        0.0        0.0  ...        0.0        0.0   \n",
       "2           0.0        0.0        0.0        0.0  ...        0.0        0.0   \n",
       "3           0.0        0.0        0.0        8.0  ...        0.0        0.0   \n",
       "4           0.0        0.0        0.0        0.0  ...        0.0        0.0   \n",
       "...         ...        ...        ...        ...  ...        ...        ...   \n",
       "1792        0.0        0.0        0.0        1.0  ...        0.0        0.0   \n",
       "1793        1.0        0.0        0.0        0.0  ...        0.0        0.0   \n",
       "1794        0.0        0.0        0.0        0.0  ...        0.0        0.0   \n",
       "1795        0.0        0.0        0.0        0.0  ...        0.0        0.0   \n",
       "1796        0.0        0.0        0.0        2.0  ...        0.0        0.0   \n",
       "\n",
       "      pixel_7_1  pixel_7_2  pixel_7_3  pixel_7_4  pixel_7_5  pixel_7_6  \\\n",
       "0           0.0        6.0       13.0       10.0        0.0        0.0   \n",
       "1           0.0        0.0       11.0       16.0       10.0        0.0   \n",
       "2           0.0        0.0        3.0       11.0       16.0        9.0   \n",
       "3           0.0        7.0       13.0       13.0        9.0        0.0   \n",
       "4           0.0        0.0        2.0       16.0        4.0        0.0   \n",
       "...         ...        ...        ...        ...        ...        ...   \n",
       "1792        0.0        2.0       14.0       15.0        9.0        0.0   \n",
       "1793        0.0        6.0       16.0       14.0        6.0        0.0   \n",
       "1794        0.0        2.0        9.0       13.0        6.0        0.0   \n",
       "1795        0.0        5.0       12.0       16.0       12.0        0.0   \n",
       "1796        1.0        8.0       12.0       14.0       12.0        1.0   \n",
       "\n",
       "      pixel_7_7  target  \n",
       "0           0.0       0  \n",
       "1           0.0       1  \n",
       "2           0.0       2  \n",
       "3           0.0       3  \n",
       "4           0.0       4  \n",
       "...         ...     ...  \n",
       "1792        0.0       9  \n",
       "1793        0.0       0  \n",
       "1794        0.0       8  \n",
       "1795        0.0       9  \n",
       "1796        0.0       8  \n",
       "\n",
       "[1797 rows x 65 columns]"
      ]
     },
     "execution_count": 11,
     "metadata": {},
     "output_type": "execute_result"
    }
   ],
   "source": [
    "frame = digits.frame\n",
    "frame"
   ]
  },
  {
   "cell_type": "markdown",
   "id": "9749adf3",
   "metadata": {
    "papermill": {
     "duration": 0.010831,
     "end_time": "2023-04-24T22:33:06.676293",
     "exception": false,
     "start_time": "2023-04-24T22:33:06.665462",
     "status": "completed"
    },
    "tags": []
   },
   "source": [
    "Let's investigate some summary statistics with `describe`.\n",
    "\n",
    "```python\n",
    "frame.describe()\n",
    "```"
   ]
  },
  {
   "cell_type": "code",
   "execution_count": 12,
   "id": "89919e9c",
   "metadata": {
    "execution": {
     "iopub.execute_input": "2023-04-24T22:33:06.700379Z",
     "iopub.status.busy": "2023-04-24T22:33:06.700040Z",
     "iopub.status.idle": "2023-04-24T22:33:06.838927Z",
     "shell.execute_reply": "2023-04-24T22:33:06.837664Z"
    },
    "papermill": {
     "duration": 0.153806,
     "end_time": "2023-04-24T22:33:06.841295",
     "exception": false,
     "start_time": "2023-04-24T22:33:06.687489",
     "status": "completed"
    },
    "tags": []
   },
   "outputs": [
    {
     "data": {
      "text/html": [
       "<div>\n",
       "<style scoped>\n",
       "    .dataframe tbody tr th:only-of-type {\n",
       "        vertical-align: middle;\n",
       "    }\n",
       "\n",
       "    .dataframe tbody tr th {\n",
       "        vertical-align: top;\n",
       "    }\n",
       "\n",
       "    .dataframe thead th {\n",
       "        text-align: right;\n",
       "    }\n",
       "</style>\n",
       "<table border=\"1\" class=\"dataframe\">\n",
       "  <thead>\n",
       "    <tr style=\"text-align: right;\">\n",
       "      <th></th>\n",
       "      <th>pixel_0_0</th>\n",
       "      <th>pixel_0_1</th>\n",
       "      <th>pixel_0_2</th>\n",
       "      <th>pixel_0_3</th>\n",
       "      <th>pixel_0_4</th>\n",
       "      <th>pixel_0_5</th>\n",
       "      <th>pixel_0_6</th>\n",
       "      <th>pixel_0_7</th>\n",
       "      <th>pixel_1_0</th>\n",
       "      <th>pixel_1_1</th>\n",
       "      <th>...</th>\n",
       "      <th>pixel_6_7</th>\n",
       "      <th>pixel_7_0</th>\n",
       "      <th>pixel_7_1</th>\n",
       "      <th>pixel_7_2</th>\n",
       "      <th>pixel_7_3</th>\n",
       "      <th>pixel_7_4</th>\n",
       "      <th>pixel_7_5</th>\n",
       "      <th>pixel_7_6</th>\n",
       "      <th>pixel_7_7</th>\n",
       "      <th>target</th>\n",
       "    </tr>\n",
       "  </thead>\n",
       "  <tbody>\n",
       "    <tr>\n",
       "      <th>count</th>\n",
       "      <td>1797.0</td>\n",
       "      <td>1797.000000</td>\n",
       "      <td>1797.000000</td>\n",
       "      <td>1797.000000</td>\n",
       "      <td>1797.000000</td>\n",
       "      <td>1797.000000</td>\n",
       "      <td>1797.000000</td>\n",
       "      <td>1797.000000</td>\n",
       "      <td>1797.000000</td>\n",
       "      <td>1797.000000</td>\n",
       "      <td>...</td>\n",
       "      <td>1797.000000</td>\n",
       "      <td>1797.000000</td>\n",
       "      <td>1797.000000</td>\n",
       "      <td>1797.000000</td>\n",
       "      <td>1797.000000</td>\n",
       "      <td>1797.000000</td>\n",
       "      <td>1797.000000</td>\n",
       "      <td>1797.000000</td>\n",
       "      <td>1797.000000</td>\n",
       "      <td>1797.000000</td>\n",
       "    </tr>\n",
       "    <tr>\n",
       "      <th>mean</th>\n",
       "      <td>0.0</td>\n",
       "      <td>0.303840</td>\n",
       "      <td>5.204786</td>\n",
       "      <td>11.835838</td>\n",
       "      <td>11.848080</td>\n",
       "      <td>5.781859</td>\n",
       "      <td>1.362270</td>\n",
       "      <td>0.129661</td>\n",
       "      <td>0.005565</td>\n",
       "      <td>1.993879</td>\n",
       "      <td>...</td>\n",
       "      <td>0.206455</td>\n",
       "      <td>0.000556</td>\n",
       "      <td>0.279354</td>\n",
       "      <td>5.557596</td>\n",
       "      <td>12.089037</td>\n",
       "      <td>11.809126</td>\n",
       "      <td>6.764051</td>\n",
       "      <td>2.067891</td>\n",
       "      <td>0.364496</td>\n",
       "      <td>4.490818</td>\n",
       "    </tr>\n",
       "    <tr>\n",
       "      <th>std</th>\n",
       "      <td>0.0</td>\n",
       "      <td>0.907192</td>\n",
       "      <td>4.754826</td>\n",
       "      <td>4.248842</td>\n",
       "      <td>4.287388</td>\n",
       "      <td>5.666418</td>\n",
       "      <td>3.325775</td>\n",
       "      <td>1.037383</td>\n",
       "      <td>0.094222</td>\n",
       "      <td>3.196160</td>\n",
       "      <td>...</td>\n",
       "      <td>0.984401</td>\n",
       "      <td>0.023590</td>\n",
       "      <td>0.934302</td>\n",
       "      <td>5.103019</td>\n",
       "      <td>4.374694</td>\n",
       "      <td>4.933947</td>\n",
       "      <td>5.900623</td>\n",
       "      <td>4.090548</td>\n",
       "      <td>1.860122</td>\n",
       "      <td>2.865304</td>\n",
       "    </tr>\n",
       "    <tr>\n",
       "      <th>min</th>\n",
       "      <td>0.0</td>\n",
       "      <td>0.000000</td>\n",
       "      <td>0.000000</td>\n",
       "      <td>0.000000</td>\n",
       "      <td>0.000000</td>\n",
       "      <td>0.000000</td>\n",
       "      <td>0.000000</td>\n",
       "      <td>0.000000</td>\n",
       "      <td>0.000000</td>\n",
       "      <td>0.000000</td>\n",
       "      <td>...</td>\n",
       "      <td>0.000000</td>\n",
       "      <td>0.000000</td>\n",
       "      <td>0.000000</td>\n",
       "      <td>0.000000</td>\n",
       "      <td>0.000000</td>\n",
       "      <td>0.000000</td>\n",
       "      <td>0.000000</td>\n",
       "      <td>0.000000</td>\n",
       "      <td>0.000000</td>\n",
       "      <td>0.000000</td>\n",
       "    </tr>\n",
       "    <tr>\n",
       "      <th>25%</th>\n",
       "      <td>0.0</td>\n",
       "      <td>0.000000</td>\n",
       "      <td>1.000000</td>\n",
       "      <td>10.000000</td>\n",
       "      <td>10.000000</td>\n",
       "      <td>0.000000</td>\n",
       "      <td>0.000000</td>\n",
       "      <td>0.000000</td>\n",
       "      <td>0.000000</td>\n",
       "      <td>0.000000</td>\n",
       "      <td>...</td>\n",
       "      <td>0.000000</td>\n",
       "      <td>0.000000</td>\n",
       "      <td>0.000000</td>\n",
       "      <td>1.000000</td>\n",
       "      <td>11.000000</td>\n",
       "      <td>10.000000</td>\n",
       "      <td>0.000000</td>\n",
       "      <td>0.000000</td>\n",
       "      <td>0.000000</td>\n",
       "      <td>2.000000</td>\n",
       "    </tr>\n",
       "    <tr>\n",
       "      <th>50%</th>\n",
       "      <td>0.0</td>\n",
       "      <td>0.000000</td>\n",
       "      <td>4.000000</td>\n",
       "      <td>13.000000</td>\n",
       "      <td>13.000000</td>\n",
       "      <td>4.000000</td>\n",
       "      <td>0.000000</td>\n",
       "      <td>0.000000</td>\n",
       "      <td>0.000000</td>\n",
       "      <td>0.000000</td>\n",
       "      <td>...</td>\n",
       "      <td>0.000000</td>\n",
       "      <td>0.000000</td>\n",
       "      <td>0.000000</td>\n",
       "      <td>4.000000</td>\n",
       "      <td>13.000000</td>\n",
       "      <td>14.000000</td>\n",
       "      <td>6.000000</td>\n",
       "      <td>0.000000</td>\n",
       "      <td>0.000000</td>\n",
       "      <td>4.000000</td>\n",
       "    </tr>\n",
       "    <tr>\n",
       "      <th>75%</th>\n",
       "      <td>0.0</td>\n",
       "      <td>0.000000</td>\n",
       "      <td>9.000000</td>\n",
       "      <td>15.000000</td>\n",
       "      <td>15.000000</td>\n",
       "      <td>11.000000</td>\n",
       "      <td>0.000000</td>\n",
       "      <td>0.000000</td>\n",
       "      <td>0.000000</td>\n",
       "      <td>3.000000</td>\n",
       "      <td>...</td>\n",
       "      <td>0.000000</td>\n",
       "      <td>0.000000</td>\n",
       "      <td>0.000000</td>\n",
       "      <td>10.000000</td>\n",
       "      <td>16.000000</td>\n",
       "      <td>16.000000</td>\n",
       "      <td>12.000000</td>\n",
       "      <td>2.000000</td>\n",
       "      <td>0.000000</td>\n",
       "      <td>7.000000</td>\n",
       "    </tr>\n",
       "    <tr>\n",
       "      <th>max</th>\n",
       "      <td>0.0</td>\n",
       "      <td>8.000000</td>\n",
       "      <td>16.000000</td>\n",
       "      <td>16.000000</td>\n",
       "      <td>16.000000</td>\n",
       "      <td>16.000000</td>\n",
       "      <td>16.000000</td>\n",
       "      <td>15.000000</td>\n",
       "      <td>2.000000</td>\n",
       "      <td>16.000000</td>\n",
       "      <td>...</td>\n",
       "      <td>13.000000</td>\n",
       "      <td>1.000000</td>\n",
       "      <td>9.000000</td>\n",
       "      <td>16.000000</td>\n",
       "      <td>16.000000</td>\n",
       "      <td>16.000000</td>\n",
       "      <td>16.000000</td>\n",
       "      <td>16.000000</td>\n",
       "      <td>16.000000</td>\n",
       "      <td>9.000000</td>\n",
       "    </tr>\n",
       "  </tbody>\n",
       "</table>\n",
       "<p>8 rows × 65 columns</p>\n",
       "</div>"
      ],
      "text/plain": [
       "       pixel_0_0    pixel_0_1    pixel_0_2    pixel_0_3    pixel_0_4  \\\n",
       "count     1797.0  1797.000000  1797.000000  1797.000000  1797.000000   \n",
       "mean         0.0     0.303840     5.204786    11.835838    11.848080   \n",
       "std          0.0     0.907192     4.754826     4.248842     4.287388   \n",
       "min          0.0     0.000000     0.000000     0.000000     0.000000   \n",
       "25%          0.0     0.000000     1.000000    10.000000    10.000000   \n",
       "50%          0.0     0.000000     4.000000    13.000000    13.000000   \n",
       "75%          0.0     0.000000     9.000000    15.000000    15.000000   \n",
       "max          0.0     8.000000    16.000000    16.000000    16.000000   \n",
       "\n",
       "         pixel_0_5    pixel_0_6    pixel_0_7    pixel_1_0    pixel_1_1  ...  \\\n",
       "count  1797.000000  1797.000000  1797.000000  1797.000000  1797.000000  ...   \n",
       "mean      5.781859     1.362270     0.129661     0.005565     1.993879  ...   \n",
       "std       5.666418     3.325775     1.037383     0.094222     3.196160  ...   \n",
       "min       0.000000     0.000000     0.000000     0.000000     0.000000  ...   \n",
       "25%       0.000000     0.000000     0.000000     0.000000     0.000000  ...   \n",
       "50%       4.000000     0.000000     0.000000     0.000000     0.000000  ...   \n",
       "75%      11.000000     0.000000     0.000000     0.000000     3.000000  ...   \n",
       "max      16.000000    16.000000    15.000000     2.000000    16.000000  ...   \n",
       "\n",
       "         pixel_6_7    pixel_7_0    pixel_7_1    pixel_7_2    pixel_7_3  \\\n",
       "count  1797.000000  1797.000000  1797.000000  1797.000000  1797.000000   \n",
       "mean      0.206455     0.000556     0.279354     5.557596    12.089037   \n",
       "std       0.984401     0.023590     0.934302     5.103019     4.374694   \n",
       "min       0.000000     0.000000     0.000000     0.000000     0.000000   \n",
       "25%       0.000000     0.000000     0.000000     1.000000    11.000000   \n",
       "50%       0.000000     0.000000     0.000000     4.000000    13.000000   \n",
       "75%       0.000000     0.000000     0.000000    10.000000    16.000000   \n",
       "max      13.000000     1.000000     9.000000    16.000000    16.000000   \n",
       "\n",
       "         pixel_7_4    pixel_7_5    pixel_7_6    pixel_7_7       target  \n",
       "count  1797.000000  1797.000000  1797.000000  1797.000000  1797.000000  \n",
       "mean     11.809126     6.764051     2.067891     0.364496     4.490818  \n",
       "std       4.933947     5.900623     4.090548     1.860122     2.865304  \n",
       "min       0.000000     0.000000     0.000000     0.000000     0.000000  \n",
       "25%      10.000000     0.000000     0.000000     0.000000     2.000000  \n",
       "50%      14.000000     6.000000     0.000000     0.000000     4.000000  \n",
       "75%      16.000000    12.000000     2.000000     0.000000     7.000000  \n",
       "max      16.000000    16.000000    16.000000    16.000000     9.000000  \n",
       "\n",
       "[8 rows x 65 columns]"
      ]
     },
     "execution_count": 12,
     "metadata": {},
     "output_type": "execute_result"
    }
   ],
   "source": [
    "frame.describe()"
   ]
  },
  {
   "cell_type": "markdown",
   "id": "f0aaa862",
   "metadata": {
    "papermill": {
     "duration": 0.011953,
     "end_time": "2023-04-24T22:33:06.865092",
     "exception": false,
     "start_time": "2023-04-24T22:33:06.853139",
     "status": "completed"
    },
    "tags": []
   },
   "source": [
    "We know from `DESCR` that the pixel values range from 0 to 16, and our quick survey of `describe` seems to confirm this, so we'll move forward with our assumptions about the data set. (In addition, `DESCR` promises us that there are no missing values - the preprocessing work has been done.)"
   ]
  },
  {
   "cell_type": "markdown",
   "id": "8ead25c3",
   "metadata": {
    "papermill": {
     "duration": 0.011268,
     "end_time": "2023-04-24T22:33:06.889401",
     "exception": false,
     "start_time": "2023-04-24T22:33:06.878133",
     "status": "completed"
    },
    "tags": []
   },
   "source": [
    "### 💡 Knowledge Check 2\n",
    "\n",
    "Based on the summary statistics, what is interesting about attribute *pixel_0_0*, and what do those interesting qualities lead you to conclude? Please describe it in very approachable terms, regarding the handwritten images, that anyone can understand.\n",
    "\n",
    "**All 1797 data points have values of zero for pizel_0_0, indicating what ever infromation is stored in this paramater is not useful for classifing the handwritten images into numbers**"
   ]
  },
  {
   "cell_type": "markdown",
   "id": "c6b40ef6",
   "metadata": {
    "papermill": {
     "duration": 0.01478,
     "end_time": "2023-04-24T22:33:06.916040",
     "exception": false,
     "start_time": "2023-04-24T22:33:06.901260",
     "status": "completed"
    },
    "tags": []
   },
   "source": [
    "## Visualize the Data\n",
    "\n",
    "Let's take a visual look at one of the images. The `digits` Bunch has a property, `images`, that is an array of all of the raw image data. Let's access one image and visualize it on the screen.\n",
    "\n",
    "```python\n",
    "plt.gray()\n",
    "plt.matshow(digits.images[0])\n",
    "plt.show()\n",
    "```\n"
   ]
  },
  {
   "cell_type": "code",
   "execution_count": 13,
   "id": "1bc10d27",
   "metadata": {
    "execution": {
     "iopub.execute_input": "2023-04-24T22:33:06.946474Z",
     "iopub.status.busy": "2023-04-24T22:33:06.946013Z",
     "iopub.status.idle": "2023-04-24T22:33:07.162352Z",
     "shell.execute_reply": "2023-04-24T22:33:07.161509Z"
    },
    "papermill": {
     "duration": 0.23535,
     "end_time": "2023-04-24T22:33:07.164691",
     "exception": false,
     "start_time": "2023-04-24T22:33:06.929341",
     "status": "completed"
    },
    "tags": []
   },
   "outputs": [
    {
     "data": {
      "text/plain": [
       "<Figure size 640x480 with 0 Axes>"
      ]
     },
     "metadata": {},
     "output_type": "display_data"
    },
    {
     "data": {
      "image/png": "[encoded data removed]",
      "text/plain": [
       "<Figure size 480x480 with 1 Axes>"
      ]
     },
     "metadata": {},
     "output_type": "display_data"
    }
   ],
   "source": [
    "plt.gray()\n",
    "plt.matshow(digits.images[0])\n",
    "plt.show()"
   ]
  },
  {
   "cell_type": "markdown",
   "id": "5740d8c9",
   "metadata": {
    "papermill": {
     "duration": 0.015103,
     "end_time": "2023-04-24T22:33:07.195148",
     "exception": false,
     "start_time": "2023-04-24T22:33:07.180045",
     "status": "completed"
    },
    "tags": []
   },
   "source": [
    "### 💡 Knowledge Check 3\n",
    "\n",
    "1. The figure is drawn at a scale of 640x480 pixels, but how many pixels wide and tall are the actual character images?\n",
    "\n",
    "**8 x 8**\n",
    "\n",
    "2. What does this have to do with the dimensions of the data set?\n",
    "\n",
    "**8 x 8 = 64(number of attributes in the dataset) so each of the attributes represents a pixel like pixel_0_1 in the image** "
   ]
  },
  {
   "cell_type": "markdown",
   "id": "c22f346f",
   "metadata": {
    "papermill": {
     "duration": 0.013166,
     "end_time": "2023-04-24T22:33:07.223631",
     "exception": false,
     "start_time": "2023-04-24T22:33:07.210465",
     "status": "completed"
    },
    "tags": []
   },
   "source": [
    "## Prepare the Training and Validation Sets\n",
    "\n",
    "With preprocessing gratefully handled for us, we now turn to creating our training set and validation sets. While we could manually implement our own sampling technique, this time we will lean on the `sklearn.model_selection.train_test_split` method. Be sure to check out the documentation for [`train_test_split`](https://scikit-learn.org/stable/modules/generated/sklearn.model_selection.train_test_split.html).\n",
    "\n",
    "```python\n",
    "from sklearn.model_selection import train_test_split\n",
    "\n",
    "X_train, X_test, y_train, y_test = train_test_split(digits.data, digits.target, test_size=0.2, random_state=0)\n",
    "```\n",
    "\n",
    "Notice how we pass `train_test_split` two arrays: one array, `digits.data`, containing all of the attributes except the class label dimension, and a second array, `digits.target`, containing the class labels for each record in the data set. We also specify that we'd like to use 80% of the records for training, and 20% of the records for testing. (Here we are also assigning `0` to `random_state`, and this is only for the sake of this exercise, to control the random seed so that running our notebook repeatedly gives us the same, albeit randomized, sampling.)\n",
    "\n",
    "The function `train_test_split` returns four arrays, conveniently splitting our complete data set into randomized training and validation sets:\n",
    "\n",
    "- `X_train`: our training records, without the class labels\n",
    "- `y_train`: the class labels for our training records\n",
    "- `X_test`: our validation records, without the class labels\n",
    "- `y_test`: the class labels for our validation records\n",
    "\n",
    "This is a very common naming convention we see in practice, so we'll abide by it here."
   ]
  },
  {
   "cell_type": "code",
   "execution_count": 14,
   "id": "9934d25d",
   "metadata": {
    "execution": {
     "iopub.execute_input": "2023-04-24T22:33:07.249493Z",
     "iopub.status.busy": "2023-04-24T22:33:07.248591Z",
     "iopub.status.idle": "2023-04-24T22:33:07.309778Z",
     "shell.execute_reply": "2023-04-24T22:33:07.308685Z"
    },
    "papermill": {
     "duration": 0.076996,
     "end_time": "2023-04-24T22:33:07.312719",
     "exception": false,
     "start_time": "2023-04-24T22:33:07.235723",
     "status": "completed"
    },
    "tags": []
   },
   "outputs": [],
   "source": [
    "from sklearn.model_selection import train_test_split\n",
    "x_train, x_test, y_train, y_test = train_test_split(digits.data, digits.target, test_size=0.2, random_state=0)"
   ]
  },
  {
   "cell_type": "markdown",
   "id": "39950a1c",
   "metadata": {
    "papermill": {
     "duration": 0.011707,
     "end_time": "2023-04-24T22:33:07.336226",
     "exception": false,
     "start_time": "2023-04-24T22:33:07.324519",
     "status": "completed"
    },
    "tags": []
   },
   "source": [
    "## Instantiate and \"Train\" our Classifier\n",
    "\n",
    "We'll next instantiate a k-NN classifier provided by scikit-learn: the [KNeighborsClassifier](https://scikit-learn.org/stable/modules/generated/sklearn.neighbors.KNeighborsClassifier.html). Please be sure to read the documentation, noticing both the parameters we can pass the KNeighborsClassifier initializer, such as the distance metric to use, and in particular, `n_neighbors` which is our **_k_**.\n",
    "\n",
    "We'll rely on some defaults, but start with a fairly unsurprising **_k_**, the square root of the number of records in the training set.\n",
    "\n",
    "```python\n",
    "from sklearn.neighbors import KNeighborsClassifier\n",
    "\n",
    "classifier = KNeighborsClassifier(n_neighbors = int(sqrt(len(X_train))))\n",
    "```\n",
    "\n",
    "Import the KNeighborsClassifier and instantiate it the next code cell."
   ]
  },
  {
   "cell_type": "code",
   "execution_count": 15,
   "id": "d763ee32",
   "metadata": {
    "execution": {
     "iopub.execute_input": "2023-04-24T22:33:07.361675Z",
     "iopub.status.busy": "2023-04-24T22:33:07.361038Z",
     "iopub.status.idle": "2023-04-24T22:33:07.524697Z",
     "shell.execute_reply": "2023-04-24T22:33:07.523692Z"
    },
    "papermill": {
     "duration": 0.179211,
     "end_time": "2023-04-24T22:33:07.527346",
     "exception": false,
     "start_time": "2023-04-24T22:33:07.348135",
     "status": "completed"
    },
    "tags": []
   },
   "outputs": [],
   "source": [
    "from sklearn.neighbors import KNeighborsClassifier\n",
    "classifier = KNeighborsClassifier(n_neighbors = int(sqrt(len(x_train))))"
   ]
  },
  {
   "cell_type": "markdown",
   "id": "b10ea8e2",
   "metadata": {
    "papermill": {
     "duration": 0.011426,
     "end_time": "2023-04-24T22:33:07.551075",
     "exception": false,
     "start_time": "2023-04-24T22:33:07.539649",
     "status": "completed"
    },
    "tags": []
   },
   "source": [
    "Next, we have to \"train our model,\" but, as we know, k-NN classifiers are instance-based learners with no initial training computation. All we need to do is provide the classifier with the training data.\n",
    "\n",
    "```python\n",
    "classifier.fit(X_train, y_train)\n",
    "```\n",
    "\n",
    "Here we invoke the commonplace `fit` method found in tha API of many pre-built classification models. Here, we simply pass it our training data."
   ]
  },
  {
   "cell_type": "code",
   "execution_count": 16,
   "id": "dc565a65",
   "metadata": {
    "execution": {
     "iopub.execute_input": "2023-04-24T22:33:07.576078Z",
     "iopub.status.busy": "2023-04-24T22:33:07.575669Z",
     "iopub.status.idle": "2023-04-24T22:33:07.589344Z",
     "shell.execute_reply": "2023-04-24T22:33:07.588419Z"
    },
    "papermill": {
     "duration": 0.028746,
     "end_time": "2023-04-24T22:33:07.591373",
     "exception": false,
     "start_time": "2023-04-24T22:33:07.562627",
     "status": "completed"
    },
    "tags": []
   },
   "outputs": [
    {
     "data": {
      "text/plain": [
       "KNeighborsClassifier(n_neighbors=37)"
      ]
     },
     "execution_count": 16,
     "metadata": {},
     "output_type": "execute_result"
    }
   ],
   "source": [
    "classifier.fit(x_train, y_train)"
   ]
  },
  {
   "cell_type": "markdown",
   "id": "84bd54b7",
   "metadata": {
    "papermill": {
     "duration": 0.011298,
     "end_time": "2023-04-24T22:33:07.614681",
     "exception": false,
     "start_time": "2023-04-24T22:33:07.603383",
     "status": "completed"
    },
    "tags": []
   },
   "source": [
    "### 💡 Knowledge Check 4\n",
    "\n",
    "Using the documentation, investigate the other \"nearest neighbor\" classifiers in the scikit-learn library, in the `sklearn.neighbors` namespace. Identify (name) two other classifiers, and briefly describe how they are different from KNeighborsClassifier. Don't just regurgitate the documentation - do a little online sleuthing to see how they are useful, and share that information here.\n",
    "\n",
    "**KNeignborsclassifier implements the k-nerast neghbor voting algorthing to assign a class label bassed on the most common class amoung its k-nearest neighbors. Where as two methods RadiusNeighborsClassifier and KNeighborsRegressor use different approaches to the classification problem:**\n",
    "\n",
    "**RadiusNeighborsClassifier assigns a class label to an unkown based on within a specificied radius of neighbors. This is ideal for datasets with different densities and allows for adaption to local data.**\n",
    "\n",
    "**The KNeighborsRegressor is ver similar to the classifier except it uses regression instead of of discrete clasification and the results are continuous varriables** "
   ]
  },
  {
   "cell_type": "markdown",
   "id": "78d694f3",
   "metadata": {
    "papermill": {
     "duration": 0.011247,
     "end_time": "2023-04-24T22:33:07.637430",
     "exception": false,
     "start_time": "2023-04-24T22:33:07.626183",
     "status": "completed"
    },
    "tags": []
   },
   "source": [
    "## Validate (Test) Our Classifier\n",
    "\n",
    "The next step in our ML process is to see how well our classifier performs, given our training set and, in this case, our initial **_k_**. We'll ask the classifier to predict the class label for every record in our validation set, `X_test`. Then, we'll compare those predictions with the actual class labels, in `y_test`, and compute an accuracy score. Rather than do this manually, we'll rely on the scikit-learn [`accuracy_score`](https://scikit-learn.org/stable/modules/generated/sklearn.metrics.accuracy_score.html) function. Be sure to read the documentation for `accuracy_score`.\n",
    "\n",
    "```python\n",
    "from sklearn.metrics import accuracy_score\n",
    "\n",
    "y_predictions = classifier.predict(X_test)\n",
    "accuracy = accuracy_score(y_test, y_predictions)\n",
    "```\n",
    "\n",
    "Here we invoke the KNeighborsClassifier `predict` method, which returns an array of predicted class labels for each record in `X_test`, that we assign to `y_predictions`. We then pass `accuracy_score` the known correct class labels for the validation set, `y_test`, and the predicted labels, `y_predictions`, and let it make the comparisons, tally up the correct matches, and compute and return an accuracy score between 0 and 1.\n"
   ]
  },
  {
   "cell_type": "code",
   "execution_count": 17,
   "id": "1941216d",
   "metadata": {
    "execution": {
     "iopub.execute_input": "2023-04-24T22:33:07.663385Z",
     "iopub.status.busy": "2023-04-24T22:33:07.662177Z",
     "iopub.status.idle": "2023-04-24T22:33:07.698333Z",
     "shell.execute_reply": "2023-04-24T22:33:07.697374Z"
    },
    "papermill": {
     "duration": 0.051552,
     "end_time": "2023-04-24T22:33:07.700703",
     "exception": false,
     "start_time": "2023-04-24T22:33:07.649151",
     "status": "completed"
    },
    "tags": []
   },
   "outputs": [],
   "source": [
    "from sklearn.metrics import accuracy_score\n",
    "y_predictions = classifier.predict(x_test)\n",
    "accuracy=accuracy_score(y_test, y_predictions)"
   ]
  },
  {
   "cell_type": "markdown",
   "id": "8b61d5cb",
   "metadata": {
    "papermill": {
     "duration": 0.015582,
     "end_time": "2023-04-24T22:33:07.731925",
     "exception": false,
     "start_time": "2023-04-24T22:33:07.716343",
     "status": "completed"
    },
    "tags": []
   },
   "source": [
    "Now, let's inspect that accuracy score by simply printing it.\n",
    "\n",
    "```python\n",
    "print(accuracy)\n",
    "```\n"
   ]
  },
  {
   "cell_type": "code",
   "execution_count": 18,
   "id": "b5303c95",
   "metadata": {
    "execution": {
     "iopub.execute_input": "2023-04-24T22:33:07.764566Z",
     "iopub.status.busy": "2023-04-24T22:33:07.764192Z",
     "iopub.status.idle": "2023-04-24T22:33:07.769134Z",
     "shell.execute_reply": "2023-04-24T22:33:07.768214Z"
    },
    "papermill": {
     "duration": 0.024649,
     "end_time": "2023-04-24T22:33:07.772144",
     "exception": false,
     "start_time": "2023-04-24T22:33:07.747495",
     "status": "completed"
    },
    "tags": []
   },
   "outputs": [
    {
     "name": "stdout",
     "output_type": "stream",
     "text": [
      "96.1%\n"
     ]
    }
   ],
   "source": [
    "print(f\"{accuracy*100:.1f}%\")"
   ]
  },
  {
   "cell_type": "markdown",
   "id": "54015504",
   "metadata": {
    "papermill": {
     "duration": 0.012901,
     "end_time": "2023-04-24T22:33:07.800925",
     "exception": false,
     "start_time": "2023-04-24T22:33:07.788024",
     "status": "completed"
    },
    "tags": []
   },
   "source": [
    "Hm - not bad!\n",
    "\n",
    "There's one more way we can analyze the performance of our classifier: by inspecting a matrix of expected vs predicted class labels, known as a *confusion matrix*. For each cell in the matrix, we'll see the number of predictions, whether right or wrong, made for each of the known class labels.\n",
    "\n",
    "We'll reach for the scikit-learn [`confusion_matrix`](https://scikit-learn.org/stable/modules/generated/sklearn.metrics.confusion_matrix.html) function to generate a confusion matrix for us.\n",
    "\n",
    "```python\n",
    "from sklearn.metrics import confusion_matrix\n",
    "\n",
    "confusion_matrix = confusion_matrix(y_test, y_predictions)\n",
    "```\n",
    "\n",
    "We import the `confusion_matrix` function, and then invoke it, passing it the expected class labels in the validation set, `y_test`, and the predicted labels, `y_predictions`. It returns, in essence, a matrix, which we assign to `confusion_matrix`.\n"
   ]
  },
  {
   "cell_type": "code",
   "execution_count": 19,
   "id": "fc033b7f",
   "metadata": {
    "execution": {
     "iopub.execute_input": "2023-04-24T22:33:07.826303Z",
     "iopub.status.busy": "2023-04-24T22:33:07.825913Z",
     "iopub.status.idle": "2023-04-24T22:33:07.833846Z",
     "shell.execute_reply": "2023-04-24T22:33:07.832850Z"
    },
    "papermill": {
     "duration": 0.022832,
     "end_time": "2023-04-24T22:33:07.836015",
     "exception": false,
     "start_time": "2023-04-24T22:33:07.813183",
     "status": "completed"
    },
    "tags": []
   },
   "outputs": [],
   "source": [
    "from sklearn.metrics import confusion_matrix\n",
    "confusion_matrix = confusion_matrix(y_test,y_predictions)"
   ]
  },
  {
   "cell_type": "markdown",
   "id": "3cbe3708",
   "metadata": {
    "papermill": {
     "duration": 0.011612,
     "end_time": "2023-04-24T22:33:07.859511",
     "exception": false,
     "start_time": "2023-04-24T22:33:07.847899",
     "status": "completed"
    },
    "tags": []
   },
   "source": [
    "Now, let's inspect the confusion matrix by simply printing it.\n",
    "\n",
    "```python\n",
    "print(confusion_matrix)\n",
    "```"
   ]
  },
  {
   "cell_type": "code",
   "execution_count": 20,
   "id": "1471422a",
   "metadata": {
    "execution": {
     "iopub.execute_input": "2023-04-24T22:33:07.885734Z",
     "iopub.status.busy": "2023-04-24T22:33:07.885050Z",
     "iopub.status.idle": "2023-04-24T22:33:07.891469Z",
     "shell.execute_reply": "2023-04-24T22:33:07.889806Z"
    },
    "papermill": {
     "duration": 0.022686,
     "end_time": "2023-04-24T22:33:07.894363",
     "exception": false,
     "start_time": "2023-04-24T22:33:07.871677",
     "status": "completed"
    },
    "tags": []
   },
   "outputs": [
    {
     "name": "stdout",
     "output_type": "stream",
     "text": [
      "[[27  0  0  0  0  0  0  0  0  0]\n",
      " [ 0 35  0  0  0  0  0  0  0  0]\n",
      " [ 1  0 32  1  0  0  0  1  1  0]\n",
      " [ 0  0  0 29  0  0  0  0  0  0]\n",
      " [ 0  0  0  0 29  0  0  1  0  0]\n",
      " [ 0  0  0  0  0 39  0  0  0  1]\n",
      " [ 0  0  0  0  0  0 44  0  0  0]\n",
      " [ 0  0  0  0  0  0  0 39  0  0]\n",
      " [ 0  3  0  1  0  0  1  1 33  0]\n",
      " [ 0  0  0  0  0  1  0  1  0 39]]\n"
     ]
    }
   ],
   "source": [
    "print(confusion_matrix)"
   ]
  },
  {
   "cell_type": "markdown",
   "id": "22ff8df5",
   "metadata": {
    "papermill": {
     "duration": 0.011634,
     "end_time": "2023-04-24T22:33:07.918094",
     "exception": false,
     "start_time": "2023-04-24T22:33:07.906460",
     "status": "completed"
    },
    "tags": []
   },
   "source": [
    "The horizontal axis of a confusion matrix represents the predicted labels, and the vertical axis represents the correct class labels. Each entry in the matrix represents the number of images predicted to have that class label.\n",
    "\n",
    "Notice how well this classifer performed, with our default **_k_**, euclidean distance, and a (luckily!) high-quality data set. We can see the 27 of the **0** handwritten images are correctly classified, and none are misclassified. If we look at the last row in the confusion matrix, we see that 39 of the **9** images are correctly classified, but one was classified as a **5**, and another classified as a **7**.\n",
    "\n",
    "### But, can you do better?"
   ]
  },
  {
   "cell_type": "markdown",
   "id": "7d4f44c8",
   "metadata": {
    "papermill": {
     "duration": 0.011291,
     "end_time": "2023-04-24T22:33:07.940938",
     "exception": false,
     "start_time": "2023-04-24T22:33:07.929647",
     "status": "completed"
    },
    "tags": []
   },
   "source": [
    "### 💡 Knowledge Check 5\n",
    "\n",
    "Inspect the confusion matrix. Which handwritten letter seemed to be the \"hardest\" for our classifier to predict correctly? What evidence in the confusion matrix leads you to assert this?\n",
    "\n",
    "**The hardest letter for the classifier to predict correctly is 8 since its been misclassified as 1 three times, as 3 once, as 6 once, and as 7 once. Although the classifier was correct 33 times, it misclassified six times.**"
   ]
  },
  {
   "cell_type": "markdown",
   "id": "f3f8a988",
   "metadata": {
    "papermill": {
     "duration": 0.012176,
     "end_time": "2023-04-24T22:33:07.964583",
     "exception": false,
     "start_time": "2023-04-24T22:33:07.952407",
     "status": "completed"
    },
    "tags": []
   },
   "source": [
    "## Tune the Classifier: Find the Best **_k_**\n",
    "\n",
    "Now it's your turn. Given what we have seen in the course thus far, and the `sklearn` API seen in this notebook, create an iterative experiment that inspects the accuracy of different classifiers using different **_k_** values. Your goal is to configure a classifier that exhibits the highest possible accuracy. Start your experiment with the traditional initial **_k_**, the square root of the number of records in the training set.\n",
    "\n",
    "Your experiment should demonstrate:\n",
    "\n",
    "- Creating KNeighborsClassifiers with different **_k_** values\n",
    "- \"Training\" and validating the classifiers\n",
    "- Capturing and presenting the accuracy for each **_k_**\n",
    "\n",
    "Keep your experiment simple. (Hint: Use a loop.)\n",
    "\n",
    "Conclude your experiment with a markdown cell that asserts your proposed **_k_**, the accuracy of your classifier, and what leads you to choose this value of **_k_**.\n"
   ]
  },
  {
   "cell_type": "code",
   "execution_count": 21,
   "id": "0f86f8f8",
   "metadata": {
    "execution": {
     "iopub.execute_input": "2023-04-24T22:33:07.992608Z",
     "iopub.status.busy": "2023-04-24T22:33:07.991395Z",
     "iopub.status.idle": "2023-04-24T22:33:09.244755Z",
     "shell.execute_reply": "2023-04-24T22:33:09.243998Z"
    },
    "papermill": {
     "duration": 1.269572,
     "end_time": "2023-04-24T22:33:09.246873",
     "exception": false,
     "start_time": "2023-04-24T22:33:07.977301",
     "status": "completed"
    },
    "tags": []
   },
   "outputs": [
    {
     "name": "stdout",
     "output_type": "stream",
     "text": [
      "When the k value=1 then the accuracy=98.9%\n",
      "When the k value=2 then the accuracy=98.1%\n",
      "When the k value=3 then the accuracy=98.3%\n",
      "When the k value=4 then the accuracy=97.5%\n",
      "When the k value=5 then the accuracy=97.5%\n",
      "When the k value=6 then the accuracy=97.2%\n",
      "When the k value=7 then the accuracy=97.5%\n",
      "When the k value=8 then the accuracy=97.5%\n",
      "When the k value=9 then the accuracy=97.5%\n",
      "When the k value=10 then the accuracy=97.2%\n",
      "When the k value=11 then the accuracy=97.2%\n",
      "When the k value=12 then the accuracy=97.2%\n",
      "When the k value=13 then the accuracy=97.2%\n",
      "When the k value=14 then the accuracy=96.9%\n",
      "When the k value=15 then the accuracy=96.9%\n",
      "When the k value=16 then the accuracy=96.9%\n",
      "When the k value=17 then the accuracy=96.7%\n",
      "When the k value=18 then the accuracy=96.7%\n",
      "When the k value=19 then the accuracy=96.1%\n",
      "When the k value=20 then the accuracy=96.4%\n",
      "When the k value=21 then the accuracy=96.4%\n",
      "When the k value=22 then the accuracy=96.4%\n",
      "When the k value=23 then the accuracy=96.4%\n",
      "When the k value=24 then the accuracy=96.1%\n",
      "When the k value=25 then the accuracy=96.1%\n",
      "When the k value=26 then the accuracy=96.1%\n",
      "When the k value=27 then the accuracy=96.4%\n",
      "When the k value=28 then the accuracy=95.8%\n",
      "When the k value=29 then the accuracy=96.1%\n",
      "When the k value=30 then the accuracy=95.8%\n",
      "When the k value=31 then the accuracy=95.8%\n",
      "When the k value=32 then the accuracy=95.8%\n",
      "When the k value=33 then the accuracy=95.8%\n",
      "When the k value=34 then the accuracy=95.8%\n",
      "When the k value=35 then the accuracy=95.8%\n",
      "When the k value=36 then the accuracy=96.1%\n",
      "When the k value=37 then the accuracy=96.1%\n",
      "When the k value=38 then the accuracy=96.1%\n",
      "When the k value=39 then the accuracy=95.8%\n",
      "When the k value=40 then the accuracy=95.6%\n",
      "When the k value=41 then the accuracy=95.6%\n",
      "When the k value=42 then the accuracy=95.3%\n",
      "When the k value=43 then the accuracy=95.3%\n",
      "When the k value=44 then the accuracy=95.0%\n",
      "When the k value=45 then the accuracy=95.0%\n",
      "\n",
      "\n",
      "The ideal k-value is 3 with and accuracy of 98.3\n"
     ]
    }
   ],
   "source": [
    "# 💡 Knowledge Check 6 Code\n",
    "\n",
    "#first we need to split the data, varriables names start with rk to distiguish them from earlier in the script\n",
    "rk_x_train, rk_x_test, rk_y_train, rk_y_test = train_test_split(digits.data, digits.target, test_size=0.2, random_state=0)\n",
    "\n",
    "#then will want to get a rouch since of what a k-vlaue range could be given the size of the dataset\n",
    "#print(int(sqrt(len(rk_x_train)))) == 37\n",
    "\n",
    "#creates a list to store accuracy errors\n",
    "accuracy_list = [0]\n",
    "\n",
    "#now we can run a loop that tests the different values for k and accuracy and saves them into a list\n",
    "for k in range(1,46):\n",
    "    \n",
    "    #sets the k values\n",
    "    rk_classifier = KNeighborsClassifier(n_neighbors = k)\n",
    "\n",
    "    #fit the model with the given k-value to the training data\n",
    "    rk_classifier.fit(rk_x_train, rk_y_train)\n",
    "\n",
    "    #tests the model on making a prediction of the x_test data\n",
    "    rk_y_predictions = rk_classifier.predict(rk_x_test)\n",
    "\n",
    "    #calculates the accuracy for the specified k-value\n",
    "    rk_accuracy=accuracy_score(rk_y_test, rk_y_predictions)\n",
    "    print(f\"When the k value={k} then the accuracy={rk_accuracy*100:.1f}%\")\n",
    "    \n",
    "    #saves accuracy value to list with index being k-value\n",
    "    accuracy_list.append(rk_accuracy)\n",
    "\n",
    "#calculates and prints ideal k-value and accuracy\n",
    "max_k = max(accuracy_list[2:])\n",
    "print(f\"\\n\\nThe ideal k-value is {accuracy_list.index(max_k)} with and accuracy of {max_k*100:.1f}\")\n",
    "\n",
    "#know that we know the ideal k=3 we will train the classifier with this value as done in the loo\n",
    "#sets the k values\n",
    "rk_classifier = KNeighborsClassifier(n_neighbors = accuracy_list.index(max_k))\n",
    "#fit the model with the given k-value to the training data\n",
    "rk_classifier.fit(rk_x_train, rk_y_train)\n",
    "\n",
    "#tests the model on making a prediction of the x_test data\n",
    "rk_y_predictions = rk_classifier.predict(rk_x_test)\n",
    "\n",
    "#calculates the accuracy for the specified k-value\n",
    "rk_accuracy=accuracy_score(rk_y_test, rk_y_predictions)"
   ]
  },
  {
   "cell_type": "code",
   "execution_count": 22,
   "id": "95ea56cc",
   "metadata": {
    "execution": {
     "iopub.execute_input": "2023-04-24T22:33:09.284242Z",
     "iopub.status.busy": "2023-04-24T22:33:09.283861Z",
     "iopub.status.idle": "2023-04-24T22:33:09.290549Z",
     "shell.execute_reply": "2023-04-24T22:33:09.289712Z"
    },
    "papermill": {
     "duration": 0.027154,
     "end_time": "2023-04-24T22:33:09.292453",
     "exception": false,
     "start_time": "2023-04-24T22:33:09.265299",
     "status": "completed"
    },
    "tags": []
   },
   "outputs": [
    {
     "name": "stdout",
     "output_type": "stream",
     "text": [
      "rk model: \n",
      " [[27  0  0  0  0  0  0  0  0  0]\n",
      " [ 0 34  0  0  0  1  0  0  0  0]\n",
      " [ 0  0 36  0  0  0  0  0  0  0]\n",
      " [ 0  0  1 28  0  0  0  0  0  0]\n",
      " [ 0  0  0  0 29  0  0  1  0  0]\n",
      " [ 0  0  0  0  0 39  0  0  0  1]\n",
      " [ 0  0  0  0  0  0 44  0  0  0]\n",
      " [ 0  0  0  0  0  0  0 39  0  0]\n",
      " [ 0  0  0  2  0  0  0  0 37  0]\n",
      " [ 0  0  0  0  0  0  0  0  0 41]]\n"
     ]
    }
   ],
   "source": [
    "import numpy as np\n",
    "from sklearn.metrics import confusion_matrix\n",
    "rk_confusion_matrix = confusion_matrix(rk_y_test,rk_y_predictions)\n",
    "print(\"rk model:\",\"\\n\",rk_confusion_matrix)\n"
   ]
  },
  {
   "cell_type": "code",
   "execution_count": 23,
   "id": "68dc348b",
   "metadata": {
    "execution": {
     "iopub.execute_input": "2023-04-24T22:33:09.326694Z",
     "iopub.status.busy": "2023-04-24T22:33:09.326316Z",
     "iopub.status.idle": "2023-04-24T22:33:09.332913Z",
     "shell.execute_reply": "2023-04-24T22:33:09.332089Z"
    },
    "papermill": {
     "duration": 0.025938,
     "end_time": "2023-04-24T22:33:09.334805",
     "exception": false,
     "start_time": "2023-04-24T22:33:09.308867",
     "status": "completed"
    },
    "tags": []
   },
   "outputs": [
    {
     "name": "stdout",
     "output_type": "stream",
     "text": [
      "first model: \n",
      " [[27  0  0  0  0  0  0  0  0  0]\n",
      " [ 0 35  0  0  0  0  0  0  0  0]\n",
      " [ 1  0 32  1  0  0  0  1  1  0]\n",
      " [ 0  0  0 29  0  0  0  0  0  0]\n",
      " [ 0  0  0  0 29  0  0  1  0  0]\n",
      " [ 0  0  0  0  0 39  0  0  0  1]\n",
      " [ 0  0  0  0  0  0 44  0  0  0]\n",
      " [ 0  0  0  0  0  0  0 39  0  0]\n",
      " [ 0  3  0  1  0  0  1  1 33  0]\n",
      " [ 0  0  0  0  0  1  0  1  0 39]]\n"
     ]
    }
   ],
   "source": [
    "#\n",
    "from sklearn.metrics import confusion_matrix\n",
    "confusion_matrix = confusion_matrix(y_test,y_predictions)\n",
    "print(\"first model:\",\"\\n\",confusion_matrix)"
   ]
  },
  {
   "cell_type": "code",
   "execution_count": 24,
   "id": "f3ecf12d",
   "metadata": {
    "execution": {
     "iopub.execute_input": "2023-04-24T22:33:09.363569Z",
     "iopub.status.busy": "2023-04-24T22:33:09.363196Z",
     "iopub.status.idle": "2023-04-24T22:33:09.558692Z",
     "shell.execute_reply": "2023-04-24T22:33:09.557706Z"
    },
    "papermill": {
     "duration": 0.211804,
     "end_time": "2023-04-24T22:33:09.561082",
     "exception": false,
     "start_time": "2023-04-24T22:33:09.349278",
     "status": "completed"
    },
    "tags": []
   },
   "outputs": [
    {
     "data": {
      "image/png": "[encoded data removed]",
      "text/plain": [
       "<Figure size 640x480 with 1 Axes>"
      ]
     },
     "metadata": {},
     "output_type": "display_data"
    }
   ],
   "source": [
    "# Create the DataFrame with the correct column names\n",
    "rk_k_error_plot = pd.DataFrame({'k-value': range(len(accuracy_list)), 'Accuracy': accuracy_list})\n",
    "\n",
    "# Subset the DataFrame based on the condition \"k-value > 1\n",
    "rk_k_error_plot = rk_k_error_plot.loc[rk_k_error_plot['k-value'] > 1]\n",
    "\n",
    "# Plot the scatter plot\n",
    "rk_k_error_plot.plot(x=\"k-value\", y=\"Accuracy\", kind='scatter')\n",
    "plt.show()"
   ]
  },
  {
   "cell_type": "markdown",
   "id": "0d09420c",
   "metadata": {
    "papermill": {
     "duration": 0.012853,
     "end_time": "2023-04-24T22:33:09.587572",
     "exception": false,
     "start_time": "2023-04-24T22:33:09.574719",
     "status": "completed"
    },
    "tags": []
   },
   "source": [
    "### 💡 Knowledge Check 6\n",
    "\n",
    "Conclude your experiment with a brief assertion of your proposed **_k_**, the accuracy of your classifier, and what led you to choose this value of **_k_**.\n",
    "\n",
    "**It can be seen that overall accuracy increased from 96.1% (k=37) to 98.3% when k=3 as well as the classifications of the problomatic number 8 when comparing the \"rk model\" to the \"first model\". The selection of k=3 is the best neigherst neighbor value is supported by the visualization in the figure above showing k=3 with the heighest accuracy.**"
   ]
  },
  {
   "cell_type": "markdown",
   "id": "29d795f5",
   "metadata": {
    "papermill": {
     "duration": 0.012077,
     "end_time": "2023-04-24T22:33:09.612086",
     "exception": false,
     "start_time": "2023-04-24T22:33:09.600009",
     "status": "completed"
    },
    "tags": []
   },
   "source": [
    "# Conclusion\n",
    "\n",
    "Congratulations on finishing an authentic machine learning workflow! While our dataset is of high quality, and the drama of preprocessing is abbreviated, we hope that this notebook enables you to see how we can use ML tools to carry out much of the machine learning process.\n",
    "\n",
    "Please wrap up this notebook with a brief narrative.\n",
    "\n",
    "### 💡 Knowledge Check 7\n",
    "\n",
    "Imagine that a \"person on the street\" (or your twelve-year-old relative) asks you, \"What does it take for a computer to recognize handwritten characters that get scanned and turned into computable numbers?\" Rely on our journey through this notebook, infer and deduce what you can as necessary, but be mindful of your audience: please explain things in a manner befitting someone who knows nothing about these things.\n",
    "\n",
    "Conclude with your assertion about whether or not character recognition is an \"easy\" or \"very difficult\" machine learning problem, and whether or not this surprises you.\n",
    "\n",
    "**In order for a computer to recognize hand written letters several steps most be taken in order to generate a machine learning comuptre program that can accomplish this. First a larger, more the better set of hand written letters needs to be collected, labled and stored in the compture to teach it. This data set is then split to train the computer and test the computer at its ablity to predict what number is correct. Different parameters are tweeked to get the model producing the most accurate predictions, this can be thought of as \"goldy-locks\" as you don't want the model over or under optimized, just right. After optimization of the model and it has been shown to proform accuratly on the test set it can be tested with new data and used if its functioning well.**\n",
    "\n",
    "**Character recogntition is easy machine learning technique, and great for begeaniers. These same concepts can be used to for very difficult machine learning problems like early detection of cancer from images**"
   ]
  }
 ],
 "metadata": {
  "kernelspec": {
   "display_name": "Python 3",
   "language": "python",
   "name": "python3"
  },
  "language_info": {
   "codemirror_mode": {
    "name": "ipython",
    "version": 3
   },
   "file_extension": ".py",
   "mimetype": "text/x-python",
   "name": "python",
   "nbconvert_exporter": "python",
   "pygments_lexer": "ipython3",
   "version": "3.7.12"
  },
  "papermill": {
   "default_parameters": {},
   "duration": 14.587736,
   "end_time": "2023-04-24T22:33:10.244758",
   "environment_variables": {},
   "exception": null,
   "input_path": "__notebook__.ipynb",
   "output_path": "__notebook__.ipynb",
   "parameters": {},
   "start_time": "2023-04-24T22:32:55.657022",
   "version": "2.4.0"
  }
 },
 "nbformat": 4,
 "nbformat_minor": 5
}
