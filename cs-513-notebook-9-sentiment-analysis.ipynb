{
 "cells": [
  {
   "cell_type": "markdown",
   "id": "c3d96a99",
   "metadata": {
    "papermill": {
     "duration": 0.014425,
     "end_time": "2023-06-02T19:30:04.656057",
     "exception": false,
     "start_time": "2023-06-02T19:30:04.641632",
     "status": "completed"
    },
    "tags": []
   },
   "source": [
    "# Introduction\n",
    "\n",
    "In notebook 9 we will be conducting sentiment analysis on a movie review data set. This will demonstrate both the application of a common classification task that employees natural language processing (NLP) and the machine learning workflow using a blank notebook as a template.\n",
    "\n",
    "sentiment analysis is a subfield of NLP that focuses on determining the sentiment or emotional tone behind words in order to understand the attitudes, opinions, and emotions of the writer. It's often applied to fields like customer feedback, product reviews, and social media monitoring.\n",
    "\n",
    "The basic premise of sentiment analysis is classifying the polarity of a given text. This classification is of binary (positive, negative) like this example, but can feature more then two discrete outputs/labels.\n",
    "\n",
    "The datasets in this notebook features a collection of reviews of movies corresponding to labeled \"positive\" or \"negative\" sentiment available from Kaggle (Sentiment Polarity Data Set v2.0 from Movie Review Data by Pang, Lee and Vaithyanatha). The data came in already split in train and test sets so after importing the data we use the handy SkLearn library to vectorize this data and apply TF-IDF which weights the importance of a given word in the text based on its frequency. After the training and test data is vectorizing we will train a support vector classifier (SVC) model from SKlearn which is well suited for the sentiment analysis classification task. After fitting the SVC model its accuracy and precision is evaluated. Followed by making predictions based on novel reviews to evaluate its performance or flaws. \n"
   ]
  },
  {
   "cell_type": "markdown",
   "id": "93665100",
   "metadata": {
    "papermill": {
     "duration": 0.013391,
     "end_time": "2023-06-02T19:30:04.683298",
     "exception": false,
     "start_time": "2023-06-02T19:30:04.669907",
     "status": "completed"
    },
    "tags": []
   },
   "source": [
    "# Loading the data"
   ]
  },
  {
   "cell_type": "markdown",
   "id": "42533c77",
   "metadata": {
    "papermill": {
     "duration": 0.013574,
     "end_time": "2023-06-02T19:30:04.710491",
     "exception": false,
     "start_time": "2023-06-02T19:30:04.696917",
     "status": "completed"
    },
    "tags": []
   },
   "source": [
    "Here we load our training and test set (pre-split) and pandas package."
   ]
  },
  {
   "cell_type": "code",
   "execution_count": 1,
   "id": "61717c7d",
   "metadata": {
    "_cell_guid": "b1076dfc-b9ad-4769-8c92-a6c4dae69d19",
    "_uuid": "8f2839f25d086af736a60e9eeb907d3b93b6e0e5",
    "execution": {
     "iopub.execute_input": "2023-06-02T19:30:04.741302Z",
     "iopub.status.busy": "2023-06-02T19:30:04.740523Z",
     "iopub.status.idle": "2023-06-02T19:30:04.963333Z",
     "shell.execute_reply": "2023-06-02T19:30:04.962236Z"
    },
    "papermill": {
     "duration": 0.241676,
     "end_time": "2023-06-02T19:30:04.966053",
     "exception": false,
     "start_time": "2023-06-02T19:30:04.724377",
     "status": "completed"
    },
    "tags": []
   },
   "outputs": [],
   "source": [
    "import pandas as pd\n",
    "\n",
    "#importing train test data sets\n",
    "reviews_training = pd.read_csv(\"/kaggle/input/movie-reviews-sentiment-polarity/movie_reviews_train.csv\")\n",
    "reviews_test = pd.read_csv(\"/kaggle/input/movie-reviews-sentiment-polarity/movie_reviews_test.csv\")\n"
   ]
  },
  {
   "cell_type": "markdown",
   "id": "43cecf40",
   "metadata": {
    "papermill": {
     "duration": 0.01416,
     "end_time": "2023-06-02T19:30:04.994712",
     "exception": false,
     "start_time": "2023-06-02T19:30:04.980552",
     "status": "completed"
    },
    "tags": []
   },
   "source": [
    "# Exploring data"
   ]
  },
  {
   "cell_type": "markdown",
   "id": "3c5cb29a",
   "metadata": {
    "papermill": {
     "duration": 0.013701,
     "end_time": "2023-06-02T19:30:05.022412",
     "exception": false,
     "start_time": "2023-06-02T19:30:05.008711",
     "status": "completed"
    },
    "tags": []
   },
   "source": [
    "The next step is to understand the data we are working with. This is done by looking at a few rows of data and the shape or description of the datasets."
   ]
  },
  {
   "cell_type": "markdown",
   "id": "75a70a81",
   "metadata": {
    "papermill": {
     "duration": 0.013397,
     "end_time": "2023-06-02T19:30:05.049787",
     "exception": false,
     "start_time": "2023-06-02T19:30:05.036390",
     "status": "completed"
    },
    "tags": []
   },
   "source": [
    "Lets look at the first few lines of data for both the train and test dataset using head()."
   ]
  },
  {
   "cell_type": "code",
   "execution_count": 2,
   "id": "489f696e",
   "metadata": {
    "execution": {
     "iopub.execute_input": "2023-06-02T19:30:05.079519Z",
     "iopub.status.busy": "2023-06-02T19:30:05.079095Z",
     "iopub.status.idle": "2023-06-02T19:30:05.108865Z",
     "shell.execute_reply": "2023-06-02T19:30:05.107990Z"
    },
    "papermill": {
     "duration": 0.047653,
     "end_time": "2023-06-02T19:30:05.111315",
     "exception": false,
     "start_time": "2023-06-02T19:30:05.063662",
     "status": "completed"
    },
    "tags": []
   },
   "outputs": [
    {
     "data": {
      "text/html": [
       "<div>\n",
       "<style scoped>\n",
       "    .dataframe tbody tr th:only-of-type {\n",
       "        vertical-align: middle;\n",
       "    }\n",
       "\n",
       "    .dataframe tbody tr th {\n",
       "        vertical-align: top;\n",
       "    }\n",
       "\n",
       "    .dataframe thead th {\n",
       "        text-align: right;\n",
       "    }\n",
       "</style>\n",
       "<table border=\"1\" class=\"dataframe\">\n",
       "  <thead>\n",
       "    <tr style=\"text-align: right;\">\n",
       "      <th></th>\n",
       "      <th>Content</th>\n",
       "      <th>Label</th>\n",
       "    </tr>\n",
       "  </thead>\n",
       "  <tbody>\n",
       "    <tr>\n",
       "      <th>0</th>\n",
       "      <td>every once in a while you see a film that is s...</td>\n",
       "      <td>pos</td>\n",
       "    </tr>\n",
       "    <tr>\n",
       "      <th>1</th>\n",
       "      <td>the love for family is one of the strongest dr...</td>\n",
       "      <td>pos</td>\n",
       "    </tr>\n",
       "    <tr>\n",
       "      <th>2</th>\n",
       "      <td>after the terminally bleak reservoir dogs and ...</td>\n",
       "      <td>pos</td>\n",
       "    </tr>\n",
       "    <tr>\n",
       "      <th>3</th>\n",
       "      <td>( warning to those who have not seen seven : ...</td>\n",
       "      <td>pos</td>\n",
       "    </tr>\n",
       "    <tr>\n",
       "      <th>4</th>\n",
       "      <td>having not seen , \" who framed roger rabbit \" ...</td>\n",
       "      <td>pos</td>\n",
       "    </tr>\n",
       "  </tbody>\n",
       "</table>\n",
       "</div>"
      ],
      "text/plain": [
       "                                             Content Label\n",
       "0  every once in a while you see a film that is s...   pos\n",
       "1  the love for family is one of the strongest dr...   pos\n",
       "2  after the terminally bleak reservoir dogs and ...   pos\n",
       "3   ( warning to those who have not seen seven : ...   pos\n",
       "4  having not seen , \" who framed roger rabbit \" ...   pos"
      ]
     },
     "execution_count": 2,
     "metadata": {},
     "output_type": "execute_result"
    }
   ],
   "source": [
    "reviews_training.head()"
   ]
  },
  {
   "cell_type": "code",
   "execution_count": 3,
   "id": "26c26ec6",
   "metadata": {
    "execution": {
     "iopub.execute_input": "2023-06-02T19:30:05.142324Z",
     "iopub.status.busy": "2023-06-02T19:30:05.141896Z",
     "iopub.status.idle": "2023-06-02T19:30:05.153399Z",
     "shell.execute_reply": "2023-06-02T19:30:05.152208Z"
    },
    "papermill": {
     "duration": 0.030119,
     "end_time": "2023-06-02T19:30:05.155696",
     "exception": false,
     "start_time": "2023-06-02T19:30:05.125577",
     "status": "completed"
    },
    "tags": []
   },
   "outputs": [
    {
     "data": {
      "text/html": [
       "<div>\n",
       "<style scoped>\n",
       "    .dataframe tbody tr th:only-of-type {\n",
       "        vertical-align: middle;\n",
       "    }\n",
       "\n",
       "    .dataframe tbody tr th {\n",
       "        vertical-align: top;\n",
       "    }\n",
       "\n",
       "    .dataframe thead th {\n",
       "        text-align: right;\n",
       "    }\n",
       "</style>\n",
       "<table border=\"1\" class=\"dataframe\">\n",
       "  <thead>\n",
       "    <tr style=\"text-align: right;\">\n",
       "      <th></th>\n",
       "      <th>Content</th>\n",
       "      <th>Label</th>\n",
       "    </tr>\n",
       "  </thead>\n",
       "  <tbody>\n",
       "    <tr>\n",
       "      <th>0</th>\n",
       "      <td>hedwig ( john cameron mitchell ) was born a bo...</td>\n",
       "      <td>pos</td>\n",
       "    </tr>\n",
       "    <tr>\n",
       "      <th>1</th>\n",
       "      <td>one of the more unusual and suggestively viole...</td>\n",
       "      <td>pos</td>\n",
       "    </tr>\n",
       "    <tr>\n",
       "      <th>2</th>\n",
       "      <td>what do you get when you combine clueless and ...</td>\n",
       "      <td>pos</td>\n",
       "    </tr>\n",
       "    <tr>\n",
       "      <th>3</th>\n",
       "      <td>&gt;from the man who presented us with henry : th...</td>\n",
       "      <td>pos</td>\n",
       "    </tr>\n",
       "    <tr>\n",
       "      <th>4</th>\n",
       "      <td>tibet has entered the american consciousness s...</td>\n",
       "      <td>pos</td>\n",
       "    </tr>\n",
       "  </tbody>\n",
       "</table>\n",
       "</div>"
      ],
      "text/plain": [
       "                                             Content Label\n",
       "0  hedwig ( john cameron mitchell ) was born a bo...   pos\n",
       "1  one of the more unusual and suggestively viole...   pos\n",
       "2  what do you get when you combine clueless and ...   pos\n",
       "3  >from the man who presented us with henry : th...   pos\n",
       "4  tibet has entered the american consciousness s...   pos"
      ]
     },
     "execution_count": 3,
     "metadata": {},
     "output_type": "execute_result"
    }
   ],
   "source": [
    "reviews_test.head()"
   ]
  },
  {
   "cell_type": "markdown",
   "id": "64f4a5ac",
   "metadata": {
    "papermill": {
     "duration": 0.014501,
     "end_time": "2023-06-02T19:30:05.185276",
     "exception": false,
     "start_time": "2023-06-02T19:30:05.170775",
     "status": "completed"
    },
    "tags": []
   },
   "source": [
    "We can see the format is consistent across the two datasets. There is one column “Content” which is the feature that has the text to be classified and a second column “Label” which is the positive and negative review based on the text feature."
   ]
  },
  {
   "cell_type": "markdown",
   "id": "aa92d37a",
   "metadata": {
    "papermill": {
     "duration": 0.013744,
     "end_time": "2023-06-02T19:30:05.213096",
     "exception": false,
     "start_time": "2023-06-02T19:30:05.199352",
     "status": "completed"
    },
    "tags": []
   },
   "source": [
    "The describe() function provides additional insight into our data set as seen below."
   ]
  },
  {
   "cell_type": "code",
   "execution_count": 4,
   "id": "68c0d3f6",
   "metadata": {
    "execution": {
     "iopub.execute_input": "2023-06-02T19:30:05.243837Z",
     "iopub.status.busy": "2023-06-02T19:30:05.242882Z",
     "iopub.status.idle": "2023-06-02T19:30:05.270231Z",
     "shell.execute_reply": "2023-06-02T19:30:05.268998Z"
    },
    "papermill": {
     "duration": 0.045561,
     "end_time": "2023-06-02T19:30:05.272810",
     "exception": false,
     "start_time": "2023-06-02T19:30:05.227249",
     "status": "completed"
    },
    "tags": []
   },
   "outputs": [
    {
     "data": {
      "text/html": [
       "<div>\n",
       "<style scoped>\n",
       "    .dataframe tbody tr th:only-of-type {\n",
       "        vertical-align: middle;\n",
       "    }\n",
       "\n",
       "    .dataframe tbody tr th {\n",
       "        vertical-align: top;\n",
       "    }\n",
       "\n",
       "    .dataframe thead th {\n",
       "        text-align: right;\n",
       "    }\n",
       "</style>\n",
       "<table border=\"1\" class=\"dataframe\">\n",
       "  <thead>\n",
       "    <tr style=\"text-align: right;\">\n",
       "      <th></th>\n",
       "      <th>Content</th>\n",
       "      <th>Label</th>\n",
       "    </tr>\n",
       "  </thead>\n",
       "  <tbody>\n",
       "    <tr>\n",
       "      <th>count</th>\n",
       "      <td>1800</td>\n",
       "      <td>1800</td>\n",
       "    </tr>\n",
       "    <tr>\n",
       "      <th>unique</th>\n",
       "      <td>1800</td>\n",
       "      <td>2</td>\n",
       "    </tr>\n",
       "    <tr>\n",
       "      <th>top</th>\n",
       "      <td>every once in a while you see a film that is s...</td>\n",
       "      <td>pos</td>\n",
       "    </tr>\n",
       "    <tr>\n",
       "      <th>freq</th>\n",
       "      <td>1</td>\n",
       "      <td>900</td>\n",
       "    </tr>\n",
       "  </tbody>\n",
       "</table>\n",
       "</div>"
      ],
      "text/plain": [
       "                                                  Content Label\n",
       "count                                                1800  1800\n",
       "unique                                               1800     2\n",
       "top     every once in a while you see a film that is s...   pos\n",
       "freq                                                    1   900"
      ]
     },
     "execution_count": 4,
     "metadata": {},
     "output_type": "execute_result"
    }
   ],
   "source": [
    "reviews_training.describe()"
   ]
  },
  {
   "cell_type": "code",
   "execution_count": 5,
   "id": "a3442e2e",
   "metadata": {
    "execution": {
     "iopub.execute_input": "2023-06-02T19:30:05.303870Z",
     "iopub.status.busy": "2023-06-02T19:30:05.303463Z",
     "iopub.status.idle": "2023-06-02T19:30:05.319150Z",
     "shell.execute_reply": "2023-06-02T19:30:05.318102Z"
    },
    "papermill": {
     "duration": 0.034283,
     "end_time": "2023-06-02T19:30:05.321714",
     "exception": false,
     "start_time": "2023-06-02T19:30:05.287431",
     "status": "completed"
    },
    "tags": []
   },
   "outputs": [
    {
     "data": {
      "text/html": [
       "<div>\n",
       "<style scoped>\n",
       "    .dataframe tbody tr th:only-of-type {\n",
       "        vertical-align: middle;\n",
       "    }\n",
       "\n",
       "    .dataframe tbody tr th {\n",
       "        vertical-align: top;\n",
       "    }\n",
       "\n",
       "    .dataframe thead th {\n",
       "        text-align: right;\n",
       "    }\n",
       "</style>\n",
       "<table border=\"1\" class=\"dataframe\">\n",
       "  <thead>\n",
       "    <tr style=\"text-align: right;\">\n",
       "      <th></th>\n",
       "      <th>Content</th>\n",
       "      <th>Label</th>\n",
       "    </tr>\n",
       "  </thead>\n",
       "  <tbody>\n",
       "    <tr>\n",
       "      <th>count</th>\n",
       "      <td>200</td>\n",
       "      <td>200</td>\n",
       "    </tr>\n",
       "    <tr>\n",
       "      <th>unique</th>\n",
       "      <td>200</td>\n",
       "      <td>2</td>\n",
       "    </tr>\n",
       "    <tr>\n",
       "      <th>top</th>\n",
       "      <td>hedwig ( john cameron mitchell ) was born a bo...</td>\n",
       "      <td>pos</td>\n",
       "    </tr>\n",
       "    <tr>\n",
       "      <th>freq</th>\n",
       "      <td>1</td>\n",
       "      <td>100</td>\n",
       "    </tr>\n",
       "  </tbody>\n",
       "</table>\n",
       "</div>"
      ],
      "text/plain": [
       "                                                  Content Label\n",
       "count                                                 200   200\n",
       "unique                                                200     2\n",
       "top     hedwig ( john cameron mitchell ) was born a bo...   pos\n",
       "freq                                                    1   100"
      ]
     },
     "execution_count": 5,
     "metadata": {},
     "output_type": "execute_result"
    }
   ],
   "source": [
    "reviews_test.describe()"
   ]
  },
  {
   "cell_type": "markdown",
   "id": "0376d1d1",
   "metadata": {
    "papermill": {
     "duration": 0.014388,
     "end_time": "2023-06-02T19:30:05.351101",
     "exception": false,
     "start_time": "2023-06-02T19:30:05.336713",
     "status": "completed"
    },
    "tags": []
   },
   "source": [
    "The describe() function showed us the training set has 1800 records and test 200, a 9:1 split. Each feature is unique, and the labels have two unique features positive or negative."
   ]
  },
  {
   "cell_type": "markdown",
   "id": "132a73f7",
   "metadata": {
    "papermill": {
     "duration": 0.014608,
     "end_time": "2023-06-02T19:30:05.380978",
     "exception": false,
     "start_time": "2023-06-02T19:30:05.366370",
     "status": "completed"
    },
    "tags": []
   },
   "source": [
    "Let’s make sure there are no missing values that might cause future problems."
   ]
  },
  {
   "cell_type": "code",
   "execution_count": 6,
   "id": "3829b277",
   "metadata": {
    "execution": {
     "iopub.execute_input": "2023-06-02T19:30:05.414491Z",
     "iopub.status.busy": "2023-06-02T19:30:05.412278Z",
     "iopub.status.idle": "2023-06-02T19:30:05.423817Z",
     "shell.execute_reply": "2023-06-02T19:30:05.422646Z"
    },
    "papermill": {
     "duration": 0.030128,
     "end_time": "2023-06-02T19:30:05.426144",
     "exception": false,
     "start_time": "2023-06-02T19:30:05.396016",
     "status": "completed"
    },
    "tags": []
   },
   "outputs": [
    {
     "data": {
      "text/plain": [
       "Content    0\n",
       "Label      0\n",
       "dtype: int64"
      ]
     },
     "execution_count": 6,
     "metadata": {},
     "output_type": "execute_result"
    }
   ],
   "source": [
    "reviews_training.isna().sum()"
   ]
  },
  {
   "cell_type": "code",
   "execution_count": 7,
   "id": "c01f55d9",
   "metadata": {
    "execution": {
     "iopub.execute_input": "2023-06-02T19:30:05.457853Z",
     "iopub.status.busy": "2023-06-02T19:30:05.457432Z",
     "iopub.status.idle": "2023-06-02T19:30:05.466916Z",
     "shell.execute_reply": "2023-06-02T19:30:05.465821Z"
    },
    "papermill": {
     "duration": 0.028118,
     "end_time": "2023-06-02T19:30:05.469305",
     "exception": false,
     "start_time": "2023-06-02T19:30:05.441187",
     "status": "completed"
    },
    "tags": []
   },
   "outputs": [
    {
     "data": {
      "text/plain": [
       "Content    0\n",
       "Label      0\n",
       "dtype: int64"
      ]
     },
     "execution_count": 7,
     "metadata": {},
     "output_type": "execute_result"
    }
   ],
   "source": [
    "reviews_test.isna().sum()"
   ]
  },
  {
   "cell_type": "markdown",
   "id": "43108943",
   "metadata": {
    "papermill": {
     "duration": 0.014787,
     "end_time": "2023-06-02T19:30:05.499155",
     "exception": false,
     "start_time": "2023-06-02T19:30:05.484368",
     "status": "completed"
    },
    "tags": []
   },
   "source": [
    "Great, both datasets are free of mising values."
   ]
  },
  {
   "cell_type": "markdown",
   "id": "af531f83",
   "metadata": {
    "papermill": {
     "duration": 0.014538,
     "end_time": "2023-06-02T19:30:05.528604",
     "exception": false,
     "start_time": "2023-06-02T19:30:05.514066",
     "status": "completed"
    },
    "tags": []
   },
   "source": [
    "Now that we have a sense of the data we are working with let’s move on to any pre-processing and preparing the data sets."
   ]
  },
  {
   "cell_type": "markdown",
   "id": "f8294a84",
   "metadata": {
    "papermill": {
     "duration": 0.014596,
     "end_time": "2023-06-02T19:30:05.558081",
     "exception": false,
     "start_time": "2023-06-02T19:30:05.543485",
     "status": "completed"
    },
    "tags": []
   },
   "source": [
    "# Preprocessing the data & Preparing the training and test sets"
   ]
  },
  {
   "cell_type": "markdown",
   "id": "faa9412c",
   "metadata": {
    "papermill": {
     "duration": 0.01459,
     "end_time": "2023-06-02T19:30:05.587686",
     "exception": false,
     "start_time": "2023-06-02T19:30:05.573096",
     "status": "completed"
    },
    "tags": []
   },
   "source": [
    "In our data exploration we discovered the two data sets are in good shape and organized requiring little additional preprocessing and preparation for training. An important step in oh preprocessing data for sentiment analysis is to vectorize the data using TF-IDF to convert the string text into numerical vectorized weighted values to be used in training the model. We will rely on SKlearn TfidfVectorizer function to accomplish this. Two variables X_train and X_test will be vectorized and split from the original data frames. The label data (Y variables) does not need to be split into separate variables at this point. "
   ]
  },
  {
   "cell_type": "markdown",
   "id": "ec6443f5",
   "metadata": {
    "papermill": {
     "duration": 0.014603,
     "end_time": "2023-06-02T19:30:05.617400",
     "exception": false,
     "start_time": "2023-06-02T19:30:05.602797",
     "status": "completed"
    },
    "tags": []
   },
   "source": [
    "Here is where we accomplished the key tasks of importing our vectorizing function, creating an instance of it, and then applying it to the features in the training and test datasets to create our X_train and X_test variables."
   ]
  },
  {
   "cell_type": "code",
   "execution_count": 8,
   "id": "f8f6cbbb",
   "metadata": {
    "execution": {
     "iopub.execute_input": "2023-06-02T19:30:05.649500Z",
     "iopub.status.busy": "2023-06-02T19:30:05.648767Z",
     "iopub.status.idle": "2023-06-02T19:30:08.420896Z",
     "shell.execute_reply": "2023-06-02T19:30:08.419648Z"
    },
    "papermill": {
     "duration": 2.791264,
     "end_time": "2023-06-02T19:30:08.423767",
     "exception": false,
     "start_time": "2023-06-02T19:30:05.632503",
     "status": "completed"
    },
    "tags": []
   },
   "outputs": [
    {
     "name": "stderr",
     "output_type": "stream",
     "text": [
      "/opt/conda/lib/python3.10/site-packages/scipy/__init__.py:146: UserWarning: A NumPy version >=1.16.5 and <1.23.0 is required for this version of SciPy (detected version 1.23.5\n",
      "  warnings.warn(f\"A NumPy version >={np_minversion} and <{np_maxversion}\"\n"
     ]
    }
   ],
   "source": [
    "#imports function\n",
    "from sklearn.feature_extraction.text import TfidfVectorizer\n",
    "\n",
    "#creates instances of vectorizer\n",
    "vectorizer = TfidfVectorizer()\n",
    "\n",
    "#creates training set and applies the vectroization\n",
    "X_train = vectorizer.fit_transform(reviews_training[\"Content\"])\n",
    "\n",
    "#creates test set and applies the vectroization\n",
    "X_test = vectorizer.transform(reviews_test[\"Content\"])"
   ]
  },
  {
   "cell_type": "markdown",
   "id": "031a5ca9",
   "metadata": {
    "papermill": {
     "duration": 0.014667,
     "end_time": "2023-06-02T19:30:08.453436",
     "exception": false,
     "start_time": "2023-06-02T19:30:08.438769",
     "status": "completed"
    },
    "tags": []
   },
   "source": [
    "Let’s look at the vectorized data as a sanity check."
   ]
  },
  {
   "cell_type": "code",
   "execution_count": 9,
   "id": "1ce0ce66",
   "metadata": {
    "execution": {
     "iopub.execute_input": "2023-06-02T19:30:08.485400Z",
     "iopub.status.busy": "2023-06-02T19:30:08.484971Z",
     "iopub.status.idle": "2023-06-02T19:30:08.498048Z",
     "shell.execute_reply": "2023-06-02T19:30:08.496806Z"
    },
    "papermill": {
     "duration": 0.031921,
     "end_time": "2023-06-02T19:30:08.500325",
     "exception": false,
     "start_time": "2023-06-02T19:30:08.468404",
     "status": "completed"
    },
    "tags": []
   },
   "outputs": [
    {
     "name": "stdout",
     "output_type": "stream",
     "text": [
      "  (0, 37728)\t0.019557322533372945\n",
      "  (0, 3591)\t0.018613017612739185\n",
      "  (0, 12297)\t0.03690729640884355\n",
      "  (0, 17656)\t0.03646139735698193\n",
      "  (0, 12346)\t0.04860691140872605\n",
      "  (0, 27323)\t0.03573101423242628\n",
      "  (0, 15767)\t0.034256965318728114\n",
      "  (0, 29509)\t0.03090024505659402\n",
      "  (0, 22330)\t0.036036739822766194\n",
      "  (0, 29250)\t0.06957206198519013\n",
      "  (0, 10870)\t0.04860691140872605\n",
      "  (0, 8393)\t0.03895421032567651\n",
      "  (0, 28411)\t0.01972213541121538\n",
      "  (0, 9454)\t0.0269234257561756\n",
      "  (0, 35929)\t0.0420119478454016\n",
      "  (0, 6599)\t0.03235271241041815\n",
      "  (0, 7739)\t0.045426753803619664\n",
      "  (0, 10361)\t0.0597766998936176\n",
      "  (0, 9320)\t0.030557274972506234\n",
      "  (0, 29172)\t0.05288284389099513\n",
      "  (0, 36072)\t0.03487211423424892\n",
      "  (0, 14950)\t0.05103150581345296\n",
      "  (0, 14344)\t0.01920511390031357\n",
      "  (0, 33376)\t0.030727111018264492\n",
      "  (0, 37056)\t0.024216623086966205\n",
      "  :\t:\n",
      "  (1799, 27189)\t0.021610419271034357\n",
      "  (1799, 15413)\t0.013757250742321862\n",
      "  (1799, 2440)\t0.026978876380204273\n",
      "  (1799, 26764)\t0.04367002153433109\n",
      "  (1799, 25356)\t0.12885172615306426\n",
      "  (1799, 36259)\t0.020256850186656714\n",
      "  (1799, 33941)\t0.08660204261212948\n",
      "  (1799, 31335)\t0.01623851550342465\n",
      "  (1799, 15854)\t0.02651445179253767\n",
      "  (1799, 37156)\t0.026738027418931574\n",
      "  (1799, 692)\t0.030852039107634073\n",
      "  (1799, 37243)\t0.05745895378537776\n",
      "  (1799, 37372)\t0.012066186556696336\n",
      "  (1799, 17888)\t0.01897064036804693\n",
      "  (1799, 1715)\t0.12938051242224888\n",
      "  (1799, 34241)\t0.11768397326589253\n",
      "  (1799, 17873)\t0.0955693088952007\n",
      "  (1799, 33829)\t0.2115960450288808\n",
      "  (1799, 31223)\t0.030445220301424145\n",
      "  (1799, 17829)\t0.023549867043535573\n",
      "  (1799, 33826)\t0.1675251547431893\n",
      "  (1799, 12635)\t0.10653370937291577\n",
      "  (1799, 29750)\t0.06052913570116548\n",
      "  (1799, 37092)\t0.04081165690931964\n",
      "  (1799, 16893)\t0.15324421880378147\n"
     ]
    }
   ],
   "source": [
    "print(X_train)"
   ]
  },
  {
   "cell_type": "code",
   "execution_count": 10,
   "id": "ffdea2b8",
   "metadata": {
    "execution": {
     "iopub.execute_input": "2023-06-02T19:30:08.532759Z",
     "iopub.status.busy": "2023-06-02T19:30:08.531953Z",
     "iopub.status.idle": "2023-06-02T19:30:08.539645Z",
     "shell.execute_reply": "2023-06-02T19:30:08.537845Z"
    },
    "papermill": {
     "duration": 0.02652,
     "end_time": "2023-06-02T19:30:08.542008",
     "exception": false,
     "start_time": "2023-06-02T19:30:08.515488",
     "status": "completed"
    },
    "tags": []
   },
   "outputs": [
    {
     "name": "stdout",
     "output_type": "stream",
     "text": [
      "  (0, 37810)\t0.049233302497535825\n",
      "  (0, 37809)\t0.006722119146968519\n",
      "  (0, 37801)\t0.01783853441303375\n",
      "  (0, 37728)\t0.011269008059395832\n",
      "  (0, 37554)\t0.008063419859195647\n",
      "  (0, 37426)\t0.02731475123347245\n",
      "  (0, 37372)\t0.036934013963421386\n",
      "  (0, 37368)\t0.04424874854344269\n",
      "  (0, 37329)\t0.040087702490054514\n",
      "  (0, 37167)\t0.017575014810606034\n",
      "  (0, 37156)\t0.005845986417172121\n",
      "  (0, 37076)\t0.018148478731249307\n",
      "  (0, 37056)\t0.02093057372291351\n",
      "  (0, 36818)\t0.02543141450152861\n",
      "  (0, 36797)\t0.006603127886297591\n",
      "  (0, 36117)\t0.05019527629175949\n",
      "  (0, 35952)\t0.010879548081688246\n",
      "  (0, 35862)\t0.006741572051307036\n",
      "  (0, 35348)\t0.028258157994876743\n",
      "  (0, 34962)\t0.02568542199981158\n",
      "  (0, 34908)\t0.012919199431329811\n",
      "  (0, 34650)\t0.12026310747016354\n",
      "  (0, 34531)\t0.04141024184007774\n",
      "  (0, 34462)\t0.036526654761964275\n",
      "  (0, 34335)\t0.017941877802180164\n",
      "  :\t:\n",
      "  (199, 2499)\t0.05402996851424845\n",
      "  (199, 2497)\t0.06581649435927639\n",
      "  (199, 2440)\t0.009684470387721593\n",
      "  (199, 2275)\t0.035076806787243134\n",
      "  (199, 2132)\t0.17990976417522217\n",
      "  (199, 2105)\t0.03764769887096338\n",
      "  (199, 1965)\t0.03524582435127792\n",
      "  (199, 1931)\t0.3309830757570981\n",
      "  (199, 1928)\t0.13918379807883202\n",
      "  (199, 1811)\t0.06581649435927639\n",
      "  (199, 1715)\t0.09288613236842504\n",
      "  (199, 1667)\t0.04705962358870422\n",
      "  (199, 1634)\t0.03217012465791859\n",
      "  (199, 1611)\t0.04598306301795783\n",
      "  (199, 1491)\t0.02743078172007373\n",
      "  (199, 1453)\t0.03607227163827995\n",
      "  (199, 1132)\t0.03607227163827995\n",
      "  (199, 945)\t0.03671646410668378\n",
      "  (199, 915)\t0.019856076159235105\n",
      "  (199, 899)\t0.019712195112716213\n",
      "  (199, 692)\t0.01107479996305348\n",
      "  (199, 236)\t0.04485674951293101\n",
      "  (199, 224)\t0.06239646841553802\n",
      "  (199, 215)\t0.08196135238225223\n",
      "  (199, 10)\t0.03671646410668378\n"
     ]
    }
   ],
   "source": [
    "print(X_test)"
   ]
  },
  {
   "cell_type": "markdown",
   "id": "e8996338",
   "metadata": {
    "papermill": {
     "duration": 0.015361,
     "end_time": "2023-06-02T19:30:08.572933",
     "exception": false,
     "start_time": "2023-06-02T19:30:08.557572",
     "status": "completed"
    },
    "tags": []
   },
   "source": [
    "It appears that the vectorization and splitting of the features from the data set was successful. Despite the values in the vectors being incomprehensible the formatting and dimensions seem appropriate."
   ]
  },
  {
   "cell_type": "markdown",
   "id": "11feca25",
   "metadata": {
    "papermill": {
     "duration": 0.015868,
     "end_time": "2023-06-02T19:30:08.604739",
     "exception": false,
     "start_time": "2023-06-02T19:30:08.588871",
     "status": "completed"
    },
    "tags": []
   },
   "source": [
    "Now that preprocessing and splitting the data is done, we can move on to model selection."
   ]
  },
  {
   "cell_type": "markdown",
   "id": "1ec054d7",
   "metadata": {
    "papermill": {
     "duration": 0.014997,
     "end_time": "2023-06-02T19:30:08.636701",
     "exception": false,
     "start_time": "2023-06-02T19:30:08.621704",
     "status": "completed"
    },
    "tags": []
   },
   "source": [
    "# Creating and configuring a sklearn.svm.SVC"
   ]
  },
  {
   "cell_type": "markdown",
   "id": "392a1993",
   "metadata": {
    "papermill": {
     "duration": 0.014949,
     "end_time": "2023-06-02T19:30:08.667049",
     "exception": false,
     "start_time": "2023-06-02T19:30:08.652100",
     "status": "completed"
    },
    "tags": []
   },
   "source": [
    "At the onset of this project, we decided to use SVC for our model because of its ability to classify data such as sentiment analysis into binary predictions matching the structure of our data. In this part we will import the svm.SVC model from SKlearn to be applied in the next section for training the model. Initially we will use the default settings of the SVC."
   ]
  },
  {
   "cell_type": "code",
   "execution_count": 11,
   "id": "a3820c8c",
   "metadata": {
    "execution": {
     "iopub.execute_input": "2023-06-02T19:30:08.713332Z",
     "iopub.status.busy": "2023-06-02T19:30:08.712199Z",
     "iopub.status.idle": "2023-06-02T19:30:08.923975Z",
     "shell.execute_reply": "2023-06-02T19:30:08.922667Z"
    },
    "papermill": {
     "duration": 0.238634,
     "end_time": "2023-06-02T19:30:08.926876",
     "exception": false,
     "start_time": "2023-06-02T19:30:08.688242",
     "status": "completed"
    },
    "tags": []
   },
   "outputs": [],
   "source": [
    "#imports svm function\n",
    "from sklearn import svm\n",
    "\n",
    "#creates an instance of the SVC for future reference\n",
    "SVC_classifier = svm.SVC()"
   ]
  },
  {
   "cell_type": "markdown",
   "id": "08b3cc18",
   "metadata": {
    "papermill": {
     "duration": 0.015268,
     "end_time": "2023-06-02T19:30:08.958252",
     "exception": false,
     "start_time": "2023-06-02T19:30:08.942984",
     "status": "completed"
    },
    "tags": []
   },
   "source": [
    "This was a simple step,  now that our model is imported we are ready to train the SVM."
   ]
  },
  {
   "cell_type": "markdown",
   "id": "0817c8eb",
   "metadata": {
    "papermill": {
     "duration": 0.015351,
     "end_time": "2023-06-02T19:30:08.989282",
     "exception": false,
     "start_time": "2023-06-02T19:30:08.973931",
     "status": "completed"
    },
    "tags": []
   },
   "source": [
    "# Training the SVM"
   ]
  },
  {
   "cell_type": "markdown",
   "id": "4cd92446",
   "metadata": {
    "papermill": {
     "duration": 0.015829,
     "end_time": "2023-06-02T19:30:09.020664",
     "exception": false,
     "start_time": "2023-06-02T19:30:09.004835",
     "status": "completed"
    },
    "tags": []
   },
   "source": [
    "Now is when we train our SVC_classifier model by fitting the X_train data to the labels in the reviews_training data set (Y variable of training set). "
   ]
  },
  {
   "cell_type": "code",
   "execution_count": 12,
   "id": "75fa19a5",
   "metadata": {
    "execution": {
     "iopub.execute_input": "2023-06-02T19:30:09.055783Z",
     "iopub.status.busy": "2023-06-02T19:30:09.055395Z",
     "iopub.status.idle": "2023-06-02T19:30:20.806078Z",
     "shell.execute_reply": "2023-06-02T19:30:20.804742Z"
    },
    "papermill": {
     "duration": 11.770346,
     "end_time": "2023-06-02T19:30:20.808638",
     "exception": false,
     "start_time": "2023-06-02T19:30:09.038292",
     "status": "completed"
    },
    "tags": []
   },
   "outputs": [
    {
     "data": {
      "text/html": [
       "<style>#sk-container-id-1 {color: black;background-color: white;}#sk-container-id-1 pre{padding: 0;}#sk-container-id-1 div.sk-toggleable {background-color: white;}#sk-container-id-1 label.sk-toggleable__label {cursor: pointer;display: block;width: 100%;margin-bottom: 0;padding: 0.3em;box-sizing: border-box;text-align: center;}#sk-container-id-1 label.sk-toggleable__label-arrow:before {content: \"▸\";float: left;margin-right: 0.25em;color: #696969;}#sk-container-id-1 label.sk-toggleable__label-arrow:hover:before {color: black;}#sk-container-id-1 div.sk-estimator:hover label.sk-toggleable__label-arrow:before {color: black;}#sk-container-id-1 div.sk-toggleable__content {max-height: 0;max-width: 0;overflow: hidden;text-align: left;background-color: #f0f8ff;}#sk-container-id-1 div.sk-toggleable__content pre {margin: 0.2em;color: black;border-radius: 0.25em;background-color: #f0f8ff;}#sk-container-id-1 input.sk-toggleable__control:checked~div.sk-toggleable__content {max-height: 200px;max-width: 100%;overflow: auto;}#sk-container-id-1 input.sk-toggleable__control:checked~label.sk-toggleable__label-arrow:before {content: \"▾\";}#sk-container-id-1 div.sk-estimator input.sk-toggleable__control:checked~label.sk-toggleable__label {background-color: #d4ebff;}#sk-container-id-1 div.sk-label input.sk-toggleable__control:checked~label.sk-toggleable__label {background-color: #d4ebff;}#sk-container-id-1 input.sk-hidden--visually {border: 0;clip: rect(1px 1px 1px 1px);clip: rect(1px, 1px, 1px, 1px);height: 1px;margin: -1px;overflow: hidden;padding: 0;position: absolute;width: 1px;}#sk-container-id-1 div.sk-estimator {font-family: monospace;background-color: #f0f8ff;border: 1px dotted black;border-radius: 0.25em;box-sizing: border-box;margin-bottom: 0.5em;}#sk-container-id-1 div.sk-estimator:hover {background-color: #d4ebff;}#sk-container-id-1 div.sk-parallel-item::after {content: \"\";width: 100%;border-bottom: 1px solid gray;flex-grow: 1;}#sk-container-id-1 div.sk-label:hover label.sk-toggleable__label {background-color: #d4ebff;}#sk-container-id-1 div.sk-serial::before {content: \"\";position: absolute;border-left: 1px solid gray;box-sizing: border-box;top: 0;bottom: 0;left: 50%;z-index: 0;}#sk-container-id-1 div.sk-serial {display: flex;flex-direction: column;align-items: center;background-color: white;padding-right: 0.2em;padding-left: 0.2em;position: relative;}#sk-container-id-1 div.sk-item {position: relative;z-index: 1;}#sk-container-id-1 div.sk-parallel {display: flex;align-items: stretch;justify-content: center;background-color: white;position: relative;}#sk-container-id-1 div.sk-item::before, #sk-container-id-1 div.sk-parallel-item::before {content: \"\";position: absolute;border-left: 1px solid gray;box-sizing: border-box;top: 0;bottom: 0;left: 50%;z-index: -1;}#sk-container-id-1 div.sk-parallel-item {display: flex;flex-direction: column;z-index: 1;position: relative;background-color: white;}#sk-container-id-1 div.sk-parallel-item:first-child::after {align-self: flex-end;width: 50%;}#sk-container-id-1 div.sk-parallel-item:last-child::after {align-self: flex-start;width: 50%;}#sk-container-id-1 div.sk-parallel-item:only-child::after {width: 0;}#sk-container-id-1 div.sk-dashed-wrapped {border: 1px dashed gray;margin: 0 0.4em 0.5em 0.4em;box-sizing: border-box;padding-bottom: 0.4em;background-color: white;}#sk-container-id-1 div.sk-label label {font-family: monospace;font-weight: bold;display: inline-block;line-height: 1.2em;}#sk-container-id-1 div.sk-label-container {text-align: center;}#sk-container-id-1 div.sk-container {/* jupyter's `normalize.less` sets `[hidden] { display: none; }` but bootstrap.min.css set `[hidden] { display: none !important; }` so we also need the `!important` here to be able to override the default hidden behavior on the sphinx rendered scikit-learn.org. See: https://github.com/scikit-learn/scikit-learn/issues/21755 */display: inline-block !important;position: relative;}#sk-container-id-1 div.sk-text-repr-fallback {display: none;}</style><div id=\"sk-container-id-1\" class=\"sk-top-container\"><div class=\"sk-text-repr-fallback\"><pre>SVC()</pre><b>In a Jupyter environment, please rerun this cell to show the HTML representation or trust the notebook. <br />On GitHub, the HTML representation is unable to render, please try loading this page with nbviewer.org.</b></div><div class=\"sk-container\" hidden><div class=\"sk-item\"><div class=\"sk-estimator sk-toggleable\"><input class=\"sk-toggleable__control sk-hidden--visually\" id=\"sk-estimator-id-1\" type=\"checkbox\" checked><label for=\"sk-estimator-id-1\" class=\"sk-toggleable__label sk-toggleable__label-arrow\">SVC</label><div class=\"sk-toggleable__content\"><pre>SVC()</pre></div></div></div></div></div>"
      ],
      "text/plain": [
       "SVC()"
      ]
     },
     "execution_count": 12,
     "metadata": {},
     "output_type": "execute_result"
    }
   ],
   "source": [
    "#fits the traing data to a SVC classifier\n",
    "SVC_classifier.fit(X_train, reviews_training[\"Label\"])"
   ]
  },
  {
   "cell_type": "markdown",
   "id": "632acf9b",
   "metadata": {
    "papermill": {
     "duration": 0.015179,
     "end_time": "2023-06-02T19:30:20.839544",
     "exception": false,
     "start_time": "2023-06-02T19:30:20.824365",
     "status": "completed"
    },
    "tags": []
   },
   "source": [
    "The output indicates that the model was successfully fitted with the training data. Now lets see how the model preforms in the next step."
   ]
  },
  {
   "cell_type": "markdown",
   "id": "8c4c35a9",
   "metadata": {
    "papermill": {
     "duration": 0.015608,
     "end_time": "2023-06-02T19:30:20.870805",
     "exception": false,
     "start_time": "2023-06-02T19:30:20.855197",
     "status": "completed"
    },
    "tags": []
   },
   "source": [
    "# Validating and Testing the SVM"
   ]
  },
  {
   "cell_type": "markdown",
   "id": "8c61de40",
   "metadata": {
    "papermill": {
     "duration": 0.015377,
     "end_time": "2023-06-02T19:30:20.902064",
     "exception": false,
     "start_time": "2023-06-02T19:30:20.886687",
     "status": "completed"
    },
    "tags": []
   },
   "source": [
    "In this step we will evaluate the model performance on the test dataset (reviews_test). In addition, we will create our own example reviews to feed in the model to see if its outputs are correct and logical. This is done with the default model hyperparameter settings to first ensure the model is producing reasonable outputs."
   ]
  },
  {
   "cell_type": "markdown",
   "id": "4b7d1d03",
   "metadata": {
    "papermill": {
     "duration": 0.015452,
     "end_time": "2023-06-02T19:30:20.933743",
     "exception": false,
     "start_time": "2023-06-02T19:30:20.918291",
     "status": "completed"
    },
    "tags": []
   },
   "source": [
    "Now we will have the model make predictions based off the X_test data."
   ]
  },
  {
   "cell_type": "code",
   "execution_count": 13,
   "id": "3641b626",
   "metadata": {
    "execution": {
     "iopub.execute_input": "2023-06-02T19:30:20.968011Z",
     "iopub.status.busy": "2023-06-02T19:30:20.967636Z",
     "iopub.status.idle": "2023-06-02T19:30:22.362365Z",
     "shell.execute_reply": "2023-06-02T19:30:22.360882Z"
    },
    "papermill": {
     "duration": 1.414798,
     "end_time": "2023-06-02T19:30:22.365103",
     "exception": false,
     "start_time": "2023-06-02T19:30:20.950305",
     "status": "completed"
    },
    "tags": []
   },
   "outputs": [
    {
     "name": "stdout",
     "output_type": "stream",
     "text": [
      "First predictions: ['pos' 'pos' 'neg' 'pos']\n",
      "Correct labels:0    pos\n",
      "1    pos\n",
      "2    pos\n",
      "3    pos\n",
      "Name: Label, dtype: object\n"
     ]
    }
   ],
   "source": [
    "#applies the classifier to the test data set and saves results\n",
    "predictions = SVC_classifier.predict(X_test)\n",
    "\n",
    "#prints the first few model predictions and corresponding labels in the dataset\n",
    "print(f\"First predictions: {predictions[0:4]}\\nCorrect labels:{reviews_test['Label'][0:4]}\")"
   ]
  },
  {
   "cell_type": "markdown",
   "id": "ae3a32f3",
   "metadata": {
    "papermill": {
     "duration": 0.01601,
     "end_time": "2023-06-02T19:30:22.397150",
     "exception": false,
     "start_time": "2023-06-02T19:30:22.381140",
     "status": "completed"
    },
    "tags": []
   },
   "source": [
    "We can see the model is performing well at making predictions with three of the four predictions being correct compared to the original label data. Also, the positive is abbreviated as “pos” , and the negative is labeled as “neg”. "
   ]
  },
  {
   "cell_type": "markdown",
   "id": "f691e146",
   "metadata": {
    "papermill": {
     "duration": 0.015607,
     "end_time": "2023-06-02T19:30:22.428798",
     "exception": false,
     "start_time": "2023-06-02T19:30:22.413191",
     "status": "completed"
    },
    "tags": []
   },
   "source": [
    "Here we evaluate the model in its entirety beyond the first four rows and data in order to accomplish this task we referenced the classification_report function from SK learn to complete this task in only a couple lines of code we also print the results in full language instead of the abbreviated values in the dataset."
   ]
  },
  {
   "cell_type": "code",
   "execution_count": 14,
   "id": "33653ea1",
   "metadata": {
    "execution": {
     "iopub.execute_input": "2023-06-02T19:30:22.462376Z",
     "iopub.status.busy": "2023-06-02T19:30:22.461617Z",
     "iopub.status.idle": "2023-06-02T19:30:22.489870Z",
     "shell.execute_reply": "2023-06-02T19:30:22.488628Z"
    },
    "papermill": {
     "duration": 0.047578,
     "end_time": "2023-06-02T19:30:22.492163",
     "exception": false,
     "start_time": "2023-06-02T19:30:22.444585",
     "status": "completed"
    },
    "tags": []
   },
   "outputs": [
    {
     "name": "stdout",
     "output_type": "stream",
     "text": [
      "Positives:  {'precision': 0.8571428571428571, 'recall': 0.84, 'f1-score': 0.8484848484848485, 'support': 100}\n",
      "Negatives:  {'precision': 0.8431372549019608, 'recall': 0.86, 'f1-score': 0.8514851485148515, 'support': 100}\n"
     ]
    }
   ],
   "source": [
    "#imports evaluation function from sklean\n",
    "from sklearn.metrics import classification_report\n",
    "\n",
    "#saves evaluation data\n",
    "report = classification_report(reviews_test[\"Label\"], predictions, output_dict=True)\n",
    "\n",
    "#prints results\n",
    "print('Positives: ', report['pos'])\n",
    "print('Negatives: ', report['neg'])"
   ]
  },
  {
   "cell_type": "markdown",
   "id": "2437261c",
   "metadata": {
    "papermill": {
     "duration": 0.016011,
     "end_time": "2023-06-02T19:30:22.524033",
     "exception": false,
     "start_time": "2023-06-02T19:30:22.508022",
     "status": "completed"
    },
    "tags": []
   },
   "source": [
    "The model seems to have performed well in sentiment analysis. The F1-score, which balances precision and recall, is approximately 0.85 for both positive and negative classes. This suggests the model was fairly accurate and consistent in predicting both positive and negative sentiments. Now lets see if we can tune the model through hyper parameterization."
   ]
  },
  {
   "cell_type": "markdown",
   "id": "12ee3b7e",
   "metadata": {
    "papermill": {
     "duration": 0.015507,
     "end_time": "2023-06-02T19:30:22.555828",
     "exception": false,
     "start_time": "2023-06-02T19:30:22.540321",
     "status": "completed"
    },
    "tags": []
   },
   "source": [
    "# Evaluate (and Improve) the results"
   ]
  },
  {
   "cell_type": "markdown",
   "id": "4e8c4974",
   "metadata": {
    "papermill": {
     "duration": 0.015545,
     "end_time": "2023-06-02T19:30:22.587348",
     "exception": false,
     "start_time": "2023-06-02T19:30:22.571803",
     "status": "completed"
    },
    "tags": []
   },
   "source": [
    "To see if we can improve the performance of the model the grid search CV function from sklearn will be used to manipulate the sea, gamma, kernel parameters of the SVC model. The goal here is to find the ideal hyperparameters to improve the accuracy of the model."
   ]
  },
  {
   "cell_type": "code",
   "execution_count": 15,
   "id": "2813ceaa",
   "metadata": {
    "execution": {
     "iopub.execute_input": "2023-06-02T19:30:22.621281Z",
     "iopub.status.busy": "2023-06-02T19:30:22.620591Z",
     "iopub.status.idle": "2023-06-02T19:30:22.627477Z",
     "shell.execute_reply": "2023-06-02T19:30:22.626649Z"
    },
    "papermill": {
     "duration": 0.026468,
     "end_time": "2023-06-02T19:30:22.629649",
     "exception": false,
     "start_time": "2023-06-02T19:30:22.603181",
     "status": "completed"
    },
    "tags": []
   },
   "outputs": [
    {
     "data": {
      "text/plain": [
       "'#imports gridsearch for hypertunning\\nfrom sklearn.model_selection import GridSearchCV\\n\\n#setting different parameters for the model to use\\nparameters = {\\'C\\': [0.1, 1, 10, 100], \\'gamma\\': [1, 0.1, 0.01, 0.001], \\'kernel\\': [\\'rbf\\', \\'linear\\',\\'poly\\']}\\n\\n#creates models with different paramaters\\ngrid_search_model = GridSearchCV(estimator=svm.SVC(), param_grid=parameters)\\n\\n# Train the classifier on the training data\\ngrid_search_model.fit(X_train, reviews_training[\"Label\"])\\n\\n# Print out the results \\nprint(\\'Best score:\\', grid_search_model.best_score_)\\nprint(\\'Best C:\\',grid_search_model.best_estimator_.C)\\nprint(\\'Best Kernel:\\',grid_search_model.best_estimator_.kernel)\\nprint(\\'Best Gamma:\\',grid_search_model.best_estimator_.gamma)\\n'"
      ]
     },
     "execution_count": 15,
     "metadata": {},
     "output_type": "execute_result"
    }
   ],
   "source": [
    "\"\"\"#imports gridsearch for hypertunning\n",
    "from sklearn.model_selection import GridSearchCV\n",
    "\n",
    "#setting different parameters for the model to use\n",
    "parameters = {'C': [0.1, 1, 10, 100], 'gamma': [1, 0.1, 0.01, 0.001], 'kernel': ['rbf', 'linear','poly']}\n",
    "\n",
    "#creates models with different paramaters\n",
    "grid_search_model = GridSearchCV(estimator=svm.SVC(), param_grid=parameters)\n",
    "\n",
    "# Train the classifier on the training data\n",
    "grid_search_model.fit(X_train, reviews_training[\"Label\"])\n",
    "\n",
    "# Print out the results \n",
    "print('Best score:', grid_search_model.best_score_)\n",
    "print('Best C:',grid_search_model.best_estimator_.C)\n",
    "print('Best Kernel:',grid_search_model.best_estimator_.kernel)\n",
    "print('Best Gamma:',grid_search_model.best_estimator_.gamma)\n",
    "\"\"\"\n",
    "#Output:\n",
    "#Best score: 0.8522222222222222\n",
    "#Best C: 10\n",
    "#Best Kernel: linear\n",
    "#Best Gamma: 1\n"
   ]
  },
  {
   "cell_type": "markdown",
   "id": "a4612f90",
   "metadata": {
    "papermill": {
     "duration": 0.015962,
     "end_time": "2023-06-02T19:30:22.661722",
     "exception": false,
     "start_time": "2023-06-02T19:30:22.645760",
     "status": "completed"
    },
    "tags": []
   },
   "source": [
    "The grid search function indicated that the best score could be obtained was 0.8522 with a C equal to 10 kernel equal to linear and gamma equal to 1. However, this is not a better score than our original default model performance. The code is commented out because it took a very long time to run but the outputs are seen in the section above period now let's apply these hyperparameters to the model and evaluate the model’s performance."
   ]
  },
  {
   "cell_type": "code",
   "execution_count": 16,
   "id": "49691195",
   "metadata": {
    "execution": {
     "iopub.execute_input": "2023-06-02T19:30:22.695869Z",
     "iopub.status.busy": "2023-06-02T19:30:22.695243Z",
     "iopub.status.idle": "2023-06-02T19:30:35.477246Z",
     "shell.execute_reply": "2023-06-02T19:30:35.475981Z"
    },
    "papermill": {
     "duration": 12.802173,
     "end_time": "2023-06-02T19:30:35.479963",
     "exception": false,
     "start_time": "2023-06-02T19:30:22.677790",
     "status": "completed"
    },
    "tags": []
   },
   "outputs": [
    {
     "name": "stdout",
     "output_type": "stream",
     "text": [
      "Positives:  {'precision': 0.8571428571428571, 'recall': 0.84, 'f1-score': 0.8484848484848485, 'support': 100}\n",
      "Negatives:  {'precision': 0.8431372549019608, 'recall': 0.86, 'f1-score': 0.8514851485148515, 'support': 100}\n"
     ]
    }
   ],
   "source": [
    "#optimized model with hyperparameters:\n",
    "op_classifier = svm.SVC(C=10,gamma=1,kernel='linear')\n",
    "\n",
    "#fits the traing data to a SVC classifier\n",
    "op_classifier.fit(X_train, reviews_training[\"Label\"])\n",
    "\n",
    "#applies the classifier to the test data set and saves results\n",
    "op_predictions = op_classifier.predict(X_test)\n",
    "\n",
    "#saves evaluation data\n",
    "op_report = classification_report(reviews_test[\"Label\"], predictions, output_dict=True)\n",
    "\n",
    "#prints results\n",
    "print('Positives: ', op_report['pos'])\n",
    "print('Negatives: ', op_report['neg'])"
   ]
  },
  {
   "cell_type": "markdown",
   "id": "1a4f5e06",
   "metadata": {
    "papermill": {
     "duration": 0.015739,
     "end_time": "2023-06-02T19:30:35.512636",
     "exception": false,
     "start_time": "2023-06-02T19:30:35.496897",
     "status": "completed"
    },
    "tags": []
   },
   "source": [
    "We can see the optimized model (op_classifier) are identical to the results of the default model (SVC_classifier). So in this case hyperparmaterization did not improve performance, and the originally trained model can be used. Lets see the SVC_classifier model make some predictions on novel movie reviews in the next section."
   ]
  },
  {
   "cell_type": "markdown",
   "id": "3c2c103b",
   "metadata": {
    "papermill": {
     "duration": 0.015777,
     "end_time": "2023-06-02T19:30:35.544347",
     "exception": false,
     "start_time": "2023-06-02T19:30:35.528570",
     "status": "completed"
    },
    "tags": []
   },
   "source": [
    "# Demonstrating making predictions"
   ]
  },
  {
   "cell_type": "markdown",
   "id": "a17ef1bf",
   "metadata": {
    "papermill": {
     "duration": 0.016348,
     "end_time": "2023-06-02T19:30:35.577010",
     "exception": false,
     "start_time": "2023-06-02T19:30:35.560662",
     "status": "completed"
    },
    "tags": []
   },
   "source": [
    "In this section we will evaluate the model's performance on real world fictional movie reviews to see if the predictions are correct or if there's any obvious flaws. This will be useful to understand how the sentiment analysis model performs in real world applications"
   ]
  },
  {
   "cell_type": "markdown",
   "id": "39b03f4f",
   "metadata": {
    "papermill": {
     "duration": 0.015588,
     "end_time": "2023-06-02T19:30:35.608648",
     "exception": false,
     "start_time": "2023-06-02T19:30:35.593060",
     "status": "completed"
    },
    "tags": []
   },
   "source": [
    "Here are a few examples of made-up reviews that we will use to test the model."
   ]
  },
  {
   "cell_type": "code",
   "execution_count": 17,
   "id": "94d56df1",
   "metadata": {
    "execution": {
     "iopub.execute_input": "2023-06-02T19:30:35.642478Z",
     "iopub.status.busy": "2023-06-02T19:30:35.642039Z",
     "iopub.status.idle": "2023-06-02T19:30:35.690990Z",
     "shell.execute_reply": "2023-06-02T19:30:35.689721Z"
    },
    "papermill": {
     "duration": 0.068756,
     "end_time": "2023-06-02T19:30:35.693355",
     "exception": false,
     "start_time": "2023-06-02T19:30:35.624599",
     "status": "completed"
    },
    "tags": []
   },
   "outputs": [
    {
     "name": "stdout",
     "output_type": "stream",
     "text": [
      "Review: Disappointed, there were no wolfs in Wolf of Wall Street\n",
      "Sentiment: neg\n",
      "\n",
      "\n",
      "Review: Tom Cruise ejecting at mock 10 was such an amazing and realistic scene in the new top gun\n",
      "Sentiment: pos\n",
      "\n",
      "\n",
      "Review: Two Thumbs up\n",
      "Sentiment: neg\n",
      "\n",
      "\n",
      "Review: Two Thumbs down\n",
      "Sentiment: neg\n",
      "\n",
      "\n",
      "Review: 1 out of 10\n",
      "Sentiment: pos\n",
      "\n",
      "\n",
      "Review: 10 out of 10\n",
      "Sentiment: pos\n",
      "\n",
      "\n",
      "Review: one star\n",
      "Sentiment: neg\n",
      "\n",
      "\n",
      "Review: five star\n",
      "Sentiment: neg\n",
      "\n",
      "\n"
     ]
    }
   ],
   "source": [
    "# New movie reviews to test\n",
    "reviews = [\"Disappointed, there were no wolfs in Wolf of Wall Street\",\n",
    "           \"Tom Cruise ejecting at mock 10 was such an amazing and realistic scene in the new top gun\",\n",
    "           \"Two Thumbs up\",\n",
    "           \"Two Thumbs down\",\n",
    "           \"1 out of 10\",\n",
    "           \"10 out of 10\",\n",
    "           \"one star\",\n",
    "           \"five star\"]\n",
    "\n",
    "# Vectorize and predict sentiment for each review in a for loop to be concise\n",
    "for review in reviews:\n",
    "    test_prediction = vectorizer.transform([review])\n",
    "    print(f\"Review: {review}\")\n",
    "    print(f\"Sentiment: {SVC_classifier.predict(test_prediction)[0]}\")\n",
    "    print(\"\\n\")"
   ]
  },
  {
   "cell_type": "markdown",
   "id": "5994fd11",
   "metadata": {
    "papermill": {
     "duration": 0.016628,
     "end_time": "2023-06-02T19:30:35.727196",
     "exception": false,
     "start_time": "2023-06-02T19:30:35.710568",
     "status": "completed"
    },
    "tags": []
   },
   "source": [
    "This test with made-up reviews shows that the first two reviews performed as expected with correctly labeled positive and negative sentiment. This makes sense because these are in the full text format of the training data set. However, the following two reviews, “thumbs up” or “thumbs down” were rated negative which is inaccurate. The same erroneous labeling was seen with our star reviews. It seems this model works well with full text not short rating statements such as thumbs or stars."
   ]
  },
  {
   "cell_type": "markdown",
   "id": "262423c0",
   "metadata": {
    "papermill": {
     "duration": 0.015945,
     "end_time": "2023-06-02T19:30:35.760207",
     "exception": false,
     "start_time": "2023-06-02T19:30:35.744262",
     "status": "completed"
    },
    "tags": []
   },
   "source": [
    "# Conclusion"
   ]
  },
  {
   "cell_type": "markdown",
   "id": "76f960ee",
   "metadata": {
    "papermill": {
     "duration": 0.01613,
     "end_time": "2023-06-02T19:30:35.792834",
     "exception": false,
     "start_time": "2023-06-02T19:30:35.776704",
     "status": "completed"
    },
    "tags": []
   },
   "source": [
    "In this notebook 9  we preformed sentiment analysis using a movie review dataset, demonstrating both the application of a common NLP classification task and the machine learning workflow from scratch. \n",
    "\n",
    "The fundamental goal of sentiment analysis is to classify a given text into categories, in this case, 'positive' and 'negative.' Our dataset, sourced from Kaggle's Sentiment Polarity Data Set v2.0 from Movie Review Data, offered us a collection of movie reviews labeled as either 'positive' or 'negative.' These data were pre-split into training and test sets and required little pre-processing outside of model specific requirements of vectorization.\n",
    "\n",
    "We utilized the powerful sklearn library to vectorize our data and apply TF-IDF transformation. This weighs the importance of words in the text based on their frequency, ensuring that we account for both common and distinctive words when training our model.\n",
    "\n",
    "The chosen model was a Support Vector Classifier (SVC), which has proven to be effective for sentiment analysis tasks. Post-training, we observed high precision rates in both positive (85.71%) and negative (84.31%) classifications, demonstrating the model's capability to handle sentiment classification effectively.\n",
    "\n",
    "An attempt at hyper parametrization was made using the GridSearchCV function to manipulate the C, gamma, or kernel variable within the SVC model. This suggested a C=10, linear kernel, and gamma=1. However this did not improve model performance beyond the default settings.\n",
    "\n",
    "Further, the model was evaluated based on new, unseen movie reviews to gauge its performance in real-world scenarios. While the model performed well whole sentence reviews, it did exhibit some limitations in understanding ratings such as one star or thumbs up.\n",
    "\n",
    "In conclusion, this notebook presents a comprehensive sentiment analysis workflow, underlining the value and potential of NLP in extracting meaningful insights from textual data. However, it also emphasizes the need for continual model refinement and adaptation to improve performance in more complex and nuanced linguistic scenarios.\n"
   ]
  }
 ],
 "metadata": {
  "kernelspec": {
   "display_name": "Python 3 (ipykernel)",
   "language": "python",
   "name": "python3"
  },
  "language_info": {
   "codemirror_mode": {
    "name": "ipython",
    "version": 3
   },
   "file_extension": ".py",
   "mimetype": "text/x-python",
   "name": "python",
   "nbconvert_exporter": "python",
   "pygments_lexer": "ipython3",
   "version": "3.9.7"
  },
  "papermill": {
   "default_parameters": {},
   "duration": 45.085592,
   "end_time": "2023-06-02T19:30:36.832947",
   "environment_variables": {},
   "exception": null,
   "input_path": "__notebook__.ipynb",
   "output_path": "__notebook__.ipynb",
   "parameters": {},
   "start_time": "2023-06-02T19:29:51.747355",
   "version": "2.4.0"
  }
 },
 "nbformat": 4,
 "nbformat_minor": 5
}
